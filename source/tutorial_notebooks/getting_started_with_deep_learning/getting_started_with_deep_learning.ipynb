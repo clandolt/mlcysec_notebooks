{
 "cells": [
  {
   "cell_type": "markdown",
   "id": "63390a64",
   "metadata": {},
   "source": [
    "# Getting Started 4: Deep Learning for Cybersecurity\n",
    "\n",
    "\n",
    "**Open notebook on:** \n",
    "[![View filled on Github](https://img.shields.io/static/v1.svg?logo=github&label=Repo&message=View%20On%20Github&color=lightgrey)](https://github.com/clandolt)\n",
    "[![Open filled In Collab](https://colab.research.google.com/assets/colab-badge.svg)](https://colab.research.google.com/github/)   \n",
    "**Author:** Christoph R. Landolt\n",
    "\n",
    "\n",
    "In this tutorial, we will use **Neural Networks** to analyze the same dataset as in *Getting Started 3*, aiming to improve detection and insights into cyber attacks.\n"
   ]
  },
  {
   "cell_type": "markdown",
   "id": "f7dd7c52",
   "metadata": {},
   "source": []
  }
 ],
 "metadata": {
  "language_info": {
   "name": "python"
  }
 },
 "nbformat": 4,
 "nbformat_minor": 5
}
