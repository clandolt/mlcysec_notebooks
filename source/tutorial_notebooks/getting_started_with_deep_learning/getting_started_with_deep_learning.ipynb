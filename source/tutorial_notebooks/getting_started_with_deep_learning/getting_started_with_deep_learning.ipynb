{
 "cells": [
  {
   "cell_type": "markdown",
   "id": "63390a64",
   "metadata": {},
   "source": [
    "# Getting Started 4: Deep Learning for Cybersecurity\n",
    "\n",
    "\n",
    "**Open notebook on:** \n",
    "[![View filled on Github](https://img.shields.io/static/v1.svg?logo=github&label=Repo&message=View%20On%20Github&color=lightgrey)](https://github.com/clandolt/mlcysec_notebooks/blob/main/source/tutorial_notebooks/getting_started_with_deep_learning/getting_started_with_deep_learning.ipynb)\n",
    "[![Open filled In Collab](https://colab.research.google.com/assets/colab-badge.svg)](https://colab.research.google.com/github/clandolt/mlcysec_notebooks/blob/main/source/tutorial_notebooks/getting_started_with_deep_learning/getting_started_with_deep_learning.ipynb)   \n",
    "**Author:** Christoph R. Landolt\n",
    "\n",
    "\n",
    "In this tutorial, we will use **Neural Networks** to analyze the same dataset as in *Getting Started 3*, aiming to improve detection and insights into cyber attacks.\n",
    "\n",
    "## Tutorial Objectives\n",
    "\n",
    "- Become familiar with **PyTorch basics**\n",
    "- Prepare to **implement Neural Networks** using PyTorch"
   ]
  },
  {
   "cell_type": "markdown",
   "id": "f1eb294f",
   "metadata": {},
   "source": [
    "## Getting Started with PyTorch\n",
    "\n",
    "PyTorch is an open-source machine learning framework that allows you to **build, train, and optimize neural networks** efficiently.  \n",
    "We start with PyTorch because it is currently the most widely used framework in academia and research.  \n",
    "\n",
    "Although other frameworks such as [**TensorFlow**](https://www.tensorflow.org/), [**JAX**](https://docs.jax.dev/en/latest/), [**Flax**](https://flax.readthedocs.io/en/stable/), and [**Caffe**](https://caffe.berkeleyvision.org/) also exist, we recommend mastering one framework deeply (preferably PyTorch). Once you understand its concepts well, switching to another framework becomes much easier.\n",
    "\n",
    "Even though there are high-level interfaces built on top of some machine learning frameworks—such as [**PyTorch Lightning**](https://lightning.ai/docs/pytorch/stable/) or [**Keras**-(https://lightning.ai/docs/pytorch/stable/)—we recommend sticking to the core framework when learning. This helps you develop a deeper understanding of the underlying concepts and mechanisms.\n",
    "\n",
    "We begin by importing the PyTorch library and checking the installed version."
   ]
  },
  {
   "cell_type": "code",
   "execution_count": 17,
   "id": "c21932b5",
   "metadata": {},
   "outputs": [
    {
     "name": "stdout",
     "output_type": "stream",
     "text": [
      "Using torch 2.9.0\n"
     ]
    }
   ],
   "source": [
    "import torch\n",
    "print(\"Using torch\", torch.__version__)"
   ]
  },
  {
   "cell_type": "markdown",
   "id": "dd9b999c",
   "metadata": {},
   "source": [
    "Notes:\n",
    "\n",
    "- **torch** is the core PyTorch package providing tensors, automatic differentiation, and neural network building blocks.  \n",
    "- Printing the version helps ensure compatibility with other libraries and code examples.\n"
   ]
  },
  {
   "cell_type": "code",
   "execution_count": 18,
   "id": "31b0890c",
   "metadata": {},
   "outputs": [
    {
     "data": {
      "text/plain": [
       "<torch._C.Generator at 0x12a166cf0>"
      ]
     },
     "execution_count": 18,
     "metadata": {},
     "output_type": "execute_result"
    }
   ],
   "source": [
    "torch.manual_seed(42) # Setting the seed"
   ]
  },
  {
   "cell_type": "markdown",
   "id": "bb92a441",
   "metadata": {},
   "source": [
    "Notes:\n",
    "\n",
    "- `torch.manual_seed(42)` sets the random seed for PyTorch’s random number generators.  \n",
    "- This ensures reproducibility, meaning the same model initialization and results can be reproduced across runs.  \n",
    "- Common practice in research and experiments to make results consistent.\n"
   ]
  },
  {
   "cell_type": "markdown",
   "id": "5998212f",
   "metadata": {},
   "source": [
    "### Tensors\n",
    "\n",
    "A **tensor** is a fundamental algebraic object that can be represented as a multi-dimensional array.  \n",
    "In PyTorch, tensors are similar to NumPy arrays but come with the **added advantage of GPU acceleration**, enabling efficient computation on large datasets.\n",
    "\n",
    "Working with tensors is likely familiar, as they generalize concepts you already know:\n",
    "- A **scalar** is a tensor of order 0  \n",
    "- A **vector** is a tensor of order 1  \n",
    "- A **matrix** is a tensor of order 2  \n",
    "\n",
    "Many functions available in NumPy also exist in PyTorch, and you can easily **convert between NumPy arrays and PyTorch tensors**.\n",
    "\n",
    "#### Initialization of PyTorch Tensors\n",
    "\n",
    "Let’s explore different ways to create tensors in PyTorch.  \n",
    "There are multiple options — the simplest one is to call `torch.Tensor()` and pass the desired shape or data as an argument:"
   ]
  },
  {
   "cell_type": "code",
   "execution_count": 19,
   "id": "b5dac042",
   "metadata": {},
   "outputs": [
    {
     "name": "stdout",
     "output_type": "stream",
     "text": [
      "tensor([[[0., 0., 0.],\n",
      "         [0., 0., 0.]],\n",
      "\n",
      "        [[0., 0., 0.],\n",
      "         [0., 0., 0.]]])\n"
     ]
    }
   ],
   "source": [
    "# Creating a tensor with uninitialized values of shape (2, 2, 3)\n",
    "x = torch.Tensor(2, 2, 3)\n",
    "print(x)"
   ]
  },
  {
   "cell_type": "markdown",
   "id": "136e45e9",
   "metadata": {},
   "source": [
    "The function `torch.Tensor()` allocates memory for the desired tensor but does **not initialize** its values (it may reuse whatever data happens to be in memory).  \n",
    "To create tensors with explicitly defined values, PyTorch provides several convenient functions:\n",
    "\n",
    "| Function | Description |\n",
    "|-----------|-------------|\n",
    "| `torch.zeros(shape)` | Creates a tensor filled with zeros |\n",
    "| `torch.ones(shape)` | Creates a tensor filled with ones |\n",
    "| `torch.rand(shape)` | Creates a tensor with random values uniformly sampled between 0 and 1 |\n",
    "| `torch.randn(shape)` | Creates a tensor with random values sampled from a normal distribution (mean = 0, variance = 1) |\n",
    "| `torch.arange(start, end, step)` | Creates a tensor containing evenly spaced values within a given interval |\n",
    "| `torch.Tensor([list])` | Creates a tensor directly from a Python list of values |\n",
    "\n",
    "<br>\n",
    "\n",
    "> Note: Call `torch.manual_seed()` before creating random tensors to ensure reproducibility.\n",
    "\n",
    "You can also create a tensor from a python list:"
   ]
  },
  {
   "cell_type": "code",
   "execution_count": 20,
   "id": "293a917e",
   "metadata": {},
   "outputs": [
    {
     "name": "stdout",
     "output_type": "stream",
     "text": [
      "tensor([[1., 2.],\n",
      "        [3., 4.]])\n",
      "Shape: torch.Size([2, 2])\n",
      "Size: torch.Size([2, 2])\n"
     ]
    }
   ],
   "source": [
    "# Creating a tensor with defined values from a Python list\n",
    "x = torch.Tensor([[1, 2], [3, 4]])\n",
    "print(x)\n",
    "\n",
    "# Accessing tensor properties as in numpy\n",
    "print(\"Shape:\", x.shape)\n",
    "\n",
    "# Accessing the size of the tensor\n",
    "print(\"Size:\", x.size())"
   ]
  },
  {
   "cell_type": "markdown",
   "id": "49d946b2",
   "metadata": {},
   "source": [
    "You can convert a NumPy array to a PyTorch tensor using `torch.from_numpy(np_arr)` and convert it back to a NumPy array using `tensor.numpy()`, as shown below:"
   ]
  },
  {
   "cell_type": "code",
   "execution_count": 21,
   "id": "c4b44135",
   "metadata": {},
   "outputs": [
    {
     "name": "stdout",
     "output_type": "stream",
     "text": [
      "NumPy array: <class 'numpy.ndarray'>\n",
      "PyTorch tensor: <class 'torch.Tensor'>\n",
      "Converted back to NumPy array: <class 'numpy.ndarray'>\n"
     ]
    }
   ],
   "source": [
    "import numpy as np\n",
    "\n",
    "# Create a NumPy array\n",
    "np_arr = np.array([[1, 2], [3, 4]])\n",
    "\n",
    "# Convert to PyTorch tensor\n",
    "tensor = torch.from_numpy(np_arr)\n",
    "\n",
    "print(\"NumPy array:\", type(np_arr))\n",
    "print(\"PyTorch tensor:\", type(tensor))\n",
    "\n",
    "# Convert back to NumPy array\n",
    "np_arr2 = tensor.numpy()\n",
    "print(\"Converted back to NumPy array:\", type(np_arr2))"
   ]
  },
  {
   "cell_type": "markdown",
   "id": "70a62c33",
   "metadata": {},
   "source": [
    "#### PyTorch Tensor Operations\n",
    "Many operations available in NumPy also exist in PyTorch, which provides a rich set of functions for tensor operations.\n",
    "\n",
    "* **1. Addition — `torch.add()` or `+`** <br>\n",
    "Performs element-wise addition of two tensors of the same shape.\n"
   ]
  },
  {
   "cell_type": "code",
   "execution_count": 22,
   "id": "4dd235a6",
   "metadata": {},
   "outputs": [
    {
     "name": "stdout",
     "output_type": "stream",
     "text": [
      "a + b = tensor([5, 7, 9])\n",
      "a + b = tensor([5, 7, 9])\n"
     ]
    }
   ],
   "source": [
    "# creating two tensors for addition\n",
    "a = torch.tensor([1, 2, 3])\n",
    "b = torch.tensor([4, 5, 6])\n",
    "\n",
    "# Element-wise addition\n",
    "c = torch.add(a, b)\n",
    "print(\"a + b =\", c)\n",
    "\n",
    "# or simply\n",
    "d = a + b\n",
    "print(\"a + b =\", d)"
   ]
  },
  {
   "cell_type": "markdown",
   "id": "1dedacf5",
   "metadata": {},
   "source": [
    "* **2. Reshaping** — `tensor.view()` <br>\n",
    "Changes the shape of a tensor without altering its data.\n",
    "The number of elements must remain the same."
   ]
  },
  {
   "cell_type": "code",
   "execution_count": 23,
   "id": "ffe67e1b",
   "metadata": {},
   "outputs": [
    {
     "name": "stdout",
     "output_type": "stream",
     "text": [
      "Original: tensor([ 0,  1,  2,  3,  4,  5,  6,  7,  8,  9, 10, 11])\n",
      "Reshaped (3x4):\n",
      " tensor([[ 0,  1,  2,  3],\n",
      "        [ 4,  5,  6,  7],\n",
      "        [ 8,  9, 10, 11]])\n"
     ]
    }
   ],
   "source": [
    "# Create a tensor with values from 0 to 11\n",
    "x = torch.arange(12)\n",
    "# Reshape the tensor to shape (3, 4)\n",
    "y = x.view(3, 4)\n",
    "print(\"Original:\", x)\n",
    "print(\"Reshaped (3x4):\\n\", y)\n"
   ]
  },
  {
   "cell_type": "markdown",
   "id": "4cb1e52f",
   "metadata": {},
   "source": [
    "> Note: `.view()` requires the tensor to be contiguous in memory, meaning its elements are stored in a continuous block according to the logical order of the tensor's dimensions; otherwise, use `.reshape()`."
   ]
  },
  {
   "cell_type": "markdown",
   "id": "b5481a48",
   "metadata": {},
   "source": [
    "* **3. Range Creation** — `torch.arange()` <br>\n",
    "Creates evenly spaced values within a given interval."
   ]
  },
  {
   "cell_type": "code",
   "execution_count": 24,
   "id": "930cb37a",
   "metadata": {},
   "outputs": [
    {
     "name": "stdout",
     "output_type": "stream",
     "text": [
      "arange tensor: tensor([0, 2, 4, 6, 8])\n"
     ]
    }
   ],
   "source": [
    "# Create a tensor with values from 0 to 10 with a step of 2\n",
    "x = torch.arange(start=0, end=10, step=2)\n",
    "print(\"arange tensor:\", x)"
   ]
  },
  {
   "cell_type": "markdown",
   "id": "d01c5fd0",
   "metadata": {},
   "source": [
    "* **4. Dimension Permutation** — `tensor.permute()`<br>\n",
    "Reorders the dimensions of a tensor (useful for image or sequence data)."
   ]
  },
  {
   "cell_type": "code",
   "execution_count": 25,
   "id": "56146f03",
   "metadata": {},
   "outputs": [
    {
     "name": "stdout",
     "output_type": "stream",
     "text": [
      "Original shape: torch.Size([2, 3, 4])\n",
      "Permuted shape: torch.Size([2, 4, 3])\n"
     ]
    }
   ],
   "source": [
    "# Create a random tensor of shape [2, 3, 4]\n",
    "x = torch.randn(2, 3, 4)  # shape [batch, height, width]\n",
    "y = x.permute(0, 2, 1)    # swap height and width\n",
    "print(\"Original shape:\", x.shape)\n",
    "print(\"Permuted shape:\", y.shape)"
   ]
  },
  {
   "cell_type": "markdown",
   "id": "31fb14f7",
   "metadata": {},
   "source": [
    "* **5. Matrix Multiplication** in PyTorch<br>\n",
    "PyTorch provides several functions for performing matrix multiplication depending on the dimensionality and use case.\n",
    "<br>\n",
    "<br>\n",
    "    * **5.1 General Matrix Multiplication** — `torch.matmul()` or `@`<br>\n",
    "Performs matrix multiplication between 2D tensors or higher-dimensional tensors with broadcasting.\n",
    "\n"
   ]
  },
  {
   "cell_type": "code",
   "execution_count": 26,
   "id": "f5a4a9fa",
   "metadata": {},
   "outputs": [
    {
     "name": "stdout",
     "output_type": "stream",
     "text": [
      "Result:\n",
      " tensor([[19, 22],\n",
      "        [43, 50]])\n"
     ]
    }
   ],
   "source": [
    "# Define two 2D tensors (matrices)\n",
    "A = torch.tensor([[1, 2], [3, 4]])\n",
    "B = torch.tensor([[5, 6], [7, 8]])\n",
    "\n",
    "# Using matmul\n",
    "C = torch.matmul(A, B)\n",
    "\n",
    "# Equivalent shorthand\n",
    "D = A @ B\n",
    "\n",
    "print(\"Result:\\n\", C)"
   ]
  },
  {
   "cell_type": "markdown",
   "id": "5aebd18c",
   "metadata": {},
   "source": [
    "* **5.2. 2D Matrix Multiplication** — `torch.mm()`<br>\n",
    "Equivalent to torch.matmul() but restricted to 2D matrices only."
   ]
  },
  {
   "cell_type": "code",
   "execution_count": 27,
   "id": "eb5d1657",
   "metadata": {},
   "outputs": [
    {
     "name": "stdout",
     "output_type": "stream",
     "text": [
      "2D matrix product shape: torch.Size([2, 2])\n"
     ]
    }
   ],
   "source": [
    "# Using mm for 2D matrix multiplication\n",
    "C = torch.mm(A, B)\n",
    "print(\"2D matrix product shape:\", C.shape)"
   ]
  },
  {
   "cell_type": "markdown",
   "id": "91e46009",
   "metadata": {},
   "source": [
    "* **5.3. Batch Matrix Multiplication** — `torch.bmm()`<br>\n",
    "Performs matrix multiplication for a batch of matrices."
   ]
  },
  {
   "cell_type": "code",
   "execution_count": 28,
   "id": "36cd2258",
   "metadata": {},
   "outputs": [
    {
     "name": "stdout",
     "output_type": "stream",
     "text": [
      "Batch matrix product shape: torch.Size([10, 3, 5])\n"
     ]
    }
   ],
   "source": [
    "# Define two batches of matrices\n",
    "A = torch.randn(10, 3, 4)  # batch of 10 matrices (3x4)\n",
    "B = torch.randn(10, 4, 5)  # batch of 10 matrices (4x5)\n",
    "\n",
    "# Batch matrix multiplication\n",
    "C = torch.bmm(A, B)\n",
    "print(\"Batch matrix product shape:\", C.shape)"
   ]
  },
  {
   "cell_type": "markdown",
   "id": "3509f792",
   "metadata": {},
   "source": [
    "* **6. Einstein Summation** — `torch.einsum()`<br>\n",
    "`torch.einsum()` is a powerful function that allows expressing complex tensor operations such as tensor contractions, transpositions, and reductions using index notation."
   ]
  },
  {
   "cell_type": "code",
   "execution_count": 29,
   "id": "ecbabfc0",
   "metadata": {},
   "outputs": [
    {
     "name": "stdout",
     "output_type": "stream",
     "text": [
      "Einstein summation result shape: torch.Size([2, 4])\n"
     ]
    }
   ],
   "source": [
    "# Define two matrices\n",
    "A = torch.randn(2, 3)\n",
    "B = torch.randn(3, 4)\n",
    "\n",
    "# Einstein summation: 'ik,kj->ij' means: sum over index k, resulting in indices i and j.\n",
    "# Operation: Matrix multiplication (sum over the shared index k)\n",
    "C = torch.einsum('ik,kj->ij', A, B) # This is equivalent to torch.matmul(A, B) but generalized for more complex tensor operations.\n",
    "\n",
    "print(\"Einstein summation result shape:\", C.shape)"
   ]
  },
  {
   "cell_type": "markdown",
   "id": "4510421f",
   "metadata": {},
   "source": [
    "* **7. Flattening** — `torch.flatten()`<br>\n",
    "Flattens a tensor into one dimension."
   ]
  },
  {
   "cell_type": "code",
   "execution_count": 30,
   "id": "21f65d8a",
   "metadata": {},
   "outputs": [
    {
     "name": "stdout",
     "output_type": "stream",
     "text": [
      "Flattened tensor: tensor([1, 2, 3, 4])\n"
     ]
    }
   ],
   "source": [
    "# Create a 2D tensor\n",
    "x = torch.tensor([[1, 2], [3, 4]])\n",
    "y = torch.flatten(x)\n",
    "print(\"Flattened tensor:\", y)"
   ]
  },
  {
   "cell_type": "markdown",
   "id": "da7bc755",
   "metadata": {},
   "source": [
    "* **8. Dot Product** — `torch.dot()`<br>\n",
    "Computes the dot product between two 1D tensors (vectors)."
   ]
  },
  {
   "cell_type": "code",
   "execution_count": 31,
   "id": "b7162b43",
   "metadata": {},
   "outputs": [
    {
     "name": "stdout",
     "output_type": "stream",
     "text": [
      "Dot product: tensor(32)\n"
     ]
    }
   ],
   "source": [
    "# Define two 1D tensors (vectors)\n",
    "a = torch.tensor([1, 2, 3])\n",
    "b = torch.tensor([4, 5, 6])\n",
    "\n",
    "# Compute the dot product\n",
    "dot = torch.dot(a, b)\n",
    "print(\"Dot product:\", dot)"
   ]
  },
  {
   "cell_type": "markdown",
   "id": "889a3e0d",
   "metadata": {},
   "source": [
    "## Anomaly Detection using a Neural Network with the KDDCUP99 Dataset\n",
    "\n",
    "In this example, we get started with neural networks in PyTorch and will train a simple model to detect anomalies, which correspond to potential cyber attacks.\n",
    "\n",
    "The biggest advantage of using neural networks instead of classic machine learning approaches is their ability to discover and learn new features that might be overlooked by manual feature engineering.  \n",
    "Multilayer neural networks can perform feature learning by learning a representation of their input at the hidden layer(s), which is then used for classification or regression at the output layer.\n",
    "\n",
    "In the next steps, we will demonstrate how to implement a simple neural network for classification to detect potential cyber attacks.\n",
    "\n",
    "Let's start by importing all the necessary libraries:"
   ]
  },
  {
   "cell_type": "code",
   "execution_count": 32,
   "id": "55bd5060",
   "metadata": {},
   "outputs": [],
   "source": [
    "import torch\n",
    "import torch.nn as nn\n",
    "import torch.optim as optim\n",
    "from torch.utils.data import DataLoader, TensorDataset\n",
    "import pandas as pd\n",
    "import numpy as np\n",
    "from sklearn.model_selection import train_test_split\n",
    "from sklearn.preprocessing import StandardScaler\n",
    "from sklearn import datasets\n",
    "from sklearn.metrics import confusion_matrix, ConfusionMatrixDisplay\n",
    "import matplotlib.pyplot as plt"
   ]
  },
  {
   "cell_type": "markdown",
   "id": "0ea58a04",
   "metadata": {},
   "source": [
    "### Data Loading and Preprocessing\n",
    "The first crucial step in any machine learning project is preparing your data. Here, we'll load a subset of the KDD Cup 99 dataset, preprocess it, and split it into training and testing sets.\n",
    "\n",
    "We use `sklearn.datasets.fetch_kddcup99` to load the dataset. We specify subset=\"SA\" to get a simplified version of the dataset, percent10=True to use a 10% subset (for faster execution in a tutorial), and as_frame=True to load it as a Pandas DataFrame."
   ]
  },
  {
   "cell_type": "code",
   "execution_count": 33,
   "id": "d69d49f6",
   "metadata": {},
   "outputs": [],
   "source": [
    "# Load the KDDCUP99 dataset (subset: SA) from sklearn\n",
    "X, y = datasets.fetch_kddcup99(\n",
    "    subset=\"SA\",             \n",
    "    percent10=True,          \n",
    "    random_state=42,         \n",
    "    return_X_y=True,         \n",
    "    as_frame=True            \n",
    ")"
   ]
  },
  {
   "cell_type": "markdown",
   "id": "06e05d7b",
   "metadata": {},
   "source": [
    "The original labels are byte strings (e.g., b\"normal.\", b\"smurf.\"). We convert them into a binary format: \n",
    "- `1` for any type of attack \n",
    "- `0` for normal connections."
   ]
  },
  {
   "cell_type": "code",
   "execution_count": 34,
   "id": "835f2ad8",
   "metadata": {},
   "outputs": [],
   "source": [
    "# Convert binary label: 1 = attack, 0 = normal\n",
    "y = (y != b\"normal.\").astype(np.int32)"
   ]
  },
  {
   "cell_type": "markdown",
   "id": "4259d898",
   "metadata": {},
   "source": [
    "The KDD Cup 99 dataset contains categorical features. Neural networks typically work best with numerical inputs, so we use `pd.get_dummies` to perform one-hot encoding, converting these categorical columns into numerical binary features."
   ]
  },
  {
   "cell_type": "code",
   "execution_count": 35,
   "id": "e89b5aae",
   "metadata": {},
   "outputs": [],
   "source": [
    "# One-hot encode categorical columns\n",
    "X = pd.get_dummies(X)"
   ]
  },
  {
   "cell_type": "markdown",
   "id": "2f1beebf",
   "metadata": {},
   "source": [
    "Numerical features often have different scales, which can make training neural networks difficult. `StandardScaler` standardizes features by removing the mean and scaling to unit variance, ensuring all features contribute equally to the model's learning."
   ]
  },
  {
   "cell_type": "code",
   "execution_count": 36,
   "id": "77f2ff6e",
   "metadata": {},
   "outputs": [],
   "source": [
    "# Scale numeric features\n",
    "scaler = StandardScaler()\n",
    "X = pd.DataFrame(scaler.fit_transform(X), columns=X.columns)"
   ]
  },
  {
   "cell_type": "markdown",
   "id": "88110cbb",
   "metadata": {},
   "source": [
    "We split the preprocessed data into training (80%) and testing (20%) sets using train_test_split. random_state ensures reproducibility, and `stratify=y` ensures that the proportion of normal and attack samples is preserved in both the training and test sets."
   ]
  },
  {
   "cell_type": "code",
   "execution_count": 37,
   "id": "caef74f9",
   "metadata": {},
   "outputs": [],
   "source": [
    "# Split into training and test sets\n",
    "X_train, X_test, y_train, y_test = train_test_split(\n",
    "    X, y, test_size=0.2, random_state=42, stratify=y\n",
    ")"
   ]
  },
  {
   "cell_type": "markdown",
   "id": "a3ce6b1c",
   "metadata": {},
   "source": [
    "### PyTorch Tensors and DataLoaders\n",
    "For PyTorch models, data needs to be in torch.Tensor format. We also use DataLoader for efficient batching and shuffling of data during training."
   ]
  },
  {
   "cell_type": "code",
   "execution_count": 38,
   "id": "cfe3d5dd",
   "metadata": {},
   "outputs": [],
   "source": [
    "# Convert to PyTorch tensors\n",
    "X_train_tensor = torch.tensor(X_train.values, dtype=torch.float32)\n",
    "y_train_tensor = torch.tensor(y_train.values, dtype=torch.float32).unsqueeze(1)  # shape (N,1)\n",
    "X_test_tensor = torch.tensor(X_test.values, dtype=torch.float32)\n",
    "y_test_tensor = torch.tensor(y_test.values, dtype=torch.float32).unsqueeze(1)\n",
    "\n",
    "# Create DataLoader\n",
    "train_dataset = TensorDataset(X_train_tensor, y_train_tensor)\n",
    "test_dataset = TensorDataset(X_test_tensor, y_test_tensor)\n",
    "train_loader = DataLoader(train_dataset, batch_size=64, shuffle=True)\n",
    "test_loader = DataLoader(test_dataset, batch_size=64, shuffle=False)"
   ]
  },
  {
   "cell_type": "markdown",
   "id": "e166df23",
   "metadata": {},
   "source": [
    "**Notes:**\n",
    "- `torch.tensor(..., dtype=torch.float32)`: Converts our NumPy arrays (from Pandas DataFrames) into PyTorch tensors, specifying float32 as the data type.\n",
    "- `.unsqueeze(1)`: The labels y are initially a 1D array. For binary classification with nn.BCELoss, PyTorch expects the target to have a shape of (N, 1) where N is the batch size, so we add an extra dimension.\n",
    "- `TensorDataset`: Combines our input features (X_train_tensor) and corresponding labels (y_train_tensor) into a single dataset object.\n",
    "- `DataLoader`: Creates an iterable over our datasets.\n",
    "    - `batch_size=64`: The number of samples processed at once.\n",
    "    - `shuffle=True` (for training): Randomizes the order of data points in each epoch, which helps the model generalize better and prevents it from memorizing the order of samples.\n",
    "    - `shuffle=False` (for testing): We don't need to shuffle the test data; we just want to iterate through it once."
   ]
  },
  {
   "cell_type": "markdown",
   "id": "d6a29d97",
   "metadata": {},
   "source": [
    "### The Model (`nn.Module`)\n",
    "In PyTorch, neural networks are built by extending the `nn.Module` class. This class provides the fundamental building blocks for all neural network architectures."
   ]
  },
  {
   "cell_type": "code",
   "execution_count": 39,
   "id": "f1483d34",
   "metadata": {},
   "outputs": [],
   "source": [
    "import torch.nn as nn"
   ]
  },
  {
   "cell_type": "markdown",
   "id": "74a4a369",
   "metadata": {},
   "source": [
    "The torch.nn package defines a series of useful classes like linear network layers, activation functions, loss functions, and more. It's the core for defining your network's architecture.\n",
    "<br>\n",
    "<br>\n",
    "\n",
    "**`nn.Module` Basics**\n",
    "<br>\n",
    "\n",
    "Every neural network in PyTorch inherits from `nn.Module`. It has two main methods you need to implement:\n",
    "- `__init__(self, ...)`: This is where you define the layers and components of your network.\n",
    "- `forward(self, x)`: This method defines how the input x flows through the layers defined in `__init__` to produce an output.\n",
    "<br>\n",
    "<br>\n",
    "\n",
    "**Defining KDDNet**\n",
    "<br>\n",
    "Let's define our specific neural network for KDD Cup 99 classification."
   ]
  },
  {
   "cell_type": "code",
   "execution_count": 40,
   "id": "3bc02322",
   "metadata": {},
   "outputs": [],
   "source": [
    "# --- Define the neural network ---\n",
    "class KDDNet(nn.Module):\n",
    "    def __init__(self, input_dim):\n",
    "        super(KDDNet, self).__init__()\n",
    "        self.model = nn.Sequential(\n",
    "            nn.Linear(input_dim, 128),\n",
    "            nn.ReLU(),\n",
    "            nn.Dropout(0.3),\n",
    "            nn.Linear(128, 64),\n",
    "            nn.ReLU(),\n",
    "            nn.Dropout(0.3),\n",
    "            nn.Linear(64, 1),\n",
    "            nn.Sigmoid()  # For binary classification\n",
    "        )\n",
    "        \n",
    "    def forward(self, x):\n",
    "        return self.model(x)"
   ]
  },
  {
   "cell_type": "markdown",
   "id": "0bb880b5",
   "metadata": {},
   "source": [
    "**Notes:**\n",
    "\n",
    "*   `super(KDDNet, self).__init__()`: Always call the constructor of the parent class `nn.Module`.\n",
    "*   `self.model = nn.Sequential(...)`: This is a convenient way to stack layers sequentially.\n",
    "    *   `nn.Linear(input_dim, 128)`: The first fully connected (linear) layer. It takes `input_dim` features from our data and transforms them into 128 output features.\n",
    "    *   `nn.ReLU()`: The Rectified Linear Unit activation function, which introduces non-linearity.\n",
    "    *   `nn.Dropout(0.3)`: A regularization technique that randomly sets 30% of the input features to zero during training. This helps prevent overfitting by making the network less reliant on specific neurons.\n",
    "    *   The pattern of `Linear -> ReLU -> Dropout` is repeated for a second hidden layer (`128` to `64` neurons).\n",
    "    *   `nn.Linear(64, 1)`: The output layer. Since this is binary classification, we want a single output neuron.\n",
    "    *   `nn.Sigmoid()`: This activation function squashes the output of the final linear layer into a range between 0 and 1, which can be interpreted as a probability for the positive class (attack)."
   ]
  },
  {
   "cell_type": "markdown",
   "id": "cb6a449d",
   "metadata": {},
   "source": [
    "### Instantiating the Model\n",
    "We determine `input_dim` from the number of features in our training data (`X_train.shape[1]`) and then create an instance of our KDDNet model."
   ]
  },
  {
   "cell_type": "code",
   "execution_count": 42,
   "id": "d7dae840",
   "metadata": {},
   "outputs": [
    {
     "name": "stdout",
     "output_type": "stream",
     "text": [
      "KDDNet(\n",
      "  (model): Sequential(\n",
      "    (0): Linear(in_features=18751, out_features=128, bias=True)\n",
      "    (1): ReLU()\n",
      "    (2): Dropout(p=0.3, inplace=False)\n",
      "    (3): Linear(in_features=128, out_features=64, bias=True)\n",
      "    (4): ReLU()\n",
      "    (5): Dropout(p=0.3, inplace=False)\n",
      "    (6): Linear(in_features=64, out_features=1, bias=True)\n",
      "    (7): Sigmoid()\n",
      "  )\n",
      ")\n"
     ]
    }
   ],
   "source": [
    "# Instantiate the model\n",
    "input_dim = X_train.shape[1]\n",
    "model = KDDNet(input_dim)\n",
    "print(model)"
   ]
  },
  {
   "cell_type": "markdown",
   "id": "fbe42023",
   "metadata": {},
   "source": [
    "### Loss Function and Optimizer\n",
    "Now that we have our model, we need to define how we'll measure its performance (the loss function) and how it will learn (the optimizer)."
   ]
  },
  {
   "cell_type": "code",
   "execution_count": 43,
   "id": "bee33d36",
   "metadata": {},
   "outputs": [],
   "source": [
    "# Loss and optimizer\n",
    "criterion = nn.BCELoss()  # Binary Cross-Entropy Loss\n",
    "optimizer = optim.Adam(model.parameters(), lr=0.001)"
   ]
  },
  {
   "cell_type": "markdown",
   "id": "a5cb4b42",
   "metadata": {},
   "source": [
    "**Notes:**\n",
    "*   `criterion = nn.BCELoss()`: For binary classification problems where the model's output is already passed through a sigmoid function (producing probabilities between 0 and 1), Binary Cross-Entropy Loss is a standard choice. It measures the difference between the predicted probabilities and the true binary labels.\n",
    "*   `optimizer = optim.Adam(model.parameters(), lr=0.001)`: The optimizer is responsible for updating the model's parameters (weights and biases) during training to minimize the loss.\n",
    "    *   `model.parameters()`: This tells the optimizer which parameters it needs to update.\n",
    "    *   `lr=0.001`: The learning rate, a crucial hyperparameter that determines the step size at each iteration while moving toward a minimum of the loss function. Adam is an adaptive learning rate optimizer that generally performs well.\n",
    "*   The optimizer provides two important functions for the training loop:\n",
    "    *   `optimizer.zero_grad()`: Sets the gradients of all optimized `torch.Tensor`s to zero. This is essential before `loss.backward()` because PyTorch accumulates gradients by default.\n",
    "    *   `optimizer.step()`: Performs a single optimization step (parameter update)."
   ]
  },
  {
   "cell_type": "markdown",
   "id": "82a0893f",
   "metadata": {},
   "source": [
    "### Training Loop\n",
    "The training loop is where the model learns from the data over multiple epochs. An epoch refers to one full pass through the entire training dataset.\n",
    "\n",
    "**Inside the Training Loop:**\n",
    "\n",
    "*   `model.train()`: Sets the model to training mode. This is important because certain layers (like `Dropout` and `BatchNorm`) behave differently during training and evaluation.\n",
    "*   `running_loss = 0.0`: Initializes a variable to accumulate the loss over all batches in the current epoch.\n",
    "*   `for X_batch, y_batch in train_loader:`: Iterates through batches of data from the `train_loader`.\n",
    "*   `optimizer.zero_grad()`: Clears the gradients from the previous iteration.\n",
    "*   `outputs = model(X_batch)`: Performs a forward pass, feeding the input batch through the model to get predictions.\n",
    "*   `loss = criterion(outputs, y_batch)`: Calculates the loss between the model's predictions (`outputs`) and the true labels (`y_batch`).\n",
    "*   `loss.backward()`: Computes the gradients of the loss with respect to all learnable parameters in the model.\n",
    "*   `optimizer.step()`: Updates the model's parameters using the calculated gradients.\n",
    "*   `running_loss += loss.item() * X_batch.size(0)`: Accumulates the loss for the epoch. `loss.item()` gets the scalar value of the loss, and we multiply by `X_batch.size(0)` to account for the batch size.\n",
    "*   `epoch_train_loss`: Calculates the average training loss for the current epoch.\n",
    "\n",
    "**Inside the Evaluation Step (within the loop):**\n",
    "\n",
    "*   `model.eval()`: Sets the model to evaluation mode. This disables `Dropout` and ensures layers like `BatchNorm` use their trained statistics.\n",
    "*   `with torch.no_grad():`: Disables gradient calculations. This saves memory and speeds up computations because we don't need to compute gradients during evaluation.\n",
    "*   The process for calculating `running_test_loss` is similar to the training loss, but without gradient calculations or parameter updates.\n",
    "*   `epoch_test_loss`: Calculates the average test loss for the current epoch.\n",
    "*   `print(...)`: Provides real-time feedback on the training and test loss for each epoch."
   ]
  },
  {
   "cell_type": "code",
   "execution_count": 44,
   "id": "332afaff",
   "metadata": {},
   "outputs": [
    {
     "name": "stdout",
     "output_type": "stream",
     "text": [
      "Epoch 1/20 - Train Loss: 0.0565 - Test Loss: 0.0166\n",
      "Epoch 2/20 - Train Loss: 0.0181 - Test Loss: 0.0134\n",
      "Epoch 3/20 - Train Loss: 0.0154 - Test Loss: 0.0121\n",
      "Epoch 4/20 - Train Loss: 0.0143 - Test Loss: 0.0107\n",
      "Epoch 5/20 - Train Loss: 0.0124 - Test Loss: 0.0103\n",
      "Epoch 6/20 - Train Loss: 0.0126 - Test Loss: 0.0100\n",
      "Epoch 7/20 - Train Loss: 0.0123 - Test Loss: 0.0099\n",
      "Epoch 8/20 - Train Loss: 0.0121 - Test Loss: 0.0097\n",
      "Epoch 9/20 - Train Loss: 0.0121 - Test Loss: 0.0096\n",
      "Epoch 10/20 - Train Loss: 0.0119 - Test Loss: 0.0093\n",
      "Epoch 11/20 - Train Loss: 0.0118 - Test Loss: 0.0094\n",
      "Epoch 12/20 - Train Loss: 0.0122 - Test Loss: 0.0095\n",
      "Epoch 13/20 - Train Loss: 0.0117 - Test Loss: 0.0088\n",
      "Epoch 14/20 - Train Loss: 0.0092 - Test Loss: 0.0089\n",
      "Epoch 15/20 - Train Loss: 0.0090 - Test Loss: 0.0131\n",
      "Epoch 16/20 - Train Loss: 0.0107 - Test Loss: 0.0135\n",
      "Epoch 17/20 - Train Loss: 0.0092 - Test Loss: 0.0094\n",
      "Epoch 18/20 - Train Loss: 0.0106 - Test Loss: 0.0088\n",
      "Epoch 19/20 - Train Loss: 0.0101 - Test Loss: 0.0096\n",
      "Epoch 20/20 - Train Loss: 0.0098 - Test Loss: 0.0100\n"
     ]
    }
   ],
   "source": [
    "# --- Training loop with loss tracking ---\n",
    "n_epochs = 20\n",
    "train_losses = []\n",
    "test_losses = []\n",
    "\n",
    "for epoch in range(n_epochs):\n",
    "    # --- Training ---\n",
    "    model.train() # Set model to training mode\n",
    "    running_loss = 0.0\n",
    "    for X_batch, y_batch in train_loader:\n",
    "        optimizer.zero_grad() # Zero the gradients\n",
    "        outputs = model(X_batch) # Forward pass\n",
    "        loss = criterion(outputs, y_batch) # Calculate loss\n",
    "        loss.backward() # Backpropagation\n",
    "        optimizer.step() # Update weights\n",
    "        running_loss += loss.item() * X_batch.size(0)\n",
    "    \n",
    "    epoch_train_loss = running_loss / len(train_loader.dataset)\n",
    "    train_losses.append(epoch_train_loss)\n",
    "    \n",
    "    # --- Evaluation on test set ---\n",
    "    model.eval() # Set model to evaluation mode\n",
    "    running_test_loss = 0.0\n",
    "    with torch.no_grad(): # Disable gradient calculation for efficiency\n",
    "        for X_batch, y_batch in test_loader:\n",
    "            outputs = model(X_batch)\n",
    "            loss = criterion(outputs, y_batch)\n",
    "            running_test_loss += loss.item() * X_batch.size(0)\n",
    "    epoch_test_loss = running_test_loss / len(test_loader.dataset)\n",
    "    test_losses.append(epoch_test_loss)\n",
    "    \n",
    "    # Optional: print progress\n",
    "    print(f\"Epoch {epoch+1}/{n_epochs} - Train Loss: {epoch_train_loss:.4f} - Test Loss: {epoch_test_loss:.4f}\")"
   ]
  },
  {
   "cell_type": "markdown",
   "id": "08831fde",
   "metadata": {},
   "source": [
    "### Plotting Training and Test Loss\n",
    "Visualizing the loss over epochs is crucial for understanding how well your model is learning and to detect issues like overfitting.\n",
    "\n",
    "This code generates a line plot showing the training loss and test loss across all epochs. Ideally, both losses should decrease, and the test loss should stay close to the training loss to indicate good generalization. If the training loss continues to decrease but the test loss starts to increase, it's a sign of overfitting."
   ]
  },
  {
   "cell_type": "code",
   "execution_count": 45,
   "id": "41b22d89",
   "metadata": {},
   "outputs": [
    {
     "data": {
      "image/png": "[encoded data removed]",
      "text/plain": [
       "<Figure size 800x500 with 1 Axes>"
      ]
     },
     "metadata": {},
     "output_type": "display_data"
    }
   ],
   "source": [
    "# --- Plot train and test loss ---\n",
    "plt.figure(figsize=(8,5))\n",
    "plt.plot(range(1, n_epochs+1), train_losses, label='Train Loss', marker='o')\n",
    "plt.plot(range(1, n_epochs+1), test_losses, label='Test Loss', marker='s')\n",
    "plt.xlabel('Epoch')\n",
    "plt.ylabel('Loss')\n",
    "plt.title('Training and Test Loss over Epochs')\n",
    "plt.legend()\n",
    "plt.grid(True)\n",
    "plt.show()"
   ]
  },
  {
   "cell_type": "markdown",
   "id": "53f4c8b8",
   "metadata": {},
   "source": [
    "### Final Evaluation and Accuracy\n",
    "After training, we perform a final evaluation on the test set to get the overall accuracy."
   ]
  },
  {
   "cell_type": "code",
   "execution_count": 46,
   "id": "76327856",
   "metadata": {},
   "outputs": [
    {
     "name": "stdout",
     "output_type": "stream",
     "text": [
      "Final Test Accuracy: 0.9982\n"
     ]
    }
   ],
   "source": [
    "# --- Final evaluation ---\n",
    "model.eval() # Set model to evaluation mode\n",
    "with torch.no_grad():\n",
    "    y_pred = model(X_test_tensor) # Get raw predictions\n",
    "    y_pred_label = (y_pred >= 0.5).float() # Convert probabilities to binary labels (0 or 1)\n",
    "    accuracy = (y_pred_label == y_test_tensor).float().mean().item() # Calculate accuracy\n",
    "    print(f\"Final Test Accuracy: {accuracy:.4f}\")"
   ]
  },
  {
   "cell_type": "markdown",
   "id": "2adbe86b",
   "metadata": {},
   "source": [
    "**Notes:**\n",
    "*   `y_pred = model(X_test_tensor)`: We pass the entire test set through the trained model to get its probability predictions.\n",
    "*   `y_pred_label = (y_pred >= 0.5).float()`: Since our model outputs probabilities (due to the `Sigmoid` layer), we convert these probabilities into binary class labels. Any probability of 0.5 or greater is classified as `1` (attack), otherwise `0` (normal).\n",
    "*   `accuracy = (y_pred_label == y_test_tensor).float().mean().item()`: We compare the predicted binary labels with the true test labels to calculate the accuracy. `mean()` gives the proportion of correct predictions."
   ]
  },
  {
   "cell_type": "markdown",
   "id": "282b124a",
   "metadata": {},
   "source": [
    "### Confusion Matrix\n",
    "A confusion matrix provides a more detailed breakdown of the model's performance than just accuracy, especially useful in imbalanced datasets.\n",
    "The confusion matrix will show you:\n",
    "- **True Negatives (TN):** Correctly predicted normal connections.\n",
    "- **False Positives (FP):** Normal connections incorrectly predicted as attacks.\n",
    "- **False Negatives (FN):** Attack connections incorrectly predicted as normal.\n",
    "- **True Positives (TP):** Correctly predicted attack connections.\n",
    "This comprehensive evaluation helps in understanding not just how accurate the model is, but also where it makes errors.\n"
   ]
  },
  {
   "cell_type": "code",
   "execution_count": 47,
   "id": "2558e123",
   "metadata": {},
   "outputs": [
    {
     "data": {
      "image/png": "[encoded data removed]",
      "text/plain": [
       "<Figure size 640x480 with 2 Axes>"
      ]
     },
     "metadata": {},
     "output_type": "display_data"
    }
   ],
   "source": [
    "# --- Confusion Matrix ---\n",
    "cm = confusion_matrix(y_test_tensor.numpy(), y_pred_label.numpy())\n",
    "disp = ConfusionMatrixDisplay(confusion_matrix=cm, display_labels=[\"Normal\", \"Attack\"])\n",
    "disp.plot(cmap=plt.cm.Blues)\n",
    "plt.title(\"Confusion Matrix\")\n",
    "plt.show()"
   ]
  },
  {
   "cell_type": "markdown",
   "id": "479c5415",
   "metadata": {},
   "source": [
    "**Notes:**\n",
    "*   `confusion_matrix(y_test_tensor.numpy(), y_pred_label.numpy())`: This function from `sklearn.metrics` calculates the confusion matrix using the true labels and the predicted labels. We convert PyTorch tensors to NumPy arrays for compatibility.\n",
    "*   `ConfusionMatrixDisplay(...)`: This class helps in visualizing the confusion matrix.\n",
    "    *   `display_labels=[\"Normal\", \"Attack\"]`: Assigns meaningful names to our classes.\n",
    "*   `disp.plot(cmap=plt.cm.Blues)`: Plots the confusion matrix with a blue colormap.\n",
    "*   `plt.title(\"Confusion Matrix\")`: Sets the title of the plot."
   ]
  },
  {
   "cell_type": "code",
   "execution_count": null,
   "id": "00afe1ad",
   "metadata": {},
   "outputs": [
    {
     "name": "stdout",
     "output_type": "stream",
     "text": [
      "Epoch 1/20 - Train Loss: 8.597001 - Test Loss: 1.053773\n",
      "Epoch 2/20 - Train Loss: 1.069016 - Test Loss: 1.054532\n",
      "Epoch 3/20 - Train Loss: 1.028655 - Test Loss: 1.075616\n",
      "Epoch 4/20 - Train Loss: 1.017079 - Test Loss: 1.071435\n",
      "Epoch 5/20 - Train Loss: 1.016049 - Test Loss: 1.056377\n",
      "Epoch 6/20 - Train Loss: 1.008050 - Test Loss: 1.040049\n",
      "Epoch 7/20 - Train Loss: 0.999714 - Test Loss: 1.031738\n",
      "Epoch 8/20 - Train Loss: 0.997297 - Test Loss: 1.073710\n",
      "Epoch 9/20 - Train Loss: 0.997255 - Test Loss: 1.019479\n",
      "Epoch 10/20 - Train Loss: 0.995702 - Test Loss: 1.019372\n",
      "Epoch 11/20 - Train Loss: 0.995867 - Test Loss: 1.018261\n",
      "Epoch 12/20 - Train Loss: 0.995693 - Test Loss: 1.018326\n",
      "Epoch 13/20 - Train Loss: 0.996499 - Test Loss: 1.019177\n",
      "Epoch 14/20 - Train Loss: 0.995898 - Test Loss: 1.018185\n",
      "Epoch 15/20 - Train Loss: 0.995688 - Test Loss: 1.018339\n",
      "Epoch 16/20 - Train Loss: 0.995731 - Test Loss: 1.020186\n",
      "Epoch 17/20 - Train Loss: 0.997912 - Test Loss: 1.018213\n",
      "Epoch 18/20 - Train Loss: 0.997094 - Test Loss: 1.020071\n",
      "Epoch 19/20 - Train Loss: 0.996586 - Test Loss: 1.019862\n",
      "Epoch 20/20 - Train Loss: 0.999565 - Test Loss: 1.029682\n"
     ]
    },
    {
     "data": {
      "image/png": "[encoded data removed]",
      "text/plain": [
       "<Figure size 800x500 with 1 Axes>"
      ]
     },
     "metadata": {},
     "output_type": "display_data"
    },
    {
     "data": {
      "image/png": "[encoded data removed]",
      "text/plain": [
       "<Figure size 800x600 with 2 Axes>"
      ]
     },
     "metadata": {},
     "output_type": "display_data"
    }
   ],
   "source": [
    "\"\"\"\n",
    "import torch\n",
    "import torch.nn as nn\n",
    "import torch.optim as optim\n",
    "from torch.utils.data import DataLoader, TensorDataset\n",
    "import pandas as pd\n",
    "import numpy as np\n",
    "from sklearn.model_selection import train_test_split\n",
    "from sklearn.preprocessing import StandardScaler\n",
    "from sklearn import datasets\n",
    "import matplotlib.pyplot as plt\n",
    "\n",
    "# --- Load KDD Cup 99 dataset ---\n",
    "X, y = datasets.fetch_kddcup99(\n",
    "    subset=\"SA\",\n",
    "    percent10=True,\n",
    "    random_state=42,\n",
    "    return_X_y=True,\n",
    "    as_frame=True\n",
    ")\n",
    "\n",
    "# Convert binary label: 1 = attack, 0 = normal\n",
    "y = (y != b\"normal.\").astype(np.int32)\n",
    "\n",
    "# One-hot encode categorical columns\n",
    "X = pd.get_dummies(X)\n",
    "\n",
    "# Scale numeric features\n",
    "scaler = StandardScaler()\n",
    "X = pd.DataFrame(scaler.fit_transform(X), columns=X.columns)\n",
    "\n",
    "# Split into training and test sets\n",
    "X_train, X_test, y_train, y_test = train_test_split(\n",
    "    X, y, test_size=0.2, random_state=42, stratify=y\n",
    ")\n",
    "\n",
    "# Convert to PyTorch tensors\n",
    "X_train_tensor = torch.tensor(X_train.values, dtype=torch.float32)\n",
    "X_test_tensor = torch.tensor(X_test.values, dtype=torch.float32)\n",
    "\n",
    "# Create DataLoader\n",
    "train_dataset = TensorDataset(X_train_tensor)\n",
    "test_dataset = TensorDataset(X_test_tensor)\n",
    "train_loader = DataLoader(train_dataset, batch_size=64, shuffle=True)\n",
    "test_loader = DataLoader(test_dataset, batch_size=64, shuffle=False)\n",
    "\n",
    "# --- Define Variational Autoencoder ---\n",
    "class VAE(nn.Module):\n",
    "    def __init__(self, input_dim, latent_dim=2):\n",
    "        super(VAE, self).__init__()\n",
    "        # Encoder\n",
    "        self.fc1 = nn.Linear(input_dim, 128)\n",
    "        self.fc2_mu = nn.Linear(128, latent_dim)\n",
    "        self.fc2_logvar = nn.Linear(128, latent_dim)\n",
    "        # Decoder\n",
    "        self.fc3 = nn.Linear(latent_dim, 128)\n",
    "        self.fc4 = nn.Linear(128, input_dim)\n",
    "        self.relu = nn.ReLU()\n",
    "        \n",
    "    def encode(self, x):\n",
    "        h = self.relu(self.fc1(x))\n",
    "        mu = self.fc2_mu(h)\n",
    "        logvar = self.fc2_logvar(h)\n",
    "        # Clip logvar for stability\n",
    "        logvar = torch.clamp(logvar, min=-10, max=10)\n",
    "        return mu, logvar\n",
    "    \n",
    "    def reparameterize(self, mu, logvar):\n",
    "        std = torch.exp(0.5 * logvar)\n",
    "        eps = torch.randn_like(std)\n",
    "        return mu + eps * std\n",
    "    \n",
    "    def decode(self, z):\n",
    "        h = self.relu(self.fc3(z))\n",
    "        return self.fc4(h)\n",
    "    \n",
    "    def forward(self, x):\n",
    "        mu, logvar = self.encode(x)\n",
    "        z = self.reparameterize(mu, logvar)\n",
    "        recon = self.decode(z)\n",
    "        return recon, mu, logvar\n",
    "\n",
    "# --- Loss function ---\n",
    "def vae_loss(recon_x, x, mu, logvar):\n",
    "    # MSE reconstruction loss per sample\n",
    "    recon_loss = nn.functional.mse_loss(recon_x, x, reduction='mean')\n",
    "    # KL divergence per sample\n",
    "    kl_loss = -0.5 * torch.mean(1 + logvar - mu.pow(2) - logvar.exp())\n",
    "    return recon_loss + kl_loss\n",
    "\n",
    "# Instantiate VAE\n",
    "input_dim = X_train.shape[1]\n",
    "latent_dim = 2\n",
    "vae = VAE(input_dim, latent_dim)\n",
    "optimizer = optim.Adam(vae.parameters(), lr=0.0005)  # Lower LR for stability\n",
    "\n",
    "# --- Training loop ---\n",
    "n_epochs = 20\n",
    "train_losses = []\n",
    "test_losses = []\n",
    "\n",
    "for epoch in range(n_epochs):\n",
    "    # Training\n",
    "    vae.train()\n",
    "    train_loss = 0\n",
    "    for X_batch, in train_loader:\n",
    "        optimizer.zero_grad()\n",
    "        recon, mu, logvar = vae(X_batch)\n",
    "        loss = vae_loss(recon, X_batch, mu, logvar)\n",
    "        loss.backward()\n",
    "        optimizer.step()\n",
    "        train_loss += loss.item() * X_batch.size(0)\n",
    "    train_loss /= len(train_loader.dataset)\n",
    "    train_losses.append(train_loss)\n",
    "    \n",
    "    # Evaluation\n",
    "    vae.eval()\n",
    "    test_loss = 0\n",
    "    with torch.no_grad():\n",
    "        for X_batch, in test_loader:\n",
    "            recon, mu, logvar = vae(X_batch)\n",
    "            loss = vae_loss(recon, X_batch, mu, logvar)\n",
    "            test_loss += loss.item() * X_batch.size(0)\n",
    "    test_loss /= len(test_loader.dataset)\n",
    "    test_losses.append(test_loss)\n",
    "    \n",
    "    print(f\"Epoch {epoch+1}/{n_epochs} - Train Loss: {train_loss:.6f} - Test Loss: {test_loss:.6f}\")\n",
    "\n",
    "# --- Plot train and test loss ---\n",
    "plt.figure(figsize=(8,5))\n",
    "plt.plot(range(1, n_epochs+1), train_losses, label='Train Loss', marker='o')\n",
    "plt.plot(range(1, n_epochs+1), test_losses, label='Test Loss', marker='s')\n",
    "plt.xlabel('Epoch')\n",
    "plt.ylabel('Loss')\n",
    "plt.title('VAE Train and Test Loss over Epochs')\n",
    "plt.legend()\n",
    "plt.grid(True)\n",
    "plt.show()\n",
    "\n",
    "# --- Visualize 2D latent space ---\n",
    "vae.eval()\n",
    "with torch.no_grad():\n",
    "    mu_train, _ = vae.encode(X_train_tensor)\n",
    "    z_train = mu_train.numpy()\n",
    "    \n",
    "plt.figure(figsize=(8,6))\n",
    "plt.scatter(z_train[:,0], z_train[:,1], c=y_train.values, cmap='coolwarm', alpha=0.7)\n",
    "plt.colorbar(label='Label (0=Normal, 1=Attack)')\n",
    "plt.xlabel('Latent Dimension 1')\n",
    "plt.ylabel('Latent Dimension 2')\n",
    "plt.title('2D Latent Space of KDD Cup 99 VAE')\n",
    "plt.grid(True)\n",
    "plt.show()\n",
    "\"\"\"\n"
   ]
  },
  {
   "cell_type": "markdown",
   "id": "f7dd7c52",
   "metadata": {},
   "source": []
  }
 ],
 "metadata": {
  "kernelspec": {
   "display_name": "mlcysec25",
   "language": "python",
   "name": "python3"
  },
  "language_info": {
   "codemirror_mode": {
    "name": "ipython",
    "version": 3
   },
   "file_extension": ".py",
   "mimetype": "text/x-python",
   "name": "python",
   "nbconvert_exporter": "python",
   "pygments_lexer": "ipython3",
   "version": "3.12.2"
  }
 },
 "nbformat": 4,
 "nbformat_minor": 5
}
