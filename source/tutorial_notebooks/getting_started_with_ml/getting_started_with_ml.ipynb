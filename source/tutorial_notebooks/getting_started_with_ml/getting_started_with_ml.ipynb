{
 "cells": [
  {
   "cell_type": "markdown",
   "id": "a24b7295",
   "metadata": {},
   "source": [
    "# Getting Started 3: Classic Machine Learning for Cybersecurity\n",
    "\n",
    "**Open notebook on:** \n",
    "[![View filled on Github](https://img.shields.io/static/v1.svg?logo=github&label=Repo&message=View%20On%20Github&color=lightgrey)](https://github.com/clandolt)\n",
    "[![Open filled In Collab](https://colab.research.google.com/assets/colab-badge.svg)](https://colab.research.google.com/github/)   \n",
    "**Author:** Christoph R. Landolt\n",
    "\n",
    "\n",
    "In this tutorial, we will use a **basic machine learning algorithm** to gain insights into network traffic and detect potential cyber attacks. We’ll demonstrate:\n",
    "\n",
    "- **Data preprocessing**\n",
    "- **Feature extraction**\n",
    "- **Training a classic ML model with scikit-learn**\n",
    "- **Evaluating the model**"
   ]
  },
  {
   "cell_type": "markdown",
   "id": "5bdb2211",
   "metadata": {},
   "source": []
  }
 ],
 "metadata": {
  "language_info": {
   "name": "python"
  }
 },
 "nbformat": 4,
 "nbformat_minor": 5
}
