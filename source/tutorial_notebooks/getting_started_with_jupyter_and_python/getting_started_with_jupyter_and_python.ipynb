{
 "cells": [
  {
   "cell_type": "markdown",
   "id": "8b1676b7",
   "metadata": {},
   "source": [
    "# Getting started 1: Working with Jupyter and Python\n",
    "\n",
    "![Status](https://img.shields.io/static/v1.svg?label=Status&message=Open&color=blue)\n",
    "\n",
    "**Open notebook on:** \n",
    "[![View filled on Github](https://img.shields.io/static/v1.svg?logo=github&label=Repo&message=View%20On%20Github&color=lightgrey)](https://github.com//clandolt/mlcysec_notebooks/blob/main/source/tutorial_notebooks/getting_started_with_jupyter_and_python/getting_started_with_jupyter_and_python.ipynb)\n",
    "[![Open filled In Collab](https://colab.research.google.com/assets/colab-badge.svg)](https://colab.research.google.com/github/clandolt/mlcysec_notebooks/blob/main/source/tutorial_notebooks/getting_started_with_jupyter_and_python/getting_started_with_jupyter_and_python.ipynb)   \n",
    "**Author:** Christoph R. Landolt"
   ]
  },
  {
   "cell_type": "markdown",
   "id": "4f8bf654",
   "metadata": {},
   "source": [
    "This tutorial offers a short introduction to Jupyter Notebooks and Python. Feel free to skip this section if you are already familiar with them.\n",
    "\n",
    "## Tutorial Objectives\n",
    "\n",
    "* Set up an execution environment for this tutorial using Python and Jupyter Notebooks\n",
    "* Learn how to use Jupyter Notebooks\n",
    "* Get started with Python, NumPy, Pandas, and Matplotlib\n",
    "\n",
    "## Where to run these tutorials\n",
    "You can run these tutorials in the following three ways:"
   ]
  },
  {
   "cell_type": "markdown",
   "id": "d76a42d8",
   "metadata": {},
   "source": [
    ".. raw:: html\n",
    "\n",
    "   <table class=\"tutorial-table\" border=\"1\" style=\"width:100%; border-collapse: collapse;\">\n",
    "     <thead>\n",
    "       <tr>\n",
    "         <th>Tool</th>\n",
    "         <th>Purpose</th>\n",
    "         <th>Best For</th>\n",
    "         <th>Key Strengths</th>\n",
    "       </tr>\n",
    "     </thead>\n",
    "     <tbody>\n",
    "       <tr>\n",
    "         <td rowspan=\"1\"><b>Local execution Environment</b></td>\n",
    "         <td>Run Python &amp; Jupyter locally</td>\n",
    "         <td>Offline dev, custom setups, large datasets, privacy-sensitive work</td>\n",
    "         <td>Full control; no internet required; persistent storage; customizable hardware</td>\n",
    "       </tr>\n",
    "       <tr>\n",
    "         <td><a href=\"https://colab.research.google.com/notebooks/intro.ipynb#recent=true\">Google Colab</a></td>\n",
    "         <td>Cloud-based Jupyter notebooks</td>\n",
    "         <td>Quick experiments, free GPU/TPU, education</td>\n",
    "         <td>No installation; free GPU/TPU; easy sharing via links; Google Drive integration</td>\n",
    "       </tr>\n",
    "       <tr>\n",
    "         <td><a href=\"https://www.kaggle.com/docs/notebooks\">Kaggle Notebooks</a></td>\n",
    "         <td>Cloud notebooks for data analysis & competitions</td>\n",
    "         <td>Kaggle competitions, reproducible analysis, dataset exploration</td>\n",
    "         <td>Direct dataset access; free CPU/GPU; collaboration; versioned notebooks</td>\n",
    "       </tr>\n",
    "     </tbody>\n",
    "   </table>\n",
    "\n",
    "   **Links:**\n",
    "   - [Google Colab](https://colab.research.google.com/notebooks/intro.ipynb#recent=true)\n",
    "   - [Kaggle Notebooks](https://www.kaggle.com/docs/notebooks)"
   ]
  },
  {
   "cell_type": "markdown",
   "id": "77cd23fe",
   "metadata": {},
   "source": [
    "## Set up a local Environment\n",
    "In this section, we provide an overview of different options for setting up a local Python environment and isolating separate execution environments."
   ]
  },
  {
   "cell_type": "markdown",
   "id": "d872b197",
   "metadata": {},
   "source": [
    "### Step 1: Understand the Tools\n",
    "\n",
    "Before setting up your local Python environment, it’s important to understand what each tool does and when to use it."
   ]
  },
  {
   "cell_type": "markdown",
   "id": "6de76cca",
   "metadata": {},
   "source": [
    ".. raw:: html\n",
    "\n",
    "   <table class=\"tutorial-table\" border=\"1\" style=\"width:100%; border-collapse: collapse;\">\n",
    "       <thead>\n",
    "           <tr>\n",
    "               <th>Tool</th>\n",
    "               <th>Purpose</th>\n",
    "               <th>Best For</th>\n",
    "               <th>Key Strengths</th>\n",
    "           </tr>\n",
    "       </thead>\n",
    "       <tbody>\n",
    "           <tr>\n",
    "               <td><a href=\"https://docs.conda.io/en/latest/\"><b>Conda</b></a></td>\n",
    "               <td>Full environment + package manager</td>\n",
    "               <td>Data science, ML, scientific computing</td>\n",
    "               <td>Handles both Python &amp; non-Python dependencies</td>\n",
    "           </tr>\n",
    "           <tr>\n",
    "               <td><a href=\"https://realpython.com/intro-to-pyenv/\"><b>pyenv + pyenv-virtualenv</b></a></td>\n",
    "               <td>Manage Python versions <b>and</b> isolated environments</td>\n",
    "               <td>Professional development, backend systems, multi-project setups</td>\n",
    "               <td>Fine-grained control over Python versions; lightweight; reproducible environments; integrates with CI/CD</td>\n",
    "           </tr>\n",
    "           <tr>\n",
    "               <td><a href=\"https://docs.python.org/3/library/venv.html\"><b>virtualenv / venv</b></a></td>\n",
    "               <td>Create isolated environments for one Python version</td>\n",
    "               <td>Small to medium projects</td>\n",
    "               <td>Built into Python since version 3.3; simple and fast; no external dependencies</td>\n",
    "           </tr>\n",
    "       </tbody>\n",
    "   </table>\n",
    "\n",
    "   **Links:**\n",
    "   - [Conda](https://docs.conda.io/en/latest/)\n",
    "   - [pyenv + pyenv-virtualenv](https://realpython.com/intro-to-pyenv/)\n",
    "   - [Python virtualenv / venv](https://docs.python.org/3/library/venv.html)\n"
   ]
  },
  {
   "cell_type": "markdown",
   "id": "a0e347ba",
   "metadata": {},
   "source": [
    "\n",
    "### Step 2: Installation\n",
    "After choosing your preferred toolset you can install the dependencies.\n",
    "\n",
    "#### **Option 1: Miniconda (Recommended for Data Science / ML)**\n",
    "\n",
    "As the Anaconda distribution comes with an extensive collection of packages, which we don't need in this course, we recommend installing **Miniconda**, a free, miniature installation that includes only conda, Python, and a small number of essential packages.\n",
    "\n",
    "Download the latest version for your OS:\n",
    "\n",
    "👉 [**Miniconda Download**](https://repo.anaconda.com/miniconda/)\n",
    "\n",
    "**Windows Command Prompt**\n",
    "```bash\n",
    "curl https://repo.anaconda.com/miniconda/Miniconda3-latest-Windows-x86_64.exe -o .\\miniconda.exe\n",
    "start /wait \"\" .\\miniconda.exe /S\n",
    "del .\\miniconda.exe\n",
    "```\n",
    "\n",
    "**macOS**\n",
    "```bash\n",
    "mkdir -p ~/miniconda3\n",
    "curl https://repo.anaconda.com/miniconda/Miniconda3-latest-MacOSX-arm64.sh -o ~/miniconda3/miniconda.sh\n",
    "bash ~/miniconda3/miniconda.sh -b -u -p ~/miniconda3\n",
    "rm ~/miniconda3/miniconda.sh\n",
    "source ~/miniconda3/bin/activate\n",
    "conda init --all\n",
    "```\n",
    "\n",
    "**Linux**\n",
    "```bash\n",
    "mkdir -p ~/miniconda3\n",
    "wget https://repo.anaconda.com/miniconda/Miniconda3-latest-Linux-x86_64.sh -O ~/miniconda3/miniconda.sh\n",
    "bash ~/miniconda3/miniconda.sh -b -u -p ~/miniconda3\n",
    "rm ~/miniconda3/miniconda.sh\n",
    "source ~/miniconda3/bin/activate\n",
    "conda init --all\n",
    "```\n",
    "\n",
    "#### **Option 2: pyenv + pyenv-virtualenv (Multi-Python Development for Linux and MacOS)**\n",
    "1. Install pyenv and friends:\n",
    "```bash\n",
    "curl https://pyenv.run | bash\n",
    "```\n",
    "👉 Note: This command redirects to the following source [pyenv-installer](https://github.com/pyenv/pyenv-installer)\n",
    "\n",
    "2. Install a Python version:\n",
    "```bash\n",
    "pyenv install 3.12.0\n",
    "pyenv global 3.12.0\n",
    "```\n",
    "3. Create your first isolated environment:\n",
    "```bash\n",
    "pyenv virtualenv 3.12.0 mlcysec\n",
    "pyenv activate mlcysec\n",
    "```\n",
    "\n",
    "#### **Option 3: virtualenv / venv (Lightweight / Single Python Version)**\n",
    "You can only use this functionality if you are running a python_version >= 3.3.\n",
    "1. Create a virtual environment:\n",
    "```bash\n",
    "python3 -m venv mlcysec\n",
    "```\n",
    "2. Activate the environment:\n",
    "\n",
    "***macOS/Linux***\n",
    "```bash\n",
    "source mlcysec/bin/activate\n",
    "```\n",
    "***Windows***\n",
    "```bash\n",
    "mlcysec\\Scripts\\activate\n",
    "```\n"
   ]
  },
  {
   "cell_type": "markdown",
   "id": "077693df",
   "metadata": {},
   "source": [
    "## Jupyter and Colab Notebooks\n",
    "Jupyter Notebooks allow us to combine code, visualizations, and written explanations in a single document, making it much easier to learn, present, and share analyses. The cell-based environment also lets us run and test small sections of code independently. A Jupyter Notebook consists of two main components:\n",
    "  1. **cells**: A container for code or text (e.g., this is written within a markdown cell)\n",
    "  2. **kernels**: The \"computational engine\" which executes code blocks of the notebook\n",
    "\n",
    "### Installing Jupyter\n",
    "To run a Jupyter Notebook locally, you first need to install Jupyter in your virtual environment and activate it. This installation step is not necessary if you are using web-based platforms such as [Google Colab](https://colab.research.google.com/notebooks/intro.ipynb#recent=true) or [Kaggle](https://www.kaggle.com/docs/notebooks), which provide ready-to-use notebook environments.\n",
    "1. Install the classic Jupyter Notebook with:\n",
    "```bash\n",
    "pip install notebook\n",
    "```\n",
    "2.  Run the notebook:\n",
    "```bash\n",
    "jupyter notebook\n",
    "```\n",
    "3. Open the browser and visit http://localhost:8888\n",
    "<br>\n",
    "<br>\n",
    "> **Note:** If you're missing dependencies, you can optionally run the following on **Google Colab**:  \n",
    "> ```bash\n",
    "> !pip install --upgrade pip && pip install -r requirements.txt\n",
    "> ```  \n",
    "> Or in your **local Python environment**:  \n",
    "> ```bash\n",
    "> pip install -r requirements.txt\n",
    "> ```\n",
    "\n",
    "\n"
   ]
  },
  {
   "cell_type": "markdown",
   "id": "4d30eac5",
   "metadata": {},
   "source": [
    "### Cells\n",
    "\n",
    "Cells can contain either **code** or **markdown**\n",
    "\n",
    "Check out keyboard shortcuts via `Cmd/Ctrl + Shift + P`.\n",
    "\n",
    "Few important ones:\n",
    " * `Shift + Enter`: Executes the current cell and moves to the next\n",
    " * `Tab`: Autocompletes\n",
    " * `Shift + Tab`: Brings up documentation. Try this after entering `np.ones(`"
   ]
  },
  {
   "cell_type": "code",
   "execution_count": 109,
   "id": "3efce33e",
   "metadata": {},
   "outputs": [
    {
     "name": "stdout",
     "output_type": "stream",
     "text": [
      "This is a code cell\n"
     ]
    }
   ],
   "source": [
    "def say_hello():\n",
    "    print('This is a code cell')\n",
    "\n",
    "say_hello()"
   ]
  },
  {
   "cell_type": "code",
   "execution_count": 110,
   "id": "7dbe63a0",
   "metadata": {},
   "outputs": [
    {
     "name": "stdout",
     "output_type": "stream",
     "text": [
      "Python version\n",
      "3.12.2 (main, May  4 2025, 19:19:40) [Clang 17.0.0 (clang-1700.0.13.3)]\n",
      "Version info.\n",
      "sys.version_info(major=3, minor=12, micro=2, releaselevel='final', serial=0)\n"
     ]
    }
   ],
   "source": [
    "import sys\n",
    "print(\"Python version\")\n",
    "print (sys.version)\n",
    "print(\"Version info.\")\n",
    "print (sys.version_info)"
   ]
  },
  {
   "cell_type": "markdown",
   "id": "a15fcfbd",
   "metadata": {},
   "source": [
    "\n",
    "or it can be a **markdown** cell, like this one.\n",
    "\n",
    "If you're unfamiliar with Markdown syntax, check out this [cheat sheet](https://www.markdownguide.org/cheat-sheet).\n",
    "\n",
    "Some things you can do with Markdown:\n",
    "\n",
    "## This is a level 2 heading\n",
    "### This is a level 3 heading\n",
    "\n",
    "**Syntax**\n",
    "\n",
    "This is some plain text that forms a paragraph.\n",
    "Add emphasis via **bold** and __bold__, or *italic* and _italic_.\n",
    "\n",
    "Paragraphs must be separated by an empty line.\n",
    "\n",
    "\n",
    "### Horizontal lines\n",
    "You can divide the flow your text using horizontal lines like so\n",
    "\n",
    "```\n",
    "--- \n",
    "```\n",
    "\n",
    "---\n",
    "\n",
    "### Quotes\n",
    "If you need to quote a phrase set a `>` right in front of the quote.\n",
    "\n",
    "> “There are two ways of constructing a software design: One way is to make it so simple that there are obviously no deficiencies, and the other way is to make it so complicated that there are no obvious deficiencies. The first method is far more difficult.”\n",
    "― Tony Hoare\n"
   ]
  },
  {
   "cell_type": "markdown",
   "id": "50addf15",
   "metadata": {},
   "source": [
    "### Lists\n",
    "\n",
    "* Sometimes we want to include lists.\n",
    " * Which can be indented.   \n",
    "\n",
    "\n",
    " 1. Lists can also be numbered.\n",
    " 2. For ordered lists.\n",
    "\n",
    "\n",
    "\n",
    "### Insert hyperlinks\n",
    "\n",
    "You can create weblinks to point to a page outside the document, such as using [Google Colab Notebooks](https://colab.research.google.com/notebooks/intro.ipynb#recent=true) for running notebooks on the cloud.\n",
    "\n",
    "The code for this one is \n",
    "```\n",
    "[Google Colab Notebooks](https://colab.research.google.com/notebooks/intro.ipynb#recent=true)\n",
    "```\n"
   ]
  },
  {
   "cell_type": "markdown",
   "id": "ef9874f3",
   "metadata": {},
   "source": [
    "### Code blocks\n",
    "\n",
    "Inline code uses single backticks: `foo()`, and code blocks use triple backticks:\n",
    "\n",
    "```\n",
    "bar()\n",
    "```\n",
    "\n",
    "Or can be intented by 4 spaces:\n",
    "\n",
    "    foo()"
   ]
  },
  {
   "cell_type": "markdown",
   "id": "d13bfd1e",
   "metadata": {},
   "source": [
    "### Latex Code\n",
    "\n",
    "$y=x^2$\n",
    "\n",
    "$e^{i/pi} + 1 = 0$\n",
    "\n",
    "$e^x=\\sum_{i=0}^\\infty \\frac{1}{i!}x^i$\n",
    "\n",
    "$\\frac{n!}{k!(n-k)!} = {n \\choose k}$\n",
    "\n",
    "$$\n",
    "A_{m,n} =\n",
    "\\begin{pmatrix}\n",
    " a_{1,1} & a_{1,2} & \\cdots & a_{1,n} \\\\\n",
    " a_{2,1} & a_{2,2} & \\cdots & a_{2,n} \\\\\n",
    " \\vdots  & \\vdots  & \\ddots & \\vdots  \\\\\n",
    " a_{m,1} & a_{m,2} & \\cdots & a_{m,n}\n",
    "\\end{pmatrix}\n",
    "$$"
   ]
  },
  {
   "cell_type": "markdown",
   "id": "19cb8674",
   "metadata": {},
   "source": [
    "### Tables\n",
    "\n",
    "```\n",
    "First column name | Second column name\n",
    "--- | ---\n",
    "Row 1, Col 1 | Row 1, Col 2\n",
    "Row 2, Col 1 | Row 2, Col 2\n",
    "```\n",
    "\n",
    "becomes:\n",
    "\n",
    "First column name | Second column name\n",
    "--- | ---\n",
    "Row 1, Col 1 | Row 1, Col 2\n",
    "Row 2, Col 1 | Row 2, Col 2\n",
    "\n",
    "If you want to make your life easier, you can also use this [online table generator](https://www.tablesgenerator.com/markdown_tables). You can easily create your table using visual tools and then it will generate the markdown code for you.\n"
   ]
  },
  {
   "cell_type": "markdown",
   "id": "fe2da0b6",
   "metadata": {},
   "source": [
    "### HTML and images\n",
    "\n",
    "In a notebook text cell, you may also enter HTML code like this:\n",
    "\n",
    "```html\n",
    "<img src='https://www.uni-saarland.de/typo3conf/ext/uni_saarland/Resources/Public/Images/logo_uni_saarland.svg' width=\"200\">\n",
    "```\n",
    "\n",
    "which will give the following\n",
    "\n",
    "<img src='https://www.uni-saarland.de/typo3conf/ext/uni_saarland/Resources/Public/Images/logo_uni_saarland.svg' width=\"200\">\n",
    "\n",
    "Alternatively, you may insert an image inline as follows\n",
    "\n",
    "```\n",
    "![Saarland University Logo](https://www.uni-saarland.de/typo3conf/ext/uni_saarland/Resources/Public/Images/logo_uni_saarland.svg)\n",
    "```"
   ]
  },
  {
   "cell_type": "markdown",
   "id": "e27fc74d",
   "metadata": {},
   "source": [
    "### Measuring time\n",
    "\n",
    "When experimenting with different Python implementations, you often want to know which runs fastest.\n",
    "\n",
    "The ```timeit``` magic command allows you to measure the execution time of a statement or an entire cell. By comparing alternatives, you can identify the most efficient approach."
   ]
  },
  {
   "cell_type": "code",
   "execution_count": 111,
   "id": "a69591d1",
   "metadata": {},
   "outputs": [
    {
     "name": "stdout",
     "output_type": "stream",
     "text": [
      "24.7 ms ± 651 μs per loop (mean ± std. dev. of 7 runs, 10 loops each)\n"
     ]
    }
   ],
   "source": [
    "%timeit l = [k for k in range(10**6)]"
   ]
  },
  {
   "cell_type": "markdown",
   "id": "fe286512",
   "metadata": {},
   "source": []
  },
  {
   "cell_type": "markdown",
   "id": "f1fe3c3f",
   "metadata": {},
   "source": [
    "## Python\n",
    "\n",
    "### Python Versions\n",
    "\n",
    "Python has two main versions: **2.7** and **3.x**.  \n",
    "- **Python 3.x** is **not backward-compatible** with Python 2, meaning Python 2 code may not run in Python 3.  \n",
    "- For this course, we will use **Python 3.7 or higher**.  \n",
    "\n",
    "**Note:** Python 2.7 was once widely used, but it has been deprecated and no longer receives security updates or bug fixes. If you still use Python 2 in any environment, it is strongly recommended to migrate to Python 3.\n",
    "\n",
    "### Basic Data Types\n",
    "\n",
    "- **Numbers:**\n",
    "Python supports **integers (`int`)** and **floating-point numbers (`float`)**:"
   ]
  },
  {
   "cell_type": "code",
   "execution_count": 112,
   "id": "27ae03c5",
   "metadata": {},
   "outputs": [
    {
     "name": "stdout",
     "output_type": "stream",
     "text": [
      "<class 'int'>\n",
      "3\n",
      "4\n",
      "2\n",
      "6\n",
      "9\n",
      "4\n",
      "8\n",
      "<class 'float'>\n",
      "2.5 3.5 5.0 6.25\n"
     ]
    }
   ],
   "source": [
    "# Integers\n",
    "x = 3\n",
    "print(type(x))  # <class 'int'>\n",
    "print(x)        # 3\n",
    "\n",
    "# Arithmetic operations\n",
    "print(x + 1)    # 4\n",
    "print(x - 1)    # 2\n",
    "print(x * 2)    # 6\n",
    "print(x ** 2)   # 9\n",
    "\n",
    "# In-place updates\n",
    "x += 1\n",
    "print(x)        # 4\n",
    "x *= 2\n",
    "print(x)        # 8\n",
    "\n",
    "# Floating-point numbers\n",
    "y = 2.5\n",
    "print(type(y))  # <class 'float'>\n",
    "print(y, y + 1, y * 2, y ** 2)  # 2.5 3.5 5.0 6.25"
   ]
  },
  {
   "cell_type": "markdown",
   "id": "22916ccf",
   "metadata": {},
   "source": [
    "- `+`, `-`, `*`, `**` are addition, subtraction, multiplication, and exponentiation, respectively.  \n",
    "- `+=` and `*=` are shorthand for **updating a variable in place**.\n",
    "\n",
    "- **Booleans**\n",
    "\n",
    "Python supports **Boolean values**: `True` and `False`. These are commonly used in logical operations:\n"
   ]
  },
  {
   "cell_type": "code",
   "execution_count": 113,
   "id": "3848c93a",
   "metadata": {},
   "outputs": [
    {
     "name": "stdout",
     "output_type": "stream",
     "text": [
      "<class 'bool'>\n",
      "False\n",
      "True\n",
      "False\n",
      "True\n"
     ]
    }
   ],
   "source": [
    "t = True\n",
    "f = False\n",
    "\n",
    "print(type(t))  # <class 'bool'>\n",
    "\n",
    "# Logical operations\n",
    "print(t and f)  # Logical AND; prints False\n",
    "print(t or f)   # Logical OR; prints True\n",
    "print(not t)    # Logical NOT; prints False\n",
    "print(t != f)   # Logical XOR; prints True"
   ]
  },
  {
   "cell_type": "markdown",
   "id": "5b9e75c4",
   "metadata": {},
   "source": [
    "- `and` returns `True` if **both operands** are `True`.  \n",
    "- `or` returns `True` if **at least one operand** is `True`.  \n",
    "- `not` negates the Boolean value.  \n",
    "- `!=` can be used as a simple **XOR** for two Boolean values.\n"
   ]
  },
  {
   "cell_type": "markdown",
   "id": "58e06024",
   "metadata": {},
   "source": [
    "- **Strings**\n",
    "Python supports **strings**, which are sequences of characters:"
   ]
  },
  {
   "cell_type": "code",
   "execution_count": 114,
   "id": "7710ea48",
   "metadata": {},
   "outputs": [
    {
     "name": "stdout",
     "output_type": "stream",
     "text": [
      "hello\n",
      "5\n",
      "hello world\n",
      "hello world 12\n"
     ]
    }
   ],
   "source": [
    "# String literals\n",
    "hello = 'hello'    # Single quotes\n",
    "world = \"world\"    # Double quotes (equivalent)\n",
    "\n",
    "print(hello)       # hello\n",
    "print(len(hello))  # String length; 5\n",
    "\n",
    "# Concatenation\n",
    "hw = hello + ' ' + world\n",
    "print(hw)          # hello world\n",
    "\n",
    "# Recommended: f-strings for inlining variables\n",
    "hw12 = f'{hello} {world} {12}'\n",
    "print(hw12)        # hello world 12"
   ]
  },
  {
   "cell_type": "markdown",
   "id": "0f17adc0",
   "metadata": {},
   "source": [
    "- Strings can use **single or double quotes** interchangeably.  \n",
    "- `len()` returns the **length of a string**.  \n",
    "- `+` concatenates strings.  \n",
    "- **f-strings** (formatted string literals) allow **embedding variables and expressions directly**.\n"
   ]
  },
  {
   "cell_type": "markdown",
   "id": "644d26ca",
   "metadata": {},
   "source": [
    "### Python Containers\n",
    "\n",
    "Python extensively relies on four types of containers:  \n",
    "\n",
    "1. **Lists**  \n",
    "2. **Dictionaries**  \n",
    "3. **Sets**  \n",
    "4. **Tuples**  \n",
    "\n",
    "#### Lists\n",
    "Lists are **resizable arrays** that can hold **heterogeneous elements**:\n"
   ]
  },
  {
   "cell_type": "code",
   "execution_count": 115,
   "id": "7cd1e34f",
   "metadata": {},
   "outputs": [
    {
     "name": "stdout",
     "output_type": "stream",
     "text": [
      "[3, 1, 2, 'foo'] 2\n",
      "foo\n",
      "[3, 1, 'foo', 'foo']\n",
      "[3, 1, 'foo', 'foo', 'bar']\n",
      "bar [3, 1, 'foo', 'foo']\n"
     ]
    }
   ],
   "source": [
    "# Creating a list\n",
    "xs = [3, 1, 2, 'foo']\n",
    "print(xs, xs[2])  # [3, 1, 2, 'foo'] 2\n",
    "\n",
    "# Accessing elements\n",
    "print(xs[-1])     # Negative indices count from the end; 'foo'\n",
    "\n",
    "# Updating elements\n",
    "xs[2] = 'foo'\n",
    "print(xs)         # [3, 1, 'foo', 'foo']\n",
    "\n",
    "# Adding and removing elements\n",
    "xs.append('bar')  # Add to end\n",
    "print(xs)         # [3, 1, 'foo', 'foo', 'bar']\n",
    "x = xs.pop()      # Remove and return last element\n",
    "print(x, xs)      # bar [3, 1, 'foo', 'foo']"
   ]
  },
  {
   "cell_type": "markdown",
   "id": "a8ae4d72",
   "metadata": {},
   "source": [
    "Looping over a list"
   ]
  },
  {
   "cell_type": "code",
   "execution_count": 116,
   "id": "19116f60",
   "metadata": {},
   "outputs": [
    {
     "name": "stdout",
     "output_type": "stream",
     "text": [
      "cat\n",
      "dog\n",
      "monkey\n"
     ]
    }
   ],
   "source": [
    "animals = ['cat', 'dog', 'monkey']\n",
    "for animal in animals:\n",
    "    print(animal)"
   ]
  },
  {
   "cell_type": "markdown",
   "id": "f8b188e3",
   "metadata": {},
   "source": [
    "**Notes:**\n",
    "\n",
    "- Lists are **ordered** and **mutable**.  \n",
    "- Use **negative indices** to access elements from the end.  \n",
    "- `append()` adds elements; `pop()` removes and returns the last element.  \n",
    "- Lists can contain **elements of different types**.\n"
   ]
  },
  {
   "cell_type": "markdown",
   "id": "dface21f",
   "metadata": {},
   "source": [
    "#### Dictionaries:\n",
    "Dictionaries are **key-value pairs**, similar to a `Map` in other languages.  \n",
    "They are **unordered** (Python 3.7+ preserves insertion order) and **mutable**.  \n",
    "\n",
    "> Tip: `collections.defaultdict` can be convenient when you need default values for missing keys.\n"
   ]
  },
  {
   "cell_type": "code",
   "execution_count": 117,
   "id": "4d274ae9",
   "metadata": {},
   "outputs": [
    {
     "name": "stdout",
     "output_type": "stream",
     "text": [
      "cute\n",
      "True\n",
      "{'cat': 'cute', 'dog': 'furry', 'fish': 'wet'}\n",
      "wet\n",
      "N/A\n",
      "wet\n",
      "N/A\n"
     ]
    }
   ],
   "source": [
    "# Creating a dictionary\n",
    "d = {'cat': 'cute', 'dog': 'furry'}\n",
    "\n",
    "# Accessing values\n",
    "print(d['cat'])        # cute\n",
    "print('cat' in d)      # True\n",
    "\n",
    "# Adding or updating entries\n",
    "d['fish'] = 'wet'\n",
    "print(d)\n",
    "print(d['fish'])       # wet\n",
    "\n",
    "# Accessing keys safely\n",
    "# print(d['monkey'])   # KeyError if key does not exist\n",
    "print(d.get('monkey', 'N/A'))  # N/A\n",
    "print(d.get('fish', 'N/A'))    # wet\n",
    "\n",
    "# Removing entries\n",
    "del d['fish']\n",
    "print(d.get('fish', 'N/A'))    # N/A"
   ]
  },
  {
   "cell_type": "markdown",
   "id": "b8d541c6",
   "metadata": {},
   "source": [
    "**Notes:**\n",
    "\n",
    "- Dictionaries store **key-value pairs**.  \n",
    "- Use `in` to check for keys.  \n",
    "- Use `get(key, default)` to safely access values without raising an error.  \n",
    "- `del` removes a key-value pair.\n"
   ]
  },
  {
   "cell_type": "markdown",
   "id": "34757a5d",
   "metadata": {},
   "source": [
    "### Sets:\n",
    "\n",
    "Sets are **unordered collections of unique elements**.  \n",
    "\n",
    "> Note: Both dictionaries and sets use curly braces `{...}`, so be cautious when creating them.\n"
   ]
  },
  {
   "cell_type": "code",
   "execution_count": 118,
   "id": "8c577590",
   "metadata": {},
   "outputs": [
    {
     "name": "stdout",
     "output_type": "stream",
     "text": [
      "True\n",
      "False\n",
      "True\n",
      "3\n",
      "3\n",
      "2\n"
     ]
    }
   ],
   "source": [
    "# Creating a set\n",
    "animals = {'cat', 'dog'}\n",
    "\n",
    "# Membership check\n",
    "print('cat' in animals)    # True\n",
    "print('fish' in animals)   # False\n",
    "\n",
    "# Adding elements\n",
    "animals.add('fish')\n",
    "print('fish' in animals)   # True\n",
    "\n",
    "# Number of elements\n",
    "print(len(animals))        # 3\n",
    "\n",
    "# Adding duplicates does nothing\n",
    "animals.add('cat')\n",
    "print(len(animals))        # 3\n",
    "\n",
    "# Removing elements\n",
    "animals.remove('cat')\n",
    "print(len(animals))        # 2"
   ]
  },
  {
   "cell_type": "markdown",
   "id": "a2485c35",
   "metadata": {},
   "source": [
    "**Notes:**\n",
    "\n",
    "- Sets are **unordered** and **do not allow duplicates**.  \n",
    "- Use `in` to check membership.  \n",
    "- `add()` inserts elements; `remove()` deletes elements.  \n",
    "- Curly braces `{...}` are used for both **sets** and **dictionaries**.\n"
   ]
  },
  {
   "cell_type": "markdown",
   "id": "95168ba5",
   "metadata": {},
   "source": [
    "#### Tuples:\n",
    "Tuples are **immutable sequences**, similar to lists but **cannot be changed** after creation.  \n",
    "They are often used as **keys in dictionaries** because of their immutability.\n"
   ]
  },
  {
   "cell_type": "code",
   "execution_count": 119,
   "id": "e58c843f",
   "metadata": {},
   "outputs": [
    {
     "name": "stdout",
     "output_type": "stream",
     "text": [
      "<class 'tuple'>\n",
      "5\n",
      "1\n"
     ]
    }
   ],
   "source": [
    "# Creating a dictionary with tuple keys\n",
    "d = {(x, x + 1): x for x in range(10)}\n",
    "\n",
    "# Creating a tuple\n",
    "t = (5, 6)\n",
    "print(type(t))    # <class 'tuple'>\n",
    "\n",
    "# Accessing dictionary values using tuples as keys\n",
    "print(d[t])       # 5\n",
    "print(d[(1, 2)])  # 1"
   ]
  },
  {
   "cell_type": "markdown",
   "id": "bee8f3d6",
   "metadata": {},
   "source": [
    "**Notes:**\n",
    "\n",
    "- Tuples are **immutable**; you cannot modify, add, or remove elements.  \n",
    "- Useful as **dictionary keys** or to represent **fixed collections of items**.  \n",
    "- Use parentheses `()` to create a tuple.\n"
   ]
  },
  {
   "cell_type": "markdown",
   "id": "35b8c9bb",
   "metadata": {},
   "source": [
    "### Functions\n",
    "Functions are **reusable blocks of code** that perform a specific task.  \n"
   ]
  },
  {
   "cell_type": "code",
   "execution_count": 120,
   "id": "7581448c",
   "metadata": {},
   "outputs": [
    {
     "name": "stdout",
     "output_type": "stream",
     "text": [
      "negative\n",
      "zero\n",
      "positive\n"
     ]
    }
   ],
   "source": [
    "# Define a function\n",
    "def sign(x):\n",
    "    if x > 0:\n",
    "        return 'positive'\n",
    "    elif x < 0:\n",
    "        return 'negative'\n",
    "    else:\n",
    "        return 'zero'\n",
    "\n",
    "# Test the function\n",
    "for x in [-1, 0, 1]:\n",
    "    print(sign(x))\n",
    "# Output:\n",
    "# negative\n",
    "# zero\n",
    "# positive"
   ]
  },
  {
   "cell_type": "markdown",
   "id": "0014d219",
   "metadata": {},
   "source": [
    "**Notes:**\n",
    "\n",
    "- `def` is used to **define a function**.  \n",
    "- `return` outputs a **value from the function**.  \n",
    "- Functions can be **called multiple times** with different arguments.\n",
    "\n",
    "> [PEP 484](https://peps.python.org/pep-0484/) introduced type hints for Python to improve code readability and provide optional static type checking, for example:"
   ]
  },
  {
   "cell_type": "code",
   "execution_count": 169,
   "id": "c08c5045",
   "metadata": {},
   "outputs": [
    {
     "data": {
      "text/plain": [
       "'Hello Alice'"
      ]
     },
     "execution_count": 169,
     "metadata": {},
     "output_type": "execute_result"
    }
   ],
   "source": [
    "def greet(name: str) -> str:\n",
    "    return \"Hello \" + name\n",
    "\n",
    "greet(\"Alice\")"
   ]
  },
  {
   "cell_type": "markdown",
   "id": "e565eb33",
   "metadata": {},
   "source": [
    "### NumPy\n",
    "\n",
    "NumPy is the **fundamental package for scientific computing in Python**.  \n",
    "It provides:  \n",
    "\n",
    "- A **multidimensional array object** (`ndarray`)  \n",
    "- Various derived objects, such as **masked arrays** and **matrices**  \n",
    "- A wide range of **fast operations on arrays**, including:  \n",
    "  - Mathematical and logical operations  \n",
    "  - Shape manipulation  \n",
    "  - Sorting and selecting  \n",
    "  - I/O  \n",
    "  - Discrete Fourier transforms  \n",
    "  - Basic linear algebra and statistical operations  \n",
    "  - Random simulations  \n",
    "\n",
    "> Reference: [What is NumPy?](https://docs.scipy.org/doc/numpy-1.10.1/user/whatisnumpy.html)\n"
   ]
  },
  {
   "cell_type": "code",
   "execution_count": 121,
   "id": "2f3f5624",
   "metadata": {},
   "outputs": [],
   "source": [
    "import numpy as np  # Standard import convention"
   ]
  },
  {
   "cell_type": "markdown",
   "id": "68367892",
   "metadata": {},
   "source": [
    "#### Motivation for using Numpy\n",
    "\n",
    "**Numpy is fast ⚡**:\n",
    "\n",
    "One of the main reasons to use NumPy is **speed**, especially for large numerical computations.  \n",
    "Below is an example comparing **pure Python matrix multiplication** versus **NumPy’s optimized routines**:"
   ]
  },
  {
   "cell_type": "code",
   "execution_count": 122,
   "id": "39e5ec11",
   "metadata": {},
   "outputs": [],
   "source": [
    "# Pure Python matrix multiplication\n",
    "def matrixmult(A, B):\n",
    "    rows_A = len(A)\n",
    "    cols_A = len(A[0])\n",
    "    rows_B = len(B)\n",
    "    cols_B = len(B[0])\n",
    "\n",
    "    if cols_A != rows_B:\n",
    "        print(\"Cannot multiply the two matrices. Incorrect dimensions.\")\n",
    "        return\n",
    "\n",
    "    # Create the result matrix\n",
    "    C = [[0 for _ in range(cols_B)] for _ in range(rows_A)]\n",
    "\n",
    "    for i in range(rows_A):\n",
    "        for j in range(cols_B):\n",
    "            for k in range(cols_A):\n",
    "                C[i][j] += A[i][k] * B[k][j]\n",
    "    return C"
   ]
  },
  {
   "cell_type": "code",
   "execution_count": 123,
   "id": "a64a25aa",
   "metadata": {},
   "outputs": [
    {
     "name": "stdout",
     "output_type": "stream",
     "text": [
      "(100, 100) (100, 100)\n"
     ]
    }
   ],
   "source": [
    "# Create random matrices\n",
    "A = np.random.random((10**2, 10**2))\n",
    "B = np.random.random((10**2, 10**2))\n",
    "print(A.shape, B.shape)"
   ]
  },
  {
   "cell_type": "code",
   "execution_count": 124,
   "id": "dcea122d",
   "metadata": {},
   "outputs": [
    {
     "name": "stdout",
     "output_type": "stream",
     "text": [
      "CPU times: user 2 μs, sys: 3 μs, total: 5 μs\n",
      "Wall time: 204 μs\n",
      "249488.05431032166\n"
     ]
    }
   ],
   "source": [
    "# Timing pure Python multiplication\n",
    "%time\n",
    "C = matrixmult(A, B)\n",
    "print(np.sum(C))"
   ]
  },
  {
   "cell_type": "code",
   "execution_count": 125,
   "id": "410d68f2",
   "metadata": {},
   "outputs": [
    {
     "name": "stdout",
     "output_type": "stream",
     "text": [
      "CPU times: user 1e+03 ns, sys: 1e+03 ns, total: 2 μs\n",
      "Wall time: 4.05 μs\n",
      "249488.05431032166\n"
     ]
    }
   ],
   "source": [
    "# Timing NumPy multiplication\n",
    "%time\n",
    "C = A.dot(B)  # Note: A*B performs element-wise multiplication\n",
    "print(np.sum(C))"
   ]
  },
  {
   "cell_type": "markdown",
   "id": "bc859a49",
   "metadata": {},
   "source": [
    "**Notes:**\n",
    "\n",
    "- NumPy’s `dot()` function (and other operations) are **highly optimized**, often using compiled C/Fortran code under the hood.  \n",
    "- For large arrays, **NumPy can be orders of magnitude faster** than nested Python loops.  \n",
    "- `A * B` in NumPy performs **element-wise multiplication**, not matrix multiplication.\n"
   ]
  },
  {
   "cell_type": "markdown",
   "id": "4df305a7",
   "metadata": {},
   "source": [
    "**Creating Numpy Arrays:**<br>\n",
    "NumPy arrays are **multidimensional, fast, and convenient** for numerical computations.\n"
   ]
  },
  {
   "cell_type": "code",
   "execution_count": 126,
   "id": "b75826ec",
   "metadata": {},
   "outputs": [
    {
     "name": "stdout",
     "output_type": "stream",
     "text": [
      "(3, 4)\n",
      "8\n",
      "[[ 9 10]]\n",
      "[[ 1  2  3  1]\n",
      " [ 5  7  9 10]]\n"
     ]
    }
   ],
   "source": [
    "import numpy as np\n",
    "\n",
    "# Create an array from a Python list\n",
    "a = np.array([\n",
    "    [1, 2, 3, 1],\n",
    "    [5, 7, 9, 10],\n",
    "    [4, 6, 8, 2],\n",
    "])\n",
    "\n",
    "print(a.shape)        # Shape of the array (3, 4)\n",
    "print(a[2, 2])        # Access single element (8)\n",
    "print(a[1:2, 2:4])    # Slice rows and columns\n",
    "print(a[:-1])         # All rows except the last"
   ]
  },
  {
   "cell_type": "markdown",
   "id": "bd837e33",
   "metadata": {},
   "source": [
    "Other ways of creating arrays"
   ]
  },
  {
   "cell_type": "code",
   "execution_count": 127,
   "id": "65ba1629",
   "metadata": {},
   "outputs": [
    {
     "name": "stdout",
     "output_type": "stream",
     "text": [
      "[[0. 0.]\n",
      " [0. 0.]]\n",
      "[[1. 1.]]\n",
      "[[7 7]\n",
      " [7 7]]\n",
      "[[1. 0.]\n",
      " [0. 1.]]\n",
      "[[0.29341091 0.63966427]\n",
      " [0.4157279  0.59459845]]\n",
      "[[False  True]\n",
      " [False  True]]\n",
      "[0.63966427 0.59459845]\n"
     ]
    }
   ],
   "source": [
    "# Array of zeros\n",
    "a = np.zeros((2,2))\n",
    "print(a)  # [[0. 0.]\n",
    "          #  [0. 0.]]\n",
    "\n",
    "# Array of ones\n",
    "b = np.ones((1,2))\n",
    "print(b)  # [[1. 1.]]\n",
    "\n",
    "# Constant array\n",
    "c = np.full((2,2), 7)\n",
    "print(c)  # [[7. 7.]\n",
    "          #  [7. 7.]]\n",
    "\n",
    "# Identity matrix\n",
    "d = np.eye(2)\n",
    "print(d)  # [[1. 0.]\n",
    "          #  [0. 1.]]\n",
    "\n",
    "# Array of random values\n",
    "e = np.random.random((2,2))\n",
    "print(e)\n",
    "print(e > 0.5)      # Boolean array\n",
    "print(e[e > 0.5])   # Filter values greater than 0.5"
   ]
  },
  {
   "cell_type": "markdown",
   "id": "f43cff4c",
   "metadata": {},
   "source": [
    "**Notes:**\n",
    "\n",
    "- Use `np.array()` to convert Python lists to arrays.  \n",
    "- NumPy provides convenience functions: `zeros()`, `ones()`, `full()`, `eye()`, `random.random()`.  \n",
    "- Boolean indexing allows **filtering arrays** based on conditions (e.g., `e[e > 0.5]`).\n"
   ]
  },
  {
   "cell_type": "markdown",
   "id": "7e748d8a",
   "metadata": {},
   "source": [
    "#### Numpy Operations\n",
    "NumPy supports **elementwise operations** and many convenient mathematical functions:"
   ]
  },
  {
   "cell_type": "code",
   "execution_count": 128,
   "id": "2bcbde45",
   "metadata": {},
   "outputs": [
    {
     "name": "stdout",
     "output_type": "stream",
     "text": [
      "[[ 6.  8.]\n",
      " [10. 12.]]\n",
      "[[ 6.  8.]\n",
      " [10. 12.]]\n",
      "[[-4. -4.]\n",
      " [-4. -4.]]\n",
      "[[-4. -4.]\n",
      " [-4. -4.]]\n",
      "[[ 5. 12.]\n",
      " [21. 32.]]\n",
      "[[ 5. 12.]\n",
      " [21. 32.]]\n",
      "[[0.2        0.33333333]\n",
      " [0.42857143 0.5       ]]\n",
      "[[0.2        0.33333333]\n",
      " [0.42857143 0.5       ]]\n",
      "[[1.         1.41421356]\n",
      " [1.73205081 2.        ]]\n"
     ]
    }
   ],
   "source": [
    "x = np.array([[1, 2], [3, 4]], dtype=np.float64)\n",
    "y = np.array([[5, 6], [7, 8]], dtype=np.float64)\n",
    "\n",
    "# Elementwise addition\n",
    "print(x + y)\n",
    "print(np.add(x, y))\n",
    "# [[ 6.0  8.0]\n",
    "#  [10.0 12.0]]\n",
    "\n",
    "# Elementwise subtraction\n",
    "print(x - y)\n",
    "print(np.subtract(x, y))\n",
    "# [[-4.0 -4.0]\n",
    "#  [-4.0 -4.0]]\n",
    "\n",
    "# Elementwise multiplication\n",
    "print(x * y)\n",
    "print(np.multiply(x, y))\n",
    "# [[ 5.0 12.0]\n",
    "#  [21.0 32.0]]\n",
    "\n",
    "# Elementwise division\n",
    "print(x / y)\n",
    "print(np.divide(x, y))\n",
    "# [[0.2        0.33333333]\n",
    "#  [0.42857143 0.5       ]]\n",
    "\n",
    "# Elementwise square root\n",
    "print(np.sqrt(x))\n",
    "# [[1.         1.41421356]\n",
    "#  [1.73205081 2.        ]]"
   ]
  },
  {
   "cell_type": "markdown",
   "id": "b17b621f",
   "metadata": {},
   "source": [
    "**Notes:**\n",
    "\n",
    "- NumPy operations are **vectorized**, meaning they apply to all elements without explicit loops.  \n",
    "- Most arithmetic operations have **both operator and function forms** (`+` vs `np.add`, `*` vs `np.multiply`).  \n",
    "- NumPy provides many **universal functions** (`sqrt`, `exp`, `log`, `sin`, etc.) that operate elementwise.\n"
   ]
  },
  {
   "cell_type": "markdown",
   "id": "284bc85d",
   "metadata": {},
   "source": [
    "### Pandas\n",
    "\n",
    "Pandas is a Python library designed to make working with **relational or labeled data** easy and intuitive.  \n",
    "It is a convenient tool for real-world data analysis in Python.  \n",
    "\n",
    "> **Note:** We'll explore Pandas in more detail in [Getting Started 2](https://christophlandolt.com/mlcysec_notebooks/tutorial_notebooks/discover_visualize_gain_insights/discover_visualize_gain_insights.html)\n"
   ]
  },
  {
   "cell_type": "code",
   "execution_count": null,
   "id": "ee27cffd",
   "metadata": {},
   "outputs": [],
   "source": [
    "import pandas as pd # Standard import convention"
   ]
  },
  {
   "cell_type": "markdown",
   "id": "e23eff93",
   "metadata": {},
   "source": [
    "### Pandas DataFrames\n",
    "\n",
    "Often you'll be dealing with **$d$-dimensional datapoints** (or $d$ features).  \n",
    "A **DataFrame** provides a convenient way to encapsulate this data in a **tabular structure** with rows and columns."
   ]
  },
  {
   "cell_type": "code",
   "execution_count": 130,
   "id": "f642465f",
   "metadata": {},
   "outputs": [
    {
     "data": {
      "text/html": [
       "<div>\n",
       "<style scoped>\n",
       "    .dataframe tbody tr th:only-of-type {\n",
       "        vertical-align: middle;\n",
       "    }\n",
       "\n",
       "    .dataframe tbody tr th {\n",
       "        vertical-align: top;\n",
       "    }\n",
       "\n",
       "    .dataframe thead th {\n",
       "        text-align: right;\n",
       "    }\n",
       "</style>\n",
       "<table border=\"1\" class=\"dataframe\">\n",
       "  <thead>\n",
       "    <tr style=\"text-align: right;\">\n",
       "      <th></th>\n",
       "      <th>A</th>\n",
       "      <th>B</th>\n",
       "      <th>C</th>\n",
       "      <th>D</th>\n",
       "      <th>E</th>\n",
       "      <th>F</th>\n",
       "    </tr>\n",
       "  </thead>\n",
       "  <tbody>\n",
       "    <tr>\n",
       "      <th>0</th>\n",
       "      <td>1.0</td>\n",
       "      <td>2013-01-02</td>\n",
       "      <td>1.0</td>\n",
       "      <td>3</td>\n",
       "      <td>test</td>\n",
       "      <td>foo</td>\n",
       "    </tr>\n",
       "    <tr>\n",
       "      <th>1</th>\n",
       "      <td>2.0</td>\n",
       "      <td>2013-01-02</td>\n",
       "      <td>1.0</td>\n",
       "      <td>3</td>\n",
       "      <td>train</td>\n",
       "      <td>bar</td>\n",
       "    </tr>\n",
       "    <tr>\n",
       "      <th>2</th>\n",
       "      <td>3.0</td>\n",
       "      <td>2013-01-02</td>\n",
       "      <td>1.0</td>\n",
       "      <td>3</td>\n",
       "      <td>test</td>\n",
       "      <td>foo</td>\n",
       "    </tr>\n",
       "    <tr>\n",
       "      <th>3</th>\n",
       "      <td>4.0</td>\n",
       "      <td>2013-01-02</td>\n",
       "      <td>1.0</td>\n",
       "      <td>3</td>\n",
       "      <td>train</td>\n",
       "      <td>bar</td>\n",
       "    </tr>\n",
       "  </tbody>\n",
       "</table>\n",
       "</div>"
      ],
      "text/plain": [
       "     A          B    C  D      E    F\n",
       "0  1.0 2013-01-02  1.0  3   test  foo\n",
       "1  2.0 2013-01-02  1.0  3  train  bar\n",
       "2  3.0 2013-01-02  1.0  3   test  foo\n",
       "3  4.0 2013-01-02  1.0  3  train  bar"
      ]
     },
     "metadata": {},
     "output_type": "display_data"
    }
   ],
   "source": [
    "df = pd.DataFrame({\n",
    "    'A': [1., 2., 3., 4.],\n",
    "    'B': pd.Timestamp('20130102'),\n",
    "    'C': pd.Series(1, index=list(range(4)), dtype='float32'),\n",
    "    'D': np.array([3] * 4, dtype='int32'),\n",
    "    'E': pd.Categorical([\"test\", \"train\", \"test\", \"train\"]),\n",
    "    'F': ['foo', 'bar', 'foo', 'bar']\n",
    "})\n",
    "\n",
    "display(df)"
   ]
  },
  {
   "cell_type": "markdown",
   "id": "d93de29f",
   "metadata": {},
   "source": [
    "**Notes:**\n",
    "\n",
    "- DataFrames can hold **heterogeneous data types** (numbers, strings, timestamps, categorical, etc.).  \n",
    "- Each column is a **Series**, which is a labeled, one-dimensional array.  \n",
    "- DataFrames are **indexed by default**, allowing for easy access and manipulation of rows and columns.\n"
   ]
  },
  {
   "cell_type": "markdown",
   "id": "032aa3a9",
   "metadata": {},
   "source": [
    "### Load some existing data\n",
    "We can load datasets from the web or local files directly into a **pandas DataFrame**.\n"
   ]
  },
  {
   "cell_type": "code",
   "execution_count": 131,
   "id": "1f2027bf",
   "metadata": {},
   "outputs": [
    {
     "name": "stderr",
     "output_type": "stream",
     "text": [
      "/Users/christophlandolt/.pyenv/versions/3.12.2/lib/python3.12/pty.py:95: RuntimeWarning: os.fork() was called. os.fork() is incompatible with multithreaded code, and JAX is multithreaded, so this will likely lead to a deadlock.\n",
      "  pid, fd = os.forkpty()\n"
     ]
    }
   ],
   "source": [
    "# bash\n",
    "# Download the dataset if not already present\n",
    "! if [ ! -f iris.csv ]; then wget https://gist.githubusercontent.com/curran/a08a1080b88344b0c8a7/raw/d546eaee765268bf2f487608c537c05e22e4b221/iris.csv; fi"
   ]
  },
  {
   "cell_type": "code",
   "execution_count": 132,
   "id": "bb9fc523",
   "metadata": {},
   "outputs": [
    {
     "name": "stdout",
     "output_type": "stream",
     "text": [
      "sepal_length,sepal_width,petal_length,petal_width,species\n",
      "5.1,3.5,1.4,0.2,setosa\n",
      "4.9,3.0,1.4,0.2,setosa\n",
      "4.7,3.2,1.3,0.2,setosa\n",
      "4.6,3.1,1.5,0.2,setosa\n",
      "5.0,3.6,1.4,0.2,setosa\n",
      "5.4,3.9,1.7,0.4,setosa\n",
      "4.6,3.4,1.4,0.3,setosa\n",
      "5.0,3.4,1.5,0.2,setosa\n",
      "4.4,2.9,1.4,0.2,setosa\n"
     ]
    }
   ],
   "source": [
    "# bash\n",
    "# Preview the first lines of the file\n",
    "! head iris.csv"
   ]
  },
  {
   "cell_type": "code",
   "execution_count": 133,
   "id": "db89b4c9",
   "metadata": {},
   "outputs": [
    {
     "name": "stdout",
     "output_type": "stream",
     "text": [
      "<class 'pandas.core.frame.DataFrame'>\n"
     ]
    },
    {
     "data": {
      "text/html": [
       "<div>\n",
       "<style scoped>\n",
       "    .dataframe tbody tr th:only-of-type {\n",
       "        vertical-align: middle;\n",
       "    }\n",
       "\n",
       "    .dataframe tbody tr th {\n",
       "        vertical-align: top;\n",
       "    }\n",
       "\n",
       "    .dataframe thead th {\n",
       "        text-align: right;\n",
       "    }\n",
       "</style>\n",
       "<table border=\"1\" class=\"dataframe\">\n",
       "  <thead>\n",
       "    <tr style=\"text-align: right;\">\n",
       "      <th></th>\n",
       "      <th>sepal_length</th>\n",
       "      <th>sepal_width</th>\n",
       "      <th>petal_length</th>\n",
       "      <th>petal_width</th>\n",
       "      <th>species</th>\n",
       "    </tr>\n",
       "  </thead>\n",
       "  <tbody>\n",
       "    <tr>\n",
       "      <th>0</th>\n",
       "      <td>5.1</td>\n",
       "      <td>3.5</td>\n",
       "      <td>1.4</td>\n",
       "      <td>0.2</td>\n",
       "      <td>setosa</td>\n",
       "    </tr>\n",
       "    <tr>\n",
       "      <th>1</th>\n",
       "      <td>4.9</td>\n",
       "      <td>3.0</td>\n",
       "      <td>1.4</td>\n",
       "      <td>0.2</td>\n",
       "      <td>setosa</td>\n",
       "    </tr>\n",
       "    <tr>\n",
       "      <th>2</th>\n",
       "      <td>4.7</td>\n",
       "      <td>3.2</td>\n",
       "      <td>1.3</td>\n",
       "      <td>0.2</td>\n",
       "      <td>setosa</td>\n",
       "    </tr>\n",
       "    <tr>\n",
       "      <th>3</th>\n",
       "      <td>4.6</td>\n",
       "      <td>3.1</td>\n",
       "      <td>1.5</td>\n",
       "      <td>0.2</td>\n",
       "      <td>setosa</td>\n",
       "    </tr>\n",
       "    <tr>\n",
       "      <th>4</th>\n",
       "      <td>5.0</td>\n",
       "      <td>3.6</td>\n",
       "      <td>1.4</td>\n",
       "      <td>0.2</td>\n",
       "      <td>setosa</td>\n",
       "    </tr>\n",
       "    <tr>\n",
       "      <th>...</th>\n",
       "      <td>...</td>\n",
       "      <td>...</td>\n",
       "      <td>...</td>\n",
       "      <td>...</td>\n",
       "      <td>...</td>\n",
       "    </tr>\n",
       "    <tr>\n",
       "      <th>145</th>\n",
       "      <td>6.7</td>\n",
       "      <td>3.0</td>\n",
       "      <td>5.2</td>\n",
       "      <td>2.3</td>\n",
       "      <td>virginica</td>\n",
       "    </tr>\n",
       "    <tr>\n",
       "      <th>146</th>\n",
       "      <td>6.3</td>\n",
       "      <td>2.5</td>\n",
       "      <td>5.0</td>\n",
       "      <td>1.9</td>\n",
       "      <td>virginica</td>\n",
       "    </tr>\n",
       "    <tr>\n",
       "      <th>147</th>\n",
       "      <td>6.5</td>\n",
       "      <td>3.0</td>\n",
       "      <td>5.2</td>\n",
       "      <td>2.0</td>\n",
       "      <td>virginica</td>\n",
       "    </tr>\n",
       "    <tr>\n",
       "      <th>148</th>\n",
       "      <td>6.2</td>\n",
       "      <td>3.4</td>\n",
       "      <td>5.4</td>\n",
       "      <td>2.3</td>\n",
       "      <td>virginica</td>\n",
       "    </tr>\n",
       "    <tr>\n",
       "      <th>149</th>\n",
       "      <td>5.9</td>\n",
       "      <td>3.0</td>\n",
       "      <td>5.1</td>\n",
       "      <td>1.8</td>\n",
       "      <td>virginica</td>\n",
       "    </tr>\n",
       "  </tbody>\n",
       "</table>\n",
       "<p>150 rows × 5 columns</p>\n",
       "</div>"
      ],
      "text/plain": [
       "     sepal_length  sepal_width  petal_length  petal_width    species\n",
       "0             5.1          3.5           1.4          0.2     setosa\n",
       "1             4.9          3.0           1.4          0.2     setosa\n",
       "2             4.7          3.2           1.3          0.2     setosa\n",
       "3             4.6          3.1           1.5          0.2     setosa\n",
       "4             5.0          3.6           1.4          0.2     setosa\n",
       "..            ...          ...           ...          ...        ...\n",
       "145           6.7          3.0           5.2          2.3  virginica\n",
       "146           6.3          2.5           5.0          1.9  virginica\n",
       "147           6.5          3.0           5.2          2.0  virginica\n",
       "148           6.2          3.4           5.4          2.3  virginica\n",
       "149           5.9          3.0           5.1          1.8  virginica\n",
       "\n",
       "[150 rows x 5 columns]"
      ]
     },
     "execution_count": 133,
     "metadata": {},
     "output_type": "execute_result"
    }
   ],
   "source": [
    "# Load the CSV file into a DataFrame\n",
    "iris = pd.read_csv('iris.csv')\n",
    "\n",
    "# Check the type\n",
    "print(type(iris))  # <class 'pandas.core.frame.DataFrame'>\n",
    "\n",
    "# Display the DataFrame\n",
    "iris"
   ]
  },
  {
   "cell_type": "markdown",
   "id": "c49d6d82",
   "metadata": {},
   "source": [
    "**Notes:**\n",
    "\n",
    "- Use `pd.read_csv()` to read CSV files into pandas DataFrames.  \n",
    "- Once loaded, the DataFrame can be **manipulated, inspected, and visualized efficiently**.\n"
   ]
  },
  {
   "cell_type": "markdown",
   "id": "d04a6420",
   "metadata": {},
   "source": [
    "#### Viewing\n",
    "Pandas provides convenient functions to **explore and inspect** a DataFrame:\n"
   ]
  },
  {
   "cell_type": "code",
   "execution_count": 134,
   "id": "bf55526b",
   "metadata": {},
   "outputs": [
    {
     "name": "stdout",
     "output_type": "stream",
     "text": [
      "Head\n"
     ]
    },
    {
     "data": {
      "text/html": [
       "<div>\n",
       "<style scoped>\n",
       "    .dataframe tbody tr th:only-of-type {\n",
       "        vertical-align: middle;\n",
       "    }\n",
       "\n",
       "    .dataframe tbody tr th {\n",
       "        vertical-align: top;\n",
       "    }\n",
       "\n",
       "    .dataframe thead th {\n",
       "        text-align: right;\n",
       "    }\n",
       "</style>\n",
       "<table border=\"1\" class=\"dataframe\">\n",
       "  <thead>\n",
       "    <tr style=\"text-align: right;\">\n",
       "      <th></th>\n",
       "      <th>sepal_length</th>\n",
       "      <th>sepal_width</th>\n",
       "      <th>petal_length</th>\n",
       "      <th>petal_width</th>\n",
       "      <th>species</th>\n",
       "    </tr>\n",
       "  </thead>\n",
       "  <tbody>\n",
       "    <tr>\n",
       "      <th>0</th>\n",
       "      <td>5.1</td>\n",
       "      <td>3.5</td>\n",
       "      <td>1.4</td>\n",
       "      <td>0.2</td>\n",
       "      <td>setosa</td>\n",
       "    </tr>\n",
       "    <tr>\n",
       "      <th>1</th>\n",
       "      <td>4.9</td>\n",
       "      <td>3.0</td>\n",
       "      <td>1.4</td>\n",
       "      <td>0.2</td>\n",
       "      <td>setosa</td>\n",
       "    </tr>\n",
       "    <tr>\n",
       "      <th>2</th>\n",
       "      <td>4.7</td>\n",
       "      <td>3.2</td>\n",
       "      <td>1.3</td>\n",
       "      <td>0.2</td>\n",
       "      <td>setosa</td>\n",
       "    </tr>\n",
       "    <tr>\n",
       "      <th>3</th>\n",
       "      <td>4.6</td>\n",
       "      <td>3.1</td>\n",
       "      <td>1.5</td>\n",
       "      <td>0.2</td>\n",
       "      <td>setosa</td>\n",
       "    </tr>\n",
       "    <tr>\n",
       "      <th>4</th>\n",
       "      <td>5.0</td>\n",
       "      <td>3.6</td>\n",
       "      <td>1.4</td>\n",
       "      <td>0.2</td>\n",
       "      <td>setosa</td>\n",
       "    </tr>\n",
       "  </tbody>\n",
       "</table>\n",
       "</div>"
      ],
      "text/plain": [
       "   sepal_length  sepal_width  petal_length  petal_width species\n",
       "0           5.1          3.5           1.4          0.2  setosa\n",
       "1           4.9          3.0           1.4          0.2  setosa\n",
       "2           4.7          3.2           1.3          0.2  setosa\n",
       "3           4.6          3.1           1.5          0.2  setosa\n",
       "4           5.0          3.6           1.4          0.2  setosa"
      ]
     },
     "metadata": {},
     "output_type": "display_data"
    },
    {
     "name": "stdout",
     "output_type": "stream",
     "text": [
      "Tail\n"
     ]
    },
    {
     "data": {
      "text/html": [
       "<div>\n",
       "<style scoped>\n",
       "    .dataframe tbody tr th:only-of-type {\n",
       "        vertical-align: middle;\n",
       "    }\n",
       "\n",
       "    .dataframe tbody tr th {\n",
       "        vertical-align: top;\n",
       "    }\n",
       "\n",
       "    .dataframe thead th {\n",
       "        text-align: right;\n",
       "    }\n",
       "</style>\n",
       "<table border=\"1\" class=\"dataframe\">\n",
       "  <thead>\n",
       "    <tr style=\"text-align: right;\">\n",
       "      <th></th>\n",
       "      <th>sepal_length</th>\n",
       "      <th>sepal_width</th>\n",
       "      <th>petal_length</th>\n",
       "      <th>petal_width</th>\n",
       "      <th>species</th>\n",
       "    </tr>\n",
       "  </thead>\n",
       "  <tbody>\n",
       "    <tr>\n",
       "      <th>147</th>\n",
       "      <td>6.5</td>\n",
       "      <td>3.0</td>\n",
       "      <td>5.2</td>\n",
       "      <td>2.0</td>\n",
       "      <td>virginica</td>\n",
       "    </tr>\n",
       "    <tr>\n",
       "      <th>148</th>\n",
       "      <td>6.2</td>\n",
       "      <td>3.4</td>\n",
       "      <td>5.4</td>\n",
       "      <td>2.3</td>\n",
       "      <td>virginica</td>\n",
       "    </tr>\n",
       "    <tr>\n",
       "      <th>149</th>\n",
       "      <td>5.9</td>\n",
       "      <td>3.0</td>\n",
       "      <td>5.1</td>\n",
       "      <td>1.8</td>\n",
       "      <td>virginica</td>\n",
       "    </tr>\n",
       "  </tbody>\n",
       "</table>\n",
       "</div>"
      ],
      "text/plain": [
       "     sepal_length  sepal_width  petal_length  petal_width    species\n",
       "147           6.5          3.0           5.2          2.0  virginica\n",
       "148           6.2          3.4           5.4          2.3  virginica\n",
       "149           5.9          3.0           5.1          1.8  virginica"
      ]
     },
     "metadata": {},
     "output_type": "display_data"
    },
    {
     "name": "stdout",
     "output_type": "stream",
     "text": [
      "Random sample\n"
     ]
    },
    {
     "data": {
      "text/html": [
       "<div>\n",
       "<style scoped>\n",
       "    .dataframe tbody tr th:only-of-type {\n",
       "        vertical-align: middle;\n",
       "    }\n",
       "\n",
       "    .dataframe tbody tr th {\n",
       "        vertical-align: top;\n",
       "    }\n",
       "\n",
       "    .dataframe thead th {\n",
       "        text-align: right;\n",
       "    }\n",
       "</style>\n",
       "<table border=\"1\" class=\"dataframe\">\n",
       "  <thead>\n",
       "    <tr style=\"text-align: right;\">\n",
       "      <th></th>\n",
       "      <th>sepal_length</th>\n",
       "      <th>sepal_width</th>\n",
       "      <th>petal_length</th>\n",
       "      <th>petal_width</th>\n",
       "      <th>species</th>\n",
       "    </tr>\n",
       "  </thead>\n",
       "  <tbody>\n",
       "    <tr>\n",
       "      <th>50</th>\n",
       "      <td>7.0</td>\n",
       "      <td>3.2</td>\n",
       "      <td>4.7</td>\n",
       "      <td>1.4</td>\n",
       "      <td>versicolor</td>\n",
       "    </tr>\n",
       "    <tr>\n",
       "      <th>94</th>\n",
       "      <td>5.6</td>\n",
       "      <td>2.7</td>\n",
       "      <td>4.2</td>\n",
       "      <td>1.3</td>\n",
       "      <td>versicolor</td>\n",
       "    </tr>\n",
       "    <tr>\n",
       "      <th>44</th>\n",
       "      <td>5.1</td>\n",
       "      <td>3.8</td>\n",
       "      <td>1.9</td>\n",
       "      <td>0.4</td>\n",
       "      <td>setosa</td>\n",
       "    </tr>\n",
       "    <tr>\n",
       "      <th>88</th>\n",
       "      <td>5.6</td>\n",
       "      <td>3.0</td>\n",
       "      <td>4.1</td>\n",
       "      <td>1.3</td>\n",
       "      <td>versicolor</td>\n",
       "    </tr>\n",
       "    <tr>\n",
       "      <th>107</th>\n",
       "      <td>7.3</td>\n",
       "      <td>2.9</td>\n",
       "      <td>6.3</td>\n",
       "      <td>1.8</td>\n",
       "      <td>virginica</td>\n",
       "    </tr>\n",
       "  </tbody>\n",
       "</table>\n",
       "</div>"
      ],
      "text/plain": [
       "     sepal_length  sepal_width  petal_length  petal_width     species\n",
       "50            7.0          3.2           4.7          1.4  versicolor\n",
       "94            5.6          2.7           4.2          1.3  versicolor\n",
       "44            5.1          3.8           1.9          0.4      setosa\n",
       "88            5.6          3.0           4.1          1.3  versicolor\n",
       "107           7.3          2.9           6.3          1.8   virginica"
      ]
     },
     "metadata": {},
     "output_type": "display_data"
    },
    {
     "data": {
      "text/plain": [
       "Index(['sepal_length', 'sepal_width', 'petal_length', 'petal_width',\n",
       "       'species'],\n",
       "      dtype='object')"
      ]
     },
     "metadata": {},
     "output_type": "display_data"
    },
    {
     "data": {
      "text/html": [
       "<div>\n",
       "<style scoped>\n",
       "    .dataframe tbody tr th:only-of-type {\n",
       "        vertical-align: middle;\n",
       "    }\n",
       "\n",
       "    .dataframe tbody tr th {\n",
       "        vertical-align: top;\n",
       "    }\n",
       "\n",
       "    .dataframe thead th {\n",
       "        text-align: right;\n",
       "    }\n",
       "</style>\n",
       "<table border=\"1\" class=\"dataframe\">\n",
       "  <thead>\n",
       "    <tr style=\"text-align: right;\">\n",
       "      <th></th>\n",
       "      <th>sepal_length</th>\n",
       "      <th>sepal_width</th>\n",
       "      <th>petal_length</th>\n",
       "      <th>petal_width</th>\n",
       "    </tr>\n",
       "  </thead>\n",
       "  <tbody>\n",
       "    <tr>\n",
       "      <th>count</th>\n",
       "      <td>150.000000</td>\n",
       "      <td>150.000000</td>\n",
       "      <td>150.000000</td>\n",
       "      <td>150.000000</td>\n",
       "    </tr>\n",
       "    <tr>\n",
       "      <th>mean</th>\n",
       "      <td>5.843333</td>\n",
       "      <td>3.054000</td>\n",
       "      <td>3.758667</td>\n",
       "      <td>1.198667</td>\n",
       "    </tr>\n",
       "    <tr>\n",
       "      <th>std</th>\n",
       "      <td>0.828066</td>\n",
       "      <td>0.433594</td>\n",
       "      <td>1.764420</td>\n",
       "      <td>0.763161</td>\n",
       "    </tr>\n",
       "    <tr>\n",
       "      <th>min</th>\n",
       "      <td>4.300000</td>\n",
       "      <td>2.000000</td>\n",
       "      <td>1.000000</td>\n",
       "      <td>0.100000</td>\n",
       "    </tr>\n",
       "    <tr>\n",
       "      <th>25%</th>\n",
       "      <td>5.100000</td>\n",
       "      <td>2.800000</td>\n",
       "      <td>1.600000</td>\n",
       "      <td>0.300000</td>\n",
       "    </tr>\n",
       "    <tr>\n",
       "      <th>50%</th>\n",
       "      <td>5.800000</td>\n",
       "      <td>3.000000</td>\n",
       "      <td>4.350000</td>\n",
       "      <td>1.300000</td>\n",
       "    </tr>\n",
       "    <tr>\n",
       "      <th>75%</th>\n",
       "      <td>6.400000</td>\n",
       "      <td>3.300000</td>\n",
       "      <td>5.100000</td>\n",
       "      <td>1.800000</td>\n",
       "    </tr>\n",
       "    <tr>\n",
       "      <th>max</th>\n",
       "      <td>7.900000</td>\n",
       "      <td>4.400000</td>\n",
       "      <td>6.900000</td>\n",
       "      <td>2.500000</td>\n",
       "    </tr>\n",
       "  </tbody>\n",
       "</table>\n",
       "</div>"
      ],
      "text/plain": [
       "       sepal_length  sepal_width  petal_length  petal_width\n",
       "count    150.000000   150.000000    150.000000   150.000000\n",
       "mean       5.843333     3.054000      3.758667     1.198667\n",
       "std        0.828066     0.433594      1.764420     0.763161\n",
       "min        4.300000     2.000000      1.000000     0.100000\n",
       "25%        5.100000     2.800000      1.600000     0.300000\n",
       "50%        5.800000     3.000000      4.350000     1.300000\n",
       "75%        6.400000     3.300000      5.100000     1.800000\n",
       "max        7.900000     4.400000      6.900000     2.500000"
      ]
     },
     "metadata": {},
     "output_type": "display_data"
    }
   ],
   "source": [
    "# Show the first few rows\n",
    "print('Head')\n",
    "display(iris.head(n=5))\n",
    "\n",
    "# Show the last few rows\n",
    "print('Tail')\n",
    "display(iris.tail(n=3))\n",
    "\n",
    "# Show a random sample of rows\n",
    "print('Random sample')\n",
    "display(iris.sample(n=5))\n",
    "\n",
    "# List column names\n",
    "display(iris.columns)\n",
    "\n",
    "# Summary statistics for numeric columns\n",
    "display(iris.describe())"
   ]
  },
  {
   "cell_type": "markdown",
   "id": "7b8da8d0",
   "metadata": {},
   "source": [
    "**Notes:**\n",
    "\n",
    "- `head(n)` shows the first `n` rows; `tail(n)` shows the last `n` rows.  \n",
    "- `sample(n)` provides a **random subset of rows**.  \n",
    "- `columns` lists all **column names**.  \n",
    "- `describe()` provides **basic statistics** for numeric columns (mean, std, min, max, quartiles).\n"
   ]
  },
  {
   "cell_type": "markdown",
   "id": "31b9d3d6",
   "metadata": {},
   "source": [
    "**Selection:**<br>\n",
    "Pandas allows flexible **selection of rows and columns**, as well as filtering based on conditions.\n"
   ]
  },
  {
   "cell_type": "code",
   "execution_count": 135,
   "id": "b6eb8ba3",
   "metadata": {},
   "outputs": [
    {
     "name": "stdout",
     "output_type": "stream",
     "text": [
      "Selecting columns\n"
     ]
    },
    {
     "data": {
      "text/html": [
       "<div>\n",
       "<style scoped>\n",
       "    .dataframe tbody tr th:only-of-type {\n",
       "        vertical-align: middle;\n",
       "    }\n",
       "\n",
       "    .dataframe tbody tr th {\n",
       "        vertical-align: top;\n",
       "    }\n",
       "\n",
       "    .dataframe thead th {\n",
       "        text-align: right;\n",
       "    }\n",
       "</style>\n",
       "<table border=\"1\" class=\"dataframe\">\n",
       "  <thead>\n",
       "    <tr style=\"text-align: right;\">\n",
       "      <th></th>\n",
       "      <th>sepal_length</th>\n",
       "      <th>species</th>\n",
       "    </tr>\n",
       "  </thead>\n",
       "  <tbody>\n",
       "    <tr>\n",
       "      <th>51</th>\n",
       "      <td>6.4</td>\n",
       "      <td>versicolor</td>\n",
       "    </tr>\n",
       "    <tr>\n",
       "      <th>15</th>\n",
       "      <td>5.7</td>\n",
       "      <td>setosa</td>\n",
       "    </tr>\n",
       "    <tr>\n",
       "      <th>0</th>\n",
       "      <td>5.1</td>\n",
       "      <td>setosa</td>\n",
       "    </tr>\n",
       "    <tr>\n",
       "      <th>83</th>\n",
       "      <td>6.0</td>\n",
       "      <td>versicolor</td>\n",
       "    </tr>\n",
       "    <tr>\n",
       "      <th>127</th>\n",
       "      <td>6.1</td>\n",
       "      <td>virginica</td>\n",
       "    </tr>\n",
       "  </tbody>\n",
       "</table>\n",
       "</div>"
      ],
      "text/plain": [
       "     sepal_length     species\n",
       "51            6.4  versicolor\n",
       "15            5.7      setosa\n",
       "0             5.1      setosa\n",
       "83            6.0  versicolor\n",
       "127           6.1   virginica"
      ]
     },
     "metadata": {},
     "output_type": "display_data"
    },
    {
     "name": "stdout",
     "output_type": "stream",
     "text": [
      "Selecting rows\n"
     ]
    },
    {
     "data": {
      "text/html": [
       "<div>\n",
       "<style scoped>\n",
       "    .dataframe tbody tr th:only-of-type {\n",
       "        vertical-align: middle;\n",
       "    }\n",
       "\n",
       "    .dataframe tbody tr th {\n",
       "        vertical-align: top;\n",
       "    }\n",
       "\n",
       "    .dataframe thead th {\n",
       "        text-align: right;\n",
       "    }\n",
       "</style>\n",
       "<table border=\"1\" class=\"dataframe\">\n",
       "  <thead>\n",
       "    <tr style=\"text-align: right;\">\n",
       "      <th></th>\n",
       "      <th>sepal_length</th>\n",
       "      <th>sepal_width</th>\n",
       "      <th>petal_length</th>\n",
       "      <th>petal_width</th>\n",
       "      <th>species</th>\n",
       "    </tr>\n",
       "  </thead>\n",
       "  <tbody>\n",
       "    <tr>\n",
       "      <th>51</th>\n",
       "      <td>6.4</td>\n",
       "      <td>3.2</td>\n",
       "      <td>4.5</td>\n",
       "      <td>1.5</td>\n",
       "      <td>versicolor</td>\n",
       "    </tr>\n",
       "    <tr>\n",
       "      <th>15</th>\n",
       "      <td>5.7</td>\n",
       "      <td>4.4</td>\n",
       "      <td>1.5</td>\n",
       "      <td>0.4</td>\n",
       "      <td>setosa</td>\n",
       "    </tr>\n",
       "    <tr>\n",
       "      <th>0</th>\n",
       "      <td>5.1</td>\n",
       "      <td>3.5</td>\n",
       "      <td>1.4</td>\n",
       "      <td>0.2</td>\n",
       "      <td>setosa</td>\n",
       "    </tr>\n",
       "  </tbody>\n",
       "</table>\n",
       "</div>"
      ],
      "text/plain": [
       "    sepal_length  sepal_width  petal_length  petal_width     species\n",
       "51           6.4          3.2           4.5          1.5  versicolor\n",
       "15           5.7          4.4           1.5          0.4      setosa\n",
       "0            5.1          3.5           1.4          0.2      setosa"
      ]
     },
     "metadata": {},
     "output_type": "display_data"
    },
    {
     "name": "stdout",
     "output_type": "stream",
     "text": [
      "Filter rows based on some criteria\n"
     ]
    },
    {
     "data": {
      "text/html": [
       "<div>\n",
       "<style scoped>\n",
       "    .dataframe tbody tr th:only-of-type {\n",
       "        vertical-align: middle;\n",
       "    }\n",
       "\n",
       "    .dataframe tbody tr th {\n",
       "        vertical-align: top;\n",
       "    }\n",
       "\n",
       "    .dataframe thead th {\n",
       "        text-align: right;\n",
       "    }\n",
       "</style>\n",
       "<table border=\"1\" class=\"dataframe\">\n",
       "  <thead>\n",
       "    <tr style=\"text-align: right;\">\n",
       "      <th></th>\n",
       "      <th>sepal_length</th>\n",
       "      <th>sepal_width</th>\n",
       "      <th>petal_length</th>\n",
       "      <th>petal_width</th>\n",
       "      <th>species</th>\n",
       "    </tr>\n",
       "  </thead>\n",
       "  <tbody>\n",
       "    <tr>\n",
       "      <th>105</th>\n",
       "      <td>7.6</td>\n",
       "      <td>3.0</td>\n",
       "      <td>6.6</td>\n",
       "      <td>2.1</td>\n",
       "      <td>virginica</td>\n",
       "    </tr>\n",
       "    <tr>\n",
       "      <th>107</th>\n",
       "      <td>7.3</td>\n",
       "      <td>2.9</td>\n",
       "      <td>6.3</td>\n",
       "      <td>1.8</td>\n",
       "      <td>virginica</td>\n",
       "    </tr>\n",
       "    <tr>\n",
       "      <th>109</th>\n",
       "      <td>7.2</td>\n",
       "      <td>3.6</td>\n",
       "      <td>6.1</td>\n",
       "      <td>2.5</td>\n",
       "      <td>virginica</td>\n",
       "    </tr>\n",
       "    <tr>\n",
       "      <th>117</th>\n",
       "      <td>7.7</td>\n",
       "      <td>3.8</td>\n",
       "      <td>6.7</td>\n",
       "      <td>2.2</td>\n",
       "      <td>virginica</td>\n",
       "    </tr>\n",
       "    <tr>\n",
       "      <th>118</th>\n",
       "      <td>7.7</td>\n",
       "      <td>2.6</td>\n",
       "      <td>6.9</td>\n",
       "      <td>2.3</td>\n",
       "      <td>virginica</td>\n",
       "    </tr>\n",
       "    <tr>\n",
       "      <th>122</th>\n",
       "      <td>7.7</td>\n",
       "      <td>2.8</td>\n",
       "      <td>6.7</td>\n",
       "      <td>2.0</td>\n",
       "      <td>virginica</td>\n",
       "    </tr>\n",
       "    <tr>\n",
       "      <th>130</th>\n",
       "      <td>7.4</td>\n",
       "      <td>2.8</td>\n",
       "      <td>6.1</td>\n",
       "      <td>1.9</td>\n",
       "      <td>virginica</td>\n",
       "    </tr>\n",
       "    <tr>\n",
       "      <th>131</th>\n",
       "      <td>7.9</td>\n",
       "      <td>3.8</td>\n",
       "      <td>6.4</td>\n",
       "      <td>2.0</td>\n",
       "      <td>virginica</td>\n",
       "    </tr>\n",
       "    <tr>\n",
       "      <th>135</th>\n",
       "      <td>7.7</td>\n",
       "      <td>3.0</td>\n",
       "      <td>6.1</td>\n",
       "      <td>2.3</td>\n",
       "      <td>virginica</td>\n",
       "    </tr>\n",
       "  </tbody>\n",
       "</table>\n",
       "</div>"
      ],
      "text/plain": [
       "     sepal_length  sepal_width  petal_length  petal_width    species\n",
       "105           7.6          3.0           6.6          2.1  virginica\n",
       "107           7.3          2.9           6.3          1.8  virginica\n",
       "109           7.2          3.6           6.1          2.5  virginica\n",
       "117           7.7          3.8           6.7          2.2  virginica\n",
       "118           7.7          2.6           6.9          2.3  virginica\n",
       "122           7.7          2.8           6.7          2.0  virginica\n",
       "130           7.4          2.8           6.1          1.9  virginica\n",
       "131           7.9          3.8           6.4          2.0  virginica\n",
       "135           7.7          3.0           6.1          2.3  virginica"
      ]
     },
     "metadata": {},
     "output_type": "display_data"
    },
    {
     "data": {
      "text/html": [
       "<div>\n",
       "<style scoped>\n",
       "    .dataframe tbody tr th:only-of-type {\n",
       "        vertical-align: middle;\n",
       "    }\n",
       "\n",
       "    .dataframe tbody tr th {\n",
       "        vertical-align: top;\n",
       "    }\n",
       "\n",
       "    .dataframe thead th {\n",
       "        text-align: right;\n",
       "    }\n",
       "</style>\n",
       "<table border=\"1\" class=\"dataframe\">\n",
       "  <thead>\n",
       "    <tr style=\"text-align: right;\">\n",
       "      <th></th>\n",
       "      <th>sepal_length</th>\n",
       "      <th>sepal_width</th>\n",
       "      <th>petal_length</th>\n",
       "      <th>petal_width</th>\n",
       "      <th>species</th>\n",
       "    </tr>\n",
       "  </thead>\n",
       "  <tbody>\n",
       "    <tr>\n",
       "      <th>107</th>\n",
       "      <td>7.3</td>\n",
       "      <td>2.9</td>\n",
       "      <td>6.3</td>\n",
       "      <td>1.8</td>\n",
       "      <td>virginica</td>\n",
       "    </tr>\n",
       "    <tr>\n",
       "      <th>130</th>\n",
       "      <td>7.4</td>\n",
       "      <td>2.8</td>\n",
       "      <td>6.1</td>\n",
       "      <td>1.9</td>\n",
       "      <td>virginica</td>\n",
       "    </tr>\n",
       "  </tbody>\n",
       "</table>\n",
       "</div>"
      ],
      "text/plain": [
       "     sepal_length  sepal_width  petal_length  petal_width    species\n",
       "107           7.3          2.9           6.3          1.8  virginica\n",
       "130           7.4          2.8           6.1          1.9  virginica"
      ]
     },
     "metadata": {},
     "output_type": "display_data"
    }
   ],
   "source": [
    "# Select specific columns\n",
    "sample = iris.sample(n=5)\n",
    "print('Selecting columns')\n",
    "display(sample[['sepal_length', 'species']])\n",
    "\n",
    "# Select specific rows\n",
    "print('Selecting rows')\n",
    "display(sample[:3])\n",
    "\n",
    "# Filter rows based on criteria\n",
    "print('Filter rows based on some criteria')\n",
    "\n",
    "# Single condition\n",
    "display(iris[iris['petal_length'] > 6.0])\n",
    "\n",
    "# Multiple conditions (logical AND)\n",
    "display(iris[(iris['petal_length'] > 6.0) & (iris['petal_width'] < 2.0)])"
   ]
  },
  {
   "cell_type": "markdown",
   "id": "c17e1abe",
   "metadata": {},
   "source": [
    "**Notes:**\n",
    "\n",
    "- Use `df[columns]` to select specific columns.  \n",
    "- Slice `df[start:end]` to select rows by position.  \n",
    "- Boolean indexing allows **filtering rows** based on one or more conditions.  \n",
    "- Combine multiple conditions using `&` (AND) or `|` (OR) with parentheses.\n"
   ]
  },
  {
   "cell_type": "markdown",
   "id": "0b42e692",
   "metadata": {},
   "source": [
    "**Operations:**<br>\n",
    "Pandas allows **vectorized operations** and **applying functions** across rows or columns.\n"
   ]
  },
  {
   "cell_type": "code",
   "execution_count": 136,
   "id": "60884b29",
   "metadata": {},
   "outputs": [
    {
     "data": {
      "text/html": [
       "<div>\n",
       "<style scoped>\n",
       "    .dataframe tbody tr th:only-of-type {\n",
       "        vertical-align: middle;\n",
       "    }\n",
       "\n",
       "    .dataframe tbody tr th {\n",
       "        vertical-align: top;\n",
       "    }\n",
       "\n",
       "    .dataframe thead th {\n",
       "        text-align: right;\n",
       "    }\n",
       "</style>\n",
       "<table border=\"1\" class=\"dataframe\">\n",
       "  <thead>\n",
       "    <tr style=\"text-align: right;\">\n",
       "      <th></th>\n",
       "      <th>sepal_length</th>\n",
       "      <th>sepal_width</th>\n",
       "      <th>petal_length</th>\n",
       "      <th>petal_width</th>\n",
       "      <th>species</th>\n",
       "    </tr>\n",
       "  </thead>\n",
       "  <tbody>\n",
       "    <tr>\n",
       "      <th>27</th>\n",
       "      <td>5.2</td>\n",
       "      <td>3.5</td>\n",
       "      <td>1.5</td>\n",
       "      <td>0.2</td>\n",
       "      <td>setosa</td>\n",
       "    </tr>\n",
       "    <tr>\n",
       "      <th>4</th>\n",
       "      <td>10.2</td>\n",
       "      <td>7.1</td>\n",
       "      <td>2.9</td>\n",
       "      <td>0.4</td>\n",
       "      <td>setosasetosa</td>\n",
       "    </tr>\n",
       "    <tr>\n",
       "      <th>67</th>\n",
       "      <td>16.0</td>\n",
       "      <td>9.8</td>\n",
       "      <td>7.0</td>\n",
       "      <td>1.4</td>\n",
       "      <td>setosasetosaversicolor</td>\n",
       "    </tr>\n",
       "    <tr>\n",
       "      <th>116</th>\n",
       "      <td>22.5</td>\n",
       "      <td>12.8</td>\n",
       "      <td>12.5</td>\n",
       "      <td>3.2</td>\n",
       "      <td>setosasetosaversicolorvirginica</td>\n",
       "    </tr>\n",
       "    <tr>\n",
       "      <th>117</th>\n",
       "      <td>30.2</td>\n",
       "      <td>16.6</td>\n",
       "      <td>19.2</td>\n",
       "      <td>5.4</td>\n",
       "      <td>setosasetosaversicolorvirginicavirginica</td>\n",
       "    </tr>\n",
       "  </tbody>\n",
       "</table>\n",
       "</div>"
      ],
      "text/plain": [
       "     sepal_length  sepal_width  petal_length  petal_width  \\\n",
       "27            5.2          3.5           1.5          0.2   \n",
       "4            10.2          7.1           2.9          0.4   \n",
       "67           16.0          9.8           7.0          1.4   \n",
       "116          22.5         12.8          12.5          3.2   \n",
       "117          30.2         16.6          19.2          5.4   \n",
       "\n",
       "                                      species  \n",
       "27                                     setosa  \n",
       "4                                setosasetosa  \n",
       "67                     setosasetosaversicolor  \n",
       "116           setosasetosaversicolorvirginica  \n",
       "117  setosasetosaversicolorvirginicavirginica  "
      ]
     },
     "metadata": {},
     "output_type": "display_data"
    },
    {
     "data": {
      "text/plain": [
       "sepal_length    5.843333\n",
       "sepal_width     3.054000\n",
       "petal_length    3.758667\n",
       "petal_width     1.198667\n",
       "dtype: float64"
      ]
     },
     "metadata": {},
     "output_type": "display_data"
    }
   ],
   "source": [
    "# Apply a function to each column or row\n",
    "display(iris.sample(n=5).apply(np.cumsum))  # Cumulative sum along numeric columns\n",
    "\n",
    "# Compute the mean of each numeric column\n",
    "display(iris.mean(numeric_only=True))"
   ]
  },
  {
   "cell_type": "markdown",
   "id": "b62b95be",
   "metadata": {},
   "source": [
    "**Notes:**\n",
    "\n",
    "- `apply(func)` applies a function to each **column** by default (`axis=0`) or to each **row** (`axis=1`).  \n",
    "- Use `numeric_only=True` when applying operations like `mean()` to ignore non-numeric columns.  \n",
    "- You can use NumPy functions like `np.cumsum`, `np.mean`, `np.sum`, etc., directly on numeric DataFrames.  \n",
    "- Operations on DataFrames are **vectorized** and efficient, avoiding explicit Python loops.\n"
   ]
  },
  {
   "cell_type": "markdown",
   "id": "fa29d984",
   "metadata": {},
   "source": [
    "## Matplotlib\n",
    "\n",
    "Matplotlib is one of the most widely used libraries for **data visualization in Python**.  "
   ]
  },
  {
   "cell_type": "code",
   "execution_count": null,
   "id": "51d26152",
   "metadata": {},
   "outputs": [],
   "source": [
    "import matplotlib.pyplot as plt # Standard import convention\n",
    "\n",
    "# To display plots inline, use this special Jupyter command\n",
    "%matplotlib inline"
   ]
  },
  {
   "cell_type": "markdown",
   "id": "ef0e5471",
   "metadata": {},
   "source": [
    "**Notes:**\n",
    "\n",
    "- `matplotlib.pyplot` is typically imported as **plt** — this is the standard convention.  \n",
    "- `%matplotlib inline` is a **Jupyter-specific magic command** that ensures plots appear directly within the notebook instead of opening in a separate window.  \n",
    "- Matplotlib supports multiple **backends** (inline, notebook, interactive, etc.), making it versatile for both exploratory research and production environments.\n"
   ]
  },
  {
   "cell_type": "markdown",
   "id": "9090939e",
   "metadata": {},
   "source": [
    "### Barebones example\n",
    "A simple example of plotting two functions (sine and cosine) using Matplotlib.\n"
   ]
  },
  {
   "cell_type": "code",
   "execution_count": 138,
   "id": "058f7999",
   "metadata": {},
   "outputs": [
    {
     "data": {
      "image/png": "[encoded data removed]",
      "text/plain": [
       "<Figure size 640x480 with 1 Axes>"
      ]
     },
     "metadata": {},
     "output_type": "display_data"
    }
   ],
   "source": [
    "# Create an array of values from 0 to 3π with a step of 0.01\n",
    "t = np.arange(0, np.pi * 3, 0.01)\n",
    "\n",
    "# Compute sine and cosine for each value in t\n",
    "y1 = np.sin(t)\n",
    "y2 = np.cos(t)\n",
    "\n",
    "# Plot both functions\n",
    "plt.plot(t, y1)\n",
    "plt.plot(t, y2)\n",
    "\n",
    "# Display the figure\n",
    "plt.show()"
   ]
  },
  {
   "cell_type": "markdown",
   "id": "02398812",
   "metadata": {},
   "source": [
    "**Notes:**\n",
    "\n",
    "- `np.arange(start, stop, step)` creates evenly spaced values.  \n",
    "- `plt.plot()` draws a line plot for given x and y values.  \n",
    "- `plt.show()` renders the figure in the notebook or output cell.  \n",
    "- Multiple calls to `plt.plot()` allow overlaying several curves on the same axes.  "
   ]
  },
  {
   "cell_type": "markdown",
   "id": "f8681634",
   "metadata": {},
   "source": [
    "### Let's beautify this"
   ]
  },
  {
   "cell_type": "code",
   "execution_count": 139,
   "id": "3673f6d7",
   "metadata": {},
   "outputs": [
    {
     "name": "stderr",
     "output_type": "stream",
     "text": [
      "<>:5: SyntaxWarning: invalid escape sequence '\\s'\n",
      "<>:6: SyntaxWarning: invalid escape sequence '\\c'\n",
      "<>:5: SyntaxWarning: invalid escape sequence '\\s'\n",
      "<>:6: SyntaxWarning: invalid escape sequence '\\c'\n",
      "/var/folders/zm/0r1v0fg50w53tw219k1jp0ym0000gn/T/ipykernel_69942/2200726450.py:5: SyntaxWarning: invalid escape sequence '\\s'\n",
      "  ax.plot(t, y1, label='$\\sin(x)$', linewidth=3.0)\n",
      "/var/folders/zm/0r1v0fg50w53tw219k1jp0ym0000gn/T/ipykernel_69942/2200726450.py:6: SyntaxWarning: invalid escape sequence '\\c'\n",
      "  ax.plot(t, y2, label='$\\cos(x)$', linewidth=3.0)\n"
     ]
    },
    {
     "data": {
      "image/png": "[encoded data removed]",
      "text/plain": [
       "<Figure size 640x480 with 1 Axes>"
      ]
     },
     "metadata": {},
     "output_type": "display_data"
    }
   ],
   "source": [
    "# Create figure and axes\n",
    "fig, ax = plt.subplots(nrows=1, ncols=1)\n",
    "\n",
    "# Plot sine and cosine curves with labels and line width\n",
    "ax.plot(t, y1, label='$\\sin(x)$', linewidth=3.0)\n",
    "ax.plot(t, y2, label='$\\cos(x)$', linewidth=3.0)\n",
    "\n",
    "# Add title and axis labels\n",
    "ax.set_title('Sine and Cosine Functions', fontsize=16)\n",
    "ax.set_xlabel('$x$', fontsize=16)\n",
    "ax.set_ylabel('$f(x)$', fontsize=16)\n",
    "\n",
    "# Add legend with style options\n",
    "ax.legend(loc='best', fancybox=True, framealpha=0.5, fontsize=16)\n",
    "\n",
    "# Add gridlines\n",
    "ax.grid(True)\n",
    "\n",
    "# Display the figure\n",
    "plt.show()"
   ]
  },
  {
   "cell_type": "markdown",
   "id": "da746387",
   "metadata": {},
   "source": [
    "**Notes:**\n",
    "\n",
    "- `plt.subplots()` creates a figure (`fig`) and axes (`ax`) for more control over plot elements.  \n",
    "- `ax.plot()` plots data on the specified axes. You can set labels, line width, and other style parameters.  \n",
    "- `ax.set_title()`, `ax.set_xlabel()`, and `ax.set_ylabel()` add titles and axis labels.  \n",
    "- `ax.legend()` displays a legend; `fancybox` and `framealpha` improve its appearance.  \n",
    "- `ax.grid(True)` adds gridlines for readability.  \n",
    "- This structured approach is preferred for complex or multi-panel plots.  "
   ]
  },
  {
   "cell_type": "markdown",
   "id": "0736dc9a",
   "metadata": {},
   "source": [
    "### Enhancing Plots with Seaborn\n",
    "\n",
    "[Seaborn](https://seaborn.pydata.org/) is a Python library built on top of Matplotlib that simplifies plot styling, color palettes, and overall visual aesthetics. It is particularly useful for creating publication-quality plots with minimal configuration.\n",
    "\n",
    "ou can install Seaborn using:\n",
    "\n",
    "```bash\n",
    "pip install seaborn\n",
    "```\n",
    "\n",
    "#### Using Seaborn to Beautify Plots"
   ]
  },
  {
   "cell_type": "code",
   "execution_count": 140,
   "id": "9aaf75f1",
   "metadata": {},
   "outputs": [
    {
     "name": "stderr",
     "output_type": "stream",
     "text": [
      "<>:10: SyntaxWarning: invalid escape sequence '\\s'\n",
      "<>:11: SyntaxWarning: invalid escape sequence '\\c'\n",
      "<>:10: SyntaxWarning: invalid escape sequence '\\s'\n",
      "<>:11: SyntaxWarning: invalid escape sequence '\\c'\n",
      "/var/folders/zm/0r1v0fg50w53tw219k1jp0ym0000gn/T/ipykernel_69942/4091915364.py:10: SyntaxWarning: invalid escape sequence '\\s'\n",
      "  ax.plot(t, y1, label='$\\sin(x)$', linewidth=3.0)\n",
      "/var/folders/zm/0r1v0fg50w53tw219k1jp0ym0000gn/T/ipykernel_69942/4091915364.py:11: SyntaxWarning: invalid escape sequence '\\c'\n",
      "  ax.plot(t, y2, label='$\\cos(x)$', linewidth=3.0)\n"
     ]
    },
    {
     "data": {
      "image/png": "[encoded data removed]",
      "text/plain": [
       "<Figure size 640x480 with 1 Axes>"
      ]
     },
     "metadata": {},
     "output_type": "display_data"
    }
   ],
   "source": [
    "import seaborn as sns\n",
    "\n",
    "# Set Seaborn theme for nicer default styles\n",
    "sns.set_theme()\n",
    "\n",
    "# Create figure and axes\n",
    "fig, ax = plt.subplots(nrows=1, ncols=1)\n",
    "\n",
    "# Plot sine and cosine functions\n",
    "ax.plot(t, y1, label='$\\sin(x)$', linewidth=3.0)\n",
    "ax.plot(t, y2, label='$\\cos(x)$', linewidth=3.0)\n",
    "\n",
    "# Add title and axis labels\n",
    "ax.set_title('Sine and Cosine Functions')\n",
    "ax.set_xlabel('$x$')\n",
    "ax.set_ylabel('$f(x)$')\n",
    "\n",
    "# Display legend\n",
    "ax.legend()\n",
    "\n",
    "# Show the plot\n",
    "plt.show()\n",
    "\n",
    "# Reset to original Matplotlib styles if needed\n",
    "sns.reset_orig()\n"
   ]
  },
  {
   "cell_type": "markdown",
   "id": "4ec62cab",
   "metadata": {},
   "source": [
    "**Notes:**\n",
    "\n",
    "- `sns.set_theme()` automatically adjusts font sizes, line widths, and colors for a cleaner look.  \n",
    "- Seaborn overrides Matplotlib defaults, so use `sns.reset_orig()` to revert back to the original Matplotlib styling.  \n",
    "- Seaborn works seamlessly with Matplotlib’s object-oriented interface, allowing full control while improving aesthetics.  \n",
    "- Ideal for creating quick, attractive plots without manually adjusting every styling parameter.  "
   ]
  },
  {
   "cell_type": "markdown",
   "id": "261d1358",
   "metadata": {},
   "source": [
    "### Subplots\n",
    "\n",
    "When you want to display multiple plots simultaneously, Matplotlib’s `subplots()`"
   ]
  },
  {
   "cell_type": "code",
   "execution_count": 141,
   "id": "1d8334a4",
   "metadata": {},
   "outputs": [
    {
     "name": "stderr",
     "output_type": "stream",
     "text": [
      "/var/folders/zm/0r1v0fg50w53tw219k1jp0ym0000gn/T/ipykernel_69942/2617816087.py:24: MatplotlibDeprecationWarning: Passing the NFFT parameter of cohere() positionally is deprecated since Matplotlib 3.10; the parameter will become keyword-only in 3.12.\n",
      "  cxy, f = axs[1].cohere(s1, s2, 256, 1. / dt)\n"
     ]
    },
    {
     "data": {
      "image/png": "[encoded data removed]",
      "text/plain": [
       "<Figure size 1000x600 with 2 Axes>"
      ]
     },
     "metadata": {},
     "output_type": "display_data"
    }
   ],
   "source": [
    "# Time vector\n",
    "dt = 0.01\n",
    "t = np.arange(0, 30, dt)\n",
    "\n",
    "# Generate two white noise signals\n",
    "nse1 = np.random.randn(len(t))  # white noise 1\n",
    "nse2 = np.random.randn(len(t))  # white noise 2\n",
    "\n",
    "# Two signals with a coherent part at 10Hz and a random part\n",
    "s1 = np.sin(2 * np.pi * 10 * t) + nse1\n",
    "s2 = np.sin(2 * np.pi * 10 * t) + nse2\n",
    "\n",
    "# Create figure and two subplots\n",
    "fig, axs = plt.subplots(2, 1, figsize=(10.0, 6.0))\n",
    "\n",
    "# Top plot: time series\n",
    "axs[0].plot(t, s1, t, s2)\n",
    "axs[0].set_xlim(0, 2)\n",
    "axs[0].set_xlabel('time', fontsize=16)\n",
    "axs[0].set_ylabel('s1 and s2', fontsize=16)\n",
    "axs[0].grid(True)\n",
    "\n",
    "# Bottom plot: coherence\n",
    "cxy, f = axs[1].cohere(s1, s2, 256, 1. / dt)\n",
    "axs[1].set_xlabel('frequency', fontsize=16)\n",
    "axs[1].set_ylabel('coherence', fontsize=16)\n",
    "\n",
    "# Adjust layout to prevent overlap\n",
    "fig.tight_layout()\n",
    "plt.show()"
   ]
  },
  {
   "cell_type": "markdown",
   "id": "9c937047",
   "metadata": {},
   "source": [
    "**Notes:**\n",
    "\n",
    "- `plt.subplots(nrows, ncols)` returns a figure and an array of axes for plotting multiple plots in one figure.  \n",
    "- You can index into `axs` to plot on individual subplots (e.g., `axs[0]`, `axs[1]`).  \n",
    "- `figsize` controls the overall figure size.  \n",
    "- `fig.tight_layout()` automatically adjusts spacing between subplots to avoid overlapping labels.  \n",
    "- Subplots allow you to compare related plots side by side or stacked vertically.  \n"
   ]
  },
  {
   "cell_type": "markdown",
   "id": "da96c398",
   "metadata": {},
   "source": [
    "### Scatter Plots\n",
    "\n",
    "Scatter plots are useful for visualizing the relationship between two numeric variables.  \n",
    "In this example, we plot **sepal length vs sepal width** for the Iris dataset, coloring each species differently."
   ]
  },
  {
   "cell_type": "code",
   "execution_count": 142,
   "id": "2ac50baf",
   "metadata": {},
   "outputs": [
    {
     "data": {
      "image/png": "[encoded data removed]",
      "text/plain": [
       "<Figure size 500x500 with 1 Axes>"
      ]
     },
     "metadata": {},
     "output_type": "display_data"
    }
   ],
   "source": [
    "x_label = 'sepal_length'\n",
    "y_label = 'sepal_width'\n",
    "\n",
    "fig, ax = plt.subplots(nrows=1, ncols=1, figsize=(5.0, 5.0))\n",
    "\n",
    "# Plot each species with different colors\n",
    "for spec in ['setosa', 'versicolor', 'virginica']:\n",
    "    df = iris[iris['species'] == spec]\n",
    "    ax.scatter(df[x_label], df[y_label], label=spec)\n",
    "\n",
    "# Add title and axis labels\n",
    "ax.set_title('Iris Dataset', fontsize=16)\n",
    "ax.set_xlabel(x_label, fontsize=16)\n",
    "ax.set_ylabel(y_label, fontsize=16)\n",
    "\n",
    "# Display legend with style options\n",
    "ax.legend(loc='best', fancybox=True, framealpha=0.5, fontsize=16)\n",
    "\n",
    "# Add gridlines\n",
    "ax.grid()\n",
    "\n",
    "plt.show()"
   ]
  },
  {
   "cell_type": "markdown",
   "id": "4a3759b6",
   "metadata": {},
   "source": [
    "**Notes:**\n",
    "\n",
    "- `ax.scatter(x, y)` creates a scatter plot of x versus y.  \n",
    "- Looping over categories allows coloring and labeling points by class.  \n",
    "- Legends help identify different categories in the plot.  \n",
    "- Gridlines improve readability of the scatter plot.  \n",
    "- Figure size can be controlled using `figsize`.  \n"
   ]
  },
  {
   "cell_type": "markdown",
   "id": "87011ab9",
   "metadata": {},
   "source": [
    "\n",
    "## Optional: JAX as NumPy on GPU\n",
    "\n",
    "Deep learning frameworks often provide their own APIs for handling data arrays.  \n",
    "For example, **PyTorch** uses `torch.Tensor` for arrays and supports operations like matrix multiplication and computing the mean.  \n",
    "\n",
    "**JAX** provides a similar API to [NumPy](https://numpy.org/), called `jax.numpy` (`jnp`), which allows you to write code almost identical to NumPy while leveraging accelerators like GPUs or TPUs.  \n",
    "\n",
    "Think of JAX as **NumPy on accelerators**.\n",
    "> **Note:** The web version of this notebook was compiled without GPU acceleration. \n",
    "> To see the performance benefits of JAX, run this notebook on Colab with a GPU or TPU backend."
   ]
  },
  {
   "cell_type": "code",
   "execution_count": 143,
   "id": "d9d85d08",
   "metadata": {},
   "outputs": [],
   "source": [
    "import jax\n",
    "import jax.numpy as jnp  # Common alias to differentiate from regular NumPy\n",
    "\n",
    "import numpy as np\n",
    "import torch\n",
    "import random\n",
    "import matplotlib.pyplot as plt"
   ]
  },
  {
   "cell_type": "markdown",
   "id": "74cd96fd",
   "metadata": {},
   "source": [
    "**Notes:**\n",
    "\n",
    "- `jax.numpy` (`jnp`) mirrors most of the NumPy API, allowing easy switching between them with minimal code changes.  \n",
    "- Arrays created with JAX are immutable and support automatic differentiation, GPU/TPU acceleration, and just-in-time compilation.  \n",
    "- Using `jnp` provides a clear distinction from regular NumPy arrays (`np`) to avoid confusion.  \n"
   ]
  },
  {
   "cell_type": "markdown",
   "id": "192b4260",
   "metadata": {},
   "source": [
    "### Arrays on GPU with JAX\n",
    "\n",
    "JAX automatically places arrays on available devices, such as CPUs, GPUs, or TPUs. Unlike PyTorch, you usually don’t need to manually move arrays to a device.  \n",
    "\n",
    "**Distinction from NumPy:**\n",
    "- Regular **NumPy arrays** (`np.array`) always reside on the CPU and cannot utilize GPUs or TPUs.  \n",
    "- With JAX (`jnp.array`), the same NumPy-like operations can run on accelerators automatically.  \n",
    "- This allows you to write code almost identical to NumPy while benefiting from hardware acceleration.  \n"
   ]
  },
  {
   "cell_type": "code",
   "execution_count": 144,
   "id": "4817ecea",
   "metadata": {},
   "outputs": [
    {
     "name": "stdout",
     "output_type": "stream",
     "text": [
      "[0 1 2 3 4 5 6 7 8 9]\n"
     ]
    }
   ],
   "source": [
    "# Create a simple array\n",
    "x = jnp.arange(10)\n",
    "print(x)"
   ]
  },
  {
   "cell_type": "code",
   "execution_count": 145,
   "id": "b1844712",
   "metadata": {},
   "outputs": [
    {
     "name": "stdout",
     "output_type": "stream",
     "text": [
      "TFRT_CPU_0\n"
     ]
    }
   ],
   "source": [
    "# Check which device the array x is on\n",
    "print(x.device)"
   ]
  },
  {
   "cell_type": "code",
   "execution_count": 146,
   "id": "6258ef70",
   "metadata": {},
   "outputs": [
    {
     "name": "stdout",
     "output_type": "stream",
     "text": [
      "285\n"
     ]
    }
   ],
   "source": [
    "# Perform a computation\n",
    "y = jnp.dot(x, x)\n",
    "print(y)"
   ]
  },
  {
   "cell_type": "code",
   "execution_count": 147,
   "id": "45839897",
   "metadata": {},
   "outputs": [
    {
     "name": "stdout",
     "output_type": "stream",
     "text": [
      "TFRT_CPU_0\n"
     ]
    }
   ],
   "source": [
    "# Check which device the array y is on\n",
    "print(y.device)"
   ]
  },
  {
   "cell_type": "markdown",
   "id": "1402bc70",
   "metadata": {},
   "source": [
    "**Notes:**\n",
    "\n",
    "- JAX automatically assigns arrays and computations to the best available device.  \n",
    "- Use `x.device()` to check the current device.  \n",
    "- If you are using Google Colab, try switching the runtime type between CPU, GPU, or TPU and observe how the device changes.  \n",
    "- Operations on arrays in JAX are compiled and accelerated on the selected device without additional code.  \n"
   ]
  },
  {
   "cell_type": "markdown",
   "id": "b8d69334",
   "metadata": {},
   "source": [
    "### JAXPRs (JAX Program Representations)\n",
    "\n",
    "JAX transforms Python functions into **JAXPRs**, a low-level, primitive representation of the computation.  \n",
    "These representations enable optimizations and function transformations, such as automatic differentiation with `jax.grad`."
   ]
  },
  {
   "cell_type": "code",
   "execution_count": 148,
   "id": "0d19b75f",
   "metadata": {},
   "outputs": [
    {
     "data": {
      "text/plain": [
       "{ \u001b[34;1mlambda \u001b[39;22m; a\u001b[35m:f32[]\u001b[39m b\u001b[35m:f32[]\u001b[39m. \u001b[34;1mlet\n",
       "    \u001b[39;22mc\u001b[35m:f32[]\u001b[39m = integer_pow[y=2] a\n",
       "    d\u001b[35m:f32[]\u001b[39m = add c b\n",
       "  \u001b[34;1min \u001b[39;22m(d,) }"
      ]
     },
     "execution_count": 148,
     "metadata": {},
     "output_type": "execute_result"
    }
   ],
   "source": [
    "# Define a simple function\n",
    "def myfun(x, y):\n",
    "    z = x ** 2 + y\n",
    "    return z\n",
    "\n",
    "x = jnp.array(2.0)\n",
    "y = jnp.array(3.0)\n",
    "\n",
    "# Display the JAXPR of the function\n",
    "jax.make_jaxpr(myfun)(x, y)"
   ]
  },
  {
   "cell_type": "code",
   "execution_count": 149,
   "id": "9bc41736",
   "metadata": {},
   "outputs": [
    {
     "data": {
      "text/plain": [
       "{ \u001b[34;1mlambda \u001b[39;22m; a\u001b[35m:f32[]\u001b[39m b\u001b[35m:f32[]\u001b[39m. \u001b[34;1mlet\n",
       "    \u001b[39;22mc\u001b[35m:f32[]\u001b[39m = integer_pow[y=2] a\n",
       "    d\u001b[35m:f32[]\u001b[39m = integer_pow[y=1] a\n",
       "    e\u001b[35m:f32[]\u001b[39m = mul 2.0:f32[] d\n",
       "    _\u001b[35m:f32[]\u001b[39m = add c b\n",
       "    f\u001b[35m:f32[]\u001b[39m = mul 1.0:f32[] e\n",
       "  \u001b[34;1min \u001b[39;22m(f,) }"
      ]
     },
     "execution_count": 149,
     "metadata": {},
     "output_type": "execute_result"
    }
   ],
   "source": [
    "# Compute the derivative of the function with respect to the first argument\n",
    "d_myfun = jax.grad(myfun)  # returns a new function\n",
    "jax.make_jaxpr(d_myfun)(x, y)"
   ]
  },
  {
   "cell_type": "code",
   "execution_count": 150,
   "id": "7eb6f2cb",
   "metadata": {},
   "outputs": [
    {
     "data": {
      "text/plain": [
       "Array(20., dtype=float32, weak_type=True)"
      ]
     },
     "execution_count": 150,
     "metadata": {},
     "output_type": "execute_result"
    }
   ],
   "source": [
    "# Evaluate the derivative at a specific point\n",
    "x = jnp.array(10.0)\n",
    "y = jnp.array(12.0)\n",
    "d_myfun(x, y)"
   ]
  },
  {
   "cell_type": "code",
   "execution_count": 151,
   "id": "8e0f5db3",
   "metadata": {},
   "outputs": [
    {
     "data": {
      "text/plain": [
       "Array(2., dtype=float32, weak_type=True)"
      ]
     },
     "execution_count": 151,
     "metadata": {},
     "output_type": "execute_result"
    }
   ],
   "source": [
    "# Compute the second-order derivative\n",
    "jax.grad(jax.grad(myfun))(x, y)"
   ]
  },
  {
   "cell_type": "markdown",
   "id": "d7878ce0",
   "metadata": {},
   "source": [
    "**Notes:**\n",
    "\n",
    "- JAXPRs are an intermediate representation that makes JAX transformations possible.  \n",
    "- `jax.grad(f)` returns a new function representing the gradient of `f` with respect to its first argument.  \n",
    "- You can nest `jax.grad` to compute higher-order derivatives.  \n",
    "- JAX allows you to differentiate through nearly arbitrary Python+JAX code efficiently and automatically.  \n"
   ]
  },
  {
   "cell_type": "markdown",
   "id": "d9cc830d",
   "metadata": {},
   "source": [
    "### JAX is FAST ⚡\n",
    "JAX can leverage GPUs/TPUs to perform computations extremely efficiently.  \n",
    "Here we compare matrix multiplication using JAX and PyTorch."
   ]
  },
  {
   "cell_type": "code",
   "execution_count": 152,
   "id": "a0f4feae",
   "metadata": {},
   "outputs": [
    {
     "data": {
      "text/plain": [
       "((500, 500), (500, 500))"
      ]
     },
     "execution_count": 152,
     "metadata": {},
     "output_type": "execute_result"
    }
   ],
   "source": [
    "# Create two random 500x500 matrices in JAX\n",
    "rng = jax.random.PRNGKey(0)\n",
    "key, rng = jax.random.split(rng)\n",
    "m1 = jax.random.normal(key, (500, 500))\n",
    "key, rng = jax.random.split(rng)\n",
    "m2 = jax.random.normal(key, (500, 500))\n",
    "\n",
    "# Check the shapes of the matrices\n",
    "m1.shape, m2.shape"
   ]
  },
  {
   "cell_type": "code",
   "execution_count": 153,
   "id": "db533dfa",
   "metadata": {},
   "outputs": [
    {
     "name": "stdout",
     "output_type": "stream",
     "text": [
      "759 μs ± 162 μs per loop (mean ± std. dev. of 7 runs, 1,000 loops each)\n"
     ]
    }
   ],
   "source": [
    "# Time JAX matrix multiplication\n",
    "# block_until_ready() ensures the GPU computation finishes before timing\n",
    "%timeit jnp.dot(m1, m2).block_until_ready()"
   ]
  },
  {
   "cell_type": "code",
   "execution_count": 154,
   "id": "64d5abd1",
   "metadata": {},
   "outputs": [
    {
     "name": "stdout",
     "output_type": "stream",
     "text": [
      "137 μs ± 5.63 μs per loop (mean ± std. dev. of 7 runs, 10,000 loops each)\n"
     ]
    }
   ],
   "source": [
    "# Create two random 500x500 matrices in PyTorch\n",
    "b1 = torch.normal(torch.ones(500, 500), torch.ones(500, 500))\n",
    "b2 = torch.normal(torch.ones(500, 500), torch.ones(500, 500))\n",
    "\n",
    "# Time PyTorch matrix multiplication (synchronize for GPU timing)\n",
    "%timeit torch.matmul(b1, b2); torch.cuda.synchronize() if torch.cuda.is_available() else None"
   ]
  },
  {
   "cell_type": "markdown",
   "id": "fdde282c",
   "metadata": {},
   "source": [
    "**Notes:**\n",
    "\n",
    "- `.block_until_ready()` ensures accurate timing for asynchronous GPU operations in JAX.  \n",
    "- JAX automatically dispatches computations to the GPU or TPU if available.  \n",
    "- PyTorch requires explicit `torch.cuda.synchronize()` to measure GPU execution time accurately.  \n",
    "- Both frameworks can perform matrix multiplication much faster on hardware accelerators than on CPU.  \n"
   ]
  },
  {
   "cell_type": "markdown",
   "id": "069b3de9",
   "metadata": {},
   "source": [
    "### JIT compilation with `jax.jit`\n",
    "\n",
    "JAX can **just-in-time (JIT) compile** functions to accelerate execution by fusing operations and optimizing memory usage."
   ]
  },
  {
   "cell_type": "code",
   "execution_count": 155,
   "id": "355d7666",
   "metadata": {},
   "outputs": [
    {
     "name": "stdout",
     "output_type": "stream",
     "text": [
      "25.7 μs ± 7.24 μs per loop (mean ± std. dev. of 7 runs, 10,000 loops each)\n"
     ]
    }
   ],
   "source": [
    "# Define a simple function\n",
    "def myfun(x, y):\n",
    "    z = x ** 2 + y\n",
    "    return z\n",
    "\n",
    "x = jnp.array(2.0)\n",
    "y = jnp.array(3.0)\n",
    "\n",
    "# Measure execution time without JIT\n",
    "%timeit myfun(x, y).block_until_ready()"
   ]
  },
  {
   "cell_type": "code",
   "execution_count": 156,
   "id": "7d5a92b4",
   "metadata": {},
   "outputs": [
    {
     "name": "stdout",
     "output_type": "stream",
     "text": [
      "29.5 μs ± 189 ns per loop (mean ± std. dev. of 7 runs, 10,000 loops each)\n"
     ]
    }
   ],
   "source": [
    "# Measure execution time with JIT\n",
    "%timeit jax.jit(myfun)(x, y).block_until_ready()"
   ]
  },
  {
   "cell_type": "markdown",
   "id": "3990e93b",
   "metadata": {},
   "source": [
    "**Notes:**\n",
    "\n",
    "- `jax.jit` takes a JAX function and compiles it for faster execution.  \n",
    "- Operations are fused into a single kernel, optimizing memory and compute.  \n",
    "- This is conceptually similar to writing a CUDA kernel manually.  \n",
    "- `jax.jit` can also be used as a decorator for cleaner syntax:\n",
    "\n",
    "```python\n",
    "@jax.jit\n",
    "def myfun(x, y):\n",
    "    # code\n",
    "    ...\n",
    "\n",
    "myfun(x, y)\n",
    "```\n",
    "- Using JIT is especially beneficial for repeated computations on large arrays or in loops."
   ]
  },
  {
   "cell_type": "markdown",
   "id": "bce3cabb",
   "metadata": {},
   "source": [
    "### Parallelization with `jax.vmap`\n",
    "`jax.vmap` allows you to **vectorize functions over batch dimensions** automatically, eliminating explicit Python loops.  \n"
   ]
  },
  {
   "cell_type": "code",
   "execution_count": 157,
   "id": "27cca53e",
   "metadata": {},
   "outputs": [
    {
     "name": "stdout",
     "output_type": "stream",
     "text": [
      "result = (2*3 + 2*3)^2 = 144.0\n"
     ]
    }
   ],
   "source": [
    "# Define a function for single vector input\n",
    "def myfun(x, y):\n",
    "    # compute dot product and then square the result\n",
    "    return jnp.dot(x, y) ** 2\n",
    "\n",
    "# Single vector example\n",
    "x = jnp.array([2, 2], dtype=jnp.float32)\n",
    "y = jnp.array([3, 3], dtype=jnp.float32)\n",
    "z = myfun(x, y)\n",
    "print('result = (2*3 + 2*3)^2 =', z)"
   ]
  },
  {
   "cell_type": "markdown",
   "id": "cf5ae5fd",
   "metadata": {},
   "source": [
    "- `myfun` takes two 1-dimensional arrays and returns a scalar.  \n",
    "\n",
    "- Shapes:"
   ]
  },
  {
   "cell_type": "code",
   "execution_count": 158,
   "id": "c766ff67",
   "metadata": {},
   "outputs": [
    {
     "name": "stdout",
     "output_type": "stream",
     "text": [
      "x shape (2,)\n",
      "y shape (2,)\n",
      "z shape ()\n"
     ]
    }
   ],
   "source": [
    "# currently our function takes two 1-dimensional arrays as input\n",
    "print('x shape', x.shape)\n",
    "print('y shape', y.shape)\n",
    "print('z shape', z.shape)"
   ]
  },
  {
   "cell_type": "markdown",
   "id": "690bf6ac",
   "metadata": {},
   "source": [
    "What if we have batches of data?"
   ]
  },
  {
   "cell_type": "code",
   "execution_count": 159,
   "id": "6d73fb30",
   "metadata": {},
   "outputs": [
    {
     "name": "stdout",
     "output_type": "stream",
     "text": [
      "x shape (3, 2)\n",
      "y shape (3, 2)\n",
      "\n",
      "EXCEPTION THROWN!\n",
      "dot_general requires contracting dimensions to have the same shape, got (2,) and (3,).\n"
     ]
    }
   ],
   "source": [
    "x = jnp.array([[2, 2], [4, 4], [6, 6]], dtype=jnp.float32)  # 3 batches of vectors\n",
    "y = jnp.array([[3, 3], [5, 5], [7, 7]], dtype=jnp.float32)  # 3 batches of vectors\n",
    "\n",
    "print('x shape', x.shape)\n",
    "print('y shape', y.shape)\n",
    "\n",
    "try:\n",
    "    myfun(x, y)\n",
    "except Exception as e:\n",
    "    print()\n",
    "    print('EXCEPTION THROWN!')\n",
    "    print(e)\n"
   ]
  },
  {
   "cell_type": "markdown",
   "id": "680c55c5",
   "metadata": {},
   "source": [
    "- We get an error because `myfun` is written for single vectors, not batches.  \n",
    "\n",
    "- The dot product cannot be directly applied to the input matrices in the intended batched manner.  \n",
    "\n",
    "**Solution: `jax.vmap`**\n",
    "\n",
    "- `jax.vmap` vectorizes a function to automatically map it over leading array axes:"
   ]
  },
  {
   "cell_type": "code",
   "execution_count": 160,
   "id": "5ab42652",
   "metadata": {},
   "outputs": [
    {
     "data": {
      "text/plain": [
       "Array([ 144., 1600., 7056.], dtype=float32)"
      ]
     },
     "execution_count": 160,
     "metadata": {},
     "output_type": "execute_result"
    }
   ],
   "source": [
    "jax.vmap(myfun)(x, y)"
   ]
  },
  {
   "cell_type": "markdown",
   "id": "d485dcc1",
   "metadata": {},
   "source": [
    "- Each row of `x` and `y` is passed to `myfun` in parallel.  \n",
    "\n",
    "- This avoids writing explicit for-loops and is much faster on accelerators.  \n",
    "\n",
    "**Combining with JIT**\n",
    "\n",
    "- For even better performance, we can JIT-compile the vectorized function:"
   ]
  },
  {
   "cell_type": "code",
   "execution_count": 161,
   "id": "25f5e2d1",
   "metadata": {},
   "outputs": [
    {
     "data": {
      "text/plain": [
       "Array([ 144., 1600., 7056.], dtype=float32)"
      ]
     },
     "execution_count": 161,
     "metadata": {},
     "output_type": "execute_result"
    }
   ],
   "source": [
    "# We can use JIT compilation on top of jax.vmap, speeding things up further!\n",
    "jax.jit(jax.vmap(myfun))(x, y)"
   ]
  },
  {
   "cell_type": "markdown",
   "id": "85103bf1",
   "metadata": {},
   "source": [
    "## Exercise 1: Linear Regression Exercise: Normal Equation with NumPy (or JAX)\n",
    "In this exercise, you will compute the **beta matrix** ($\\boldsymbol{\\beta}$) for Linear Regression using the **Normal Equation** and NumPy (or JAX), and use it to make predictions.\n",
    "\n",
    "The **Normal Equation** formula is:\n",
    "\n",
    "$\\boldsymbol{\\beta} = (X^T X)^{-1} X^T y$\n",
    "\n",
    "Where:  \n",
    "- $X \\in \\mathbb{R}^{m \\times n}$ is the feature matrix.  \n",
    "- $y \\in \\mathbb{R}^{m \\times 1}$ is the target vector.  \n",
    "- $\\boldsymbol{\\beta} \\in \\mathbb{R}^{(n+1) \\times 1}$ is the matrix of coefficients.\n",
    "\n",
    "The **Prediction Equation** formula is:\n",
    "\n",
    "Once $\\boldsymbol{\\beta}$ is computed, predictions are made using:\n",
    "\n",
    "$\\hat{y} = X \\boldsymbol{\\beta}$"
   ]
  },
  {
   "cell_type": "markdown",
   "id": "bd656aaa",
   "metadata": {},
   "source": [
    "### Import Libraries and Generate a Synthetic Dataset"
   ]
  },
  {
   "cell_type": "code",
   "execution_count": 162,
   "id": "d1caf6ed",
   "metadata": {},
   "outputs": [],
   "source": [
    "import numpy as np\n",
    "import matplotlib.pyplot as plt\n",
    "\n",
    "np.random.seed(42)\n",
    "\n",
    "# Parameters\n",
    "a = 2.5\n",
    "num_points = 50\n",
    "noise_std = 5.0\n",
    "\n",
    "# Generate x values\n",
    "x = np.linspace(0, 10, num_points)\n",
    "\n",
    "# Reshape x to be a feature matrix (num_points x 1)\n",
    "X = x.reshape(-1, 1)\n",
    "\n",
    "# Generate noisy y values\n",
    "noise = np.random.normal(0, noise_std, size=num_points)\n",
    "y = a * x + noise\n",
    "\n"
   ]
  },
  {
   "cell_type": "markdown",
   "id": "e5a25bdd",
   "metadata": {},
   "source": [
    "### TODO: Plot the Data using `matplotlib`"
   ]
  },
  {
   "cell_type": "code",
   "execution_count": 163,
   "id": "4f64d68f",
   "metadata": {},
   "outputs": [],
   "source": [
    "# TODO: # Visualize the dataset"
   ]
  },
  {
   "cell_type": "markdown",
   "id": "7f7e068a",
   "metadata": {},
   "source": [
    "### TODO: Compute Beta Matrix Using Normal Equation"
   ]
  },
  {
   "cell_type": "code",
   "execution_count": 164,
   "id": "6b0a2b4a",
   "metadata": {},
   "outputs": [],
   "source": [
    "# TODO: Compute the beta matrix\n",
    "# beta = (X_b^T X_b)^(-1) X_b^T y\n",
    "\n",
    "beta = None  # replace None\n"
   ]
  },
  {
   "cell_type": "markdown",
   "id": "5def530d",
   "metadata": {},
   "source": [
    "### TODO: Make Predictions Using Beta Matrix\n"
   ]
  },
  {
   "cell_type": "code",
   "execution_count": 165,
   "id": "f50e4e02",
   "metadata": {},
   "outputs": [],
   "source": [
    "# TODO: Use prediction equation: y_hat = X_b @ beta\n",
    "\n",
    "y_pred = None  # replace None\n"
   ]
  },
  {
   "cell_type": "markdown",
   "id": "1fa3d561",
   "metadata": {},
   "source": [
    "### TODO: Visualize the predictions"
   ]
  },
  {
   "cell_type": "code",
   "execution_count": 166,
   "id": "2c75276d",
   "metadata": {},
   "outputs": [],
   "source": [
    "# TODO: Visualize the predictions"
   ]
  },
  {
   "cell_type": "markdown",
   "id": "d127e09a",
   "metadata": {},
   "source": [
    "## Conclusion\n",
    "\n",
    "This tutorial has guided you through setting up a Python environment, running Jupyter or Colab notebooks, and using basic notebook features like code cells, Markdown, and timing commands.  \n",
    "\n",
    "Basic Python programming concepts were introduced, along with the most important libraries for data analysis:\n",
    "\n",
    "- **NumPy** for numerical computing and array operations  \n",
    "- **Pandas** for data loading, cleaning, and processing  \n",
    "- **Matplotlib** and **Seaborn** for data visualization  \n",
    "\n",
    "With these foundations, you are now ready to experiment, document, and share your Python analyses efficiently."
   ]
  },
  {
   "cell_type": "markdown",
   "id": "3961758b",
   "metadata": {},
   "source": [
    "### References\n",
    "Here are some useful references and resources to deepen your understanding:\n",
    "\n",
    "**Python**\n",
    "- [Official Python Documentation](https://docs.python.org/3/)\n",
    "- [Python Tutorial – W3Schools](https://www.w3schools.com/python/)\n",
    "\n",
    "**NumPy**\n",
    "- [NumPy Documentation](https://numpy.org/doc/stable/)\n",
    "- [NumPy Quickstart Tutorial](https://numpy.org/doc/stable/user/quickstart.html)\n",
    "\n",
    "**Pandas**\n",
    "- [Pandas Documentation](https://pandas.pydata.org/docs/)\n",
    "- [10 Minutes to Pandas](https://pandas.pydata.org/pandas-docs/stable/user_guide/10min.html)\n",
    "\n",
    "**Matplotlib**\n",
    "- [Matplotlib Documentation](https://matplotlib.org/stable/contents.html)\n",
    "- [Matplotlib Gallery](https://matplotlib.org/stable/gallery/index.html)\n",
    "\n",
    "**Seaborn**\n",
    "- [Seaborn Documentation](https://seaborn.pydata.org/)\n",
    "- [Seaborn Tutorial](https://seaborn.pydata.org/tutorial.html)\n",
    "\n",
    "**JAX (Optional / Advanced)**\n",
    "- [JAX Documentation](https://jax.readthedocs.io/en/latest/)\n",
    "- [JAX GitHub](https://github.com/google/jax)\n",
    "- [Inside NVIDIA GPUs](https://www.aleksagordic.com/blog/matmul)\n",
    "\n",
    "**General Data Science Resources**\n",
    "- [Kaggle Learn](https://www.kaggle.com/learn/overview)\n",
    "- [Scipy Lectures – Python for Data Science](https://scipy-lectures.org/)\n",
    "- [Real Python Tutorials](https://realpython.com/)\n",
    "\n",
    "**Additional References Used in This Tutorial**\n",
    "- [Justin Johnson's Python & NumPy Tutorial](http://cs231n.github.io/python-numpy-tutorial/)\n",
    "- [CS228 Exhaustive Python Tutorial](https://github.com/kuleshov/cs228-material/blob/master/tutorials/python/cs228-python-tutorial.ipynb)\n",
    "- [Dataquest Jupyter Notebook Tutorial](https://www.dataquest.io/blog/jupyter-notebook-tutorial/)\n",
    "- [Jupyter Wiki – Statistics, Machine Learning, and Data Science](https://github.com/jupyter/jupyter/wiki#statistics-machine-learning-and-data-science)\n",
    "- [Python Cheat Sheet](https://gto76.github.io/python-cheatsheet/)"
   ]
  },
  {
   "cell_type": "markdown",
   "id": "6a78289b",
   "metadata": {},
   "source": [
    "---\n",
    "\n",
    "[![Star our repository](https://img.shields.io/static/v1.svg?logo=star&label=⭐&message=Star%20Our%20Repository&color=yellow)](https://github.com/clandolt/mlcysec_notebooks/)  If you found this tutorial helpful, please **⭐ star our repository** to show your support.   \n",
    "[![Ask questions](https://img.shields.io/static/v1.svg?logo=star&label=❔&message=Ask%20Questions&color=9cf)](https://github.com/clandolt/mlcysec_notebooks/issues)  For any **questions**, **typos**, or **bugs**, kindly open an issue on GitHub — we appreciate your feedback!\n",
    "\n",
    "---"
   ]
  }
 ],
 "metadata": {
  "kernelspec": {
   "display_name": "mlcysec25",
   "language": "python",
   "name": "python3"
  },
  "language_info": {
   "codemirror_mode": {
    "name": "ipython",
    "version": 3
   },
   "file_extension": ".py",
   "mimetype": "text/x-python",
   "name": "python",
   "nbconvert_exporter": "python",
   "pygments_lexer": "ipython3",
   "version": "3.12.2"
  }
 },
 "nbformat": 4,
 "nbformat_minor": 5
}
