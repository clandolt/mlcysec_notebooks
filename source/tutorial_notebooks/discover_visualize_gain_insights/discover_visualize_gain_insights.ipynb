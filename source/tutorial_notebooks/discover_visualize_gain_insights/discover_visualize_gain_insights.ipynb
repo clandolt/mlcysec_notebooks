{
 "cells": [
  {
   "cell_type": "markdown",
   "id": "15680db4",
   "metadata": {},
   "source": [
    "# Getting Started 2: How to Load and Visualize Data for Cyber Threat Intelligence Analysis\n",
    "\n",
    "**Open notebook on:** \n",
    "[![View filled on Github](https://img.shields.io/static/v1.svg?logo=github&label=Repo&message=View%20On%20Github&color=lightgrey)](https://github.com/clandolt)\n",
    "[![Open filled In Collab](https://colab.research.google.com/assets/colab-badge.svg)](https://colab.research.google.com/github/)   \n",
    "**Author:** Christoph R. Landolt"
   ]
  },
  {
   "cell_type": "markdown",
   "id": "ac112235",
   "metadata": {},
   "source": [
    "In this tutorial, we will conduct a comprehensive Exploratory Data Analysis (EDA) in Python to gain a detailed understanding of a dataset.\n",
    "Exploratory Data Analysis is a fundamental step in any data science workflow. It involves systematically examining the structure, quality, and relationships within the data through data loading, data cleaning, statistical analysis, and visualization.\n",
    "\n",
    "To ensure relevance and applicability, this tutorial will use a dataset on State-Sponsored Cyber Operations. This dataset provides an opportunity to apply EDA techniques to real-world, security-related data, helping to uncover patterns and relationships that may inform further modeling or research.\n",
    "## Tutorial Objectives\n",
    "\n",
    "By the end of this tutorial, you will be able to:\n",
    "* Load, clean, and manipulate data using Pandas DataFrames\n",
    "* Perform numerical operations and transformations using NumPy\n",
    "* Create informative visualizations using Matplotlib and Seaborn\n",
    "* Apply dimensionality reduction methods to visualize high-dimensional data"
   ]
  },
  {
   "cell_type": "markdown",
   "id": "f7bc0250",
   "metadata": {},
   "source": [
    "## Notebook Setup and Visualization Configuration\n",
    "\n",
    "This section contains standard setup code that will likely be common across all notebooks in this course.  \n",
    "It imports essential Python packages for data analysis and visualization, and configures the notebook for high-quality plotting.\n",
    "\n",
    "### Key Configuration Commands\n",
    "\n",
    "- `%matplotlib inline`  \n",
    "  Ensures that all **matplotlib plots** are displayed directly within the notebook cells.\n",
    "\n",
    "- `%config InlineBackend.figure_format`  \n",
    "  Controls the output format of plots. Different formats are suited for different use cases:\n",
    "\n",
    "| **Format** | **Description** | **When to Use** |\n",
    "|------------|----------------|----------------|\n",
    "| `'retina'` | High-resolution (2× DPI) PNG output | Ideal for notebooks viewed on high-DPI or Retina screens; default for high-quality visuals. |\n",
    "| `'png'`    | Standard-resolution PNG output | Suitable for general use; faster rendering and smaller output size. |\n",
    "| `'svg'`    | Scalable Vector Graphics (vector-based) | Best for publication-quality plots that scale without losing quality; ideal for LaTeX or web embedding. |\n",
    "| `'pdf'`    | Portable Document Format (vector-based) | Useful for exporting plots to reports; less common in notebooks. |\n",
    "| `'jpg'` / `'jpeg'` | Compressed raster format | Rarely used for plots due to lossy compression; generally not recommended for analysis. |\n"
   ]
  },
  {
   "cell_type": "code",
   "execution_count": null,
   "id": "5de1c948",
   "metadata": {},
   "outputs": [],
   "source": [
    "# Render our plots inline\n",
    "%matplotlib inline\n",
    "%config InlineBackend.figure_format = 'svg'"
   ]
  },
  {
   "cell_type": "code",
   "execution_count": 65,
   "id": "3cdd5c7e",
   "metadata": {},
   "outputs": [],
   "source": [
    "# Import requiered packages\n",
    "import pandas as pd\n",
    "import numpy as np\n",
    "import matplotlib\n",
    "import matplotlib.pyplot as plt\n",
    "import seaborn as sns\n",
    "import plotly.graph_objects as go\n",
    "\n"
   ]
  },
  {
   "cell_type": "markdown",
   "id": "415bf0ac",
   "metadata": {},
   "source": [
    "### Modifying the Style of Graphs\n",
    "Matplotlib provides several built-in styles that can be applied to improve the appearance of plots.  \n",
    "In this tutorial, we will use a combination of [**Seaborn-inspired styles**](https://matplotlib.org/stable/gallery/style_sheets/style_sheets_reference.html?utm_source=chatgpt.com) to produce clear, professional, and visually appealing figures."
   ]
  },
  {
   "cell_type": "code",
   "execution_count": null,
   "id": "2f61b448",
   "metadata": {},
   "outputs": [],
   "source": [
    "# Modifying the style of the graphs\n",
    "matplotlib.style.use(['seaborn-talk', 'seaborn-ticks', 'seaborn-whitegrid'])"
   ]
  },
  {
   "cell_type": "markdown",
   "id": "96731559",
   "metadata": {},
   "source": [
    "## Load the Data\n",
    "\n",
    "We can load a CSV file directly from a URL using **pandas**, or upload it from a local directory.  \n",
    "The `pd.read_csv` function has many options; you can explore them in the [official documentation](http://pandas.pydata.org/pandas-docs/stable/generated/pandas.io.parsers.read_csv.html).  \n",
    "\n",
    "In this tutorial, we will use the [State-Sponsored Cyber Operations (2005-Present)](https://www.kaggle.com/datasets/justin2028/state-sponsored-cyber-operations-2005-present/data) dataset.  \n",
    "This dataset tracks publicly known state-sponsored cyber operations since 2005 and has been compiled from official sources by the Council on Foreign Relations."
   ]
  },
  {
   "cell_type": "code",
   "execution_count": 6,
   "id": "8f9829fe",
   "metadata": {},
   "outputs": [],
   "source": [
    "df = pd.read_csv(\n",
    "    'cyber-operations-incidents.csv',\n",
    "    delimiter=',',      # Define a custom separator (default is ',')\n",
    "    header=0,           # Row to use as column names\n",
    "    index_col=None,     # Column to use as row labels\n",
    "    na_values=['NA'],   # Values to treat as missing\n",
    "    encoding='utf-8'    # File encoding\n",
    ")"
   ]
  },
  {
   "cell_type": "markdown",
   "id": "576d6bfc",
   "metadata": {},
   "source": [
    "### Data Inspection and Basic Statistics\n",
    "\n",
    "Before performing detailed analysis, it is important to **inspect the dataset** and understand its structure.\n",
    "\n",
    "- **Preview the first 5 rows** of the dataset:  "
   ]
  },
  {
   "cell_type": "code",
   "execution_count": 10,
   "id": "a9297f64",
   "metadata": {},
   "outputs": [
    {
     "data": {
      "text/html": [
       "<div>\n",
       "<style scoped>\n",
       "    .dataframe tbody tr th:only-of-type {\n",
       "        vertical-align: middle;\n",
       "    }\n",
       "\n",
       "    .dataframe tbody tr th {\n",
       "        vertical-align: top;\n",
       "    }\n",
       "\n",
       "    .dataframe thead th {\n",
       "        text-align: right;\n",
       "    }\n",
       "</style>\n",
       "<table border=\"1\" class=\"dataframe\">\n",
       "  <thead>\n",
       "    <tr style=\"text-align: right;\">\n",
       "      <th></th>\n",
       "      <th>Title</th>\n",
       "      <th>Date</th>\n",
       "      <th>Affiliations</th>\n",
       "      <th>Description</th>\n",
       "      <th>Response</th>\n",
       "      <th>Victims</th>\n",
       "      <th>Sponsor</th>\n",
       "      <th>Type</th>\n",
       "      <th>Category</th>\n",
       "      <th>Sources_1</th>\n",
       "      <th>Sources_2</th>\n",
       "      <th>Sources_3</th>\n",
       "    </tr>\n",
       "  </thead>\n",
       "  <tbody>\n",
       "    <tr>\n",
       "      <th>0</th>\n",
       "      <td>Targeting of dissidents and opposition politic...</td>\n",
       "      <td>1/20/2022</td>\n",
       "      <td>Believed to be the work of Ghana's government</td>\n",
       "      <td>The Israeli spyware firm NSO Group sold Pegasu...</td>\n",
       "      <td>Denial   https://www.haaretz.com/israel-news/t...</td>\n",
       "      <td>Political dissidents and opposition leaders in...</td>\n",
       "      <td>Ghana</td>\n",
       "      <td>Espionage</td>\n",
       "      <td>Civil society</td>\n",
       "      <td>https://www.haaretz.com/israel-news/tech-news/...</td>\n",
       "      <td>NaN</td>\n",
       "      <td>NaN</td>\n",
       "    </tr>\n",
       "    <tr>\n",
       "      <th>1</th>\n",
       "      <td>Targeting of Ukrainian state entities</td>\n",
       "      <td>3/7/2022</td>\n",
       "      <td>UNC1151</td>\n",
       "      <td>The Belarusian threat actor UNC1151 targeted m...</td>\n",
       "      <td>NaN</td>\n",
       "      <td>Ukrainian state entities</td>\n",
       "      <td>Belarus</td>\n",
       "      <td>Espionage</td>\n",
       "      <td>Government</td>\n",
       "      <td>https://cert.gov.ua/article/37626</td>\n",
       "      <td>NaN</td>\n",
       "      <td>NaN</td>\n",
       "    </tr>\n",
       "    <tr>\n",
       "      <th>2</th>\n",
       "      <td>Targeting of Russian and Belarusian websites</td>\n",
       "      <td>5/4/2022</td>\n",
       "      <td>Ukrainian IT Army</td>\n",
       "      <td>Ukraine?? IT Army compromised Docker Engine ho...</td>\n",
       "      <td>NaN</td>\n",
       "      <td>Russian and Belarusian websites were targeted,...</td>\n",
       "      <td>Ukraine</td>\n",
       "      <td>Denial of service</td>\n",
       "      <td>Government, Private sector, Civil society</td>\n",
       "      <td>https://www.crowdstrike.com/blog/compromised-d...</td>\n",
       "      <td>NaN</td>\n",
       "      <td>NaN</td>\n",
       "    </tr>\n",
       "    <tr>\n",
       "      <th>3</th>\n",
       "      <td>Targeting of the Belgian Federal Public Servic...</td>\n",
       "      <td>7/18/2022</td>\n",
       "      <td>Zirconium</td>\n",
       "      <td>Chinese threat actors targeted the Belgian Fed...</td>\n",
       "      <td>Denouncement   https://diplomatie.belgium.be/e...</td>\n",
       "      <td>Belgian Federal Public Service Interior</td>\n",
       "      <td>China</td>\n",
       "      <td>Espionage</td>\n",
       "      <td>Government</td>\n",
       "      <td>https://diplomatie.belgium.be/en/news/declarat...</td>\n",
       "      <td>https://www.bleepingcomputer.com/news/security...</td>\n",
       "      <td>NaN</td>\n",
       "    </tr>\n",
       "    <tr>\n",
       "      <th>4</th>\n",
       "      <td>Targeting of Ukrainian government agencies</td>\n",
       "      <td>8/11/2022</td>\n",
       "      <td>Gamaredon</td>\n",
       "      <td>The Computer Emergency Response Team of Ukrain...</td>\n",
       "      <td>Confirmation</td>\n",
       "      <td>Ukrainian government agencies</td>\n",
       "      <td>Russian Federation</td>\n",
       "      <td>Espionage</td>\n",
       "      <td>Government</td>\n",
       "      <td>https://cert.gov.ua/article/2681855</td>\n",
       "      <td>NaN</td>\n",
       "      <td>NaN</td>\n",
       "    </tr>\n",
       "  </tbody>\n",
       "</table>\n",
       "</div>"
      ],
      "text/plain": [
       "                                               Title       Date  \\\n",
       "0  Targeting of dissidents and opposition politic...  1/20/2022   \n",
       "1              Targeting of Ukrainian state entities   3/7/2022   \n",
       "2       Targeting of Russian and Belarusian websites   5/4/2022   \n",
       "3  Targeting of the Belgian Federal Public Servic...  7/18/2022   \n",
       "4         Targeting of Ukrainian government agencies  8/11/2022   \n",
       "\n",
       "                                    Affiliations  \\\n",
       "0  Believed to be the work of Ghana's government   \n",
       "1                                        UNC1151   \n",
       "2                              Ukrainian IT Army   \n",
       "3                                      Zirconium   \n",
       "4                                      Gamaredon   \n",
       "\n",
       "                                         Description  \\\n",
       "0  The Israeli spyware firm NSO Group sold Pegasu...   \n",
       "1  The Belarusian threat actor UNC1151 targeted m...   \n",
       "2  Ukraine?? IT Army compromised Docker Engine ho...   \n",
       "3  Chinese threat actors targeted the Belgian Fed...   \n",
       "4  The Computer Emergency Response Team of Ukrain...   \n",
       "\n",
       "                                            Response  \\\n",
       "0  Denial   https://www.haaretz.com/israel-news/t...   \n",
       "1                                                NaN   \n",
       "2                                                NaN   \n",
       "3  Denouncement   https://diplomatie.belgium.be/e...   \n",
       "4                                       Confirmation   \n",
       "\n",
       "                                             Victims             Sponsor  \\\n",
       "0  Political dissidents and opposition leaders in...               Ghana   \n",
       "1                           Ukrainian state entities             Belarus   \n",
       "2  Russian and Belarusian websites were targeted,...             Ukraine   \n",
       "3            Belgian Federal Public Service Interior               China   \n",
       "4                      Ukrainian government agencies  Russian Federation   \n",
       "\n",
       "                Type                                   Category  \\\n",
       "0          Espionage                              Civil society   \n",
       "1          Espionage                                 Government   \n",
       "2  Denial of service  Government, Private sector, Civil society   \n",
       "3          Espionage                                 Government   \n",
       "4          Espionage                                 Government   \n",
       "\n",
       "                                           Sources_1  \\\n",
       "0  https://www.haaretz.com/israel-news/tech-news/...   \n",
       "1                  https://cert.gov.ua/article/37626   \n",
       "2  https://www.crowdstrike.com/blog/compromised-d...   \n",
       "3  https://diplomatie.belgium.be/en/news/declarat...   \n",
       "4                https://cert.gov.ua/article/2681855   \n",
       "\n",
       "                                           Sources_2 Sources_3  \n",
       "0                                                NaN       NaN  \n",
       "1                                                NaN       NaN  \n",
       "2                                                NaN       NaN  \n",
       "3  https://www.bleepingcomputer.com/news/security...       NaN  \n",
       "4                                                NaN       NaN  "
      ]
     },
     "execution_count": 10,
     "metadata": {},
     "output_type": "execute_result"
    }
   ],
   "source": [
    "df.head()\n"
   ]
  },
  {
   "cell_type": "markdown",
   "id": "eefc824d",
   "metadata": {},
   "source": [
    "- **Preview the last 2 rows** of the dataset:\n"
   ]
  },
  {
   "cell_type": "code",
   "execution_count": 14,
   "id": "567c9a1f",
   "metadata": {},
   "outputs": [
    {
     "data": {
      "text/html": [
       "<div>\n",
       "<style scoped>\n",
       "    .dataframe tbody tr th:only-of-type {\n",
       "        vertical-align: middle;\n",
       "    }\n",
       "\n",
       "    .dataframe tbody tr th {\n",
       "        vertical-align: top;\n",
       "    }\n",
       "\n",
       "    .dataframe thead th {\n",
       "        text-align: right;\n",
       "    }\n",
       "</style>\n",
       "<table border=\"1\" class=\"dataframe\">\n",
       "  <thead>\n",
       "    <tr style=\"text-align: right;\">\n",
       "      <th></th>\n",
       "      <th>Title</th>\n",
       "      <th>Date</th>\n",
       "      <th>Affiliations</th>\n",
       "      <th>Description</th>\n",
       "      <th>Response</th>\n",
       "      <th>Victims</th>\n",
       "      <th>Sponsor</th>\n",
       "      <th>Type</th>\n",
       "      <th>Category</th>\n",
       "      <th>Sources_1</th>\n",
       "      <th>Sources_2</th>\n",
       "      <th>Sources_3</th>\n",
       "    </tr>\n",
       "  </thead>\n",
       "  <tbody>\n",
       "    <tr>\n",
       "      <th>766</th>\n",
       "      <td>Trisis</td>\n",
       "      <td>NaN</td>\n",
       "      <td>Also known as Triton and Xenotime</td>\n",
       "      <td>This threat actor targets the Triconex safety ...</td>\n",
       "      <td>Confirmation   https://www.justice.gov/opa/pr/...</td>\n",
       "      <td>Saudi Arabia</td>\n",
       "      <td>Russian Federation</td>\n",
       "      <td>Sabotage</td>\n",
       "      <td>Private sector</td>\n",
       "      <td>https://www.fireeye.com/blog/threat-research/2...</td>\n",
       "      <td>https://www.fireeye.com/blog/threat-research/2...</td>\n",
       "      <td>https://dragos.com/blog/trisis/TRISIS-01.pdf</td>\n",
       "    </tr>\n",
       "    <tr>\n",
       "      <th>767</th>\n",
       "      <td>Targeting of the Belgian Federal Public Servic...</td>\n",
       "      <td>NaN</td>\n",
       "      <td>APT 30</td>\n",
       "      <td>Chinese threat actors targeted the Belgian Fed...</td>\n",
       "      <td>Denouncement   https://diplomatie.belgium.be/e...</td>\n",
       "      <td>Belgian Federal Public Service Interior</td>\n",
       "      <td>China</td>\n",
       "      <td>Espionage</td>\n",
       "      <td>Government</td>\n",
       "      <td>https://diplomatie.belgium.be/en/news/declarat...</td>\n",
       "      <td>https://www.bleepingcomputer.com/news/security...</td>\n",
       "      <td>NaN</td>\n",
       "    </tr>\n",
       "  </tbody>\n",
       "</table>\n",
       "</div>"
      ],
      "text/plain": [
       "                                                 Title Date  \\\n",
       "766                                             Trisis  NaN   \n",
       "767  Targeting of the Belgian Federal Public Servic...  NaN   \n",
       "\n",
       "                          Affiliations  \\\n",
       "766  Also known as Triton and Xenotime   \n",
       "767                             APT 30   \n",
       "\n",
       "                                           Description  \\\n",
       "766  This threat actor targets the Triconex safety ...   \n",
       "767  Chinese threat actors targeted the Belgian Fed...   \n",
       "\n",
       "                                              Response  \\\n",
       "766  Confirmation   https://www.justice.gov/opa/pr/...   \n",
       "767  Denouncement   https://diplomatie.belgium.be/e...   \n",
       "\n",
       "                                     Victims             Sponsor       Type  \\\n",
       "766                             Saudi Arabia  Russian Federation   Sabotage   \n",
       "767  Belgian Federal Public Service Interior               China  Espionage   \n",
       "\n",
       "           Category                                          Sources_1  \\\n",
       "766  Private sector  https://www.fireeye.com/blog/threat-research/2...   \n",
       "767      Government  https://diplomatie.belgium.be/en/news/declarat...   \n",
       "\n",
       "                                             Sources_2  \\\n",
       "766  https://www.fireeye.com/blog/threat-research/2...   \n",
       "767  https://www.bleepingcomputer.com/news/security...   \n",
       "\n",
       "                                        Sources_3  \n",
       "766  https://dragos.com/blog/trisis/TRISIS-01.pdf  \n",
       "767                                           NaN  "
      ]
     },
     "execution_count": 14,
     "metadata": {},
     "output_type": "execute_result"
    }
   ],
   "source": [
    "df.tail(2)"
   ]
  },
  {
   "cell_type": "markdown",
   "id": "f145e5d9",
   "metadata": {},
   "source": [
    "- **Selecting specific rows:** You can extract a subset of rows using slicing.  \n",
    "  For example, to select rows 3 to 6 (inclusive of 3, exclusive of 7):"
   ]
  },
  {
   "cell_type": "code",
   "execution_count": 19,
   "id": "3de65c74",
   "metadata": {},
   "outputs": [
    {
     "data": {
      "text/html": [
       "<div>\n",
       "<style scoped>\n",
       "    .dataframe tbody tr th:only-of-type {\n",
       "        vertical-align: middle;\n",
       "    }\n",
       "\n",
       "    .dataframe tbody tr th {\n",
       "        vertical-align: top;\n",
       "    }\n",
       "\n",
       "    .dataframe thead th {\n",
       "        text-align: right;\n",
       "    }\n",
       "</style>\n",
       "<table border=\"1\" class=\"dataframe\">\n",
       "  <thead>\n",
       "    <tr style=\"text-align: right;\">\n",
       "      <th></th>\n",
       "      <th>Title</th>\n",
       "      <th>Date</th>\n",
       "      <th>Affiliations</th>\n",
       "      <th>Description</th>\n",
       "      <th>Response</th>\n",
       "      <th>Victims</th>\n",
       "      <th>Sponsor</th>\n",
       "      <th>Type</th>\n",
       "      <th>Category</th>\n",
       "      <th>Sources_1</th>\n",
       "      <th>Sources_2</th>\n",
       "      <th>Sources_3</th>\n",
       "    </tr>\n",
       "  </thead>\n",
       "  <tbody>\n",
       "    <tr>\n",
       "      <th>3</th>\n",
       "      <td>Targeting of the Belgian Federal Public Servic...</td>\n",
       "      <td>7/18/2022</td>\n",
       "      <td>Zirconium</td>\n",
       "      <td>Chinese threat actors targeted the Belgian Fed...</td>\n",
       "      <td>Denouncement   https://diplomatie.belgium.be/e...</td>\n",
       "      <td>Belgian Federal Public Service Interior</td>\n",
       "      <td>China</td>\n",
       "      <td>Espionage</td>\n",
       "      <td>Government</td>\n",
       "      <td>https://diplomatie.belgium.be/en/news/declarat...</td>\n",
       "      <td>https://www.bleepingcomputer.com/news/security...</td>\n",
       "      <td>NaN</td>\n",
       "    </tr>\n",
       "    <tr>\n",
       "      <th>4</th>\n",
       "      <td>Targeting of Ukrainian government agencies</td>\n",
       "      <td>8/11/2022</td>\n",
       "      <td>Gamaredon</td>\n",
       "      <td>The Computer Emergency Response Team of Ukrain...</td>\n",
       "      <td>Confirmation</td>\n",
       "      <td>Ukrainian government agencies</td>\n",
       "      <td>Russian Federation</td>\n",
       "      <td>Espionage</td>\n",
       "      <td>Government</td>\n",
       "      <td>https://cert.gov.ua/article/2681855</td>\n",
       "      <td>NaN</td>\n",
       "      <td>NaN</td>\n",
       "    </tr>\n",
       "    <tr>\n",
       "      <th>5</th>\n",
       "      <td>Targeting of Palestinian entities and activists</td>\n",
       "      <td>2/2/2022</td>\n",
       "      <td>APT-C-23</td>\n",
       "      <td>The Hamas-linked threat actor APT-C-23 used ma...</td>\n",
       "      <td>NaN</td>\n",
       "      <td>NaN</td>\n",
       "      <td>NaN</td>\n",
       "      <td>Espionage</td>\n",
       "      <td>Civil society</td>\n",
       "      <td>https://www.cyberscoop.com/palestinian-targete...</td>\n",
       "      <td>https://blog.talosintelligence.com/2022/02/ari...</td>\n",
       "      <td>NaN</td>\n",
       "    </tr>\n",
       "    <tr>\n",
       "      <th>6</th>\n",
       "      <td>Targeting of government agencies in the Europe...</td>\n",
       "      <td>4/5/2022</td>\n",
       "      <td>Gamaredon</td>\n",
       "      <td>Russian threat actor Gamaredon targeted Ukrain...</td>\n",
       "      <td>Confirmation   https://cert.gov.ua/article/39086</td>\n",
       "      <td>Government agencies of EU member states</td>\n",
       "      <td>Russian Federation</td>\n",
       "      <td>Espionage</td>\n",
       "      <td>Government</td>\n",
       "      <td>https://www.bleepingcomputer.com/news/security...</td>\n",
       "      <td>NaN</td>\n",
       "      <td>NaN</td>\n",
       "    </tr>\n",
       "  </tbody>\n",
       "</table>\n",
       "</div>"
      ],
      "text/plain": [
       "                                               Title       Date Affiliations  \\\n",
       "3  Targeting of the Belgian Federal Public Servic...  7/18/2022    Zirconium   \n",
       "4         Targeting of Ukrainian government agencies  8/11/2022    Gamaredon   \n",
       "5    Targeting of Palestinian entities and activists   2/2/2022     APT-C-23   \n",
       "6  Targeting of government agencies in the Europe...   4/5/2022    Gamaredon   \n",
       "\n",
       "                                         Description  \\\n",
       "3  Chinese threat actors targeted the Belgian Fed...   \n",
       "4  The Computer Emergency Response Team of Ukrain...   \n",
       "5  The Hamas-linked threat actor APT-C-23 used ma...   \n",
       "6  Russian threat actor Gamaredon targeted Ukrain...   \n",
       "\n",
       "                                            Response  \\\n",
       "3  Denouncement   https://diplomatie.belgium.be/e...   \n",
       "4                                       Confirmation   \n",
       "5                                                NaN   \n",
       "6   Confirmation   https://cert.gov.ua/article/39086   \n",
       "\n",
       "                                   Victims             Sponsor       Type  \\\n",
       "3  Belgian Federal Public Service Interior               China  Espionage   \n",
       "4            Ukrainian government agencies  Russian Federation  Espionage   \n",
       "5                                      NaN                 NaN  Espionage   \n",
       "6  Government agencies of EU member states  Russian Federation  Espionage   \n",
       "\n",
       "        Category                                          Sources_1  \\\n",
       "3     Government  https://diplomatie.belgium.be/en/news/declarat...   \n",
       "4     Government                https://cert.gov.ua/article/2681855   \n",
       "5  Civil society  https://www.cyberscoop.com/palestinian-targete...   \n",
       "6     Government  https://www.bleepingcomputer.com/news/security...   \n",
       "\n",
       "                                           Sources_2 Sources_3  \n",
       "3  https://www.bleepingcomputer.com/news/security...       NaN  \n",
       "4                                                NaN       NaN  \n",
       "5  https://blog.talosintelligence.com/2022/02/ari...       NaN  \n",
       "6                                                NaN       NaN  "
      ]
     },
     "execution_count": 19,
     "metadata": {},
     "output_type": "execute_result"
    }
   ],
   "source": [
    "df[3:7]"
   ]
  },
  {
   "cell_type": "markdown",
   "id": "ab38abf9",
   "metadata": {},
   "source": [
    "- **By label using `df.loc`:** Selects rows and columns by their names or index labels.  \n",
    "    Example: Select rows 3 to 7 and the columns `\"Title\"`, `\"Date\"`, and `\"Sponsor\"`:\n"
   ]
  },
  {
   "cell_type": "code",
   "execution_count": 20,
   "id": "43ed6808",
   "metadata": {},
   "outputs": [
    {
     "data": {
      "text/html": [
       "<div>\n",
       "<style scoped>\n",
       "    .dataframe tbody tr th:only-of-type {\n",
       "        vertical-align: middle;\n",
       "    }\n",
       "\n",
       "    .dataframe tbody tr th {\n",
       "        vertical-align: top;\n",
       "    }\n",
       "\n",
       "    .dataframe thead th {\n",
       "        text-align: right;\n",
       "    }\n",
       "</style>\n",
       "<table border=\"1\" class=\"dataframe\">\n",
       "  <thead>\n",
       "    <tr style=\"text-align: right;\">\n",
       "      <th></th>\n",
       "      <th>Title</th>\n",
       "      <th>Date</th>\n",
       "      <th>Sponsor</th>\n",
       "    </tr>\n",
       "  </thead>\n",
       "  <tbody>\n",
       "    <tr>\n",
       "      <th>3</th>\n",
       "      <td>Targeting of the Belgian Federal Public Servic...</td>\n",
       "      <td>7/18/2022</td>\n",
       "      <td>China</td>\n",
       "    </tr>\n",
       "    <tr>\n",
       "      <th>4</th>\n",
       "      <td>Targeting of Ukrainian government agencies</td>\n",
       "      <td>8/11/2022</td>\n",
       "      <td>Russian Federation</td>\n",
       "    </tr>\n",
       "    <tr>\n",
       "      <th>5</th>\n",
       "      <td>Targeting of Palestinian entities and activists</td>\n",
       "      <td>2/2/2022</td>\n",
       "      <td>NaN</td>\n",
       "    </tr>\n",
       "    <tr>\n",
       "      <th>6</th>\n",
       "      <td>Targeting of government agencies in the Europe...</td>\n",
       "      <td>4/5/2022</td>\n",
       "      <td>Russian Federation</td>\n",
       "    </tr>\n",
       "    <tr>\n",
       "      <th>7</th>\n",
       "      <td>Targeting of Rostec</td>\n",
       "      <td>5/19/2022</td>\n",
       "      <td>China</td>\n",
       "    </tr>\n",
       "  </tbody>\n",
       "</table>\n",
       "</div>"
      ],
      "text/plain": [
       "                                               Title       Date  \\\n",
       "3  Targeting of the Belgian Federal Public Servic...  7/18/2022   \n",
       "4         Targeting of Ukrainian government agencies  8/11/2022   \n",
       "5    Targeting of Palestinian entities and activists   2/2/2022   \n",
       "6  Targeting of government agencies in the Europe...   4/5/2022   \n",
       "7                                Targeting of Rostec  5/19/2022   \n",
       "\n",
       "              Sponsor  \n",
       "3               China  \n",
       "4  Russian Federation  \n",
       "5                 NaN  \n",
       "6  Russian Federation  \n",
       "7               China  "
      ]
     },
     "execution_count": 20,
     "metadata": {},
     "output_type": "execute_result"
    }
   ],
   "source": [
    "df.loc[3:7, [\"Title\", \"Date\", \"Sponsor\"]]"
   ]
  },
  {
   "cell_type": "markdown",
   "id": "564f41a2",
   "metadata": {},
   "source": [
    "  - **By position using `df.iloc`:** Selects rows and columns by integer index positions.  \n",
    "    Example: Select rows 0, 1, 3, 4, 6 and columns 0 to 2:"
   ]
  },
  {
   "cell_type": "code",
   "execution_count": 27,
   "id": "0e6050a2",
   "metadata": {},
   "outputs": [
    {
     "data": {
      "text/html": [
       "<div>\n",
       "<style scoped>\n",
       "    .dataframe tbody tr th:only-of-type {\n",
       "        vertical-align: middle;\n",
       "    }\n",
       "\n",
       "    .dataframe tbody tr th {\n",
       "        vertical-align: top;\n",
       "    }\n",
       "\n",
       "    .dataframe thead th {\n",
       "        text-align: right;\n",
       "    }\n",
       "</style>\n",
       "<table border=\"1\" class=\"dataframe\">\n",
       "  <thead>\n",
       "    <tr style=\"text-align: right;\">\n",
       "      <th></th>\n",
       "      <th>Title</th>\n",
       "      <th>Date</th>\n",
       "      <th>Affiliations</th>\n",
       "    </tr>\n",
       "  </thead>\n",
       "  <tbody>\n",
       "    <tr>\n",
       "      <th>0</th>\n",
       "      <td>Targeting of dissidents and opposition politic...</td>\n",
       "      <td>1/20/2022</td>\n",
       "      <td>Believed to be the work of Ghana's government</td>\n",
       "    </tr>\n",
       "    <tr>\n",
       "      <th>1</th>\n",
       "      <td>Targeting of Ukrainian state entities</td>\n",
       "      <td>3/7/2022</td>\n",
       "      <td>UNC1151</td>\n",
       "    </tr>\n",
       "    <tr>\n",
       "      <th>3</th>\n",
       "      <td>Targeting of the Belgian Federal Public Servic...</td>\n",
       "      <td>7/18/2022</td>\n",
       "      <td>Zirconium</td>\n",
       "    </tr>\n",
       "    <tr>\n",
       "      <th>4</th>\n",
       "      <td>Targeting of Ukrainian government agencies</td>\n",
       "      <td>8/11/2022</td>\n",
       "      <td>Gamaredon</td>\n",
       "    </tr>\n",
       "    <tr>\n",
       "      <th>6</th>\n",
       "      <td>Targeting of government agencies in the Europe...</td>\n",
       "      <td>4/5/2022</td>\n",
       "      <td>Gamaredon</td>\n",
       "    </tr>\n",
       "  </tbody>\n",
       "</table>\n",
       "</div>"
      ],
      "text/plain": [
       "                                               Title       Date  \\\n",
       "0  Targeting of dissidents and opposition politic...  1/20/2022   \n",
       "1              Targeting of Ukrainian state entities   3/7/2022   \n",
       "3  Targeting of the Belgian Federal Public Servic...  7/18/2022   \n",
       "4         Targeting of Ukrainian government agencies  8/11/2022   \n",
       "6  Targeting of government agencies in the Europe...   4/5/2022   \n",
       "\n",
       "                                    Affiliations  \n",
       "0  Believed to be the work of Ghana's government  \n",
       "1                                        UNC1151  \n",
       "3                                      Zirconium  \n",
       "4                                      Gamaredon  \n",
       "6                                      Gamaredon  "
      ]
     },
     "execution_count": 27,
     "metadata": {},
     "output_type": "execute_result"
    }
   ],
   "source": [
    "df.iloc[[0,1,3,4,6], 0:3]"
   ]
  },
  {
   "cell_type": "markdown",
   "id": "5943b01f",
   "metadata": {},
   "source": [
    "-  **Obtain a concise summary** of the dataset, including column names, non-null counts, and data types:"
   ]
  },
  {
   "cell_type": "code",
   "execution_count": 12,
   "id": "11c3bb36",
   "metadata": {},
   "outputs": [
    {
     "name": "stdout",
     "output_type": "stream",
     "text": [
      "<class 'pandas.core.frame.DataFrame'>\n",
      "RangeIndex: 768 entries, 0 to 767\n",
      "Data columns (total 12 columns):\n",
      " #   Column        Non-Null Count  Dtype \n",
      "---  ------        --------------  ----- \n",
      " 0   Title         768 non-null    object\n",
      " 1   Date          753 non-null    object\n",
      " 2   Affiliations  621 non-null    object\n",
      " 3   Description   768 non-null    object\n",
      " 4   Response      186 non-null    object\n",
      " 5   Victims       741 non-null    object\n",
      " 6   Sponsor       728 non-null    object\n",
      " 7   Type          731 non-null    object\n",
      " 8   Category      743 non-null    object\n",
      " 9   Sources_1     763 non-null    object\n",
      " 10  Sources_2     488 non-null    object\n",
      " 11  Sources_3     190 non-null    object\n",
      "dtypes: object(12)\n",
      "memory usage: 72.1+ KB\n"
     ]
    }
   ],
   "source": [
    "df.info()"
   ]
  },
  {
   "cell_type": "markdown",
   "id": "d071ea12",
   "metadata": {},
   "source": [
    "- **Generate descriptive statistics** for all numeric columns, such as mean, standard deviation, minimum, and maximum values:"
   ]
  },
  {
   "cell_type": "code",
   "execution_count": 8,
   "id": "10fc63ab",
   "metadata": {},
   "outputs": [
    {
     "data": {
      "text/html": [
       "<div>\n",
       "<style scoped>\n",
       "    .dataframe tbody tr th:only-of-type {\n",
       "        vertical-align: middle;\n",
       "    }\n",
       "\n",
       "    .dataframe tbody tr th {\n",
       "        vertical-align: top;\n",
       "    }\n",
       "\n",
       "    .dataframe thead th {\n",
       "        text-align: right;\n",
       "    }\n",
       "</style>\n",
       "<table border=\"1\" class=\"dataframe\">\n",
       "  <thead>\n",
       "    <tr style=\"text-align: right;\">\n",
       "      <th></th>\n",
       "      <th>Title</th>\n",
       "      <th>Date</th>\n",
       "      <th>Affiliations</th>\n",
       "      <th>Description</th>\n",
       "      <th>Response</th>\n",
       "      <th>Victims</th>\n",
       "      <th>Sponsor</th>\n",
       "      <th>Type</th>\n",
       "      <th>Category</th>\n",
       "      <th>Sources_1</th>\n",
       "      <th>Sources_2</th>\n",
       "      <th>Sources_3</th>\n",
       "    </tr>\n",
       "  </thead>\n",
       "  <tbody>\n",
       "    <tr>\n",
       "      <th>count</th>\n",
       "      <td>768</td>\n",
       "      <td>753</td>\n",
       "      <td>621</td>\n",
       "      <td>768</td>\n",
       "      <td>186</td>\n",
       "      <td>741</td>\n",
       "      <td>728</td>\n",
       "      <td>731</td>\n",
       "      <td>743</td>\n",
       "      <td>763</td>\n",
       "      <td>488</td>\n",
       "      <td>190</td>\n",
       "    </tr>\n",
       "    <tr>\n",
       "      <th>unique</th>\n",
       "      <td>764</td>\n",
       "      <td>603</td>\n",
       "      <td>377</td>\n",
       "      <td>767</td>\n",
       "      <td>128</td>\n",
       "      <td>657</td>\n",
       "      <td>61</td>\n",
       "      <td>12</td>\n",
       "      <td>35</td>\n",
       "      <td>715</td>\n",
       "      <td>470</td>\n",
       "      <td>186</td>\n",
       "    </tr>\n",
       "    <tr>\n",
       "      <th>top</th>\n",
       "      <td>Targeting of Southeast Asian telecommunication...</td>\n",
       "      <td>10/4/2018</td>\n",
       "      <td>Lazarus Group</td>\n",
       "      <td>Chinese threat actors targeted the Belgian Fed...</td>\n",
       "      <td>Unknown</td>\n",
       "      <td>United States</td>\n",
       "      <td>China</td>\n",
       "      <td>Espionage</td>\n",
       "      <td>Private sector</td>\n",
       "      <td>https://blogs.microsoft.com/on-the-issues/2020...</td>\n",
       "      <td>https://www.bleepingcomputer.com/news/security...</td>\n",
       "      <td>https://www.fireeye.com/content/dam/fireeye-ww...</td>\n",
       "    </tr>\n",
       "    <tr>\n",
       "      <th>freq</th>\n",
       "      <td>2</td>\n",
       "      <td>6</td>\n",
       "      <td>26</td>\n",
       "      <td>2</td>\n",
       "      <td>47</td>\n",
       "      <td>21</td>\n",
       "      <td>263</td>\n",
       "      <td>608</td>\n",
       "      <td>199</td>\n",
       "      <td>5</td>\n",
       "      <td>3</td>\n",
       "      <td>2</td>\n",
       "    </tr>\n",
       "  </tbody>\n",
       "</table>\n",
       "</div>"
      ],
      "text/plain": [
       "                                                    Title       Date  \\\n",
       "count                                                 768        753   \n",
       "unique                                                764        603   \n",
       "top     Targeting of Southeast Asian telecommunication...  10/4/2018   \n",
       "freq                                                    2          6   \n",
       "\n",
       "         Affiliations                                        Description  \\\n",
       "count             621                                                768   \n",
       "unique            377                                                767   \n",
       "top     Lazarus Group  Chinese threat actors targeted the Belgian Fed...   \n",
       "freq               26                                                  2   \n",
       "\n",
       "       Response        Victims Sponsor       Type        Category  \\\n",
       "count       186            741     728        731             743   \n",
       "unique      128            657      61         12              35   \n",
       "top     Unknown  United States   China  Espionage  Private sector   \n",
       "freq         47             21     263        608             199   \n",
       "\n",
       "                                                Sources_1  \\\n",
       "count                                                 763   \n",
       "unique                                                715   \n",
       "top     https://blogs.microsoft.com/on-the-issues/2020...   \n",
       "freq                                                    5   \n",
       "\n",
       "                                                Sources_2  \\\n",
       "count                                                 488   \n",
       "unique                                                470   \n",
       "top     https://www.bleepingcomputer.com/news/security...   \n",
       "freq                                                    3   \n",
       "\n",
       "                                                Sources_3  \n",
       "count                                                 190  \n",
       "unique                                                186  \n",
       "top     https://www.fireeye.com/content/dam/fireeye-ww...  \n",
       "freq                                                    2  "
      ]
     },
     "execution_count": 8,
     "metadata": {},
     "output_type": "execute_result"
    }
   ],
   "source": [
    "df.describe()"
   ]
  },
  {
   "cell_type": "markdown",
   "id": "9ba2a3ee",
   "metadata": {},
   "source": [
    "- The dataset contains **768 rows** and **12 columns**:"
   ]
  },
  {
   "cell_type": "code",
   "execution_count": 9,
   "id": "c626e10d",
   "metadata": {},
   "outputs": [
    {
     "data": {
      "text/plain": [
       "(768, 12)"
      ]
     },
     "execution_count": 9,
     "metadata": {},
     "output_type": "execute_result"
    }
   ],
   "source": [
    "df.shape"
   ]
  },
  {
   "cell_type": "code",
   "execution_count": 15,
   "id": "c82025b3",
   "metadata": {},
   "outputs": [
    {
     "data": {
      "text/plain": [
       "768"
      ]
     },
     "execution_count": 15,
     "metadata": {},
     "output_type": "execute_result"
    }
   ],
   "source": [
    "# Number of rows/observations - the data numerosity\n",
    "df.shape[0]"
   ]
  },
  {
   "cell_type": "code",
   "execution_count": 16,
   "id": "dd859edb",
   "metadata": {},
   "outputs": [
    {
     "data": {
      "text/plain": [
       "12"
      ]
     },
     "execution_count": 16,
     "metadata": {},
     "output_type": "execute_result"
    }
   ],
   "source": [
    "# Number of features/column/attributes - the data dimensionality\n",
    "df.shape[1]"
   ]
  },
  {
   "cell_type": "markdown",
   "id": "454ec317",
   "metadata": {},
   "source": [
    "These commands provide a first overview of the data, helping identify missing values, data types, and key summary statistics."
   ]
  },
  {
   "cell_type": "markdown",
   "id": "1e25763d",
   "metadata": {},
   "source": [
    "## Data Cleaning and Preparation\n",
    "We can **list all columns** and **check their data types** using:\n"
   ]
  },
  {
   "cell_type": "code",
   "execution_count": 17,
   "id": "67d5ab9b",
   "metadata": {},
   "outputs": [
    {
     "data": {
      "text/plain": [
       "Index(['Title', 'Date', 'Affiliations', 'Description', 'Response', 'Victims',\n",
       "       'Sponsor', 'Type', 'Category', 'Sources_1', 'Sources_2', 'Sources_3'],\n",
       "      dtype='object')"
      ]
     },
     "execution_count": 17,
     "metadata": {},
     "output_type": "execute_result"
    }
   ],
   "source": [
    "df.columns"
   ]
  },
  {
   "cell_type": "code",
   "execution_count": 18,
   "id": "63835d5f",
   "metadata": {},
   "outputs": [
    {
     "data": {
      "text/plain": [
       "Title           object\n",
       "Date            object\n",
       "Affiliations    object\n",
       "Description     object\n",
       "Response        object\n",
       "Victims         object\n",
       "Sponsor         object\n",
       "Type            object\n",
       "Category        object\n",
       "Sources_1       object\n",
       "Sources_2       object\n",
       "Sources_3       object\n",
       "dtype: object"
      ]
     },
     "execution_count": 18,
     "metadata": {},
     "output_type": "execute_result"
    }
   ],
   "source": [
    "df.dtypes"
   ]
  },
  {
   "cell_type": "markdown",
   "id": "1ddcd702",
   "metadata": {},
   "source": [
    "- Columns with the data type `object` are strings.  \n",
    "- Some columns, such as dates, are better represented in a proper **datetime format**.  \n",
    "- To convert strings to datetime, we can use `pd.to_datetime`. Before doing so, it is important to understand **Python date parsing conventions**. See the [official documentation](https://docs.python.org/3/library/datetime.html#strftime-and-strptime-behavior) for reference.  \n",
    "\n",
    "- Relevant formatting codes include:\n",
    "  - `%m` – Month as a zero-padded decimal number  \n",
    "  - `%d` – Day of the month as a zero-padded decimal number  \n",
    "  - `%Y` – Year with century as a decimal number"
   ]
  },
  {
   "cell_type": "code",
   "execution_count": 32,
   "id": "e3d13494",
   "metadata": {},
   "outputs": [
    {
     "data": {
      "text/plain": [
       "Title                   object\n",
       "Date            datetime64[ns]\n",
       "Affiliations            object\n",
       "Description             object\n",
       "Response                object\n",
       "Victims                 object\n",
       "Sponsor                 object\n",
       "Type                    object\n",
       "Category                object\n",
       "Sources_1               object\n",
       "Sources_2               object\n",
       "Sources_3               object\n",
       "dtype: object"
      ]
     },
     "execution_count": 32,
     "metadata": {},
     "output_type": "execute_result"
    }
   ],
   "source": [
    "df[\"Date\"] = pd.to_datetime(df[\"Date\"], format=\"%m/%d/%Y\")\n",
    "df.dtypes\n"
   ]
  },
  {
   "cell_type": "code",
   "execution_count": 31,
   "id": "487e3eba",
   "metadata": {},
   "outputs": [
    {
     "data": {
      "text/html": [
       "<div>\n",
       "<style scoped>\n",
       "    .dataframe tbody tr th:only-of-type {\n",
       "        vertical-align: middle;\n",
       "    }\n",
       "\n",
       "    .dataframe tbody tr th {\n",
       "        vertical-align: top;\n",
       "    }\n",
       "\n",
       "    .dataframe thead th {\n",
       "        text-align: right;\n",
       "    }\n",
       "</style>\n",
       "<table border=\"1\" class=\"dataframe\">\n",
       "  <thead>\n",
       "    <tr style=\"text-align: right;\">\n",
       "      <th></th>\n",
       "      <th>Title</th>\n",
       "      <th>Date</th>\n",
       "      <th>Affiliations</th>\n",
       "      <th>Description</th>\n",
       "      <th>Response</th>\n",
       "      <th>Victims</th>\n",
       "      <th>Sponsor</th>\n",
       "      <th>Type</th>\n",
       "      <th>Category</th>\n",
       "      <th>Sources_1</th>\n",
       "      <th>Sources_2</th>\n",
       "      <th>Sources_3</th>\n",
       "    </tr>\n",
       "  </thead>\n",
       "  <tbody>\n",
       "    <tr>\n",
       "      <th>0</th>\n",
       "      <td>Targeting of dissidents and opposition politic...</td>\n",
       "      <td>2022-01-20</td>\n",
       "      <td>Believed to be the work of Ghana's government</td>\n",
       "      <td>The Israeli spyware firm NSO Group sold Pegasu...</td>\n",
       "      <td>Denial   https://www.haaretz.com/israel-news/t...</td>\n",
       "      <td>Political dissidents and opposition leaders in...</td>\n",
       "      <td>Ghana</td>\n",
       "      <td>Espionage</td>\n",
       "      <td>Civil society</td>\n",
       "      <td>https://www.haaretz.com/israel-news/tech-news/...</td>\n",
       "      <td>NaN</td>\n",
       "      <td>NaN</td>\n",
       "    </tr>\n",
       "    <tr>\n",
       "      <th>1</th>\n",
       "      <td>Targeting of Ukrainian state entities</td>\n",
       "      <td>2022-03-07</td>\n",
       "      <td>UNC1151</td>\n",
       "      <td>The Belarusian threat actor UNC1151 targeted m...</td>\n",
       "      <td>NaN</td>\n",
       "      <td>Ukrainian state entities</td>\n",
       "      <td>Belarus</td>\n",
       "      <td>Espionage</td>\n",
       "      <td>Government</td>\n",
       "      <td>https://cert.gov.ua/article/37626</td>\n",
       "      <td>NaN</td>\n",
       "      <td>NaN</td>\n",
       "    </tr>\n",
       "  </tbody>\n",
       "</table>\n",
       "</div>"
      ],
      "text/plain": [
       "                                               Title       Date  \\\n",
       "0  Targeting of dissidents and opposition politic... 2022-01-20   \n",
       "1              Targeting of Ukrainian state entities 2022-03-07   \n",
       "\n",
       "                                    Affiliations  \\\n",
       "0  Believed to be the work of Ghana's government   \n",
       "1                                        UNC1151   \n",
       "\n",
       "                                         Description  \\\n",
       "0  The Israeli spyware firm NSO Group sold Pegasu...   \n",
       "1  The Belarusian threat actor UNC1151 targeted m...   \n",
       "\n",
       "                                            Response  \\\n",
       "0  Denial   https://www.haaretz.com/israel-news/t...   \n",
       "1                                                NaN   \n",
       "\n",
       "                                             Victims  Sponsor       Type  \\\n",
       "0  Political dissidents and opposition leaders in...    Ghana  Espionage   \n",
       "1                           Ukrainian state entities  Belarus  Espionage   \n",
       "\n",
       "        Category                                          Sources_1 Sources_2  \\\n",
       "0  Civil society  https://www.haaretz.com/israel-news/tech-news/...       NaN   \n",
       "1     Government                  https://cert.gov.ua/article/37626       NaN   \n",
       "\n",
       "  Sources_3  \n",
       "0       NaN  \n",
       "1       NaN  "
      ]
     },
     "execution_count": 31,
     "metadata": {},
     "output_type": "execute_result"
    }
   ],
   "source": [
    "df.head(2)"
   ]
  },
  {
   "cell_type": "markdown",
   "id": "cf36b696",
   "metadata": {},
   "source": []
  },
  {
   "cell_type": "code",
   "execution_count": 48,
   "id": "fa22d149",
   "metadata": {},
   "outputs": [
    {
     "data": {
      "text/html": [
       "<div>\n",
       "<style scoped>\n",
       "    .dataframe tbody tr th:only-of-type {\n",
       "        vertical-align: middle;\n",
       "    }\n",
       "\n",
       "    .dataframe tbody tr th {\n",
       "        vertical-align: top;\n",
       "    }\n",
       "\n",
       "    .dataframe thead th {\n",
       "        text-align: right;\n",
       "    }\n",
       "</style>\n",
       "<table border=\"1\" class=\"dataframe\">\n",
       "  <thead>\n",
       "    <tr style=\"text-align: right;\">\n",
       "      <th></th>\n",
       "      <th>Title</th>\n",
       "      <th>Date</th>\n",
       "      <th>Affiliations</th>\n",
       "      <th>Description</th>\n",
       "      <th>Response</th>\n",
       "      <th>Victims</th>\n",
       "      <th>Sponsor</th>\n",
       "      <th>Type</th>\n",
       "      <th>Category</th>\n",
       "      <th>Sources_1</th>\n",
       "      <th>Sources_2</th>\n",
       "      <th>Sources_3</th>\n",
       "    </tr>\n",
       "  </thead>\n",
       "  <tbody>\n",
       "  </tbody>\n",
       "</table>\n",
       "</div>"
      ],
      "text/plain": [
       "Empty DataFrame\n",
       "Columns: [Title, Date, Affiliations, Description, Response, Victims, Sponsor, Type, Category, Sources_1, Sources_2, Sources_3]\n",
       "Index: []"
      ]
     },
     "execution_count": 48,
     "metadata": {},
     "output_type": "execute_result"
    }
   ],
   "source": [
    "df[df.duplicated()==True]\n"
   ]
  },
  {
   "cell_type": "markdown",
   "id": "ae3a05e2",
   "metadata": {},
   "source": []
  },
  {
   "cell_type": "code",
   "execution_count": 49,
   "id": "918d82b2",
   "metadata": {},
   "outputs": [
    {
     "data": {
      "text/html": [
       "<div>\n",
       "<style scoped>\n",
       "    .dataframe tbody tr th:only-of-type {\n",
       "        vertical-align: middle;\n",
       "    }\n",
       "\n",
       "    .dataframe tbody tr th {\n",
       "        vertical-align: top;\n",
       "    }\n",
       "\n",
       "    .dataframe thead th {\n",
       "        text-align: right;\n",
       "    }\n",
       "</style>\n",
       "<table border=\"1\" class=\"dataframe\">\n",
       "  <thead>\n",
       "    <tr style=\"text-align: right;\">\n",
       "      <th></th>\n",
       "      <th>Title</th>\n",
       "      <th>Date</th>\n",
       "      <th>Affiliations</th>\n",
       "      <th>Description</th>\n",
       "      <th>Response</th>\n",
       "      <th>Victims</th>\n",
       "      <th>Sponsor</th>\n",
       "      <th>Type</th>\n",
       "      <th>Category</th>\n",
       "      <th>Sources_1</th>\n",
       "      <th>Sources_2</th>\n",
       "      <th>Sources_3</th>\n",
       "    </tr>\n",
       "  </thead>\n",
       "  <tbody>\n",
       "    <tr>\n",
       "      <th>3</th>\n",
       "      <td>Targeting of the Belgian Federal Public Servic...</td>\n",
       "      <td>2022-07-18</td>\n",
       "      <td>Zirconium</td>\n",
       "      <td>Chinese threat actors targeted the Belgian Fed...</td>\n",
       "      <td>Denouncement   https://diplomatie.belgium.be/e...</td>\n",
       "      <td>Belgian Federal Public Service Interior</td>\n",
       "      <td>China</td>\n",
       "      <td>Espionage</td>\n",
       "      <td>Government</td>\n",
       "      <td>https://diplomatie.belgium.be/en/news/declarat...</td>\n",
       "      <td>https://www.bleepingcomputer.com/news/security...</td>\n",
       "      <td>NaN</td>\n",
       "    </tr>\n",
       "    <tr>\n",
       "      <th>767</th>\n",
       "      <td>Targeting of the Belgian Federal Public Servic...</td>\n",
       "      <td>NaT</td>\n",
       "      <td>APT 30</td>\n",
       "      <td>Chinese threat actors targeted the Belgian Fed...</td>\n",
       "      <td>Denouncement   https://diplomatie.belgium.be/e...</td>\n",
       "      <td>Belgian Federal Public Service Interior</td>\n",
       "      <td>China</td>\n",
       "      <td>Espionage</td>\n",
       "      <td>Government</td>\n",
       "      <td>https://diplomatie.belgium.be/en/news/declarat...</td>\n",
       "      <td>https://www.bleepingcomputer.com/news/security...</td>\n",
       "      <td>NaN</td>\n",
       "    </tr>\n",
       "  </tbody>\n",
       "</table>\n",
       "</div>"
      ],
      "text/plain": [
       "                                                 Title       Date  \\\n",
       "3    Targeting of the Belgian Federal Public Servic... 2022-07-18   \n",
       "767  Targeting of the Belgian Federal Public Servic...        NaT   \n",
       "\n",
       "    Affiliations                                        Description  \\\n",
       "3      Zirconium  Chinese threat actors targeted the Belgian Fed...   \n",
       "767       APT 30  Chinese threat actors targeted the Belgian Fed...   \n",
       "\n",
       "                                              Response  \\\n",
       "3    Denouncement   https://diplomatie.belgium.be/e...   \n",
       "767  Denouncement   https://diplomatie.belgium.be/e...   \n",
       "\n",
       "                                     Victims Sponsor       Type    Category  \\\n",
       "3    Belgian Federal Public Service Interior   China  Espionage  Government   \n",
       "767  Belgian Federal Public Service Interior   China  Espionage  Government   \n",
       "\n",
       "                                             Sources_1  \\\n",
       "3    https://diplomatie.belgium.be/en/news/declarat...   \n",
       "767  https://diplomatie.belgium.be/en/news/declarat...   \n",
       "\n",
       "                                             Sources_2 Sources_3  \n",
       "3    https://www.bleepingcomputer.com/news/security...       NaN  \n",
       "767  https://www.bleepingcomputer.com/news/security...       NaN  "
      ]
     },
     "execution_count": 49,
     "metadata": {},
     "output_type": "execute_result"
    }
   ],
   "source": [
    "df.loc[df.duplicated(subset=['Description'], keep=False)]\n"
   ]
  },
  {
   "cell_type": "markdown",
   "id": "7ad95323",
   "metadata": {},
   "source": [
    "### Boolean Indexing\n",
    "Boolean indexing allows us to **filter rows based on one or more conditions**.  \n",
    "For example, we can select operations conducted by a specific sponsor within a given date range."
   ]
  },
  {
   "cell_type": "code",
   "execution_count": null,
   "id": "65498794",
   "metadata": {},
   "outputs": [
    {
     "data": {
      "text/plain": [
       "2"
      ]
     },
     "execution_count": 38,
     "metadata": {},
     "output_type": "execute_result"
    }
   ],
   "source": [
    "# Define date range for 2022-2023\n",
    "start_date = pd.Timestamp('2022-01-01')\n",
    "end_date = pd.Timestamp('2023-12-31')\n",
    "\n",
    "# Boolean condition\n",
    "boolean_condition = (df['Sponsor'] == 'Belarus') & (df['Date'] >= start_date) & (df['Date'] <= end_date)\n",
    "\n",
    "# Filtered DataFrame\n",
    "df_filtered = df[boolean_condition]\n",
    "\n",
    "df_filtered.shape[0] # Number of rows in the filtered DataFrame"
   ]
  },
  {
   "cell_type": "markdown",
   "id": "33d972b7",
   "metadata": {},
   "source": [
    "### Aggregation\n",
    "\n",
    "Aggregation allows us to **summarize data by groups**, which is useful to identify patterns and trends in cyber operations.  \n",
    "\n",
    "- For example, we can **count the number of cyber operations conducted by each sponsor**"
   ]
  },
  {
   "cell_type": "code",
   "execution_count": 44,
   "id": "4b92001a",
   "metadata": {},
   "outputs": [
    {
     "data": {
      "text/html": [
       "<div>\n",
       "<style scoped>\n",
       "    .dataframe tbody tr th:only-of-type {\n",
       "        vertical-align: middle;\n",
       "    }\n",
       "\n",
       "    .dataframe tbody tr th {\n",
       "        vertical-align: top;\n",
       "    }\n",
       "\n",
       "    .dataframe thead th {\n",
       "        text-align: right;\n",
       "    }\n",
       "</style>\n",
       "<table border=\"1\" class=\"dataframe\">\n",
       "  <thead>\n",
       "    <tr style=\"text-align: right;\">\n",
       "      <th></th>\n",
       "      <th>Sponsor</th>\n",
       "      <th>size</th>\n",
       "    </tr>\n",
       "  </thead>\n",
       "  <tbody>\n",
       "    <tr>\n",
       "      <th>6</th>\n",
       "      <td>China</td>\n",
       "      <td>263</td>\n",
       "    </tr>\n",
       "    <tr>\n",
       "      <th>37</th>\n",
       "      <td>Russian Federation</td>\n",
       "      <td>155</td>\n",
       "    </tr>\n",
       "    <tr>\n",
       "      <th>20</th>\n",
       "      <td>Iran (Islamic Republic of)</td>\n",
       "      <td>98</td>\n",
       "    </tr>\n",
       "    <tr>\n",
       "      <th>26</th>\n",
       "      <td>Korea (Democratic People's Republic of)</td>\n",
       "      <td>79</td>\n",
       "    </tr>\n",
       "    <tr>\n",
       "      <th>53</th>\n",
       "      <td>United States</td>\n",
       "      <td>12</td>\n",
       "    </tr>\n",
       "    <tr>\n",
       "      <th>...</th>\n",
       "      <td>...</td>\n",
       "      <td>...</td>\n",
       "    </tr>\n",
       "    <tr>\n",
       "      <th>25</th>\n",
       "      <td>Kazakhstan</td>\n",
       "      <td>1</td>\n",
       "    </tr>\n",
       "    <tr>\n",
       "      <th>28</th>\n",
       "      <td>Lebanon</td>\n",
       "      <td>1</td>\n",
       "    </tr>\n",
       "    <tr>\n",
       "      <th>31</th>\n",
       "      <td>Myanmar</td>\n",
       "      <td>1</td>\n",
       "    </tr>\n",
       "    <tr>\n",
       "      <th>32</th>\n",
       "      <td>Netherlands</td>\n",
       "      <td>1</td>\n",
       "    </tr>\n",
       "    <tr>\n",
       "      <th>30</th>\n",
       "      <td>Morocco</td>\n",
       "      <td>1</td>\n",
       "    </tr>\n",
       "  </tbody>\n",
       "</table>\n",
       "<p>61 rows × 2 columns</p>\n",
       "</div>"
      ],
      "text/plain": [
       "                                    Sponsor  size\n",
       "6                                     China   263\n",
       "37                       Russian Federation   155\n",
       "20               Iran (Islamic Republic of)    98\n",
       "26  Korea (Democratic People's Republic of)    79\n",
       "53                            United States    12\n",
       "..                                      ...   ...\n",
       "25                               Kazakhstan     1\n",
       "28                                  Lebanon     1\n",
       "31                                  Myanmar     1\n",
       "32                              Netherlands     1\n",
       "30                                  Morocco     1\n",
       "\n",
       "[61 rows x 2 columns]"
      ]
     },
     "execution_count": 44,
     "metadata": {},
     "output_type": "execute_result"
    }
   ],
   "source": [
    "# Count the number of cyber operations per sponsor\n",
    "df.groupby(\"Sponsor\", as_index=False).size().sort_values(by='size', ascending=False)"
   ]
  },
  {
   "cell_type": "markdown",
   "id": "008510e3",
   "metadata": {},
   "source": [
    "**Explanation:**\n",
    "\n",
    "- `groupby(\"Sponsor\")` groups the data by the `Sponsor` column.  \n",
    "- `.size()` counts the number of rows in each group, representing the number of operations.  \n",
    "- `.sort_values(by='size', ascending=False)` sorts the sponsors from **most to least active**.\n"
   ]
  },
  {
   "cell_type": "markdown",
   "id": "c2a33c08",
   "metadata": {},
   "source": [
    "- **Sum the number of victims per sponsor** to identify which sponsors have caused the greatest impact:\n"
   ]
  },
  {
   "cell_type": "code",
   "execution_count": 45,
   "id": "0164b6d3",
   "metadata": {},
   "outputs": [
    {
     "data": {
      "text/html": [
       "<div>\n",
       "<style scoped>\n",
       "    .dataframe tbody tr th:only-of-type {\n",
       "        vertical-align: middle;\n",
       "    }\n",
       "\n",
       "    .dataframe tbody tr th {\n",
       "        vertical-align: top;\n",
       "    }\n",
       "\n",
       "    .dataframe thead th {\n",
       "        text-align: right;\n",
       "    }\n",
       "</style>\n",
       "<table border=\"1\" class=\"dataframe\">\n",
       "  <thead>\n",
       "    <tr style=\"text-align: right;\">\n",
       "      <th></th>\n",
       "      <th>Sponsor</th>\n",
       "      <th>Victims</th>\n",
       "    </tr>\n",
       "  </thead>\n",
       "  <tbody>\n",
       "    <tr>\n",
       "      <th>55</th>\n",
       "      <td>United States, Australia, Canada, New Zealand,...</td>\n",
       "      <td>Yandex</td>\n",
       "    </tr>\n",
       "    <tr>\n",
       "      <th>27</th>\n",
       "      <td>Korea (Republic of)</td>\n",
       "      <td>World Health OrganizationNorth Koreans and Nor...</td>\n",
       "    </tr>\n",
       "    <tr>\n",
       "      <th>59</th>\n",
       "      <td>Uzbekistan</td>\n",
       "      <td>Uzbek activists and dissidents</td>\n",
       "    </tr>\n",
       "    <tr>\n",
       "      <th>28</th>\n",
       "      <td>Lebanon</td>\n",
       "      <td>United States, Canada, Germany, Lebanon, France</td>\n",
       "    </tr>\n",
       "    <tr>\n",
       "      <th>3</th>\n",
       "      <td>Belarus</td>\n",
       "      <td>Ukrainian state entitiesOver seventy Ukrainian...</td>\n",
       "    </tr>\n",
       "    <tr>\n",
       "      <th>...</th>\n",
       "      <td>...</td>\n",
       "      <td>...</td>\n",
       "    </tr>\n",
       "    <tr>\n",
       "      <th>21</th>\n",
       "      <td>Israel</td>\n",
       "      <td>An activist in IsraelMayors and other local of...</td>\n",
       "    </tr>\n",
       "    <tr>\n",
       "      <th>52</th>\n",
       "      <td>United Kingdom, United States</td>\n",
       "      <td>Algeria, Afghanistan, Belgium, Brazil, Fiji, G...</td>\n",
       "    </tr>\n",
       "    <tr>\n",
       "      <th>20</th>\n",
       "      <td>Iran (Islamic Republic of)</td>\n",
       "      <td>Albanian government networksVMware Horizon ser...</td>\n",
       "    </tr>\n",
       "    <tr>\n",
       "      <th>39</th>\n",
       "      <td>Saudi Arabia, United Arab Emirates</td>\n",
       "      <td>Al Jazeera employees</td>\n",
       "    </tr>\n",
       "    <tr>\n",
       "      <th>0</th>\n",
       "      <td>United Kingdom\"</td>\n",
       "      <td>Israel</td>\n",
       "    </tr>\n",
       "  </tbody>\n",
       "</table>\n",
       "<p>61 rows × 2 columns</p>\n",
       "</div>"
      ],
      "text/plain": [
       "                                              Sponsor  \\\n",
       "55  United States, Australia, Canada, New Zealand,...   \n",
       "27                                Korea (Republic of)   \n",
       "59                                         Uzbekistan   \n",
       "28                                            Lebanon   \n",
       "3                                             Belarus   \n",
       "..                                                ...   \n",
       "21                                             Israel   \n",
       "52                      United Kingdom, United States   \n",
       "20                         Iran (Islamic Republic of)   \n",
       "39                 Saudi Arabia, United Arab Emirates   \n",
       "0                                     United Kingdom\"   \n",
       "\n",
       "                                              Victims  \n",
       "55                                             Yandex  \n",
       "27  World Health OrganizationNorth Koreans and Nor...  \n",
       "59                     Uzbek activists and dissidents  \n",
       "28    United States, Canada, Germany, Lebanon, France  \n",
       "3   Ukrainian state entitiesOver seventy Ukrainian...  \n",
       "..                                                ...  \n",
       "21  An activist in IsraelMayors and other local of...  \n",
       "52  Algeria, Afghanistan, Belgium, Brazil, Fiji, G...  \n",
       "20  Albanian government networksVMware Horizon ser...  \n",
       "39                               Al Jazeera employees  \n",
       "0                                              Israel  \n",
       "\n",
       "[61 rows x 2 columns]"
      ]
     },
     "execution_count": 45,
     "metadata": {},
     "output_type": "execute_result"
    }
   ],
   "source": [
    "# Sum the number of victims per sponsor\n",
    "df.groupby(\"Sponsor\", as_index=False)[\"Victims\"].sum().sort_values(by=\"Victims\", ascending=False)\n"
   ]
  },
  {
   "cell_type": "markdown",
   "id": "74821c5e",
   "metadata": {},
   "source": [
    "### Individual Variables Exploration"
   ]
  },
  {
   "cell_type": "code",
   "execution_count": 53,
   "id": "5dff5e4a",
   "metadata": {},
   "outputs": [
    {
     "data": {
      "text/plain": [
       "Date\n",
       "2005.0      1\n",
       "2006.0      3\n",
       "2007.0     10\n",
       "2008.0      7\n",
       "2009.0      4\n",
       "2010.0      9\n",
       "2011.0     15\n",
       "2012.0     12\n",
       "2013.0     18\n",
       "2014.0     32\n",
       "2015.0     34\n",
       "2016.0     33\n",
       "2017.0     46\n",
       "2018.0     80\n",
       "2019.0     74\n",
       "2020.0    120\n",
       "2021.0    108\n",
       "2022.0    147\n",
       "Name: count, dtype: int64"
      ]
     },
     "execution_count": 53,
     "metadata": {},
     "output_type": "execute_result"
    }
   ],
   "source": [
    "df['Date'].dt.year.value_counts().sort_index()"
   ]
  },
  {
   "cell_type": "code",
   "execution_count": 57,
   "id": "466be87f",
   "metadata": {},
   "outputs": [
    {
     "data": {
      "image/svg+xml": [
       "<?xml version=\"1.0\" encoding=\"utf-8\" standalone=\"no\"?>\n",
       "<!DOCTYPE svg PUBLIC \"-//W3C//DTD SVG 1.1//EN\"\n",
       "  \"http://www.w3.org/Graphics/SVG/1.1/DTD/svg11.dtd\">\n",
       "<svg xmlns:xlink=\"http://www.w3.org/1999/xlink\" width=\"615.519844pt\" height=\"399.221719pt\" viewBox=\"0 0 615.519844 399.221719\" xmlns=\"http://www.w3.org/2000/svg\" version=\"1.1\">\n",
       " <metadata>\n",
       "  <rdf:RDF xmlns:dc=\"http://purl.org/dc/elements/1.1/\" xmlns:cc=\"http://creativecommons.org/ns#\" xmlns:rdf=\"http://www.w3.org/1999/02/22-rdf-syntax-ns#\">\n",
       "   <cc:Work>\n",
       "    <dc:type rdf:resource=\"http://purl.org/dc/dcmitype/StillImage\"/>\n",
       "    <dc:date>2025-10-20T18:10:17.270725</dc:date>\n",
       "    <dc:format>image/svg+xml</dc:format>\n",
       "    <dc:creator>\n",
       "     <cc:Agent>\n",
       "      <dc:title>Matplotlib v3.10.7, https://matplotlib.org/</dc:title>\n",
       "     </cc:Agent>\n",
       "    </dc:creator>\n",
       "   </cc:Work>\n",
       "  </rdf:RDF>\n",
       " </metadata>\n",
       " <defs>\n",
       "  <style type=\"text/css\">*{stroke-linejoin: round; stroke-linecap: butt}</style>\n",
       " </defs>\n",
       " <g id=\"figure_1\">\n",
       "  <g id=\"patch_1\">\n",
       "   <path d=\"M 0 399.221719 \n",
       "L 615.519844 399.221719 \n",
       "L 615.519844 0 \n",
       "L 0 0 \n",
       "z\n",
       "\" style=\"fill: #ffffff\"/>\n",
       "  </g>\n",
       "  <g id=\"axes_1\">\n",
       "   <g id=\"patch_2\">\n",
       "    <path d=\"M 50.319844 357.4875 \n",
       "L 608.319844 357.4875 \n",
       "L 608.319844 24.8475 \n",
       "L 50.319844 24.8475 \n",
       "z\n",
       "\" style=\"fill: #ffffff\"/>\n",
       "   </g>\n",
       "   <g id=\"matplotlib.axis_1\">\n",
       "    <g id=\"xtick_1\">\n",
       "     <g id=\"line2d_1\">\n",
       "      <path d=\"M 75.68348 357.4875 \n",
       "L 75.68348 24.8475 \n",
       "\" clip-path=\"url(#p6add280436)\" style=\"fill: none; stroke: #cccccc; stroke-linecap: round\"/>\n",
       "     </g>\n",
       "     <g id=\"text_1\">\n",
       "      <!-- 2005 -->\n",
       "      <g style=\"fill: #262626\" transform=\"translate(63.449418 374.861094) scale(0.11 -0.11)\">\n",
       "       <defs>\n",
       "        <path id=\"ArialMT-32\" d=\"M 3222 541 \n",
       "L 3222 0 \n",
       "L 194 0 \n",
       "Q 188 203 259 391 \n",
       "Q 375 700 629 1000 \n",
       "Q 884 1300 1366 1694 \n",
       "Q 2113 2306 2375 2664 \n",
       "Q 2638 3022 2638 3341 \n",
       "Q 2638 3675 2398 3904 \n",
       "Q 2159 4134 1775 4134 \n",
       "Q 1369 4134 1125 3890 \n",
       "Q 881 3647 878 3216 \n",
       "L 300 3275 \n",
       "Q 359 3922 746 4261 \n",
       "Q 1134 4600 1788 4600 \n",
       "Q 2447 4600 2831 4234 \n",
       "Q 3216 3869 3216 3328 \n",
       "Q 3216 3053 3103 2787 \n",
       "Q 2991 2522 2730 2228 \n",
       "Q 2469 1934 1863 1422 \n",
       "Q 1356 997 1212 845 \n",
       "Q 1069 694 975 541 \n",
       "L 3222 541 \n",
       "z\n",
       "\" transform=\"scale(0.015625)\"/>\n",
       "        <path id=\"ArialMT-30\" d=\"M 266 2259 \n",
       "Q 266 3072 433 3567 \n",
       "Q 600 4063 929 4331 \n",
       "Q 1259 4600 1759 4600 \n",
       "Q 2128 4600 2406 4451 \n",
       "Q 2684 4303 2865 4023 \n",
       "Q 3047 3744 3150 3342 \n",
       "Q 3253 2941 3253 2259 \n",
       "Q 3253 1453 3087 958 \n",
       "Q 2922 463 2592 192 \n",
       "Q 2263 -78 1759 -78 \n",
       "Q 1097 -78 719 397 \n",
       "Q 266 969 266 2259 \n",
       "z\n",
       "M 844 2259 \n",
       "Q 844 1131 1108 757 \n",
       "Q 1372 384 1759 384 \n",
       "Q 2147 384 2411 759 \n",
       "Q 2675 1134 2675 2259 \n",
       "Q 2675 3391 2411 3762 \n",
       "Q 2147 4134 1753 4134 \n",
       "Q 1366 4134 1134 3806 \n",
       "Q 844 3388 844 2259 \n",
       "z\n",
       "\" transform=\"scale(0.015625)\"/>\n",
       "        <path id=\"ArialMT-35\" d=\"M 266 1200 \n",
       "L 856 1250 \n",
       "Q 922 819 1161 601 \n",
       "Q 1400 384 1738 384 \n",
       "Q 2144 384 2425 690 \n",
       "Q 2706 997 2706 1503 \n",
       "Q 2706 1984 2436 2262 \n",
       "Q 2166 2541 1728 2541 \n",
       "Q 1456 2541 1237 2417 \n",
       "Q 1019 2294 894 2097 \n",
       "L 366 2166 \n",
       "L 809 4519 \n",
       "L 3088 4519 \n",
       "L 3088 3981 \n",
       "L 1259 3981 \n",
       "L 1013 2750 \n",
       "Q 1425 3038 1878 3038 \n",
       "Q 2478 3038 2890 2622 \n",
       "Q 3303 2206 3303 1553 \n",
       "Q 3303 931 2941 478 \n",
       "Q 2500 -78 1738 -78 \n",
       "Q 1113 -78 717 272 \n",
       "Q 322 622 266 1200 \n",
       "z\n",
       "\" transform=\"scale(0.015625)\"/>\n",
       "       </defs>\n",
       "       <use xlink:href=\"#ArialMT-32\"/>\n",
       "       <use xlink:href=\"#ArialMT-30\" transform=\"translate(55.615234 0)\"/>\n",
       "       <use xlink:href=\"#ArialMT-30\" transform=\"translate(111.230469 0)\"/>\n",
       "       <use xlink:href=\"#ArialMT-35\" transform=\"translate(166.845703 0)\"/>\n",
       "      </g>\n",
       "     </g>\n",
       "    </g>\n",
       "    <g id=\"xtick_2\">\n",
       "     <g id=\"line2d_2\">\n",
       "      <path d=\"M 105.523052 357.4875 \n",
       "L 105.523052 24.8475 \n",
       "\" clip-path=\"url(#p6add280436)\" style=\"fill: none; stroke: #cccccc; stroke-linecap: round\"/>\n",
       "     </g>\n",
       "     <g id=\"text_2\">\n",
       "      <!-- 2006 -->\n",
       "      <g style=\"fill: #262626\" transform=\"translate(93.28899 374.861094) scale(0.11 -0.11)\">\n",
       "       <defs>\n",
       "        <path id=\"ArialMT-36\" d=\"M 3184 3459 \n",
       "L 2625 3416 \n",
       "Q 2550 3747 2413 3897 \n",
       "Q 2184 4138 1850 4138 \n",
       "Q 1581 4138 1378 3988 \n",
       "Q 1113 3794 959 3422 \n",
       "Q 806 3050 800 2363 \n",
       "Q 1003 2672 1297 2822 \n",
       "Q 1591 2972 1913 2972 \n",
       "Q 2475 2972 2870 2558 \n",
       "Q 3266 2144 3266 1488 \n",
       "Q 3266 1056 3080 686 \n",
       "Q 2894 316 2569 119 \n",
       "Q 2244 -78 1831 -78 \n",
       "Q 1128 -78 684 439 \n",
       "Q 241 956 241 2144 \n",
       "Q 241 3472 731 4075 \n",
       "Q 1159 4600 1884 4600 \n",
       "Q 2425 4600 2770 4297 \n",
       "Q 3116 3994 3184 3459 \n",
       "z\n",
       "M 888 1484 \n",
       "Q 888 1194 1011 928 \n",
       "Q 1134 663 1356 523 \n",
       "Q 1578 384 1822 384 \n",
       "Q 2178 384 2434 671 \n",
       "Q 2691 959 2691 1453 \n",
       "Q 2691 1928 2437 2201 \n",
       "Q 2184 2475 1800 2475 \n",
       "Q 1419 2475 1153 2201 \n",
       "Q 888 1928 888 1484 \n",
       "z\n",
       "\" transform=\"scale(0.015625)\"/>\n",
       "       </defs>\n",
       "       <use xlink:href=\"#ArialMT-32\"/>\n",
       "       <use xlink:href=\"#ArialMT-30\" transform=\"translate(55.615234 0)\"/>\n",
       "       <use xlink:href=\"#ArialMT-30\" transform=\"translate(111.230469 0)\"/>\n",
       "       <use xlink:href=\"#ArialMT-36\" transform=\"translate(166.845703 0)\"/>\n",
       "      </g>\n",
       "     </g>\n",
       "    </g>\n",
       "    <g id=\"xtick_3\">\n",
       "     <g id=\"line2d_3\">\n",
       "      <path d=\"M 135.362624 357.4875 \n",
       "L 135.362624 24.8475 \n",
       "\" clip-path=\"url(#p6add280436)\" style=\"fill: none; stroke: #cccccc; stroke-linecap: round\"/>\n",
       "     </g>\n",
       "     <g id=\"text_3\">\n",
       "      <!-- 2007 -->\n",
       "      <g style=\"fill: #262626\" transform=\"translate(123.128562 374.861094) scale(0.11 -0.11)\">\n",
       "       <defs>\n",
       "        <path id=\"ArialMT-37\" d=\"M 303 3981 \n",
       "L 303 4522 \n",
       "L 3269 4522 \n",
       "L 3269 4084 \n",
       "Q 2831 3619 2401 2847 \n",
       "Q 1972 2075 1738 1259 \n",
       "Q 1569 684 1522 0 \n",
       "L 944 0 \n",
       "Q 953 541 1156 1306 \n",
       "Q 1359 2072 1739 2783 \n",
       "Q 2119 3494 2547 3981 \n",
       "L 303 3981 \n",
       "z\n",
       "\" transform=\"scale(0.015625)\"/>\n",
       "       </defs>\n",
       "       <use xlink:href=\"#ArialMT-32\"/>\n",
       "       <use xlink:href=\"#ArialMT-30\" transform=\"translate(55.615234 0)\"/>\n",
       "       <use xlink:href=\"#ArialMT-30\" transform=\"translate(111.230469 0)\"/>\n",
       "       <use xlink:href=\"#ArialMT-37\" transform=\"translate(166.845703 0)\"/>\n",
       "      </g>\n",
       "     </g>\n",
       "    </g>\n",
       "    <g id=\"xtick_4\">\n",
       "     <g id=\"line2d_4\">\n",
       "      <path d=\"M 165.202197 357.4875 \n",
       "L 165.202197 24.8475 \n",
       "\" clip-path=\"url(#p6add280436)\" style=\"fill: none; stroke: #cccccc; stroke-linecap: round\"/>\n",
       "     </g>\n",
       "     <g id=\"text_4\">\n",
       "      <!-- 2008 -->\n",
       "      <g style=\"fill: #262626\" transform=\"translate(152.968134 374.861094) scale(0.11 -0.11)\">\n",
       "       <defs>\n",
       "        <path id=\"ArialMT-38\" d=\"M 1131 2484 \n",
       "Q 781 2613 612 2850 \n",
       "Q 444 3088 444 3419 \n",
       "Q 444 3919 803 4259 \n",
       "Q 1163 4600 1759 4600 \n",
       "Q 2359 4600 2725 4251 \n",
       "Q 3091 3903 3091 3403 \n",
       "Q 3091 3084 2923 2848 \n",
       "Q 2756 2613 2416 2484 \n",
       "Q 2838 2347 3058 2040 \n",
       "Q 3278 1734 3278 1309 \n",
       "Q 3278 722 2862 322 \n",
       "Q 2447 -78 1769 -78 \n",
       "Q 1091 -78 675 323 \n",
       "Q 259 725 259 1325 \n",
       "Q 259 1772 486 2073 \n",
       "Q 713 2375 1131 2484 \n",
       "z\n",
       "M 1019 3438 \n",
       "Q 1019 3113 1228 2906 \n",
       "Q 1438 2700 1772 2700 \n",
       "Q 2097 2700 2305 2904 \n",
       "Q 2513 3109 2513 3406 \n",
       "Q 2513 3716 2298 3927 \n",
       "Q 2084 4138 1766 4138 \n",
       "Q 1444 4138 1231 3931 \n",
       "Q 1019 3725 1019 3438 \n",
       "z\n",
       "M 838 1322 \n",
       "Q 838 1081 952 856 \n",
       "Q 1066 631 1291 507 \n",
       "Q 1516 384 1775 384 \n",
       "Q 2178 384 2440 643 \n",
       "Q 2703 903 2703 1303 \n",
       "Q 2703 1709 2433 1975 \n",
       "Q 2163 2241 1756 2241 \n",
       "Q 1359 2241 1098 1978 \n",
       "Q 838 1716 838 1322 \n",
       "z\n",
       "\" transform=\"scale(0.015625)\"/>\n",
       "       </defs>\n",
       "       <use xlink:href=\"#ArialMT-32\"/>\n",
       "       <use xlink:href=\"#ArialMT-30\" transform=\"translate(55.615234 0)\"/>\n",
       "       <use xlink:href=\"#ArialMT-30\" transform=\"translate(111.230469 0)\"/>\n",
       "       <use xlink:href=\"#ArialMT-38\" transform=\"translate(166.845703 0)\"/>\n",
       "      </g>\n",
       "     </g>\n",
       "    </g>\n",
       "    <g id=\"xtick_5\">\n",
       "     <g id=\"line2d_5\">\n",
       "      <path d=\"M 195.041769 357.4875 \n",
       "L 195.041769 24.8475 \n",
       "\" clip-path=\"url(#p6add280436)\" style=\"fill: none; stroke: #cccccc; stroke-linecap: round\"/>\n",
       "     </g>\n",
       "     <g id=\"text_5\">\n",
       "      <!-- 2009 -->\n",
       "      <g style=\"fill: #262626\" transform=\"translate(182.807706 374.861094) scale(0.11 -0.11)\">\n",
       "       <defs>\n",
       "        <path id=\"ArialMT-39\" d=\"M 350 1059 \n",
       "L 891 1109 \n",
       "Q 959 728 1153 556 \n",
       "Q 1347 384 1650 384 \n",
       "Q 1909 384 2104 503 \n",
       "Q 2300 622 2425 820 \n",
       "Q 2550 1019 2634 1356 \n",
       "Q 2719 1694 2719 2044 \n",
       "Q 2719 2081 2716 2156 \n",
       "Q 2547 1888 2255 1720 \n",
       "Q 1963 1553 1622 1553 \n",
       "Q 1053 1553 659 1965 \n",
       "Q 266 2378 266 3053 \n",
       "Q 266 3750 677 4175 \n",
       "Q 1088 4600 1706 4600 \n",
       "Q 2153 4600 2523 4359 \n",
       "Q 2894 4119 3086 3673 \n",
       "Q 3278 3228 3278 2384 \n",
       "Q 3278 1506 3087 986 \n",
       "Q 2897 466 2520 194 \n",
       "Q 2144 -78 1638 -78 \n",
       "Q 1100 -78 759 220 \n",
       "Q 419 519 350 1059 \n",
       "z\n",
       "M 2653 3081 \n",
       "Q 2653 3566 2395 3850 \n",
       "Q 2138 4134 1775 4134 \n",
       "Q 1400 4134 1122 3828 \n",
       "Q 844 3522 844 3034 \n",
       "Q 844 2597 1108 2323 \n",
       "Q 1372 2050 1759 2050 \n",
       "Q 2150 2050 2401 2323 \n",
       "Q 2653 2597 2653 3081 \n",
       "z\n",
       "\" transform=\"scale(0.015625)\"/>\n",
       "       </defs>\n",
       "       <use xlink:href=\"#ArialMT-32\"/>\n",
       "       <use xlink:href=\"#ArialMT-30\" transform=\"translate(55.615234 0)\"/>\n",
       "       <use xlink:href=\"#ArialMT-30\" transform=\"translate(111.230469 0)\"/>\n",
       "       <use xlink:href=\"#ArialMT-39\" transform=\"translate(166.845703 0)\"/>\n",
       "      </g>\n",
       "     </g>\n",
       "    </g>\n",
       "    <g id=\"xtick_6\">\n",
       "     <g id=\"line2d_6\">\n",
       "      <path d=\"M 224.881341 357.4875 \n",
       "L 224.881341 24.8475 \n",
       "\" clip-path=\"url(#p6add280436)\" style=\"fill: none; stroke: #cccccc; stroke-linecap: round\"/>\n",
       "     </g>\n",
       "     <g id=\"text_6\">\n",
       "      <!-- 2010 -->\n",
       "      <g style=\"fill: #262626\" transform=\"translate(212.647279 374.861094) scale(0.11 -0.11)\">\n",
       "       <defs>\n",
       "        <path id=\"ArialMT-31\" d=\"M 2384 0 \n",
       "L 1822 0 \n",
       "L 1822 3584 \n",
       "Q 1619 3391 1289 3197 \n",
       "Q 959 3003 697 2906 \n",
       "L 697 3450 \n",
       "Q 1169 3672 1522 3987 \n",
       "Q 1875 4303 2022 4600 \n",
       "L 2384 4600 \n",
       "L 2384 0 \n",
       "z\n",
       "\" transform=\"scale(0.015625)\"/>\n",
       "       </defs>\n",
       "       <use xlink:href=\"#ArialMT-32\"/>\n",
       "       <use xlink:href=\"#ArialMT-30\" transform=\"translate(55.615234 0)\"/>\n",
       "       <use xlink:href=\"#ArialMT-31\" transform=\"translate(111.230469 0)\"/>\n",
       "       <use xlink:href=\"#ArialMT-30\" transform=\"translate(166.845703 0)\"/>\n",
       "      </g>\n",
       "     </g>\n",
       "    </g>\n",
       "    <g id=\"xtick_7\">\n",
       "     <g id=\"line2d_7\">\n",
       "      <path d=\"M 254.720913 357.4875 \n",
       "L 254.720913 24.8475 \n",
       "\" clip-path=\"url(#p6add280436)\" style=\"fill: none; stroke: #cccccc; stroke-linecap: round\"/>\n",
       "     </g>\n",
       "     <g id=\"text_7\">\n",
       "      <!-- 2011 -->\n",
       "      <g style=\"fill: #262626\" transform=\"translate(242.892476 374.861094) scale(0.11 -0.11)\">\n",
       "       <use xlink:href=\"#ArialMT-32\"/>\n",
       "       <use xlink:href=\"#ArialMT-30\" transform=\"translate(55.615234 0)\"/>\n",
       "       <use xlink:href=\"#ArialMT-31\" transform=\"translate(111.230469 0)\"/>\n",
       "       <use xlink:href=\"#ArialMT-31\" transform=\"translate(159.470703 0)\"/>\n",
       "      </g>\n",
       "     </g>\n",
       "    </g>\n",
       "    <g id=\"xtick_8\">\n",
       "     <g id=\"line2d_8\">\n",
       "      <path d=\"M 284.560485 357.4875 \n",
       "L 284.560485 24.8475 \n",
       "\" clip-path=\"url(#p6add280436)\" style=\"fill: none; stroke: #cccccc; stroke-linecap: round\"/>\n",
       "     </g>\n",
       "     <g id=\"text_8\">\n",
       "      <!-- 2012 -->\n",
       "      <g style=\"fill: #262626\" transform=\"translate(272.326423 374.861094) scale(0.11 -0.11)\">\n",
       "       <use xlink:href=\"#ArialMT-32\"/>\n",
       "       <use xlink:href=\"#ArialMT-30\" transform=\"translate(55.615234 0)\"/>\n",
       "       <use xlink:href=\"#ArialMT-31\" transform=\"translate(111.230469 0)\"/>\n",
       "       <use xlink:href=\"#ArialMT-32\" transform=\"translate(166.845703 0)\"/>\n",
       "      </g>\n",
       "     </g>\n",
       "    </g>\n",
       "    <g id=\"xtick_9\">\n",
       "     <g id=\"line2d_9\">\n",
       "      <path d=\"M 314.400058 357.4875 \n",
       "L 314.400058 24.8475 \n",
       "\" clip-path=\"url(#p6add280436)\" style=\"fill: none; stroke: #cccccc; stroke-linecap: round\"/>\n",
       "     </g>\n",
       "     <g id=\"text_9\">\n",
       "      <!-- 2013 -->\n",
       "      <g style=\"fill: #262626\" transform=\"translate(302.165995 374.861094) scale(0.11 -0.11)\">\n",
       "       <defs>\n",
       "        <path id=\"ArialMT-33\" d=\"M 269 1209 \n",
       "L 831 1284 \n",
       "Q 928 806 1161 595 \n",
       "Q 1394 384 1728 384 \n",
       "Q 2125 384 2398 659 \n",
       "Q 2672 934 2672 1341 \n",
       "Q 2672 1728 2419 1979 \n",
       "Q 2166 2231 1775 2231 \n",
       "Q 1616 2231 1378 2169 \n",
       "L 1441 2663 \n",
       "Q 1497 2656 1531 2656 \n",
       "Q 1891 2656 2178 2843 \n",
       "Q 2466 3031 2466 3422 \n",
       "Q 2466 3731 2256 3934 \n",
       "Q 2047 4138 1716 4138 \n",
       "Q 1388 4138 1169 3931 \n",
       "Q 950 3725 888 3313 \n",
       "L 325 3413 \n",
       "Q 428 3978 793 4289 \n",
       "Q 1159 4600 1703 4600 \n",
       "Q 2078 4600 2393 4439 \n",
       "Q 2709 4278 2876 4000 \n",
       "Q 3044 3722 3044 3409 \n",
       "Q 3044 3113 2884 2869 \n",
       "Q 2725 2625 2413 2481 \n",
       "Q 2819 2388 3044 2092 \n",
       "Q 3269 1797 3269 1353 \n",
       "Q 3269 753 2831 336 \n",
       "Q 2394 -81 1725 -81 \n",
       "Q 1122 -81 723 278 \n",
       "Q 325 638 269 1209 \n",
       "z\n",
       "\" transform=\"scale(0.015625)\"/>\n",
       "       </defs>\n",
       "       <use xlink:href=\"#ArialMT-32\"/>\n",
       "       <use xlink:href=\"#ArialMT-30\" transform=\"translate(55.615234 0)\"/>\n",
       "       <use xlink:href=\"#ArialMT-31\" transform=\"translate(111.230469 0)\"/>\n",
       "       <use xlink:href=\"#ArialMT-33\" transform=\"translate(166.845703 0)\"/>\n",
       "      </g>\n",
       "     </g>\n",
       "    </g>\n",
       "    <g id=\"xtick_10\">\n",
       "     <g id=\"line2d_10\">\n",
       "      <path d=\"M 344.23963 357.4875 \n",
       "L 344.23963 24.8475 \n",
       "\" clip-path=\"url(#p6add280436)\" style=\"fill: none; stroke: #cccccc; stroke-linecap: round\"/>\n",
       "     </g>\n",
       "     <g id=\"text_10\">\n",
       "      <!-- 2014 -->\n",
       "      <g style=\"fill: #262626\" transform=\"translate(332.005567 374.861094) scale(0.11 -0.11)\">\n",
       "       <defs>\n",
       "        <path id=\"ArialMT-34\" d=\"M 2069 0 \n",
       "L 2069 1097 \n",
       "L 81 1097 \n",
       "L 81 1613 \n",
       "L 2172 4581 \n",
       "L 2631 4581 \n",
       "L 2631 1613 \n",
       "L 3250 1613 \n",
       "L 3250 1097 \n",
       "L 2631 1097 \n",
       "L 2631 0 \n",
       "L 2069 0 \n",
       "z\n",
       "M 2069 1613 \n",
       "L 2069 3678 \n",
       "L 634 1613 \n",
       "L 2069 1613 \n",
       "z\n",
       "\" transform=\"scale(0.015625)\"/>\n",
       "       </defs>\n",
       "       <use xlink:href=\"#ArialMT-32\"/>\n",
       "       <use xlink:href=\"#ArialMT-30\" transform=\"translate(55.615234 0)\"/>\n",
       "       <use xlink:href=\"#ArialMT-31\" transform=\"translate(111.230469 0)\"/>\n",
       "       <use xlink:href=\"#ArialMT-34\" transform=\"translate(166.845703 0)\"/>\n",
       "      </g>\n",
       "     </g>\n",
       "    </g>\n",
       "    <g id=\"xtick_11\">\n",
       "     <g id=\"line2d_11\">\n",
       "      <path d=\"M 374.079202 357.4875 \n",
       "L 374.079202 24.8475 \n",
       "\" clip-path=\"url(#p6add280436)\" style=\"fill: none; stroke: #cccccc; stroke-linecap: round\"/>\n",
       "     </g>\n",
       "     <g id=\"text_11\">\n",
       "      <!-- 2015 -->\n",
       "      <g style=\"fill: #262626\" transform=\"translate(361.84514 374.861094) scale(0.11 -0.11)\">\n",
       "       <use xlink:href=\"#ArialMT-32\"/>\n",
       "       <use xlink:href=\"#ArialMT-30\" transform=\"translate(55.615234 0)\"/>\n",
       "       <use xlink:href=\"#ArialMT-31\" transform=\"translate(111.230469 0)\"/>\n",
       "       <use xlink:href=\"#ArialMT-35\" transform=\"translate(166.845703 0)\"/>\n",
       "      </g>\n",
       "     </g>\n",
       "    </g>\n",
       "    <g id=\"xtick_12\">\n",
       "     <g id=\"line2d_12\">\n",
       "      <path d=\"M 403.918774 357.4875 \n",
       "L 403.918774 24.8475 \n",
       "\" clip-path=\"url(#p6add280436)\" style=\"fill: none; stroke: #cccccc; stroke-linecap: round\"/>\n",
       "     </g>\n",
       "     <g id=\"text_12\">\n",
       "      <!-- 2016 -->\n",
       "      <g style=\"fill: #262626\" transform=\"translate(391.684712 374.861094) scale(0.11 -0.11)\">\n",
       "       <use xlink:href=\"#ArialMT-32\"/>\n",
       "       <use xlink:href=\"#ArialMT-30\" transform=\"translate(55.615234 0)\"/>\n",
       "       <use xlink:href=\"#ArialMT-31\" transform=\"translate(111.230469 0)\"/>\n",
       "       <use xlink:href=\"#ArialMT-36\" transform=\"translate(166.845703 0)\"/>\n",
       "      </g>\n",
       "     </g>\n",
       "    </g>\n",
       "    <g id=\"xtick_13\">\n",
       "     <g id=\"line2d_13\">\n",
       "      <path d=\"M 433.758346 357.4875 \n",
       "L 433.758346 24.8475 \n",
       "\" clip-path=\"url(#p6add280436)\" style=\"fill: none; stroke: #cccccc; stroke-linecap: round\"/>\n",
       "     </g>\n",
       "     <g id=\"text_13\">\n",
       "      <!-- 2017 -->\n",
       "      <g style=\"fill: #262626\" transform=\"translate(421.524284 374.861094) scale(0.11 -0.11)\">\n",
       "       <use xlink:href=\"#ArialMT-32\"/>\n",
       "       <use xlink:href=\"#ArialMT-30\" transform=\"translate(55.615234 0)\"/>\n",
       "       <use xlink:href=\"#ArialMT-31\" transform=\"translate(111.230469 0)\"/>\n",
       "       <use xlink:href=\"#ArialMT-37\" transform=\"translate(166.845703 0)\"/>\n",
       "      </g>\n",
       "     </g>\n",
       "    </g>\n",
       "    <g id=\"xtick_14\">\n",
       "     <g id=\"line2d_14\">\n",
       "      <path d=\"M 463.597919 357.4875 \n",
       "L 463.597919 24.8475 \n",
       "\" clip-path=\"url(#p6add280436)\" style=\"fill: none; stroke: #cccccc; stroke-linecap: round\"/>\n",
       "     </g>\n",
       "     <g id=\"text_14\">\n",
       "      <!-- 2018 -->\n",
       "      <g style=\"fill: #262626\" transform=\"translate(451.363856 374.861094) scale(0.11 -0.11)\">\n",
       "       <use xlink:href=\"#ArialMT-32\"/>\n",
       "       <use xlink:href=\"#ArialMT-30\" transform=\"translate(55.615234 0)\"/>\n",
       "       <use xlink:href=\"#ArialMT-31\" transform=\"translate(111.230469 0)\"/>\n",
       "       <use xlink:href=\"#ArialMT-38\" transform=\"translate(166.845703 0)\"/>\n",
       "      </g>\n",
       "     </g>\n",
       "    </g>\n",
       "    <g id=\"xtick_15\">\n",
       "     <g id=\"line2d_15\">\n",
       "      <path d=\"M 493.437491 357.4875 \n",
       "L 493.437491 24.8475 \n",
       "\" clip-path=\"url(#p6add280436)\" style=\"fill: none; stroke: #cccccc; stroke-linecap: round\"/>\n",
       "     </g>\n",
       "     <g id=\"text_15\">\n",
       "      <!-- 2019 -->\n",
       "      <g style=\"fill: #262626\" transform=\"translate(481.203428 374.861094) scale(0.11 -0.11)\">\n",
       "       <use xlink:href=\"#ArialMT-32\"/>\n",
       "       <use xlink:href=\"#ArialMT-30\" transform=\"translate(55.615234 0)\"/>\n",
       "       <use xlink:href=\"#ArialMT-31\" transform=\"translate(111.230469 0)\"/>\n",
       "       <use xlink:href=\"#ArialMT-39\" transform=\"translate(166.845703 0)\"/>\n",
       "      </g>\n",
       "     </g>\n",
       "    </g>\n",
       "    <g id=\"xtick_16\">\n",
       "     <g id=\"line2d_16\">\n",
       "      <path d=\"M 523.277063 357.4875 \n",
       "L 523.277063 24.8475 \n",
       "\" clip-path=\"url(#p6add280436)\" style=\"fill: none; stroke: #cccccc; stroke-linecap: round\"/>\n",
       "     </g>\n",
       "     <g id=\"text_16\">\n",
       "      <!-- 2020 -->\n",
       "      <g style=\"fill: #262626\" transform=\"translate(511.043001 374.861094) scale(0.11 -0.11)\">\n",
       "       <use xlink:href=\"#ArialMT-32\"/>\n",
       "       <use xlink:href=\"#ArialMT-30\" transform=\"translate(55.615234 0)\"/>\n",
       "       <use xlink:href=\"#ArialMT-32\" transform=\"translate(111.230469 0)\"/>\n",
       "       <use xlink:href=\"#ArialMT-30\" transform=\"translate(166.845703 0)\"/>\n",
       "      </g>\n",
       "     </g>\n",
       "    </g>\n",
       "    <g id=\"xtick_17\">\n",
       "     <g id=\"line2d_17\">\n",
       "      <path d=\"M 553.116635 357.4875 \n",
       "L 553.116635 24.8475 \n",
       "\" clip-path=\"url(#p6add280436)\" style=\"fill: none; stroke: #cccccc; stroke-linecap: round\"/>\n",
       "     </g>\n",
       "     <g id=\"text_17\">\n",
       "      <!-- 2021 -->\n",
       "      <g style=\"fill: #262626\" transform=\"translate(540.882573 374.861094) scale(0.11 -0.11)\">\n",
       "       <use xlink:href=\"#ArialMT-32\"/>\n",
       "       <use xlink:href=\"#ArialMT-30\" transform=\"translate(55.615234 0)\"/>\n",
       "       <use xlink:href=\"#ArialMT-32\" transform=\"translate(111.230469 0)\"/>\n",
       "       <use xlink:href=\"#ArialMT-31\" transform=\"translate(166.845703 0)\"/>\n",
       "      </g>\n",
       "     </g>\n",
       "    </g>\n",
       "    <g id=\"xtick_18\">\n",
       "     <g id=\"line2d_18\">\n",
       "      <path d=\"M 582.956207 357.4875 \n",
       "L 582.956207 24.8475 \n",
       "\" clip-path=\"url(#p6add280436)\" style=\"fill: none; stroke: #cccccc; stroke-linecap: round\"/>\n",
       "     </g>\n",
       "     <g id=\"text_18\">\n",
       "      <!-- 2022 -->\n",
       "      <g style=\"fill: #262626\" transform=\"translate(570.722145 374.861094) scale(0.11 -0.11)\">\n",
       "       <use xlink:href=\"#ArialMT-32\"/>\n",
       "       <use xlink:href=\"#ArialMT-30\" transform=\"translate(55.615234 0)\"/>\n",
       "       <use xlink:href=\"#ArialMT-32\" transform=\"translate(111.230469 0)\"/>\n",
       "       <use xlink:href=\"#ArialMT-32\" transform=\"translate(166.845703 0)\"/>\n",
       "      </g>\n",
       "     </g>\n",
       "    </g>\n",
       "    <g id=\"text_19\">\n",
       "     <!-- Year -->\n",
       "     <g style=\"fill: #262626\" transform=\"translate(317.194219 389.636719) scale(0.12 -0.12)\">\n",
       "      <defs>\n",
       "       <path id=\"ArialMT-59\" d=\"M 1784 0 \n",
       "L 1784 1941 \n",
       "L 19 4581 \n",
       "L 756 4581 \n",
       "L 1659 3200 \n",
       "Q 1909 2813 2125 2425 \n",
       "Q 2331 2784 2625 3234 \n",
       "L 3513 4581 \n",
       "L 4219 4581 \n",
       "L 2391 1941 \n",
       "L 2391 0 \n",
       "L 1784 0 \n",
       "z\n",
       "\" transform=\"scale(0.015625)\"/>\n",
       "       <path id=\"ArialMT-65\" d=\"M 2694 1069 \n",
       "L 3275 997 \n",
       "Q 3138 488 2766 206 \n",
       "Q 2394 -75 1816 -75 \n",
       "Q 1088 -75 661 373 \n",
       "Q 234 822 234 1631 \n",
       "Q 234 2469 665 2931 \n",
       "Q 1097 3394 1784 3394 \n",
       "Q 2450 3394 2872 2941 \n",
       "Q 3294 2488 3294 1666 \n",
       "Q 3294 1616 3291 1516 \n",
       "L 816 1516 \n",
       "Q 847 969 1125 678 \n",
       "Q 1403 388 1819 388 \n",
       "Q 2128 388 2347 550 \n",
       "Q 2566 713 2694 1069 \n",
       "z\n",
       "M 847 1978 \n",
       "L 2700 1978 \n",
       "Q 2663 2397 2488 2606 \n",
       "Q 2219 2931 1791 2931 \n",
       "Q 1403 2931 1139 2672 \n",
       "Q 875 2413 847 1978 \n",
       "z\n",
       "\" transform=\"scale(0.015625)\"/>\n",
       "       <path id=\"ArialMT-61\" d=\"M 2588 409 \n",
       "Q 2275 144 1986 34 \n",
       "Q 1697 -75 1366 -75 \n",
       "Q 819 -75 525 192 \n",
       "Q 231 459 231 875 \n",
       "Q 231 1119 342 1320 \n",
       "Q 453 1522 633 1644 \n",
       "Q 813 1766 1038 1828 \n",
       "Q 1203 1872 1538 1913 \n",
       "Q 2219 1994 2541 2106 \n",
       "Q 2544 2222 2544 2253 \n",
       "Q 2544 2597 2384 2738 \n",
       "Q 2169 2928 1744 2928 \n",
       "Q 1347 2928 1158 2789 \n",
       "Q 969 2650 878 2297 \n",
       "L 328 2372 \n",
       "Q 403 2725 575 2942 \n",
       "Q 747 3159 1072 3276 \n",
       "Q 1397 3394 1825 3394 \n",
       "Q 2250 3394 2515 3294 \n",
       "Q 2781 3194 2906 3042 \n",
       "Q 3031 2891 3081 2659 \n",
       "Q 3109 2516 3109 2141 \n",
       "L 3109 1391 \n",
       "Q 3109 606 3145 398 \n",
       "Q 3181 191 3288 0 \n",
       "L 2700 0 \n",
       "Q 2613 175 2588 409 \n",
       "z\n",
       "M 2541 1666 \n",
       "Q 2234 1541 1622 1453 \n",
       "Q 1275 1403 1131 1340 \n",
       "Q 988 1278 909 1158 \n",
       "Q 831 1038 831 891 \n",
       "Q 831 666 1001 516 \n",
       "Q 1172 366 1500 366 \n",
       "Q 1825 366 2078 508 \n",
       "Q 2331 650 2450 897 \n",
       "Q 2541 1088 2541 1459 \n",
       "L 2541 1666 \n",
       "z\n",
       "\" transform=\"scale(0.015625)\"/>\n",
       "       <path id=\"ArialMT-72\" d=\"M 416 0 \n",
       "L 416 3319 \n",
       "L 922 3319 \n",
       "L 922 2816 \n",
       "Q 1116 3169 1280 3281 \n",
       "Q 1444 3394 1641 3394 \n",
       "Q 1925 3394 2219 3213 \n",
       "L 2025 2691 \n",
       "Q 1819 2813 1613 2813 \n",
       "Q 1428 2813 1281 2702 \n",
       "Q 1134 2591 1072 2394 \n",
       "Q 978 2094 978 1738 \n",
       "L 978 0 \n",
       "L 416 0 \n",
       "z\n",
       "\" transform=\"scale(0.015625)\"/>\n",
       "      </defs>\n",
       "      <use xlink:href=\"#ArialMT-59\"/>\n",
       "      <use xlink:href=\"#ArialMT-65\" transform=\"translate(57.574219 0)\"/>\n",
       "      <use xlink:href=\"#ArialMT-61\" transform=\"translate(113.189453 0)\"/>\n",
       "      <use xlink:href=\"#ArialMT-72\" transform=\"translate(168.804688 0)\"/>\n",
       "     </g>\n",
       "    </g>\n",
       "   </g>\n",
       "   <g id=\"matplotlib.axis_2\">\n",
       "    <g id=\"ytick_1\">\n",
       "     <g id=\"line2d_19\">\n",
       "      <path d=\"M 50.319844 344.438733 \n",
       "L 608.319844 344.438733 \n",
       "\" clip-path=\"url(#p6add280436)\" style=\"fill: none; stroke: #cccccc; stroke-linecap: round\"/>\n",
       "     </g>\n",
       "     <g id=\"text_20\">\n",
       "      <!-- 0 -->\n",
       "      <g style=\"fill: #262626\" transform=\"translate(34.702813 348.37553) scale(0.11 -0.11)\">\n",
       "       <use xlink:href=\"#ArialMT-30\"/>\n",
       "      </g>\n",
       "     </g>\n",
       "    </g>\n",
       "    <g id=\"ytick_2\">\n",
       "     <g id=\"line2d_20\">\n",
       "      <path d=\"M 50.319844 303.014075 \n",
       "L 608.319844 303.014075 \n",
       "\" clip-path=\"url(#p6add280436)\" style=\"fill: none; stroke: #cccccc; stroke-linecap: round\"/>\n",
       "     </g>\n",
       "     <g id=\"text_21\">\n",
       "      <!-- 20 -->\n",
       "      <g style=\"fill: #262626\" transform=\"translate(28.585781 306.950872) scale(0.11 -0.11)\">\n",
       "       <use xlink:href=\"#ArialMT-32\"/>\n",
       "       <use xlink:href=\"#ArialMT-30\" transform=\"translate(55.615234 0)\"/>\n",
       "      </g>\n",
       "     </g>\n",
       "    </g>\n",
       "    <g id=\"ytick_3\">\n",
       "     <g id=\"line2d_21\">\n",
       "      <path d=\"M 50.319844 261.589418 \n",
       "L 608.319844 261.589418 \n",
       "\" clip-path=\"url(#p6add280436)\" style=\"fill: none; stroke: #cccccc; stroke-linecap: round\"/>\n",
       "     </g>\n",
       "     <g id=\"text_22\">\n",
       "      <!-- 40 -->\n",
       "      <g style=\"fill: #262626\" transform=\"translate(28.585781 265.526215) scale(0.11 -0.11)\">\n",
       "       <use xlink:href=\"#ArialMT-34\"/>\n",
       "       <use xlink:href=\"#ArialMT-30\" transform=\"translate(55.615234 0)\"/>\n",
       "      </g>\n",
       "     </g>\n",
       "    </g>\n",
       "    <g id=\"ytick_4\">\n",
       "     <g id=\"line2d_22\">\n",
       "      <path d=\"M 50.319844 220.16476 \n",
       "L 608.319844 220.16476 \n",
       "\" clip-path=\"url(#p6add280436)\" style=\"fill: none; stroke: #cccccc; stroke-linecap: round\"/>\n",
       "     </g>\n",
       "     <g id=\"text_23\">\n",
       "      <!-- 60 -->\n",
       "      <g style=\"fill: #262626\" transform=\"translate(28.585781 224.101557) scale(0.11 -0.11)\">\n",
       "       <use xlink:href=\"#ArialMT-36\"/>\n",
       "       <use xlink:href=\"#ArialMT-30\" transform=\"translate(55.615234 0)\"/>\n",
       "      </g>\n",
       "     </g>\n",
       "    </g>\n",
       "    <g id=\"ytick_5\">\n",
       "     <g id=\"line2d_23\">\n",
       "      <path d=\"M 50.319844 178.740103 \n",
       "L 608.319844 178.740103 \n",
       "\" clip-path=\"url(#p6add280436)\" style=\"fill: none; stroke: #cccccc; stroke-linecap: round\"/>\n",
       "     </g>\n",
       "     <g id=\"text_24\">\n",
       "      <!-- 80 -->\n",
       "      <g style=\"fill: #262626\" transform=\"translate(28.585781 182.6769) scale(0.11 -0.11)\">\n",
       "       <use xlink:href=\"#ArialMT-38\"/>\n",
       "       <use xlink:href=\"#ArialMT-30\" transform=\"translate(55.615234 0)\"/>\n",
       "      </g>\n",
       "     </g>\n",
       "    </g>\n",
       "    <g id=\"ytick_6\">\n",
       "     <g id=\"line2d_24\">\n",
       "      <path d=\"M 50.319844 137.315445 \n",
       "L 608.319844 137.315445 \n",
       "\" clip-path=\"url(#p6add280436)\" style=\"fill: none; stroke: #cccccc; stroke-linecap: round\"/>\n",
       "     </g>\n",
       "     <g id=\"text_25\">\n",
       "      <!-- 100 -->\n",
       "      <g style=\"fill: #262626\" transform=\"translate(22.46875 141.252242) scale(0.11 -0.11)\">\n",
       "       <use xlink:href=\"#ArialMT-31\"/>\n",
       "       <use xlink:href=\"#ArialMT-30\" transform=\"translate(55.615234 0)\"/>\n",
       "       <use xlink:href=\"#ArialMT-30\" transform=\"translate(111.230469 0)\"/>\n",
       "      </g>\n",
       "     </g>\n",
       "    </g>\n",
       "    <g id=\"ytick_7\">\n",
       "     <g id=\"line2d_25\">\n",
       "      <path d=\"M 50.319844 95.890788 \n",
       "L 608.319844 95.890788 \n",
       "\" clip-path=\"url(#p6add280436)\" style=\"fill: none; stroke: #cccccc; stroke-linecap: round\"/>\n",
       "     </g>\n",
       "     <g id=\"text_26\">\n",
       "      <!-- 120 -->\n",
       "      <g style=\"fill: #262626\" transform=\"translate(22.46875 99.827585) scale(0.11 -0.11)\">\n",
       "       <use xlink:href=\"#ArialMT-31\"/>\n",
       "       <use xlink:href=\"#ArialMT-32\" transform=\"translate(55.615234 0)\"/>\n",
       "       <use xlink:href=\"#ArialMT-30\" transform=\"translate(111.230469 0)\"/>\n",
       "      </g>\n",
       "     </g>\n",
       "    </g>\n",
       "    <g id=\"ytick_8\">\n",
       "     <g id=\"line2d_26\">\n",
       "      <path d=\"M 50.319844 54.46613 \n",
       "L 608.319844 54.46613 \n",
       "\" clip-path=\"url(#p6add280436)\" style=\"fill: none; stroke: #cccccc; stroke-linecap: round\"/>\n",
       "     </g>\n",
       "     <g id=\"text_27\">\n",
       "      <!-- 140 -->\n",
       "      <g style=\"fill: #262626\" transform=\"translate(22.46875 58.402927) scale(0.11 -0.11)\">\n",
       "       <use xlink:href=\"#ArialMT-31\"/>\n",
       "       <use xlink:href=\"#ArialMT-34\" transform=\"translate(55.615234 0)\"/>\n",
       "       <use xlink:href=\"#ArialMT-30\" transform=\"translate(111.230469 0)\"/>\n",
       "      </g>\n",
       "     </g>\n",
       "    </g>\n",
       "    <g id=\"text_28\">\n",
       "     <!-- Cyber Operations -->\n",
       "     <g style=\"fill: #262626\" transform=\"translate(15.943125 238.185937) rotate(-90) scale(0.12 -0.12)\">\n",
       "      <defs>\n",
       "       <path id=\"ArialMT-43\" d=\"M 3763 1606 \n",
       "L 4369 1453 \n",
       "Q 4178 706 3683 314 \n",
       "Q 3188 -78 2472 -78 \n",
       "Q 1731 -78 1267 223 \n",
       "Q 803 525 561 1097 \n",
       "Q 319 1669 319 2325 \n",
       "Q 319 3041 592 3573 \n",
       "Q 866 4106 1370 4382 \n",
       "Q 1875 4659 2481 4659 \n",
       "Q 3169 4659 3637 4309 \n",
       "Q 4106 3959 4291 3325 \n",
       "L 3694 3184 \n",
       "Q 3534 3684 3231 3912 \n",
       "Q 2928 4141 2469 4141 \n",
       "Q 1941 4141 1586 3887 \n",
       "Q 1231 3634 1087 3207 \n",
       "Q 944 2781 944 2328 \n",
       "Q 944 1744 1114 1308 \n",
       "Q 1284 872 1643 656 \n",
       "Q 2003 441 2422 441 \n",
       "Q 2931 441 3284 734 \n",
       "Q 3638 1028 3763 1606 \n",
       "z\n",
       "\" transform=\"scale(0.015625)\"/>\n",
       "       <path id=\"ArialMT-79\" d=\"M 397 -1278 \n",
       "L 334 -750 \n",
       "Q 519 -800 656 -800 \n",
       "Q 844 -800 956 -737 \n",
       "Q 1069 -675 1141 -563 \n",
       "Q 1194 -478 1313 -144 \n",
       "Q 1328 -97 1363 -6 \n",
       "L 103 3319 \n",
       "L 709 3319 \n",
       "L 1400 1397 \n",
       "Q 1534 1031 1641 628 \n",
       "Q 1738 1016 1872 1384 \n",
       "L 2581 3319 \n",
       "L 3144 3319 \n",
       "L 1881 -56 \n",
       "Q 1678 -603 1566 -809 \n",
       "Q 1416 -1088 1222 -1217 \n",
       "Q 1028 -1347 759 -1347 \n",
       "Q 597 -1347 397 -1278 \n",
       "z\n",
       "\" transform=\"scale(0.015625)\"/>\n",
       "       <path id=\"ArialMT-62\" d=\"M 941 0 \n",
       "L 419 0 \n",
       "L 419 4581 \n",
       "L 981 4581 \n",
       "L 981 2947 \n",
       "Q 1338 3394 1891 3394 \n",
       "Q 2197 3394 2470 3270 \n",
       "Q 2744 3147 2920 2923 \n",
       "Q 3097 2700 3197 2384 \n",
       "Q 3297 2069 3297 1709 \n",
       "Q 3297 856 2875 390 \n",
       "Q 2453 -75 1863 -75 \n",
       "Q 1275 -75 941 416 \n",
       "L 941 0 \n",
       "z\n",
       "M 934 1684 \n",
       "Q 934 1088 1097 822 \n",
       "Q 1363 388 1816 388 \n",
       "Q 2184 388 2453 708 \n",
       "Q 2722 1028 2722 1663 \n",
       "Q 2722 2313 2464 2622 \n",
       "Q 2206 2931 1841 2931 \n",
       "Q 1472 2931 1203 2611 \n",
       "Q 934 2291 934 1684 \n",
       "z\n",
       "\" transform=\"scale(0.015625)\"/>\n",
       "       <path id=\"ArialMT-20\" transform=\"scale(0.015625)\"/>\n",
       "       <path id=\"ArialMT-4f\" d=\"M 309 2231 \n",
       "Q 309 3372 921 4017 \n",
       "Q 1534 4663 2503 4663 \n",
       "Q 3138 4663 3647 4359 \n",
       "Q 4156 4056 4423 3514 \n",
       "Q 4691 2972 4691 2284 \n",
       "Q 4691 1588 4409 1038 \n",
       "Q 4128 488 3612 205 \n",
       "Q 3097 -78 2500 -78 \n",
       "Q 1853 -78 1343 234 \n",
       "Q 834 547 571 1087 \n",
       "Q 309 1628 309 2231 \n",
       "z\n",
       "M 934 2222 \n",
       "Q 934 1394 1379 917 \n",
       "Q 1825 441 2497 441 \n",
       "Q 3181 441 3623 922 \n",
       "Q 4066 1403 4066 2288 \n",
       "Q 4066 2847 3877 3264 \n",
       "Q 3688 3681 3323 3911 \n",
       "Q 2959 4141 2506 4141 \n",
       "Q 1863 4141 1398 3698 \n",
       "Q 934 3256 934 2222 \n",
       "z\n",
       "\" transform=\"scale(0.015625)\"/>\n",
       "       <path id=\"ArialMT-70\" d=\"M 422 -1272 \n",
       "L 422 3319 \n",
       "L 934 3319 \n",
       "L 934 2888 \n",
       "Q 1116 3141 1344 3267 \n",
       "Q 1572 3394 1897 3394 \n",
       "Q 2322 3394 2647 3175 \n",
       "Q 2972 2956 3137 2557 \n",
       "Q 3303 2159 3303 1684 \n",
       "Q 3303 1175 3120 767 \n",
       "Q 2938 359 2589 142 \n",
       "Q 2241 -75 1856 -75 \n",
       "Q 1575 -75 1351 44 \n",
       "Q 1128 163 984 344 \n",
       "L 984 -1272 \n",
       "L 422 -1272 \n",
       "z\n",
       "M 931 1641 \n",
       "Q 931 1000 1190 694 \n",
       "Q 1450 388 1819 388 \n",
       "Q 2194 388 2461 705 \n",
       "Q 2728 1022 2728 1688 \n",
       "Q 2728 2322 2467 2637 \n",
       "Q 2206 2953 1844 2953 \n",
       "Q 1484 2953 1207 2617 \n",
       "Q 931 2281 931 1641 \n",
       "z\n",
       "\" transform=\"scale(0.015625)\"/>\n",
       "       <path id=\"ArialMT-74\" d=\"M 1650 503 \n",
       "L 1731 6 \n",
       "Q 1494 -44 1306 -44 \n",
       "Q 1000 -44 831 53 \n",
       "Q 663 150 594 308 \n",
       "Q 525 466 525 972 \n",
       "L 525 2881 \n",
       "L 113 2881 \n",
       "L 113 3319 \n",
       "L 525 3319 \n",
       "L 525 4141 \n",
       "L 1084 4478 \n",
       "L 1084 3319 \n",
       "L 1650 3319 \n",
       "L 1650 2881 \n",
       "L 1084 2881 \n",
       "L 1084 941 \n",
       "Q 1084 700 1114 631 \n",
       "Q 1144 563 1211 522 \n",
       "Q 1278 481 1403 481 \n",
       "Q 1497 481 1650 503 \n",
       "z\n",
       "\" transform=\"scale(0.015625)\"/>\n",
       "       <path id=\"ArialMT-69\" d=\"M 425 3934 \n",
       "L 425 4581 \n",
       "L 988 4581 \n",
       "L 988 3934 \n",
       "L 425 3934 \n",
       "z\n",
       "M 425 0 \n",
       "L 425 3319 \n",
       "L 988 3319 \n",
       "L 988 0 \n",
       "L 425 0 \n",
       "z\n",
       "\" transform=\"scale(0.015625)\"/>\n",
       "       <path id=\"ArialMT-6f\" d=\"M 213 1659 \n",
       "Q 213 2581 725 3025 \n",
       "Q 1153 3394 1769 3394 \n",
       "Q 2453 3394 2887 2945 \n",
       "Q 3322 2497 3322 1706 \n",
       "Q 3322 1066 3130 698 \n",
       "Q 2938 331 2570 128 \n",
       "Q 2203 -75 1769 -75 \n",
       "Q 1072 -75 642 372 \n",
       "Q 213 819 213 1659 \n",
       "z\n",
       "M 791 1659 \n",
       "Q 791 1022 1069 705 \n",
       "Q 1347 388 1769 388 \n",
       "Q 2188 388 2466 706 \n",
       "Q 2744 1025 2744 1678 \n",
       "Q 2744 2294 2464 2611 \n",
       "Q 2184 2928 1769 2928 \n",
       "Q 1347 2928 1069 2612 \n",
       "Q 791 2297 791 1659 \n",
       "z\n",
       "\" transform=\"scale(0.015625)\"/>\n",
       "       <path id=\"ArialMT-6e\" d=\"M 422 0 \n",
       "L 422 3319 \n",
       "L 928 3319 \n",
       "L 928 2847 \n",
       "Q 1294 3394 1984 3394 \n",
       "Q 2284 3394 2536 3286 \n",
       "Q 2788 3178 2913 3003 \n",
       "Q 3038 2828 3088 2588 \n",
       "Q 3119 2431 3119 2041 \n",
       "L 3119 0 \n",
       "L 2556 0 \n",
       "L 2556 2019 \n",
       "Q 2556 2363 2490 2533 \n",
       "Q 2425 2703 2258 2804 \n",
       "Q 2091 2906 1866 2906 \n",
       "Q 1506 2906 1245 2678 \n",
       "Q 984 2450 984 1813 \n",
       "L 984 0 \n",
       "L 422 0 \n",
       "z\n",
       "\" transform=\"scale(0.015625)\"/>\n",
       "       <path id=\"ArialMT-73\" d=\"M 197 991 \n",
       "L 753 1078 \n",
       "Q 800 744 1014 566 \n",
       "Q 1228 388 1613 388 \n",
       "Q 2000 388 2187 545 \n",
       "Q 2375 703 2375 916 \n",
       "Q 2375 1106 2209 1216 \n",
       "Q 2094 1291 1634 1406 \n",
       "Q 1016 1563 777 1677 \n",
       "Q 538 1791 414 1992 \n",
       "Q 291 2194 291 2438 \n",
       "Q 291 2659 392 2848 \n",
       "Q 494 3038 669 3163 \n",
       "Q 800 3259 1026 3326 \n",
       "Q 1253 3394 1513 3394 \n",
       "Q 1903 3394 2198 3281 \n",
       "Q 2494 3169 2634 2976 \n",
       "Q 2775 2784 2828 2463 \n",
       "L 2278 2388 \n",
       "Q 2241 2644 2061 2787 \n",
       "Q 1881 2931 1553 2931 \n",
       "Q 1166 2931 1000 2803 \n",
       "Q 834 2675 834 2503 \n",
       "Q 834 2394 903 2306 \n",
       "Q 972 2216 1119 2156 \n",
       "Q 1203 2125 1616 2013 \n",
       "Q 2213 1853 2448 1751 \n",
       "Q 2684 1650 2818 1456 \n",
       "Q 2953 1263 2953 975 \n",
       "Q 2953 694 2789 445 \n",
       "Q 2625 197 2315 61 \n",
       "Q 2006 -75 1616 -75 \n",
       "Q 969 -75 630 194 \n",
       "Q 291 463 197 991 \n",
       "z\n",
       "\" transform=\"scale(0.015625)\"/>\n",
       "      </defs>\n",
       "      <use xlink:href=\"#ArialMT-43\"/>\n",
       "      <use xlink:href=\"#ArialMT-79\" transform=\"translate(72.216797 0)\"/>\n",
       "      <use xlink:href=\"#ArialMT-62\" transform=\"translate(122.216797 0)\"/>\n",
       "      <use xlink:href=\"#ArialMT-65\" transform=\"translate(177.832031 0)\"/>\n",
       "      <use xlink:href=\"#ArialMT-72\" transform=\"translate(233.447266 0)\"/>\n",
       "      <use xlink:href=\"#ArialMT-20\" transform=\"translate(266.748047 0)\"/>\n",
       "      <use xlink:href=\"#ArialMT-4f\" transform=\"translate(294.53125 0)\"/>\n",
       "      <use xlink:href=\"#ArialMT-70\" transform=\"translate(372.314453 0)\"/>\n",
       "      <use xlink:href=\"#ArialMT-65\" transform=\"translate(427.929688 0)\"/>\n",
       "      <use xlink:href=\"#ArialMT-72\" transform=\"translate(483.544922 0)\"/>\n",
       "      <use xlink:href=\"#ArialMT-61\" transform=\"translate(516.845703 0)\"/>\n",
       "      <use xlink:href=\"#ArialMT-74\" transform=\"translate(572.460938 0)\"/>\n",
       "      <use xlink:href=\"#ArialMT-69\" transform=\"translate(600.244141 0)\"/>\n",
       "      <use xlink:href=\"#ArialMT-6f\" transform=\"translate(622.460938 0)\"/>\n",
       "      <use xlink:href=\"#ArialMT-6e\" transform=\"translate(678.076172 0)\"/>\n",
       "      <use xlink:href=\"#ArialMT-73\" transform=\"translate(733.691406 0)\"/>\n",
       "     </g>\n",
       "    </g>\n",
       "   </g>\n",
       "   <g id=\"FillBetweenPolyCollection_1\"/>\n",
       "   <g id=\"line2d_27\">\n",
       "    <path d=\"M 75.68348 342.3675 \n",
       "L 105.523052 338.225034 \n",
       "L 135.362624 323.726404 \n",
       "L 165.202197 329.940103 \n",
       "L 195.041769 336.153801 \n",
       "L 224.881341 325.797637 \n",
       "L 254.720913 313.37024 \n",
       "L 284.560485 319.583938 \n",
       "L 314.400058 307.156541 \n",
       "L 344.23963 278.159281 \n",
       "L 374.079202 274.016815 \n",
       "L 403.918774 276.088048 \n",
       "L 433.758346 249.162021 \n",
       "L 463.597919 178.740103 \n",
       "L 493.437491 191.1675 \n",
       "L 523.277063 95.890788 \n",
       "L 553.116635 120.745582 \n",
       "L 582.956207 39.9675 \n",
       "\" clip-path=\"url(#p6add280436)\" style=\"fill: none; stroke: #4c72b0; stroke-width: 1.5; stroke-linecap: round\"/>\n",
       "    <defs>\n",
       "     <path id=\"md0db954979\" d=\"M 0 3 \n",
       "C 0.795609 3 1.55874 2.683901 2.12132 2.12132 \n",
       "C 2.683901 1.55874 3 0.795609 3 0 \n",
       "C 3 -0.795609 2.683901 -1.55874 2.12132 -2.12132 \n",
       "C 1.55874 -2.683901 0.795609 -3 0 -3 \n",
       "C -0.795609 -3 -1.55874 -2.683901 -2.12132 -2.12132 \n",
       "C -2.683901 -1.55874 -3 -0.795609 -3 0 \n",
       "C -3 0.795609 -2.683901 1.55874 -2.12132 2.12132 \n",
       "C -1.55874 2.683901 -0.795609 3 0 3 \n",
       "z\n",
       "\" style=\"stroke: #ffffff; stroke-width: 0.75\"/>\n",
       "    </defs>\n",
       "    <g clip-path=\"url(#p6add280436)\">\n",
       "     <use xlink:href=\"#md0db954979\" x=\"75.68348\" y=\"342.3675\" style=\"fill: #4c72b0; stroke: #ffffff; stroke-width: 0.75\"/>\n",
       "     <use xlink:href=\"#md0db954979\" x=\"105.523052\" y=\"338.225034\" style=\"fill: #4c72b0; stroke: #ffffff; stroke-width: 0.75\"/>\n",
       "     <use xlink:href=\"#md0db954979\" x=\"135.362624\" y=\"323.726404\" style=\"fill: #4c72b0; stroke: #ffffff; stroke-width: 0.75\"/>\n",
       "     <use xlink:href=\"#md0db954979\" x=\"165.202197\" y=\"329.940103\" style=\"fill: #4c72b0; stroke: #ffffff; stroke-width: 0.75\"/>\n",
       "     <use xlink:href=\"#md0db954979\" x=\"195.041769\" y=\"336.153801\" style=\"fill: #4c72b0; stroke: #ffffff; stroke-width: 0.75\"/>\n",
       "     <use xlink:href=\"#md0db954979\" x=\"224.881341\" y=\"325.797637\" style=\"fill: #4c72b0; stroke: #ffffff; stroke-width: 0.75\"/>\n",
       "     <use xlink:href=\"#md0db954979\" x=\"254.720913\" y=\"313.37024\" style=\"fill: #4c72b0; stroke: #ffffff; stroke-width: 0.75\"/>\n",
       "     <use xlink:href=\"#md0db954979\" x=\"284.560485\" y=\"319.583938\" style=\"fill: #4c72b0; stroke: #ffffff; stroke-width: 0.75\"/>\n",
       "     <use xlink:href=\"#md0db954979\" x=\"314.400058\" y=\"307.156541\" style=\"fill: #4c72b0; stroke: #ffffff; stroke-width: 0.75\"/>\n",
       "     <use xlink:href=\"#md0db954979\" x=\"344.23963\" y=\"278.159281\" style=\"fill: #4c72b0; stroke: #ffffff; stroke-width: 0.75\"/>\n",
       "     <use xlink:href=\"#md0db954979\" x=\"374.079202\" y=\"274.016815\" style=\"fill: #4c72b0; stroke: #ffffff; stroke-width: 0.75\"/>\n",
       "     <use xlink:href=\"#md0db954979\" x=\"403.918774\" y=\"276.088048\" style=\"fill: #4c72b0; stroke: #ffffff; stroke-width: 0.75\"/>\n",
       "     <use xlink:href=\"#md0db954979\" x=\"433.758346\" y=\"249.162021\" style=\"fill: #4c72b0; stroke: #ffffff; stroke-width: 0.75\"/>\n",
       "     <use xlink:href=\"#md0db954979\" x=\"463.597919\" y=\"178.740103\" style=\"fill: #4c72b0; stroke: #ffffff; stroke-width: 0.75\"/>\n",
       "     <use xlink:href=\"#md0db954979\" x=\"493.437491\" y=\"191.1675\" style=\"fill: #4c72b0; stroke: #ffffff; stroke-width: 0.75\"/>\n",
       "     <use xlink:href=\"#md0db954979\" x=\"523.277063\" y=\"95.890788\" style=\"fill: #4c72b0; stroke: #ffffff; stroke-width: 0.75\"/>\n",
       "     <use xlink:href=\"#md0db954979\" x=\"553.116635\" y=\"120.745582\" style=\"fill: #4c72b0; stroke: #ffffff; stroke-width: 0.75\"/>\n",
       "     <use xlink:href=\"#md0db954979\" x=\"582.956207\" y=\"39.9675\" style=\"fill: #4c72b0; stroke: #ffffff; stroke-width: 0.75\"/>\n",
       "    </g>\n",
       "   </g>\n",
       "   <g id=\"patch_3\">\n",
       "    <path d=\"M 50.319844 357.4875 \n",
       "L 50.319844 24.8475 \n",
       "\" style=\"fill: none; stroke: #cccccc; stroke-width: 1.25; stroke-linejoin: miter; stroke-linecap: square\"/>\n",
       "   </g>\n",
       "   <g id=\"patch_4\">\n",
       "    <path d=\"M 608.319844 357.4875 \n",
       "L 608.319844 24.8475 \n",
       "\" style=\"fill: none; stroke: #cccccc; stroke-width: 1.25; stroke-linejoin: miter; stroke-linecap: square\"/>\n",
       "   </g>\n",
       "   <g id=\"patch_5\">\n",
       "    <path d=\"M 50.319844 357.4875 \n",
       "L 608.319844 357.4875 \n",
       "\" style=\"fill: none; stroke: #cccccc; stroke-width: 1.25; stroke-linejoin: miter; stroke-linecap: square\"/>\n",
       "   </g>\n",
       "   <g id=\"patch_6\">\n",
       "    <path d=\"M 50.319844 24.8475 \n",
       "L 608.319844 24.8475 \n",
       "\" style=\"fill: none; stroke: #cccccc; stroke-width: 1.25; stroke-linejoin: miter; stroke-linecap: square\"/>\n",
       "   </g>\n",
       "   <g id=\"text_29\">\n",
       "    <!-- Number of Cyber Events per Year -->\n",
       "    <g style=\"fill: #262626\" transform=\"translate(209.701094 18.8475) scale(0.16 -0.16)\">\n",
       "     <defs>\n",
       "      <path id=\"ArialMT-4e\" d=\"M 488 0 \n",
       "L 488 4581 \n",
       "L 1109 4581 \n",
       "L 3516 984 \n",
       "L 3516 4581 \n",
       "L 4097 4581 \n",
       "L 4097 0 \n",
       "L 3475 0 \n",
       "L 1069 3600 \n",
       "L 1069 0 \n",
       "L 488 0 \n",
       "z\n",
       "\" transform=\"scale(0.015625)\"/>\n",
       "      <path id=\"ArialMT-75\" d=\"M 2597 0 \n",
       "L 2597 488 \n",
       "Q 2209 -75 1544 -75 \n",
       "Q 1250 -75 995 37 \n",
       "Q 741 150 617 320 \n",
       "Q 494 491 444 738 \n",
       "Q 409 903 409 1263 \n",
       "L 409 3319 \n",
       "L 972 3319 \n",
       "L 972 1478 \n",
       "Q 972 1038 1006 884 \n",
       "Q 1059 663 1231 536 \n",
       "Q 1403 409 1656 409 \n",
       "Q 1909 409 2131 539 \n",
       "Q 2353 669 2445 892 \n",
       "Q 2538 1116 2538 1541 \n",
       "L 2538 3319 \n",
       "L 3100 3319 \n",
       "L 3100 0 \n",
       "L 2597 0 \n",
       "z\n",
       "\" transform=\"scale(0.015625)\"/>\n",
       "      <path id=\"ArialMT-6d\" d=\"M 422 0 \n",
       "L 422 3319 \n",
       "L 925 3319 \n",
       "L 925 2853 \n",
       "Q 1081 3097 1340 3245 \n",
       "Q 1600 3394 1931 3394 \n",
       "Q 2300 3394 2536 3241 \n",
       "Q 2772 3088 2869 2813 \n",
       "Q 3263 3394 3894 3394 \n",
       "Q 4388 3394 4653 3120 \n",
       "Q 4919 2847 4919 2278 \n",
       "L 4919 0 \n",
       "L 4359 0 \n",
       "L 4359 2091 \n",
       "Q 4359 2428 4304 2576 \n",
       "Q 4250 2725 4106 2815 \n",
       "Q 3963 2906 3769 2906 \n",
       "Q 3419 2906 3187 2673 \n",
       "Q 2956 2441 2956 1928 \n",
       "L 2956 0 \n",
       "L 2394 0 \n",
       "L 2394 2156 \n",
       "Q 2394 2531 2256 2718 \n",
       "Q 2119 2906 1806 2906 \n",
       "Q 1569 2906 1367 2781 \n",
       "Q 1166 2656 1075 2415 \n",
       "Q 984 2175 984 1722 \n",
       "L 984 0 \n",
       "L 422 0 \n",
       "z\n",
       "\" transform=\"scale(0.015625)\"/>\n",
       "      <path id=\"ArialMT-66\" d=\"M 556 0 \n",
       "L 556 2881 \n",
       "L 59 2881 \n",
       "L 59 3319 \n",
       "L 556 3319 \n",
       "L 556 3672 \n",
       "Q 556 4006 616 4169 \n",
       "Q 697 4388 901 4523 \n",
       "Q 1106 4659 1475 4659 \n",
       "Q 1713 4659 2000 4603 \n",
       "L 1916 4113 \n",
       "Q 1741 4144 1584 4144 \n",
       "Q 1328 4144 1222 4034 \n",
       "Q 1116 3925 1116 3625 \n",
       "L 1116 3319 \n",
       "L 1763 3319 \n",
       "L 1763 2881 \n",
       "L 1116 2881 \n",
       "L 1116 0 \n",
       "L 556 0 \n",
       "z\n",
       "\" transform=\"scale(0.015625)\"/>\n",
       "      <path id=\"ArialMT-45\" d=\"M 506 0 \n",
       "L 506 4581 \n",
       "L 3819 4581 \n",
       "L 3819 4041 \n",
       "L 1113 4041 \n",
       "L 1113 2638 \n",
       "L 3647 2638 \n",
       "L 3647 2100 \n",
       "L 1113 2100 \n",
       "L 1113 541 \n",
       "L 3925 541 \n",
       "L 3925 0 \n",
       "L 506 0 \n",
       "z\n",
       "\" transform=\"scale(0.015625)\"/>\n",
       "      <path id=\"ArialMT-76\" d=\"M 1344 0 \n",
       "L 81 3319 \n",
       "L 675 3319 \n",
       "L 1388 1331 \n",
       "Q 1503 1009 1600 663 \n",
       "Q 1675 925 1809 1294 \n",
       "L 2547 3319 \n",
       "L 3125 3319 \n",
       "L 1869 0 \n",
       "L 1344 0 \n",
       "z\n",
       "\" transform=\"scale(0.015625)\"/>\n",
       "     </defs>\n",
       "     <use xlink:href=\"#ArialMT-4e\"/>\n",
       "     <use xlink:href=\"#ArialMT-75\" transform=\"translate(72.216797 0)\"/>\n",
       "     <use xlink:href=\"#ArialMT-6d\" transform=\"translate(127.832031 0)\"/>\n",
       "     <use xlink:href=\"#ArialMT-62\" transform=\"translate(211.132812 0)\"/>\n",
       "     <use xlink:href=\"#ArialMT-65\" transform=\"translate(266.748047 0)\"/>\n",
       "     <use xlink:href=\"#ArialMT-72\" transform=\"translate(322.363281 0)\"/>\n",
       "     <use xlink:href=\"#ArialMT-20\" transform=\"translate(355.664062 0)\"/>\n",
       "     <use xlink:href=\"#ArialMT-6f\" transform=\"translate(383.447266 0)\"/>\n",
       "     <use xlink:href=\"#ArialMT-66\" transform=\"translate(439.0625 0)\"/>\n",
       "     <use xlink:href=\"#ArialMT-20\" transform=\"translate(466.845703 0)\"/>\n",
       "     <use xlink:href=\"#ArialMT-43\" transform=\"translate(494.628906 0)\"/>\n",
       "     <use xlink:href=\"#ArialMT-79\" transform=\"translate(566.845703 0)\"/>\n",
       "     <use xlink:href=\"#ArialMT-62\" transform=\"translate(616.845703 0)\"/>\n",
       "     <use xlink:href=\"#ArialMT-65\" transform=\"translate(672.460938 0)\"/>\n",
       "     <use xlink:href=\"#ArialMT-72\" transform=\"translate(728.076172 0)\"/>\n",
       "     <use xlink:href=\"#ArialMT-20\" transform=\"translate(761.376953 0)\"/>\n",
       "     <use xlink:href=\"#ArialMT-45\" transform=\"translate(789.160156 0)\"/>\n",
       "     <use xlink:href=\"#ArialMT-76\" transform=\"translate(855.859375 0)\"/>\n",
       "     <use xlink:href=\"#ArialMT-65\" transform=\"translate(905.859375 0)\"/>\n",
       "     <use xlink:href=\"#ArialMT-6e\" transform=\"translate(961.474609 0)\"/>\n",
       "     <use xlink:href=\"#ArialMT-74\" transform=\"translate(1017.089844 0)\"/>\n",
       "     <use xlink:href=\"#ArialMT-73\" transform=\"translate(1044.873047 0)\"/>\n",
       "     <use xlink:href=\"#ArialMT-20\" transform=\"translate(1094.873047 0)\"/>\n",
       "     <use xlink:href=\"#ArialMT-70\" transform=\"translate(1122.65625 0)\"/>\n",
       "     <use xlink:href=\"#ArialMT-65\" transform=\"translate(1178.271484 0)\"/>\n",
       "     <use xlink:href=\"#ArialMT-72\" transform=\"translate(1233.886719 0)\"/>\n",
       "     <use xlink:href=\"#ArialMT-20\" transform=\"translate(1267.1875 0)\"/>\n",
       "     <use xlink:href=\"#ArialMT-59\" transform=\"translate(1293.220703 0)\"/>\n",
       "     <use xlink:href=\"#ArialMT-65\" transform=\"translate(1350.794922 0)\"/>\n",
       "     <use xlink:href=\"#ArialMT-61\" transform=\"translate(1406.410156 0)\"/>\n",
       "     <use xlink:href=\"#ArialMT-72\" transform=\"translate(1462.025391 0)\"/>\n",
       "    </g>\n",
       "   </g>\n",
       "  </g>\n",
       " </g>\n",
       " <defs>\n",
       "  <clipPath id=\"p6add280436\">\n",
       "   <rect x=\"50.319844\" y=\"24.8475\" width=\"558\" height=\"332.64\"/>\n",
       "  </clipPath>\n",
       " </defs>\n",
       "</svg>\n"
      ],
      "text/plain": [
       "<Figure size 1000x600 with 1 Axes>"
      ]
     },
     "metadata": {},
     "output_type": "display_data"
    }
   ],
   "source": [
    "\n",
    "# Extract number of cyber operations per year\n",
    "cyber_per_year = df['Date'].dt.year.value_counts().sort_index()\n",
    "\n",
    "# Set plot style\n",
    "sns.set(style=\"whitegrid\")\n",
    "\n",
    "# Create the plot\n",
    "plt.figure(figsize=(10,6))\n",
    "sns.lineplot(x=cyber_per_year.index.astype(int), y=cyber_per_year.values, marker=\"o\")\n",
    "plt.title(\"Number of Cyber Events per Year\", fontsize=16)\n",
    "plt.xlabel(\"Year\", fontsize=12)\n",
    "plt.ylabel(\"Cyber Operations\", fontsize=12)\n",
    "plt.xticks(cyber_per_year.index.astype(int))  # Ensure x-axis shows integer ticks\n",
    "plt.grid(True)\n",
    "plt.show()"
   ]
  },
  {
   "cell_type": "code",
   "execution_count": 59,
   "id": "bc37e466",
   "metadata": {},
   "outputs": [
    {
     "data": {
      "text/plain": [
       "Affiliations\n",
       "Lazarus Group                                     26\n",
       "APT 28                                            15\n",
       "Believed to be the work of APT 28                 15\n",
       "Sandworm                                          15\n",
       "Winnti Umbrella                                   10\n",
       "Mustang Panda                                     10\n",
       "Gamaredon                                         10\n",
       "Ocean Lotus                                        9\n",
       "MuddyWater                                         9\n",
       "Kimsuky                                            9\n",
       "Charming Kitten                                    8\n",
       "Believed to be the work of?APT 28                  7\n",
       "Turla                                              7\n",
       "Believed to be the work of Russia's government     6\n",
       "APT 10                                             6\n",
       "Name: count, dtype: int64"
      ]
     },
     "execution_count": 59,
     "metadata": {},
     "output_type": "execute_result"
    }
   ],
   "source": [
    "aff_counts = df[df.Affiliations!='Unknown'].Affiliations.value_counts()\n",
    "aff_counts.nlargest(15)"
   ]
  },
  {
   "cell_type": "code",
   "execution_count": 61,
   "id": "f4f87661",
   "metadata": {},
   "outputs": [
    {
     "data": {
      "image/svg+xml": [
       "<?xml version=\"1.0\" encoding=\"utf-8\" standalone=\"no\"?>\n",
       "<!DOCTYPE svg PUBLIC \"-//W3C//DTD SVG 1.1//EN\"\n",
       "  \"http://www.w3.org/Graphics/SVG/1.1/DTD/svg11.dtd\">\n",
       "<svg xmlns:xlink=\"http://www.w3.org/1999/xlink\" width=\"627.979219pt\" height=\"314.807469pt\" viewBox=\"0 0 627.979219 314.807469\" xmlns=\"http://www.w3.org/2000/svg\" version=\"1.1\">\n",
       " <metadata>\n",
       "  <rdf:RDF xmlns:dc=\"http://purl.org/dc/elements/1.1/\" xmlns:cc=\"http://creativecommons.org/ns#\" xmlns:rdf=\"http://www.w3.org/1999/02/22-rdf-syntax-ns#\">\n",
       "   <cc:Work>\n",
       "    <dc:type rdf:resource=\"http://purl.org/dc/dcmitype/StillImage\"/>\n",
       "    <dc:date>2025-10-20T18:13:50.012837</dc:date>\n",
       "    <dc:format>image/svg+xml</dc:format>\n",
       "    <dc:creator>\n",
       "     <cc:Agent>\n",
       "      <dc:title>Matplotlib v3.10.7, https://matplotlib.org/</dc:title>\n",
       "     </cc:Agent>\n",
       "    </dc:creator>\n",
       "   </cc:Work>\n",
       "  </rdf:RDF>\n",
       " </metadata>\n",
       " <defs>\n",
       "  <style type=\"text/css\">*{stroke-linejoin: round; stroke-linecap: butt}</style>\n",
       " </defs>\n",
       " <g id=\"figure_1\">\n",
       "  <g id=\"patch_1\">\n",
       "   <path d=\"M -0 314.807469 \n",
       "L 627.979219 314.807469 \n",
       "L 627.979219 0 \n",
       "L -0 0 \n",
       "z\n",
       "\" style=\"fill: #ffffff\"/>\n",
       "  </g>\n",
       "  <g id=\"axes_1\">\n",
       "   <g id=\"patch_2\">\n",
       "    <path d=\"M 263.659219 288.047625 \n",
       "L 620.779219 288.047625 \n",
       "L 620.779219 21.935625 \n",
       "L 263.659219 21.935625 \n",
       "z\n",
       "\" style=\"fill: #ffffff\"/>\n",
       "   </g>\n",
       "   <g id=\"matplotlib.axis_1\">\n",
       "    <g id=\"xtick_1\">\n",
       "     <g id=\"line2d_1\">\n",
       "      <path d=\"M 263.659219 288.047625 \n",
       "L 263.659219 21.935625 \n",
       "\" clip-path=\"url(#p48d5984b0b)\" style=\"fill: none; stroke: #cccccc; stroke-linecap: round\"/>\n",
       "     </g>\n",
       "     <g id=\"text_1\">\n",
       "      <!-- 0 -->\n",
       "      <g style=\"fill: #262626\" transform=\"translate(260.600703 305.421219) scale(0.11 -0.11)\">\n",
       "       <defs>\n",
       "        <path id=\"ArialMT-30\" d=\"M 266 2259 \n",
       "Q 266 3072 433 3567 \n",
       "Q 600 4063 929 4331 \n",
       "Q 1259 4600 1759 4600 \n",
       "Q 2128 4600 2406 4451 \n",
       "Q 2684 4303 2865 4023 \n",
       "Q 3047 3744 3150 3342 \n",
       "Q 3253 2941 3253 2259 \n",
       "Q 3253 1453 3087 958 \n",
       "Q 2922 463 2592 192 \n",
       "Q 2263 -78 1759 -78 \n",
       "Q 1097 -78 719 397 \n",
       "Q 266 969 266 2259 \n",
       "z\n",
       "M 844 2259 \n",
       "Q 844 1131 1108 757 \n",
       "Q 1372 384 1759 384 \n",
       "Q 2147 384 2411 759 \n",
       "Q 2675 1134 2675 2259 \n",
       "Q 2675 3391 2411 3762 \n",
       "Q 2147 4134 1753 4134 \n",
       "Q 1366 4134 1134 3806 \n",
       "Q 844 3388 844 2259 \n",
       "z\n",
       "\" transform=\"scale(0.015625)\"/>\n",
       "       </defs>\n",
       "       <use xlink:href=\"#ArialMT-30\"/>\n",
       "      </g>\n",
       "     </g>\n",
       "    </g>\n",
       "    <g id=\"xtick_2\">\n",
       "     <g id=\"line2d_2\">\n",
       "      <path d=\"M 329.065812 288.047625 \n",
       "L 329.065812 21.935625 \n",
       "\" clip-path=\"url(#p48d5984b0b)\" style=\"fill: none; stroke: #cccccc; stroke-linecap: round\"/>\n",
       "     </g>\n",
       "     <g id=\"text_2\">\n",
       "      <!-- 5 -->\n",
       "      <g style=\"fill: #262626\" transform=\"translate(326.007297 305.421219) scale(0.11 -0.11)\">\n",
       "       <defs>\n",
       "        <path id=\"ArialMT-35\" d=\"M 266 1200 \n",
       "L 856 1250 \n",
       "Q 922 819 1161 601 \n",
       "Q 1400 384 1738 384 \n",
       "Q 2144 384 2425 690 \n",
       "Q 2706 997 2706 1503 \n",
       "Q 2706 1984 2436 2262 \n",
       "Q 2166 2541 1728 2541 \n",
       "Q 1456 2541 1237 2417 \n",
       "Q 1019 2294 894 2097 \n",
       "L 366 2166 \n",
       "L 809 4519 \n",
       "L 3088 4519 \n",
       "L 3088 3981 \n",
       "L 1259 3981 \n",
       "L 1013 2750 \n",
       "Q 1425 3038 1878 3038 \n",
       "Q 2478 3038 2890 2622 \n",
       "Q 3303 2206 3303 1553 \n",
       "Q 3303 931 2941 478 \n",
       "Q 2500 -78 1738 -78 \n",
       "Q 1113 -78 717 272 \n",
       "Q 322 622 266 1200 \n",
       "z\n",
       "\" transform=\"scale(0.015625)\"/>\n",
       "       </defs>\n",
       "       <use xlink:href=\"#ArialMT-35\"/>\n",
       "      </g>\n",
       "     </g>\n",
       "    </g>\n",
       "    <g id=\"xtick_3\">\n",
       "     <g id=\"line2d_3\">\n",
       "      <path d=\"M 394.472406 288.047625 \n",
       "L 394.472406 21.935625 \n",
       "\" clip-path=\"url(#p48d5984b0b)\" style=\"fill: none; stroke: #cccccc; stroke-linecap: round\"/>\n",
       "     </g>\n",
       "     <g id=\"text_3\">\n",
       "      <!-- 10 -->\n",
       "      <g style=\"fill: #262626\" transform=\"translate(388.355374 305.421219) scale(0.11 -0.11)\">\n",
       "       <defs>\n",
       "        <path id=\"ArialMT-31\" d=\"M 2384 0 \n",
       "L 1822 0 \n",
       "L 1822 3584 \n",
       "Q 1619 3391 1289 3197 \n",
       "Q 959 3003 697 2906 \n",
       "L 697 3450 \n",
       "Q 1169 3672 1522 3987 \n",
       "Q 1875 4303 2022 4600 \n",
       "L 2384 4600 \n",
       "L 2384 0 \n",
       "z\n",
       "\" transform=\"scale(0.015625)\"/>\n",
       "       </defs>\n",
       "       <use xlink:href=\"#ArialMT-31\"/>\n",
       "       <use xlink:href=\"#ArialMT-30\" transform=\"translate(55.615234 0)\"/>\n",
       "      </g>\n",
       "     </g>\n",
       "    </g>\n",
       "    <g id=\"xtick_4\">\n",
       "     <g id=\"line2d_4\">\n",
       "      <path d=\"M 459.878999 288.047625 \n",
       "L 459.878999 21.935625 \n",
       "\" clip-path=\"url(#p48d5984b0b)\" style=\"fill: none; stroke: #cccccc; stroke-linecap: round\"/>\n",
       "     </g>\n",
       "     <g id=\"text_4\">\n",
       "      <!-- 15 -->\n",
       "      <g style=\"fill: #262626\" transform=\"translate(453.761968 305.421219) scale(0.11 -0.11)\">\n",
       "       <use xlink:href=\"#ArialMT-31\"/>\n",
       "       <use xlink:href=\"#ArialMT-35\" transform=\"translate(55.615234 0)\"/>\n",
       "      </g>\n",
       "     </g>\n",
       "    </g>\n",
       "    <g id=\"xtick_5\">\n",
       "     <g id=\"line2d_5\">\n",
       "      <path d=\"M 525.285592 288.047625 \n",
       "L 525.285592 21.935625 \n",
       "\" clip-path=\"url(#p48d5984b0b)\" style=\"fill: none; stroke: #cccccc; stroke-linecap: round\"/>\n",
       "     </g>\n",
       "     <g id=\"text_5\">\n",
       "      <!-- 20 -->\n",
       "      <g style=\"fill: #262626\" transform=\"translate(519.168561 305.421219) scale(0.11 -0.11)\">\n",
       "       <defs>\n",
       "        <path id=\"ArialMT-32\" d=\"M 3222 541 \n",
       "L 3222 0 \n",
       "L 194 0 \n",
       "Q 188 203 259 391 \n",
       "Q 375 700 629 1000 \n",
       "Q 884 1300 1366 1694 \n",
       "Q 2113 2306 2375 2664 \n",
       "Q 2638 3022 2638 3341 \n",
       "Q 2638 3675 2398 3904 \n",
       "Q 2159 4134 1775 4134 \n",
       "Q 1369 4134 1125 3890 \n",
       "Q 881 3647 878 3216 \n",
       "L 300 3275 \n",
       "Q 359 3922 746 4261 \n",
       "Q 1134 4600 1788 4600 \n",
       "Q 2447 4600 2831 4234 \n",
       "Q 3216 3869 3216 3328 \n",
       "Q 3216 3053 3103 2787 \n",
       "Q 2991 2522 2730 2228 \n",
       "Q 2469 1934 1863 1422 \n",
       "Q 1356 997 1212 845 \n",
       "Q 1069 694 975 541 \n",
       "L 3222 541 \n",
       "z\n",
       "\" transform=\"scale(0.015625)\"/>\n",
       "       </defs>\n",
       "       <use xlink:href=\"#ArialMT-32\"/>\n",
       "       <use xlink:href=\"#ArialMT-30\" transform=\"translate(55.615234 0)\"/>\n",
       "      </g>\n",
       "     </g>\n",
       "    </g>\n",
       "    <g id=\"xtick_6\">\n",
       "     <g id=\"line2d_6\">\n",
       "      <path d=\"M 590.692186 288.047625 \n",
       "L 590.692186 21.935625 \n",
       "\" clip-path=\"url(#p48d5984b0b)\" style=\"fill: none; stroke: #cccccc; stroke-linecap: round\"/>\n",
       "     </g>\n",
       "     <g id=\"text_6\">\n",
       "      <!-- 25 -->\n",
       "      <g style=\"fill: #262626\" transform=\"translate(584.575155 305.421219) scale(0.11 -0.11)\">\n",
       "       <use xlink:href=\"#ArialMT-32\"/>\n",
       "       <use xlink:href=\"#ArialMT-35\" transform=\"translate(55.615234 0)\"/>\n",
       "      </g>\n",
       "     </g>\n",
       "    </g>\n",
       "   </g>\n",
       "   <g id=\"matplotlib.axis_2\">\n",
       "    <g id=\"ytick_1\">\n",
       "     <g id=\"text_7\">\n",
       "      <!-- Lazarus Group -->\n",
       "      <g style=\"fill: #262626\" transform=\"translate(181.402813 34.809853) scale(0.11 -0.11)\">\n",
       "       <defs>\n",
       "        <path id=\"ArialMT-4c\" d=\"M 469 0 \n",
       "L 469 4581 \n",
       "L 1075 4581 \n",
       "L 1075 541 \n",
       "L 3331 541 \n",
       "L 3331 0 \n",
       "L 469 0 \n",
       "z\n",
       "\" transform=\"scale(0.015625)\"/>\n",
       "        <path id=\"ArialMT-61\" d=\"M 2588 409 \n",
       "Q 2275 144 1986 34 \n",
       "Q 1697 -75 1366 -75 \n",
       "Q 819 -75 525 192 \n",
       "Q 231 459 231 875 \n",
       "Q 231 1119 342 1320 \n",
       "Q 453 1522 633 1644 \n",
       "Q 813 1766 1038 1828 \n",
       "Q 1203 1872 1538 1913 \n",
       "Q 2219 1994 2541 2106 \n",
       "Q 2544 2222 2544 2253 \n",
       "Q 2544 2597 2384 2738 \n",
       "Q 2169 2928 1744 2928 \n",
       "Q 1347 2928 1158 2789 \n",
       "Q 969 2650 878 2297 \n",
       "L 328 2372 \n",
       "Q 403 2725 575 2942 \n",
       "Q 747 3159 1072 3276 \n",
       "Q 1397 3394 1825 3394 \n",
       "Q 2250 3394 2515 3294 \n",
       "Q 2781 3194 2906 3042 \n",
       "Q 3031 2891 3081 2659 \n",
       "Q 3109 2516 3109 2141 \n",
       "L 3109 1391 \n",
       "Q 3109 606 3145 398 \n",
       "Q 3181 191 3288 0 \n",
       "L 2700 0 \n",
       "Q 2613 175 2588 409 \n",
       "z\n",
       "M 2541 1666 \n",
       "Q 2234 1541 1622 1453 \n",
       "Q 1275 1403 1131 1340 \n",
       "Q 988 1278 909 1158 \n",
       "Q 831 1038 831 891 \n",
       "Q 831 666 1001 516 \n",
       "Q 1172 366 1500 366 \n",
       "Q 1825 366 2078 508 \n",
       "Q 2331 650 2450 897 \n",
       "Q 2541 1088 2541 1459 \n",
       "L 2541 1666 \n",
       "z\n",
       "\" transform=\"scale(0.015625)\"/>\n",
       "        <path id=\"ArialMT-7a\" d=\"M 125 0 \n",
       "L 125 456 \n",
       "L 2238 2881 \n",
       "Q 1878 2863 1603 2863 \n",
       "L 250 2863 \n",
       "L 250 3319 \n",
       "L 2963 3319 \n",
       "L 2963 2947 \n",
       "L 1166 841 \n",
       "L 819 456 \n",
       "Q 1197 484 1528 484 \n",
       "L 3063 484 \n",
       "L 3063 0 \n",
       "L 125 0 \n",
       "z\n",
       "\" transform=\"scale(0.015625)\"/>\n",
       "        <path id=\"ArialMT-72\" d=\"M 416 0 \n",
       "L 416 3319 \n",
       "L 922 3319 \n",
       "L 922 2816 \n",
       "Q 1116 3169 1280 3281 \n",
       "Q 1444 3394 1641 3394 \n",
       "Q 1925 3394 2219 3213 \n",
       "L 2025 2691 \n",
       "Q 1819 2813 1613 2813 \n",
       "Q 1428 2813 1281 2702 \n",
       "Q 1134 2591 1072 2394 \n",
       "Q 978 2094 978 1738 \n",
       "L 978 0 \n",
       "L 416 0 \n",
       "z\n",
       "\" transform=\"scale(0.015625)\"/>\n",
       "        <path id=\"ArialMT-75\" d=\"M 2597 0 \n",
       "L 2597 488 \n",
       "Q 2209 -75 1544 -75 \n",
       "Q 1250 -75 995 37 \n",
       "Q 741 150 617 320 \n",
       "Q 494 491 444 738 \n",
       "Q 409 903 409 1263 \n",
       "L 409 3319 \n",
       "L 972 3319 \n",
       "L 972 1478 \n",
       "Q 972 1038 1006 884 \n",
       "Q 1059 663 1231 536 \n",
       "Q 1403 409 1656 409 \n",
       "Q 1909 409 2131 539 \n",
       "Q 2353 669 2445 892 \n",
       "Q 2538 1116 2538 1541 \n",
       "L 2538 3319 \n",
       "L 3100 3319 \n",
       "L 3100 0 \n",
       "L 2597 0 \n",
       "z\n",
       "\" transform=\"scale(0.015625)\"/>\n",
       "        <path id=\"ArialMT-73\" d=\"M 197 991 \n",
       "L 753 1078 \n",
       "Q 800 744 1014 566 \n",
       "Q 1228 388 1613 388 \n",
       "Q 2000 388 2187 545 \n",
       "Q 2375 703 2375 916 \n",
       "Q 2375 1106 2209 1216 \n",
       "Q 2094 1291 1634 1406 \n",
       "Q 1016 1563 777 1677 \n",
       "Q 538 1791 414 1992 \n",
       "Q 291 2194 291 2438 \n",
       "Q 291 2659 392 2848 \n",
       "Q 494 3038 669 3163 \n",
       "Q 800 3259 1026 3326 \n",
       "Q 1253 3394 1513 3394 \n",
       "Q 1903 3394 2198 3281 \n",
       "Q 2494 3169 2634 2976 \n",
       "Q 2775 2784 2828 2463 \n",
       "L 2278 2388 \n",
       "Q 2241 2644 2061 2787 \n",
       "Q 1881 2931 1553 2931 \n",
       "Q 1166 2931 1000 2803 \n",
       "Q 834 2675 834 2503 \n",
       "Q 834 2394 903 2306 \n",
       "Q 972 2216 1119 2156 \n",
       "Q 1203 2125 1616 2013 \n",
       "Q 2213 1853 2448 1751 \n",
       "Q 2684 1650 2818 1456 \n",
       "Q 2953 1263 2953 975 \n",
       "Q 2953 694 2789 445 \n",
       "Q 2625 197 2315 61 \n",
       "Q 2006 -75 1616 -75 \n",
       "Q 969 -75 630 194 \n",
       "Q 291 463 197 991 \n",
       "z\n",
       "\" transform=\"scale(0.015625)\"/>\n",
       "        <path id=\"ArialMT-20\" transform=\"scale(0.015625)\"/>\n",
       "        <path id=\"ArialMT-47\" d=\"M 2638 1797 \n",
       "L 2638 2334 \n",
       "L 4578 2338 \n",
       "L 4578 638 \n",
       "Q 4131 281 3656 101 \n",
       "Q 3181 -78 2681 -78 \n",
       "Q 2006 -78 1454 211 \n",
       "Q 903 500 622 1047 \n",
       "Q 341 1594 341 2269 \n",
       "Q 341 2938 620 3517 \n",
       "Q 900 4097 1425 4378 \n",
       "Q 1950 4659 2634 4659 \n",
       "Q 3131 4659 3532 4498 \n",
       "Q 3934 4338 4162 4050 \n",
       "Q 4391 3763 4509 3300 \n",
       "L 3963 3150 \n",
       "Q 3859 3500 3706 3700 \n",
       "Q 3553 3900 3268 4020 \n",
       "Q 2984 4141 2638 4141 \n",
       "Q 2222 4141 1919 4014 \n",
       "Q 1616 3888 1430 3681 \n",
       "Q 1244 3475 1141 3228 \n",
       "Q 966 2803 966 2306 \n",
       "Q 966 1694 1177 1281 \n",
       "Q 1388 869 1791 669 \n",
       "Q 2194 469 2647 469 \n",
       "Q 3041 469 3416 620 \n",
       "Q 3791 772 3984 944 \n",
       "L 3984 1797 \n",
       "L 2638 1797 \n",
       "z\n",
       "\" transform=\"scale(0.015625)\"/>\n",
       "        <path id=\"ArialMT-6f\" d=\"M 213 1659 \n",
       "Q 213 2581 725 3025 \n",
       "Q 1153 3394 1769 3394 \n",
       "Q 2453 3394 2887 2945 \n",
       "Q 3322 2497 3322 1706 \n",
       "Q 3322 1066 3130 698 \n",
       "Q 2938 331 2570 128 \n",
       "Q 2203 -75 1769 -75 \n",
       "Q 1072 -75 642 372 \n",
       "Q 213 819 213 1659 \n",
       "z\n",
       "M 791 1659 \n",
       "Q 791 1022 1069 705 \n",
       "Q 1347 388 1769 388 \n",
       "Q 2188 388 2466 706 \n",
       "Q 2744 1025 2744 1678 \n",
       "Q 2744 2294 2464 2611 \n",
       "Q 2184 2928 1769 2928 \n",
       "Q 1347 2928 1069 2612 \n",
       "Q 791 2297 791 1659 \n",
       "z\n",
       "\" transform=\"scale(0.015625)\"/>\n",
       "        <path id=\"ArialMT-70\" d=\"M 422 -1272 \n",
       "L 422 3319 \n",
       "L 934 3319 \n",
       "L 934 2888 \n",
       "Q 1116 3141 1344 3267 \n",
       "Q 1572 3394 1897 3394 \n",
       "Q 2322 3394 2647 3175 \n",
       "Q 2972 2956 3137 2557 \n",
       "Q 3303 2159 3303 1684 \n",
       "Q 3303 1175 3120 767 \n",
       "Q 2938 359 2589 142 \n",
       "Q 2241 -75 1856 -75 \n",
       "Q 1575 -75 1351 44 \n",
       "Q 1128 163 984 344 \n",
       "L 984 -1272 \n",
       "L 422 -1272 \n",
       "z\n",
       "M 931 1641 \n",
       "Q 931 1000 1190 694 \n",
       "Q 1450 388 1819 388 \n",
       "Q 2194 388 2461 705 \n",
       "Q 2728 1022 2728 1688 \n",
       "Q 2728 2322 2467 2637 \n",
       "Q 2206 2953 1844 2953 \n",
       "Q 1484 2953 1207 2617 \n",
       "Q 931 2281 931 1641 \n",
       "z\n",
       "\" transform=\"scale(0.015625)\"/>\n",
       "       </defs>\n",
       "       <use xlink:href=\"#ArialMT-4c\"/>\n",
       "       <use xlink:href=\"#ArialMT-61\" transform=\"translate(55.615234 0)\"/>\n",
       "       <use xlink:href=\"#ArialMT-7a\" transform=\"translate(111.230469 0)\"/>\n",
       "       <use xlink:href=\"#ArialMT-61\" transform=\"translate(161.230469 0)\"/>\n",
       "       <use xlink:href=\"#ArialMT-72\" transform=\"translate(216.845703 0)\"/>\n",
       "       <use xlink:href=\"#ArialMT-75\" transform=\"translate(250.146484 0)\"/>\n",
       "       <use xlink:href=\"#ArialMT-73\" transform=\"translate(305.761719 0)\"/>\n",
       "       <use xlink:href=\"#ArialMT-20\" transform=\"translate(355.761719 0)\"/>\n",
       "       <use xlink:href=\"#ArialMT-47\" transform=\"translate(383.544922 0)\"/>\n",
       "       <use xlink:href=\"#ArialMT-72\" transform=\"translate(461.328125 0)\"/>\n",
       "       <use xlink:href=\"#ArialMT-6f\" transform=\"translate(494.628906 0)\"/>\n",
       "       <use xlink:href=\"#ArialMT-75\" transform=\"translate(550.244141 0)\"/>\n",
       "       <use xlink:href=\"#ArialMT-70\" transform=\"translate(605.859375 0)\"/>\n",
       "      </g>\n",
       "     </g>\n",
       "    </g>\n",
       "    <g id=\"ytick_2\">\n",
       "     <g id=\"text_8\">\n",
       "      <!-- APT 28 -->\n",
       "      <g style=\"fill: #262626\" transform=\"translate(217.668438 52.483622) scale(0.11 -0.11)\">\n",
       "       <defs>\n",
       "        <path id=\"ArialMT-41\" d=\"M -9 0 \n",
       "L 1750 4581 \n",
       "L 2403 4581 \n",
       "L 4278 0 \n",
       "L 3588 0 \n",
       "L 3053 1388 \n",
       "L 1138 1388 \n",
       "L 634 0 \n",
       "L -9 0 \n",
       "z\n",
       "M 1313 1881 \n",
       "L 2866 1881 \n",
       "L 2388 3150 \n",
       "Q 2169 3728 2063 4100 \n",
       "Q 1975 3659 1816 3225 \n",
       "L 1313 1881 \n",
       "z\n",
       "\" transform=\"scale(0.015625)\"/>\n",
       "        <path id=\"ArialMT-50\" d=\"M 494 0 \n",
       "L 494 4581 \n",
       "L 2222 4581 \n",
       "Q 2678 4581 2919 4538 \n",
       "Q 3256 4481 3484 4323 \n",
       "Q 3713 4166 3852 3881 \n",
       "Q 3991 3597 3991 3256 \n",
       "Q 3991 2672 3619 2267 \n",
       "Q 3247 1863 2275 1863 \n",
       "L 1100 1863 \n",
       "L 1100 0 \n",
       "L 494 0 \n",
       "z\n",
       "M 1100 2403 \n",
       "L 2284 2403 \n",
       "Q 2872 2403 3119 2622 \n",
       "Q 3366 2841 3366 3238 \n",
       "Q 3366 3525 3220 3729 \n",
       "Q 3075 3934 2838 4000 \n",
       "Q 2684 4041 2272 4041 \n",
       "L 1100 4041 \n",
       "L 1100 2403 \n",
       "z\n",
       "\" transform=\"scale(0.015625)\"/>\n",
       "        <path id=\"ArialMT-54\" d=\"M 1659 0 \n",
       "L 1659 4041 \n",
       "L 150 4041 \n",
       "L 150 4581 \n",
       "L 3781 4581 \n",
       "L 3781 4041 \n",
       "L 2266 4041 \n",
       "L 2266 0 \n",
       "L 1659 0 \n",
       "z\n",
       "\" transform=\"scale(0.015625)\"/>\n",
       "        <path id=\"ArialMT-38\" d=\"M 1131 2484 \n",
       "Q 781 2613 612 2850 \n",
       "Q 444 3088 444 3419 \n",
       "Q 444 3919 803 4259 \n",
       "Q 1163 4600 1759 4600 \n",
       "Q 2359 4600 2725 4251 \n",
       "Q 3091 3903 3091 3403 \n",
       "Q 3091 3084 2923 2848 \n",
       "Q 2756 2613 2416 2484 \n",
       "Q 2838 2347 3058 2040 \n",
       "Q 3278 1734 3278 1309 \n",
       "Q 3278 722 2862 322 \n",
       "Q 2447 -78 1769 -78 \n",
       "Q 1091 -78 675 323 \n",
       "Q 259 725 259 1325 \n",
       "Q 259 1772 486 2073 \n",
       "Q 713 2375 1131 2484 \n",
       "z\n",
       "M 1019 3438 \n",
       "Q 1019 3113 1228 2906 \n",
       "Q 1438 2700 1772 2700 \n",
       "Q 2097 2700 2305 2904 \n",
       "Q 2513 3109 2513 3406 \n",
       "Q 2513 3716 2298 3927 \n",
       "Q 2084 4138 1766 4138 \n",
       "Q 1444 4138 1231 3931 \n",
       "Q 1019 3725 1019 3438 \n",
       "z\n",
       "M 838 1322 \n",
       "Q 838 1081 952 856 \n",
       "Q 1066 631 1291 507 \n",
       "Q 1516 384 1775 384 \n",
       "Q 2178 384 2440 643 \n",
       "Q 2703 903 2703 1303 \n",
       "Q 2703 1709 2433 1975 \n",
       "Q 2163 2241 1756 2241 \n",
       "Q 1359 2241 1098 1978 \n",
       "Q 838 1716 838 1322 \n",
       "z\n",
       "\" transform=\"scale(0.015625)\"/>\n",
       "       </defs>\n",
       "       <use xlink:href=\"#ArialMT-41\"/>\n",
       "       <use xlink:href=\"#ArialMT-50\" transform=\"translate(66.699219 0)\"/>\n",
       "       <use xlink:href=\"#ArialMT-54\" transform=\"translate(133.398438 0)\"/>\n",
       "       <use xlink:href=\"#ArialMT-20\" transform=\"translate(192.732422 0)\"/>\n",
       "       <use xlink:href=\"#ArialMT-32\" transform=\"translate(220.515625 0)\"/>\n",
       "       <use xlink:href=\"#ArialMT-38\" transform=\"translate(276.130859 0)\"/>\n",
       "      </g>\n",
       "     </g>\n",
       "    </g>\n",
       "    <g id=\"ytick_3\">\n",
       "     <g id=\"text_9\">\n",
       "      <!-- Believed to be the work of APT 28 -->\n",
       "      <g style=\"fill: #262626\" transform=\"translate(88.650469 70.224422) scale(0.11 -0.11)\">\n",
       "       <defs>\n",
       "        <path id=\"ArialMT-42\" d=\"M 469 0 \n",
       "L 469 4581 \n",
       "L 2188 4581 \n",
       "Q 2713 4581 3030 4442 \n",
       "Q 3347 4303 3526 4014 \n",
       "Q 3706 3725 3706 3409 \n",
       "Q 3706 3116 3547 2856 \n",
       "Q 3388 2597 3066 2438 \n",
       "Q 3481 2316 3704 2022 \n",
       "Q 3928 1728 3928 1328 \n",
       "Q 3928 1006 3792 729 \n",
       "Q 3656 453 3456 303 \n",
       "Q 3256 153 2954 76 \n",
       "Q 2653 0 2216 0 \n",
       "L 469 0 \n",
       "z\n",
       "M 1075 2656 \n",
       "L 2066 2656 \n",
       "Q 2469 2656 2644 2709 \n",
       "Q 2875 2778 2992 2937 \n",
       "Q 3109 3097 3109 3338 \n",
       "Q 3109 3566 3000 3739 \n",
       "Q 2891 3913 2687 3977 \n",
       "Q 2484 4041 1991 4041 \n",
       "L 1075 4041 \n",
       "L 1075 2656 \n",
       "z\n",
       "M 1075 541 \n",
       "L 2216 541 \n",
       "Q 2509 541 2628 563 \n",
       "Q 2838 600 2978 687 \n",
       "Q 3119 775 3209 942 \n",
       "Q 3300 1109 3300 1328 \n",
       "Q 3300 1584 3169 1773 \n",
       "Q 3038 1963 2805 2039 \n",
       "Q 2572 2116 2134 2116 \n",
       "L 1075 2116 \n",
       "L 1075 541 \n",
       "z\n",
       "\" transform=\"scale(0.015625)\"/>\n",
       "        <path id=\"ArialMT-65\" d=\"M 2694 1069 \n",
       "L 3275 997 \n",
       "Q 3138 488 2766 206 \n",
       "Q 2394 -75 1816 -75 \n",
       "Q 1088 -75 661 373 \n",
       "Q 234 822 234 1631 \n",
       "Q 234 2469 665 2931 \n",
       "Q 1097 3394 1784 3394 \n",
       "Q 2450 3394 2872 2941 \n",
       "Q 3294 2488 3294 1666 \n",
       "Q 3294 1616 3291 1516 \n",
       "L 816 1516 \n",
       "Q 847 969 1125 678 \n",
       "Q 1403 388 1819 388 \n",
       "Q 2128 388 2347 550 \n",
       "Q 2566 713 2694 1069 \n",
       "z\n",
       "M 847 1978 \n",
       "L 2700 1978 \n",
       "Q 2663 2397 2488 2606 \n",
       "Q 2219 2931 1791 2931 \n",
       "Q 1403 2931 1139 2672 \n",
       "Q 875 2413 847 1978 \n",
       "z\n",
       "\" transform=\"scale(0.015625)\"/>\n",
       "        <path id=\"ArialMT-6c\" d=\"M 409 0 \n",
       "L 409 4581 \n",
       "L 972 4581 \n",
       "L 972 0 \n",
       "L 409 0 \n",
       "z\n",
       "\" transform=\"scale(0.015625)\"/>\n",
       "        <path id=\"ArialMT-69\" d=\"M 425 3934 \n",
       "L 425 4581 \n",
       "L 988 4581 \n",
       "L 988 3934 \n",
       "L 425 3934 \n",
       "z\n",
       "M 425 0 \n",
       "L 425 3319 \n",
       "L 988 3319 \n",
       "L 988 0 \n",
       "L 425 0 \n",
       "z\n",
       "\" transform=\"scale(0.015625)\"/>\n",
       "        <path id=\"ArialMT-76\" d=\"M 1344 0 \n",
       "L 81 3319 \n",
       "L 675 3319 \n",
       "L 1388 1331 \n",
       "Q 1503 1009 1600 663 \n",
       "Q 1675 925 1809 1294 \n",
       "L 2547 3319 \n",
       "L 3125 3319 \n",
       "L 1869 0 \n",
       "L 1344 0 \n",
       "z\n",
       "\" transform=\"scale(0.015625)\"/>\n",
       "        <path id=\"ArialMT-64\" d=\"M 2575 0 \n",
       "L 2575 419 \n",
       "Q 2259 -75 1647 -75 \n",
       "Q 1250 -75 917 144 \n",
       "Q 584 363 401 755 \n",
       "Q 219 1147 219 1656 \n",
       "Q 219 2153 384 2558 \n",
       "Q 550 2963 881 3178 \n",
       "Q 1213 3394 1622 3394 \n",
       "Q 1922 3394 2156 3267 \n",
       "Q 2391 3141 2538 2938 \n",
       "L 2538 4581 \n",
       "L 3097 4581 \n",
       "L 3097 0 \n",
       "L 2575 0 \n",
       "z\n",
       "M 797 1656 \n",
       "Q 797 1019 1065 703 \n",
       "Q 1334 388 1700 388 \n",
       "Q 2069 388 2326 689 \n",
       "Q 2584 991 2584 1609 \n",
       "Q 2584 2291 2321 2609 \n",
       "Q 2059 2928 1675 2928 \n",
       "Q 1300 2928 1048 2622 \n",
       "Q 797 2316 797 1656 \n",
       "z\n",
       "\" transform=\"scale(0.015625)\"/>\n",
       "        <path id=\"ArialMT-74\" d=\"M 1650 503 \n",
       "L 1731 6 \n",
       "Q 1494 -44 1306 -44 \n",
       "Q 1000 -44 831 53 \n",
       "Q 663 150 594 308 \n",
       "Q 525 466 525 972 \n",
       "L 525 2881 \n",
       "L 113 2881 \n",
       "L 113 3319 \n",
       "L 525 3319 \n",
       "L 525 4141 \n",
       "L 1084 4478 \n",
       "L 1084 3319 \n",
       "L 1650 3319 \n",
       "L 1650 2881 \n",
       "L 1084 2881 \n",
       "L 1084 941 \n",
       "Q 1084 700 1114 631 \n",
       "Q 1144 563 1211 522 \n",
       "Q 1278 481 1403 481 \n",
       "Q 1497 481 1650 503 \n",
       "z\n",
       "\" transform=\"scale(0.015625)\"/>\n",
       "        <path id=\"ArialMT-62\" d=\"M 941 0 \n",
       "L 419 0 \n",
       "L 419 4581 \n",
       "L 981 4581 \n",
       "L 981 2947 \n",
       "Q 1338 3394 1891 3394 \n",
       "Q 2197 3394 2470 3270 \n",
       "Q 2744 3147 2920 2923 \n",
       "Q 3097 2700 3197 2384 \n",
       "Q 3297 2069 3297 1709 \n",
       "Q 3297 856 2875 390 \n",
       "Q 2453 -75 1863 -75 \n",
       "Q 1275 -75 941 416 \n",
       "L 941 0 \n",
       "z\n",
       "M 934 1684 \n",
       "Q 934 1088 1097 822 \n",
       "Q 1363 388 1816 388 \n",
       "Q 2184 388 2453 708 \n",
       "Q 2722 1028 2722 1663 \n",
       "Q 2722 2313 2464 2622 \n",
       "Q 2206 2931 1841 2931 \n",
       "Q 1472 2931 1203 2611 \n",
       "Q 934 2291 934 1684 \n",
       "z\n",
       "\" transform=\"scale(0.015625)\"/>\n",
       "        <path id=\"ArialMT-68\" d=\"M 422 0 \n",
       "L 422 4581 \n",
       "L 984 4581 \n",
       "L 984 2938 \n",
       "Q 1378 3394 1978 3394 \n",
       "Q 2347 3394 2619 3248 \n",
       "Q 2891 3103 3008 2847 \n",
       "Q 3125 2591 3125 2103 \n",
       "L 3125 0 \n",
       "L 2563 0 \n",
       "L 2563 2103 \n",
       "Q 2563 2525 2380 2717 \n",
       "Q 2197 2909 1863 2909 \n",
       "Q 1613 2909 1392 2779 \n",
       "Q 1172 2650 1078 2428 \n",
       "Q 984 2206 984 1816 \n",
       "L 984 0 \n",
       "L 422 0 \n",
       "z\n",
       "\" transform=\"scale(0.015625)\"/>\n",
       "        <path id=\"ArialMT-77\" d=\"M 1034 0 \n",
       "L 19 3319 \n",
       "L 600 3319 \n",
       "L 1128 1403 \n",
       "L 1325 691 \n",
       "Q 1338 744 1497 1375 \n",
       "L 2025 3319 \n",
       "L 2603 3319 \n",
       "L 3100 1394 \n",
       "L 3266 759 \n",
       "L 3456 1400 \n",
       "L 4025 3319 \n",
       "L 4572 3319 \n",
       "L 3534 0 \n",
       "L 2950 0 \n",
       "L 2422 1988 \n",
       "L 2294 2553 \n",
       "L 1622 0 \n",
       "L 1034 0 \n",
       "z\n",
       "\" transform=\"scale(0.015625)\"/>\n",
       "        <path id=\"ArialMT-6b\" d=\"M 425 0 \n",
       "L 425 4581 \n",
       "L 988 4581 \n",
       "L 988 1969 \n",
       "L 2319 3319 \n",
       "L 3047 3319 \n",
       "L 1778 2088 \n",
       "L 3175 0 \n",
       "L 2481 0 \n",
       "L 1384 1697 \n",
       "L 988 1316 \n",
       "L 988 0 \n",
       "L 425 0 \n",
       "z\n",
       "\" transform=\"scale(0.015625)\"/>\n",
       "        <path id=\"ArialMT-66\" d=\"M 556 0 \n",
       "L 556 2881 \n",
       "L 59 2881 \n",
       "L 59 3319 \n",
       "L 556 3319 \n",
       "L 556 3672 \n",
       "Q 556 4006 616 4169 \n",
       "Q 697 4388 901 4523 \n",
       "Q 1106 4659 1475 4659 \n",
       "Q 1713 4659 2000 4603 \n",
       "L 1916 4113 \n",
       "Q 1741 4144 1584 4144 \n",
       "Q 1328 4144 1222 4034 \n",
       "Q 1116 3925 1116 3625 \n",
       "L 1116 3319 \n",
       "L 1763 3319 \n",
       "L 1763 2881 \n",
       "L 1116 2881 \n",
       "L 1116 0 \n",
       "L 556 0 \n",
       "z\n",
       "\" transform=\"scale(0.015625)\"/>\n",
       "       </defs>\n",
       "       <use xlink:href=\"#ArialMT-42\"/>\n",
       "       <use xlink:href=\"#ArialMT-65\" transform=\"translate(66.699219 0)\"/>\n",
       "       <use xlink:href=\"#ArialMT-6c\" transform=\"translate(122.314453 0)\"/>\n",
       "       <use xlink:href=\"#ArialMT-69\" transform=\"translate(144.53125 0)\"/>\n",
       "       <use xlink:href=\"#ArialMT-65\" transform=\"translate(166.748047 0)\"/>\n",
       "       <use xlink:href=\"#ArialMT-76\" transform=\"translate(222.363281 0)\"/>\n",
       "       <use xlink:href=\"#ArialMT-65\" transform=\"translate(272.363281 0)\"/>\n",
       "       <use xlink:href=\"#ArialMT-64\" transform=\"translate(327.978516 0)\"/>\n",
       "       <use xlink:href=\"#ArialMT-20\" transform=\"translate(383.59375 0)\"/>\n",
       "       <use xlink:href=\"#ArialMT-74\" transform=\"translate(411.376953 0)\"/>\n",
       "       <use xlink:href=\"#ArialMT-6f\" transform=\"translate(439.160156 0)\"/>\n",
       "       <use xlink:href=\"#ArialMT-20\" transform=\"translate(494.775391 0)\"/>\n",
       "       <use xlink:href=\"#ArialMT-62\" transform=\"translate(522.558594 0)\"/>\n",
       "       <use xlink:href=\"#ArialMT-65\" transform=\"translate(578.173828 0)\"/>\n",
       "       <use xlink:href=\"#ArialMT-20\" transform=\"translate(633.789062 0)\"/>\n",
       "       <use xlink:href=\"#ArialMT-74\" transform=\"translate(661.572266 0)\"/>\n",
       "       <use xlink:href=\"#ArialMT-68\" transform=\"translate(689.355469 0)\"/>\n",
       "       <use xlink:href=\"#ArialMT-65\" transform=\"translate(744.970703 0)\"/>\n",
       "       <use xlink:href=\"#ArialMT-20\" transform=\"translate(800.585938 0)\"/>\n",
       "       <use xlink:href=\"#ArialMT-77\" transform=\"translate(828.369141 0)\"/>\n",
       "       <use xlink:href=\"#ArialMT-6f\" transform=\"translate(900.585938 0)\"/>\n",
       "       <use xlink:href=\"#ArialMT-72\" transform=\"translate(956.201172 0)\"/>\n",
       "       <use xlink:href=\"#ArialMT-6b\" transform=\"translate(989.501953 0)\"/>\n",
       "       <use xlink:href=\"#ArialMT-20\" transform=\"translate(1039.501953 0)\"/>\n",
       "       <use xlink:href=\"#ArialMT-6f\" transform=\"translate(1067.285156 0)\"/>\n",
       "       <use xlink:href=\"#ArialMT-66\" transform=\"translate(1122.900391 0)\"/>\n",
       "       <use xlink:href=\"#ArialMT-20\" transform=\"translate(1150.683594 0)\"/>\n",
       "       <use xlink:href=\"#ArialMT-41\" transform=\"translate(1172.966797 0)\"/>\n",
       "       <use xlink:href=\"#ArialMT-50\" transform=\"translate(1239.666016 0)\"/>\n",
       "       <use xlink:href=\"#ArialMT-54\" transform=\"translate(1306.365234 0)\"/>\n",
       "       <use xlink:href=\"#ArialMT-20\" transform=\"translate(1365.699219 0)\"/>\n",
       "       <use xlink:href=\"#ArialMT-32\" transform=\"translate(1393.482422 0)\"/>\n",
       "       <use xlink:href=\"#ArialMT-38\" transform=\"translate(1449.097656 0)\"/>\n",
       "      </g>\n",
       "     </g>\n",
       "    </g>\n",
       "    <g id=\"ytick_4\">\n",
       "     <g id=\"text_10\">\n",
       "      <!-- Sandworm -->\n",
       "      <g style=\"fill: #262626\" transform=\"translate(201.584375 87.965222) scale(0.11 -0.11)\">\n",
       "       <defs>\n",
       "        <path id=\"ArialMT-53\" d=\"M 288 1472 \n",
       "L 859 1522 \n",
       "Q 900 1178 1048 958 \n",
       "Q 1197 738 1509 602 \n",
       "Q 1822 466 2213 466 \n",
       "Q 2559 466 2825 569 \n",
       "Q 3091 672 3220 851 \n",
       "Q 3350 1031 3350 1244 \n",
       "Q 3350 1459 3225 1620 \n",
       "Q 3100 1781 2813 1891 \n",
       "Q 2628 1963 1997 2114 \n",
       "Q 1366 2266 1113 2400 \n",
       "Q 784 2572 623 2826 \n",
       "Q 463 3081 463 3397 \n",
       "Q 463 3744 659 4045 \n",
       "Q 856 4347 1234 4503 \n",
       "Q 1613 4659 2075 4659 \n",
       "Q 2584 4659 2973 4495 \n",
       "Q 3363 4331 3572 4012 \n",
       "Q 3781 3694 3797 3291 \n",
       "L 3216 3247 \n",
       "Q 3169 3681 2898 3903 \n",
       "Q 2628 4125 2100 4125 \n",
       "Q 1550 4125 1298 3923 \n",
       "Q 1047 3722 1047 3438 \n",
       "Q 1047 3191 1225 3031 \n",
       "Q 1400 2872 2139 2705 \n",
       "Q 2878 2538 3153 2413 \n",
       "Q 3553 2228 3743 1945 \n",
       "Q 3934 1663 3934 1294 \n",
       "Q 3934 928 3725 604 \n",
       "Q 3516 281 3123 101 \n",
       "Q 2731 -78 2241 -78 \n",
       "Q 1619 -78 1198 103 \n",
       "Q 778 284 539 648 \n",
       "Q 300 1013 288 1472 \n",
       "z\n",
       "\" transform=\"scale(0.015625)\"/>\n",
       "        <path id=\"ArialMT-6e\" d=\"M 422 0 \n",
       "L 422 3319 \n",
       "L 928 3319 \n",
       "L 928 2847 \n",
       "Q 1294 3394 1984 3394 \n",
       "Q 2284 3394 2536 3286 \n",
       "Q 2788 3178 2913 3003 \n",
       "Q 3038 2828 3088 2588 \n",
       "Q 3119 2431 3119 2041 \n",
       "L 3119 0 \n",
       "L 2556 0 \n",
       "L 2556 2019 \n",
       "Q 2556 2363 2490 2533 \n",
       "Q 2425 2703 2258 2804 \n",
       "Q 2091 2906 1866 2906 \n",
       "Q 1506 2906 1245 2678 \n",
       "Q 984 2450 984 1813 \n",
       "L 984 0 \n",
       "L 422 0 \n",
       "z\n",
       "\" transform=\"scale(0.015625)\"/>\n",
       "        <path id=\"ArialMT-6d\" d=\"M 422 0 \n",
       "L 422 3319 \n",
       "L 925 3319 \n",
       "L 925 2853 \n",
       "Q 1081 3097 1340 3245 \n",
       "Q 1600 3394 1931 3394 \n",
       "Q 2300 3394 2536 3241 \n",
       "Q 2772 3088 2869 2813 \n",
       "Q 3263 3394 3894 3394 \n",
       "Q 4388 3394 4653 3120 \n",
       "Q 4919 2847 4919 2278 \n",
       "L 4919 0 \n",
       "L 4359 0 \n",
       "L 4359 2091 \n",
       "Q 4359 2428 4304 2576 \n",
       "Q 4250 2725 4106 2815 \n",
       "Q 3963 2906 3769 2906 \n",
       "Q 3419 2906 3187 2673 \n",
       "Q 2956 2441 2956 1928 \n",
       "L 2956 0 \n",
       "L 2394 0 \n",
       "L 2394 2156 \n",
       "Q 2394 2531 2256 2718 \n",
       "Q 2119 2906 1806 2906 \n",
       "Q 1569 2906 1367 2781 \n",
       "Q 1166 2656 1075 2415 \n",
       "Q 984 2175 984 1722 \n",
       "L 984 0 \n",
       "L 422 0 \n",
       "z\n",
       "\" transform=\"scale(0.015625)\"/>\n",
       "       </defs>\n",
       "       <use xlink:href=\"#ArialMT-53\"/>\n",
       "       <use xlink:href=\"#ArialMT-61\" transform=\"translate(66.699219 0)\"/>\n",
       "       <use xlink:href=\"#ArialMT-6e\" transform=\"translate(122.314453 0)\"/>\n",
       "       <use xlink:href=\"#ArialMT-64\" transform=\"translate(177.929688 0)\"/>\n",
       "       <use xlink:href=\"#ArialMT-77\" transform=\"translate(233.544922 0)\"/>\n",
       "       <use xlink:href=\"#ArialMT-6f\" transform=\"translate(305.761719 0)\"/>\n",
       "       <use xlink:href=\"#ArialMT-72\" transform=\"translate(361.376953 0)\"/>\n",
       "       <use xlink:href=\"#ArialMT-6d\" transform=\"translate(394.677734 0)\"/>\n",
       "      </g>\n",
       "     </g>\n",
       "    </g>\n",
       "    <g id=\"ytick_5\">\n",
       "     <g id=\"text_11\">\n",
       "      <!-- Winnti Umbrella -->\n",
       "      <g style=\"fill: #262626\" transform=\"translate(176.533594 105.706022) scale(0.11 -0.11)\">\n",
       "       <defs>\n",
       "        <path id=\"ArialMT-57\" d=\"M 1294 0 \n",
       "L 78 4581 \n",
       "L 700 4581 \n",
       "L 1397 1578 \n",
       "Q 1509 1106 1591 641 \n",
       "Q 1766 1375 1797 1488 \n",
       "L 2669 4581 \n",
       "L 3400 4581 \n",
       "L 4056 2263 \n",
       "Q 4303 1400 4413 641 \n",
       "Q 4500 1075 4641 1638 \n",
       "L 5359 4581 \n",
       "L 5969 4581 \n",
       "L 4713 0 \n",
       "L 4128 0 \n",
       "L 3163 3491 \n",
       "Q 3041 3928 3019 4028 \n",
       "Q 2947 3713 2884 3491 \n",
       "L 1913 0 \n",
       "L 1294 0 \n",
       "z\n",
       "\" transform=\"scale(0.015625)\"/>\n",
       "        <path id=\"ArialMT-55\" d=\"M 3500 4581 \n",
       "L 4106 4581 \n",
       "L 4106 1934 \n",
       "Q 4106 1244 3950 837 \n",
       "Q 3794 431 3386 176 \n",
       "Q 2978 -78 2316 -78 \n",
       "Q 1672 -78 1262 144 \n",
       "Q 853 366 678 786 \n",
       "Q 503 1206 503 1934 \n",
       "L 503 4581 \n",
       "L 1109 4581 \n",
       "L 1109 1938 \n",
       "Q 1109 1341 1220 1058 \n",
       "Q 1331 775 1601 622 \n",
       "Q 1872 469 2263 469 \n",
       "Q 2931 469 3215 772 \n",
       "Q 3500 1075 3500 1938 \n",
       "L 3500 4581 \n",
       "z\n",
       "\" transform=\"scale(0.015625)\"/>\n",
       "       </defs>\n",
       "       <use xlink:href=\"#ArialMT-57\"/>\n",
       "       <use xlink:href=\"#ArialMT-69\" transform=\"translate(94.384766 0)\"/>\n",
       "       <use xlink:href=\"#ArialMT-6e\" transform=\"translate(116.601562 0)\"/>\n",
       "       <use xlink:href=\"#ArialMT-6e\" transform=\"translate(172.216797 0)\"/>\n",
       "       <use xlink:href=\"#ArialMT-74\" transform=\"translate(227.832031 0)\"/>\n",
       "       <use xlink:href=\"#ArialMT-69\" transform=\"translate(255.615234 0)\"/>\n",
       "       <use xlink:href=\"#ArialMT-20\" transform=\"translate(277.832031 0)\"/>\n",
       "       <use xlink:href=\"#ArialMT-55\" transform=\"translate(305.615234 0)\"/>\n",
       "       <use xlink:href=\"#ArialMT-6d\" transform=\"translate(377.832031 0)\"/>\n",
       "       <use xlink:href=\"#ArialMT-62\" transform=\"translate(461.132812 0)\"/>\n",
       "       <use xlink:href=\"#ArialMT-72\" transform=\"translate(516.748047 0)\"/>\n",
       "       <use xlink:href=\"#ArialMT-65\" transform=\"translate(550.048828 0)\"/>\n",
       "       <use xlink:href=\"#ArialMT-6c\" transform=\"translate(605.664062 0)\"/>\n",
       "       <use xlink:href=\"#ArialMT-6c\" transform=\"translate(627.880859 0)\"/>\n",
       "       <use xlink:href=\"#ArialMT-61\" transform=\"translate(650.097656 0)\"/>\n",
       "      </g>\n",
       "     </g>\n",
       "    </g>\n",
       "    <g id=\"ytick_6\">\n",
       "     <g id=\"text_12\">\n",
       "      <!-- Mustang Panda -->\n",
       "      <g style=\"fill: #262626\" transform=\"translate(177.111094 123.446822) scale(0.11 -0.11)\">\n",
       "       <defs>\n",
       "        <path id=\"ArialMT-4d\" d=\"M 475 0 \n",
       "L 475 4581 \n",
       "L 1388 4581 \n",
       "L 2472 1338 \n",
       "Q 2622 884 2691 659 \n",
       "Q 2769 909 2934 1394 \n",
       "L 4031 4581 \n",
       "L 4847 4581 \n",
       "L 4847 0 \n",
       "L 4263 0 \n",
       "L 4263 3834 \n",
       "L 2931 0 \n",
       "L 2384 0 \n",
       "L 1059 3900 \n",
       "L 1059 0 \n",
       "L 475 0 \n",
       "z\n",
       "\" transform=\"scale(0.015625)\"/>\n",
       "        <path id=\"ArialMT-67\" d=\"M 319 -275 \n",
       "L 866 -356 \n",
       "Q 900 -609 1056 -725 \n",
       "Q 1266 -881 1628 -881 \n",
       "Q 2019 -881 2231 -725 \n",
       "Q 2444 -569 2519 -288 \n",
       "Q 2563 -116 2559 434 \n",
       "Q 2191 0 1641 0 \n",
       "Q 956 0 581 494 \n",
       "Q 206 988 206 1678 \n",
       "Q 206 2153 378 2554 \n",
       "Q 550 2956 876 3175 \n",
       "Q 1203 3394 1644 3394 \n",
       "Q 2231 3394 2613 2919 \n",
       "L 2613 3319 \n",
       "L 3131 3319 \n",
       "L 3131 450 \n",
       "Q 3131 -325 2973 -648 \n",
       "Q 2816 -972 2473 -1159 \n",
       "Q 2131 -1347 1631 -1347 \n",
       "Q 1038 -1347 672 -1080 \n",
       "Q 306 -813 319 -275 \n",
       "z\n",
       "M 784 1719 \n",
       "Q 784 1066 1043 766 \n",
       "Q 1303 466 1694 466 \n",
       "Q 2081 466 2343 764 \n",
       "Q 2606 1063 2606 1700 \n",
       "Q 2606 2309 2336 2618 \n",
       "Q 2066 2928 1684 2928 \n",
       "Q 1309 2928 1046 2623 \n",
       "Q 784 2319 784 1719 \n",
       "z\n",
       "\" transform=\"scale(0.015625)\"/>\n",
       "       </defs>\n",
       "       <use xlink:href=\"#ArialMT-4d\"/>\n",
       "       <use xlink:href=\"#ArialMT-75\" transform=\"translate(83.300781 0)\"/>\n",
       "       <use xlink:href=\"#ArialMT-73\" transform=\"translate(138.916016 0)\"/>\n",
       "       <use xlink:href=\"#ArialMT-74\" transform=\"translate(188.916016 0)\"/>\n",
       "       <use xlink:href=\"#ArialMT-61\" transform=\"translate(216.699219 0)\"/>\n",
       "       <use xlink:href=\"#ArialMT-6e\" transform=\"translate(272.314453 0)\"/>\n",
       "       <use xlink:href=\"#ArialMT-67\" transform=\"translate(327.929688 0)\"/>\n",
       "       <use xlink:href=\"#ArialMT-20\" transform=\"translate(383.544922 0)\"/>\n",
       "       <use xlink:href=\"#ArialMT-50\" transform=\"translate(411.328125 0)\"/>\n",
       "       <use xlink:href=\"#ArialMT-61\" transform=\"translate(478.027344 0)\"/>\n",
       "       <use xlink:href=\"#ArialMT-6e\" transform=\"translate(533.642578 0)\"/>\n",
       "       <use xlink:href=\"#ArialMT-64\" transform=\"translate(589.257812 0)\"/>\n",
       "       <use xlink:href=\"#ArialMT-61\" transform=\"translate(644.873047 0)\"/>\n",
       "      </g>\n",
       "     </g>\n",
       "    </g>\n",
       "    <g id=\"ytick_7\">\n",
       "     <g id=\"text_13\">\n",
       "      <!-- Gamaredon -->\n",
       "      <g style=\"fill: #262626\" transform=\"translate(196.075781 141.187622) scale(0.11 -0.11)\">\n",
       "       <use xlink:href=\"#ArialMT-47\"/>\n",
       "       <use xlink:href=\"#ArialMT-61\" transform=\"translate(77.783203 0)\"/>\n",
       "       <use xlink:href=\"#ArialMT-6d\" transform=\"translate(133.398438 0)\"/>\n",
       "       <use xlink:href=\"#ArialMT-61\" transform=\"translate(216.699219 0)\"/>\n",
       "       <use xlink:href=\"#ArialMT-72\" transform=\"translate(272.314453 0)\"/>\n",
       "       <use xlink:href=\"#ArialMT-65\" transform=\"translate(305.615234 0)\"/>\n",
       "       <use xlink:href=\"#ArialMT-64\" transform=\"translate(361.230469 0)\"/>\n",
       "       <use xlink:href=\"#ArialMT-6f\" transform=\"translate(416.845703 0)\"/>\n",
       "       <use xlink:href=\"#ArialMT-6e\" transform=\"translate(472.460938 0)\"/>\n",
       "      </g>\n",
       "     </g>\n",
       "    </g>\n",
       "    <g id=\"ytick_8\">\n",
       "     <g id=\"text_14\">\n",
       "      <!-- Ocean Lotus -->\n",
       "      <g style=\"fill: #262626\" transform=\"translate(191.789219 158.928422) scale(0.11 -0.11)\">\n",
       "       <defs>\n",
       "        <path id=\"ArialMT-4f\" d=\"M 309 2231 \n",
       "Q 309 3372 921 4017 \n",
       "Q 1534 4663 2503 4663 \n",
       "Q 3138 4663 3647 4359 \n",
       "Q 4156 4056 4423 3514 \n",
       "Q 4691 2972 4691 2284 \n",
       "Q 4691 1588 4409 1038 \n",
       "Q 4128 488 3612 205 \n",
       "Q 3097 -78 2500 -78 \n",
       "Q 1853 -78 1343 234 \n",
       "Q 834 547 571 1087 \n",
       "Q 309 1628 309 2231 \n",
       "z\n",
       "M 934 2222 \n",
       "Q 934 1394 1379 917 \n",
       "Q 1825 441 2497 441 \n",
       "Q 3181 441 3623 922 \n",
       "Q 4066 1403 4066 2288 \n",
       "Q 4066 2847 3877 3264 \n",
       "Q 3688 3681 3323 3911 \n",
       "Q 2959 4141 2506 4141 \n",
       "Q 1863 4141 1398 3698 \n",
       "Q 934 3256 934 2222 \n",
       "z\n",
       "\" transform=\"scale(0.015625)\"/>\n",
       "        <path id=\"ArialMT-63\" d=\"M 2588 1216 \n",
       "L 3141 1144 \n",
       "Q 3050 572 2676 248 \n",
       "Q 2303 -75 1759 -75 \n",
       "Q 1078 -75 664 370 \n",
       "Q 250 816 250 1647 \n",
       "Q 250 2184 428 2587 \n",
       "Q 606 2991 970 3192 \n",
       "Q 1334 3394 1763 3394 \n",
       "Q 2303 3394 2647 3120 \n",
       "Q 2991 2847 3088 2344 \n",
       "L 2541 2259 \n",
       "Q 2463 2594 2264 2762 \n",
       "Q 2066 2931 1784 2931 \n",
       "Q 1359 2931 1093 2626 \n",
       "Q 828 2322 828 1663 \n",
       "Q 828 994 1084 691 \n",
       "Q 1341 388 1753 388 \n",
       "Q 2084 388 2306 591 \n",
       "Q 2528 794 2588 1216 \n",
       "z\n",
       "\" transform=\"scale(0.015625)\"/>\n",
       "       </defs>\n",
       "       <use xlink:href=\"#ArialMT-4f\"/>\n",
       "       <use xlink:href=\"#ArialMT-63\" transform=\"translate(77.783203 0)\"/>\n",
       "       <use xlink:href=\"#ArialMT-65\" transform=\"translate(127.783203 0)\"/>\n",
       "       <use xlink:href=\"#ArialMT-61\" transform=\"translate(183.398438 0)\"/>\n",
       "       <use xlink:href=\"#ArialMT-6e\" transform=\"translate(239.013672 0)\"/>\n",
       "       <use xlink:href=\"#ArialMT-20\" transform=\"translate(294.628906 0)\"/>\n",
       "       <use xlink:href=\"#ArialMT-4c\" transform=\"translate(322.412109 0)\"/>\n",
       "       <use xlink:href=\"#ArialMT-6f\" transform=\"translate(378.027344 0)\"/>\n",
       "       <use xlink:href=\"#ArialMT-74\" transform=\"translate(433.642578 0)\"/>\n",
       "       <use xlink:href=\"#ArialMT-75\" transform=\"translate(461.425781 0)\"/>\n",
       "       <use xlink:href=\"#ArialMT-73\" transform=\"translate(517.041016 0)\"/>\n",
       "      </g>\n",
       "     </g>\n",
       "    </g>\n",
       "    <g id=\"ytick_9\">\n",
       "     <g id=\"text_15\">\n",
       "      <!-- MuddyWater -->\n",
       "      <g style=\"fill: #262626\" transform=\"translate(192.222344 176.669222) scale(0.11 -0.11)\">\n",
       "       <defs>\n",
       "        <path id=\"ArialMT-79\" d=\"M 397 -1278 \n",
       "L 334 -750 \n",
       "Q 519 -800 656 -800 \n",
       "Q 844 -800 956 -737 \n",
       "Q 1069 -675 1141 -563 \n",
       "Q 1194 -478 1313 -144 \n",
       "Q 1328 -97 1363 -6 \n",
       "L 103 3319 \n",
       "L 709 3319 \n",
       "L 1400 1397 \n",
       "Q 1534 1031 1641 628 \n",
       "Q 1738 1016 1872 1384 \n",
       "L 2581 3319 \n",
       "L 3144 3319 \n",
       "L 1881 -56 \n",
       "Q 1678 -603 1566 -809 \n",
       "Q 1416 -1088 1222 -1217 \n",
       "Q 1028 -1347 759 -1347 \n",
       "Q 597 -1347 397 -1278 \n",
       "z\n",
       "\" transform=\"scale(0.015625)\"/>\n",
       "       </defs>\n",
       "       <use xlink:href=\"#ArialMT-4d\"/>\n",
       "       <use xlink:href=\"#ArialMT-75\" transform=\"translate(83.300781 0)\"/>\n",
       "       <use xlink:href=\"#ArialMT-64\" transform=\"translate(138.916016 0)\"/>\n",
       "       <use xlink:href=\"#ArialMT-64\" transform=\"translate(194.53125 0)\"/>\n",
       "       <use xlink:href=\"#ArialMT-79\" transform=\"translate(250.146484 0)\"/>\n",
       "       <use xlink:href=\"#ArialMT-57\" transform=\"translate(300.146484 0)\"/>\n",
       "       <use xlink:href=\"#ArialMT-61\" transform=\"translate(390.78125 0)\"/>\n",
       "       <use xlink:href=\"#ArialMT-74\" transform=\"translate(446.396484 0)\"/>\n",
       "       <use xlink:href=\"#ArialMT-65\" transform=\"translate(474.179688 0)\"/>\n",
       "       <use xlink:href=\"#ArialMT-72\" transform=\"translate(529.794922 0)\"/>\n",
       "      </g>\n",
       "     </g>\n",
       "    </g>\n",
       "    <g id=\"ytick_10\">\n",
       "     <g id=\"text_16\">\n",
       "      <!-- Kimsuky -->\n",
       "      <g style=\"fill: #262626\" transform=\"translate(212.598125 194.410022) scale(0.11 -0.11)\">\n",
       "       <defs>\n",
       "        <path id=\"ArialMT-4b\" d=\"M 469 0 \n",
       "L 469 4581 \n",
       "L 1075 4581 \n",
       "L 1075 2309 \n",
       "L 3350 4581 \n",
       "L 4172 4581 \n",
       "L 2250 2725 \n",
       "L 4256 0 \n",
       "L 3456 0 \n",
       "L 1825 2319 \n",
       "L 1075 1588 \n",
       "L 1075 0 \n",
       "L 469 0 \n",
       "z\n",
       "\" transform=\"scale(0.015625)\"/>\n",
       "       </defs>\n",
       "       <use xlink:href=\"#ArialMT-4b\"/>\n",
       "       <use xlink:href=\"#ArialMT-69\" transform=\"translate(66.699219 0)\"/>\n",
       "       <use xlink:href=\"#ArialMT-6d\" transform=\"translate(88.916016 0)\"/>\n",
       "       <use xlink:href=\"#ArialMT-73\" transform=\"translate(172.216797 0)\"/>\n",
       "       <use xlink:href=\"#ArialMT-75\" transform=\"translate(222.216797 0)\"/>\n",
       "       <use xlink:href=\"#ArialMT-6b\" transform=\"translate(277.832031 0)\"/>\n",
       "       <use xlink:href=\"#ArialMT-79\" transform=\"translate(327.832031 0)\"/>\n",
       "      </g>\n",
       "     </g>\n",
       "    </g>\n",
       "    <g id=\"ytick_11\">\n",
       "     <g id=\"text_17\">\n",
       "      <!-- Charming Kitten -->\n",
       "      <g style=\"fill: #262626\" transform=\"translate(175.294375 212.217853) scale(0.11 -0.11)\">\n",
       "       <defs>\n",
       "        <path id=\"ArialMT-43\" d=\"M 3763 1606 \n",
       "L 4369 1453 \n",
       "Q 4178 706 3683 314 \n",
       "Q 3188 -78 2472 -78 \n",
       "Q 1731 -78 1267 223 \n",
       "Q 803 525 561 1097 \n",
       "Q 319 1669 319 2325 \n",
       "Q 319 3041 592 3573 \n",
       "Q 866 4106 1370 4382 \n",
       "Q 1875 4659 2481 4659 \n",
       "Q 3169 4659 3637 4309 \n",
       "Q 4106 3959 4291 3325 \n",
       "L 3694 3184 \n",
       "Q 3534 3684 3231 3912 \n",
       "Q 2928 4141 2469 4141 \n",
       "Q 1941 4141 1586 3887 \n",
       "Q 1231 3634 1087 3207 \n",
       "Q 944 2781 944 2328 \n",
       "Q 944 1744 1114 1308 \n",
       "Q 1284 872 1643 656 \n",
       "Q 2003 441 2422 441 \n",
       "Q 2931 441 3284 734 \n",
       "Q 3638 1028 3763 1606 \n",
       "z\n",
       "\" transform=\"scale(0.015625)\"/>\n",
       "       </defs>\n",
       "       <use xlink:href=\"#ArialMT-43\"/>\n",
       "       <use xlink:href=\"#ArialMT-68\" transform=\"translate(72.216797 0)\"/>\n",
       "       <use xlink:href=\"#ArialMT-61\" transform=\"translate(127.832031 0)\"/>\n",
       "       <use xlink:href=\"#ArialMT-72\" transform=\"translate(183.447266 0)\"/>\n",
       "       <use xlink:href=\"#ArialMT-6d\" transform=\"translate(216.748047 0)\"/>\n",
       "       <use xlink:href=\"#ArialMT-69\" transform=\"translate(300.048828 0)\"/>\n",
       "       <use xlink:href=\"#ArialMT-6e\" transform=\"translate(322.265625 0)\"/>\n",
       "       <use xlink:href=\"#ArialMT-67\" transform=\"translate(377.880859 0)\"/>\n",
       "       <use xlink:href=\"#ArialMT-20\" transform=\"translate(433.496094 0)\"/>\n",
       "       <use xlink:href=\"#ArialMT-4b\" transform=\"translate(461.279297 0)\"/>\n",
       "       <use xlink:href=\"#ArialMT-69\" transform=\"translate(527.978516 0)\"/>\n",
       "       <use xlink:href=\"#ArialMT-74\" transform=\"translate(550.195312 0)\"/>\n",
       "       <use xlink:href=\"#ArialMT-74\" transform=\"translate(577.978516 0)\"/>\n",
       "       <use xlink:href=\"#ArialMT-65\" transform=\"translate(605.761719 0)\"/>\n",
       "       <use xlink:href=\"#ArialMT-6e\" transform=\"translate(661.376953 0)\"/>\n",
       "      </g>\n",
       "     </g>\n",
       "    </g>\n",
       "    <g id=\"ytick_12\">\n",
       "     <g id=\"text_18\">\n",
       "      <!-- Believed to be the work of?APT 28 -->\n",
       "      <g style=\"fill: #262626\" transform=\"translate(84.984375 229.891622) scale(0.11 -0.11)\">\n",
       "       <defs>\n",
       "        <path id=\"ArialMT-3f\" d=\"M 1475 1128 \n",
       "Q 1472 1241 1472 1297 \n",
       "Q 1472 1628 1566 1869 \n",
       "Q 1634 2050 1788 2234 \n",
       "Q 1900 2369 2192 2626 \n",
       "Q 2484 2884 2571 3037 \n",
       "Q 2659 3191 2659 3372 \n",
       "Q 2659 3700 2403 3948 \n",
       "Q 2147 4197 1775 4197 \n",
       "Q 1416 4197 1175 3972 \n",
       "Q 934 3747 859 3269 \n",
       "L 281 3338 \n",
       "Q 359 3978 745 4318 \n",
       "Q 1131 4659 1766 4659 \n",
       "Q 2438 4659 2838 4293 \n",
       "Q 3238 3928 3238 3409 \n",
       "Q 3238 3109 3097 2856 \n",
       "Q 2956 2603 2547 2241 \n",
       "Q 2272 1997 2187 1881 \n",
       "Q 2103 1766 2062 1616 \n",
       "Q 2022 1466 2016 1128 \n",
       "L 1475 1128 \n",
       "z\n",
       "M 1441 0 \n",
       "L 1441 641 \n",
       "L 2081 641 \n",
       "L 2081 0 \n",
       "L 1441 0 \n",
       "z\n",
       "\" transform=\"scale(0.015625)\"/>\n",
       "       </defs>\n",
       "       <use xlink:href=\"#ArialMT-42\"/>\n",
       "       <use xlink:href=\"#ArialMT-65\" transform=\"translate(66.699219 0)\"/>\n",
       "       <use xlink:href=\"#ArialMT-6c\" transform=\"translate(122.314453 0)\"/>\n",
       "       <use xlink:href=\"#ArialMT-69\" transform=\"translate(144.53125 0)\"/>\n",
       "       <use xlink:href=\"#ArialMT-65\" transform=\"translate(166.748047 0)\"/>\n",
       "       <use xlink:href=\"#ArialMT-76\" transform=\"translate(222.363281 0)\"/>\n",
       "       <use xlink:href=\"#ArialMT-65\" transform=\"translate(272.363281 0)\"/>\n",
       "       <use xlink:href=\"#ArialMT-64\" transform=\"translate(327.978516 0)\"/>\n",
       "       <use xlink:href=\"#ArialMT-20\" transform=\"translate(383.59375 0)\"/>\n",
       "       <use xlink:href=\"#ArialMT-74\" transform=\"translate(411.376953 0)\"/>\n",
       "       <use xlink:href=\"#ArialMT-6f\" transform=\"translate(439.160156 0)\"/>\n",
       "       <use xlink:href=\"#ArialMT-20\" transform=\"translate(494.775391 0)\"/>\n",
       "       <use xlink:href=\"#ArialMT-62\" transform=\"translate(522.558594 0)\"/>\n",
       "       <use xlink:href=\"#ArialMT-65\" transform=\"translate(578.173828 0)\"/>\n",
       "       <use xlink:href=\"#ArialMT-20\" transform=\"translate(633.789062 0)\"/>\n",
       "       <use xlink:href=\"#ArialMT-74\" transform=\"translate(661.572266 0)\"/>\n",
       "       <use xlink:href=\"#ArialMT-68\" transform=\"translate(689.355469 0)\"/>\n",
       "       <use xlink:href=\"#ArialMT-65\" transform=\"translate(744.970703 0)\"/>\n",
       "       <use xlink:href=\"#ArialMT-20\" transform=\"translate(800.585938 0)\"/>\n",
       "       <use xlink:href=\"#ArialMT-77\" transform=\"translate(828.369141 0)\"/>\n",
       "       <use xlink:href=\"#ArialMT-6f\" transform=\"translate(900.585938 0)\"/>\n",
       "       <use xlink:href=\"#ArialMT-72\" transform=\"translate(956.201172 0)\"/>\n",
       "       <use xlink:href=\"#ArialMT-6b\" transform=\"translate(989.501953 0)\"/>\n",
       "       <use xlink:href=\"#ArialMT-20\" transform=\"translate(1039.501953 0)\"/>\n",
       "       <use xlink:href=\"#ArialMT-6f\" transform=\"translate(1067.285156 0)\"/>\n",
       "       <use xlink:href=\"#ArialMT-66\" transform=\"translate(1122.900391 0)\"/>\n",
       "       <use xlink:href=\"#ArialMT-3f\" transform=\"translate(1150.683594 0)\"/>\n",
       "       <use xlink:href=\"#ArialMT-41\" transform=\"translate(1206.298828 0)\"/>\n",
       "       <use xlink:href=\"#ArialMT-50\" transform=\"translate(1272.998047 0)\"/>\n",
       "       <use xlink:href=\"#ArialMT-54\" transform=\"translate(1339.697266 0)\"/>\n",
       "       <use xlink:href=\"#ArialMT-20\" transform=\"translate(1399.03125 0)\"/>\n",
       "       <use xlink:href=\"#ArialMT-32\" transform=\"translate(1426.814453 0)\"/>\n",
       "       <use xlink:href=\"#ArialMT-38\" transform=\"translate(1482.429688 0)\"/>\n",
       "      </g>\n",
       "     </g>\n",
       "    </g>\n",
       "    <g id=\"ytick_13\">\n",
       "     <g id=\"text_19\">\n",
       "      <!-- Turla -->\n",
       "      <g style=\"fill: #262626\" transform=\"translate(229.512344 247.632422) scale(0.11 -0.11)\">\n",
       "       <use xlink:href=\"#ArialMT-54\"/>\n",
       "       <use xlink:href=\"#ArialMT-75\" transform=\"translate(57.333984 0)\"/>\n",
       "       <use xlink:href=\"#ArialMT-72\" transform=\"translate(112.949219 0)\"/>\n",
       "       <use xlink:href=\"#ArialMT-6c\" transform=\"translate(146.25 0)\"/>\n",
       "       <use xlink:href=\"#ArialMT-61\" transform=\"translate(168.466797 0)\"/>\n",
       "      </g>\n",
       "     </g>\n",
       "    </g>\n",
       "    <g id=\"ytick_14\">\n",
       "     <g id=\"text_20\">\n",
       "      <!-- Believed to be the work of Russia's government -->\n",
       "      <g style=\"fill: #262626\" transform=\"translate(22.174375 265.440253) scale(0.11 -0.11)\">\n",
       "       <defs>\n",
       "        <path id=\"ArialMT-52\" d=\"M 503 0 \n",
       "L 503 4581 \n",
       "L 2534 4581 \n",
       "Q 3147 4581 3465 4457 \n",
       "Q 3784 4334 3975 4021 \n",
       "Q 4166 3709 4166 3331 \n",
       "Q 4166 2844 3850 2509 \n",
       "Q 3534 2175 2875 2084 \n",
       "Q 3116 1969 3241 1856 \n",
       "Q 3506 1613 3744 1247 \n",
       "L 4541 0 \n",
       "L 3778 0 \n",
       "L 3172 953 \n",
       "Q 2906 1366 2734 1584 \n",
       "Q 2563 1803 2427 1890 \n",
       "Q 2291 1978 2150 2013 \n",
       "Q 2047 2034 1813 2034 \n",
       "L 1109 2034 \n",
       "L 1109 0 \n",
       "L 503 0 \n",
       "z\n",
       "M 1109 2559 \n",
       "L 2413 2559 \n",
       "Q 2828 2559 3062 2645 \n",
       "Q 3297 2731 3419 2920 \n",
       "Q 3541 3109 3541 3331 \n",
       "Q 3541 3656 3305 3865 \n",
       "Q 3069 4075 2559 4075 \n",
       "L 1109 4075 \n",
       "L 1109 2559 \n",
       "z\n",
       "\" transform=\"scale(0.015625)\"/>\n",
       "        <path id=\"ArialMT-27\" d=\"M 425 2959 \n",
       "L 281 3816 \n",
       "L 281 4581 \n",
       "L 922 4581 \n",
       "L 922 3816 \n",
       "L 772 2959 \n",
       "L 425 2959 \n",
       "z\n",
       "\" transform=\"scale(0.015625)\"/>\n",
       "       </defs>\n",
       "       <use xlink:href=\"#ArialMT-42\"/>\n",
       "       <use xlink:href=\"#ArialMT-65\" transform=\"translate(66.699219 0)\"/>\n",
       "       <use xlink:href=\"#ArialMT-6c\" transform=\"translate(122.314453 0)\"/>\n",
       "       <use xlink:href=\"#ArialMT-69\" transform=\"translate(144.53125 0)\"/>\n",
       "       <use xlink:href=\"#ArialMT-65\" transform=\"translate(166.748047 0)\"/>\n",
       "       <use xlink:href=\"#ArialMT-76\" transform=\"translate(222.363281 0)\"/>\n",
       "       <use xlink:href=\"#ArialMT-65\" transform=\"translate(272.363281 0)\"/>\n",
       "       <use xlink:href=\"#ArialMT-64\" transform=\"translate(327.978516 0)\"/>\n",
       "       <use xlink:href=\"#ArialMT-20\" transform=\"translate(383.59375 0)\"/>\n",
       "       <use xlink:href=\"#ArialMT-74\" transform=\"translate(411.376953 0)\"/>\n",
       "       <use xlink:href=\"#ArialMT-6f\" transform=\"translate(439.160156 0)\"/>\n",
       "       <use xlink:href=\"#ArialMT-20\" transform=\"translate(494.775391 0)\"/>\n",
       "       <use xlink:href=\"#ArialMT-62\" transform=\"translate(522.558594 0)\"/>\n",
       "       <use xlink:href=\"#ArialMT-65\" transform=\"translate(578.173828 0)\"/>\n",
       "       <use xlink:href=\"#ArialMT-20\" transform=\"translate(633.789062 0)\"/>\n",
       "       <use xlink:href=\"#ArialMT-74\" transform=\"translate(661.572266 0)\"/>\n",
       "       <use xlink:href=\"#ArialMT-68\" transform=\"translate(689.355469 0)\"/>\n",
       "       <use xlink:href=\"#ArialMT-65\" transform=\"translate(744.970703 0)\"/>\n",
       "       <use xlink:href=\"#ArialMT-20\" transform=\"translate(800.585938 0)\"/>\n",
       "       <use xlink:href=\"#ArialMT-77\" transform=\"translate(828.369141 0)\"/>\n",
       "       <use xlink:href=\"#ArialMT-6f\" transform=\"translate(900.585938 0)\"/>\n",
       "       <use xlink:href=\"#ArialMT-72\" transform=\"translate(956.201172 0)\"/>\n",
       "       <use xlink:href=\"#ArialMT-6b\" transform=\"translate(989.501953 0)\"/>\n",
       "       <use xlink:href=\"#ArialMT-20\" transform=\"translate(1039.501953 0)\"/>\n",
       "       <use xlink:href=\"#ArialMT-6f\" transform=\"translate(1067.285156 0)\"/>\n",
       "       <use xlink:href=\"#ArialMT-66\" transform=\"translate(1122.900391 0)\"/>\n",
       "       <use xlink:href=\"#ArialMT-20\" transform=\"translate(1150.683594 0)\"/>\n",
       "       <use xlink:href=\"#ArialMT-52\" transform=\"translate(1178.466797 0)\"/>\n",
       "       <use xlink:href=\"#ArialMT-75\" transform=\"translate(1250.683594 0)\"/>\n",
       "       <use xlink:href=\"#ArialMT-73\" transform=\"translate(1306.298828 0)\"/>\n",
       "       <use xlink:href=\"#ArialMT-73\" transform=\"translate(1356.298828 0)\"/>\n",
       "       <use xlink:href=\"#ArialMT-69\" transform=\"translate(1406.298828 0)\"/>\n",
       "       <use xlink:href=\"#ArialMT-61\" transform=\"translate(1428.515625 0)\"/>\n",
       "       <use xlink:href=\"#ArialMT-27\" transform=\"translate(1484.130859 0)\"/>\n",
       "       <use xlink:href=\"#ArialMT-73\" transform=\"translate(1503.222656 0)\"/>\n",
       "       <use xlink:href=\"#ArialMT-20\" transform=\"translate(1553.222656 0)\"/>\n",
       "       <use xlink:href=\"#ArialMT-67\" transform=\"translate(1581.005859 0)\"/>\n",
       "       <use xlink:href=\"#ArialMT-6f\" transform=\"translate(1636.621094 0)\"/>\n",
       "       <use xlink:href=\"#ArialMT-76\" transform=\"translate(1692.236328 0)\"/>\n",
       "       <use xlink:href=\"#ArialMT-65\" transform=\"translate(1742.236328 0)\"/>\n",
       "       <use xlink:href=\"#ArialMT-72\" transform=\"translate(1797.851562 0)\"/>\n",
       "       <use xlink:href=\"#ArialMT-6e\" transform=\"translate(1831.152344 0)\"/>\n",
       "       <use xlink:href=\"#ArialMT-6d\" transform=\"translate(1886.767578 0)\"/>\n",
       "       <use xlink:href=\"#ArialMT-65\" transform=\"translate(1970.068359 0)\"/>\n",
       "       <use xlink:href=\"#ArialMT-6e\" transform=\"translate(2025.683594 0)\"/>\n",
       "       <use xlink:href=\"#ArialMT-74\" transform=\"translate(2081.298828 0)\"/>\n",
       "      </g>\n",
       "     </g>\n",
       "    </g>\n",
       "    <g id=\"ytick_15\">\n",
       "     <g id=\"text_21\">\n",
       "      <!-- APT 10 -->\n",
       "      <g style=\"fill: #262626\" transform=\"translate(217.668438 283.114022) scale(0.11 -0.11)\">\n",
       "       <use xlink:href=\"#ArialMT-41\"/>\n",
       "       <use xlink:href=\"#ArialMT-50\" transform=\"translate(66.699219 0)\"/>\n",
       "       <use xlink:href=\"#ArialMT-54\" transform=\"translate(133.398438 0)\"/>\n",
       "       <use xlink:href=\"#ArialMT-20\" transform=\"translate(192.732422 0)\"/>\n",
       "       <use xlink:href=\"#ArialMT-31\" transform=\"translate(220.515625 0)\"/>\n",
       "       <use xlink:href=\"#ArialMT-30\" transform=\"translate(276.130859 0)\"/>\n",
       "      </g>\n",
       "     </g>\n",
       "    </g>\n",
       "    <g id=\"text_22\">\n",
       "     <!-- Affiliation -->\n",
       "     <g style=\"fill: #262626\" transform=\"translate(15.789375 179.231625) rotate(-90) scale(0.12 -0.12)\">\n",
       "      <use xlink:href=\"#ArialMT-41\"/>\n",
       "      <use xlink:href=\"#ArialMT-66\" transform=\"translate(66.699219 0)\"/>\n",
       "      <use xlink:href=\"#ArialMT-66\" transform=\"translate(92.732422 0)\"/>\n",
       "      <use xlink:href=\"#ArialMT-69\" transform=\"translate(120.515625 0)\"/>\n",
       "      <use xlink:href=\"#ArialMT-6c\" transform=\"translate(142.732422 0)\"/>\n",
       "      <use xlink:href=\"#ArialMT-69\" transform=\"translate(164.949219 0)\"/>\n",
       "      <use xlink:href=\"#ArialMT-61\" transform=\"translate(187.166016 0)\"/>\n",
       "      <use xlink:href=\"#ArialMT-74\" transform=\"translate(242.78125 0)\"/>\n",
       "      <use xlink:href=\"#ArialMT-69\" transform=\"translate(270.564453 0)\"/>\n",
       "      <use xlink:href=\"#ArialMT-6f\" transform=\"translate(292.78125 0)\"/>\n",
       "      <use xlink:href=\"#ArialMT-6e\" transform=\"translate(348.396484 0)\"/>\n",
       "     </g>\n",
       "    </g>\n",
       "   </g>\n",
       "   <g id=\"patch_3\">\n",
       "    <path d=\"M 263.659219 23.709705 \n",
       "L 603.773504 23.709705 \n",
       "L 603.773504 37.902345 \n",
       "L 263.659219 37.902345 \n",
       "z\n",
       "\" clip-path=\"url(#p48d5984b0b)\" style=\"fill: #5875a4; stroke: #ffffff; stroke-linejoin: miter\"/>\n",
       "   </g>\n",
       "   <g id=\"patch_4\">\n",
       "    <path d=\"M 263.659219 41.450505 \n",
       "L 459.878999 41.450505 \n",
       "L 459.878999 55.643145 \n",
       "L 263.659219 55.643145 \n",
       "z\n",
       "\" clip-path=\"url(#p48d5984b0b)\" style=\"fill: #5875a4; stroke: #ffffff; stroke-linejoin: miter\"/>\n",
       "   </g>\n",
       "   <g id=\"patch_5\">\n",
       "    <path d=\"M 263.659219 59.191305 \n",
       "L 459.878999 59.191305 \n",
       "L 459.878999 73.383945 \n",
       "L 263.659219 73.383945 \n",
       "z\n",
       "\" clip-path=\"url(#p48d5984b0b)\" style=\"fill: #5875a4; stroke: #ffffff; stroke-linejoin: miter\"/>\n",
       "   </g>\n",
       "   <g id=\"patch_6\">\n",
       "    <path d=\"M 263.659219 76.932105 \n",
       "L 459.878999 76.932105 \n",
       "L 459.878999 91.124745 \n",
       "L 263.659219 91.124745 \n",
       "z\n",
       "\" clip-path=\"url(#p48d5984b0b)\" style=\"fill: #5875a4; stroke: #ffffff; stroke-linejoin: miter\"/>\n",
       "   </g>\n",
       "   <g id=\"patch_7\">\n",
       "    <path d=\"M 263.659219 94.672905 \n",
       "L 394.472406 94.672905 \n",
       "L 394.472406 108.865545 \n",
       "L 263.659219 108.865545 \n",
       "z\n",
       "\" clip-path=\"url(#p48d5984b0b)\" style=\"fill: #5875a4; stroke: #ffffff; stroke-linejoin: miter\"/>\n",
       "   </g>\n",
       "   <g id=\"patch_8\">\n",
       "    <path d=\"M 263.659219 112.413705 \n",
       "L 394.472406 112.413705 \n",
       "L 394.472406 126.606345 \n",
       "L 263.659219 126.606345 \n",
       "z\n",
       "\" clip-path=\"url(#p48d5984b0b)\" style=\"fill: #5875a4; stroke: #ffffff; stroke-linejoin: miter\"/>\n",
       "   </g>\n",
       "   <g id=\"patch_9\">\n",
       "    <path d=\"M 263.659219 130.154505 \n",
       "L 394.472406 130.154505 \n",
       "L 394.472406 144.347145 \n",
       "L 263.659219 144.347145 \n",
       "z\n",
       "\" clip-path=\"url(#p48d5984b0b)\" style=\"fill: #5875a4; stroke: #ffffff; stroke-linejoin: miter\"/>\n",
       "   </g>\n",
       "   <g id=\"patch_10\">\n",
       "    <path d=\"M 263.659219 147.895305 \n",
       "L 381.391087 147.895305 \n",
       "L 381.391087 162.087945 \n",
       "L 263.659219 162.087945 \n",
       "z\n",
       "\" clip-path=\"url(#p48d5984b0b)\" style=\"fill: #5875a4; stroke: #ffffff; stroke-linejoin: miter\"/>\n",
       "   </g>\n",
       "   <g id=\"patch_11\">\n",
       "    <path d=\"M 263.659219 165.636105 \n",
       "L 381.391087 165.636105 \n",
       "L 381.391087 179.828745 \n",
       "L 263.659219 179.828745 \n",
       "z\n",
       "\" clip-path=\"url(#p48d5984b0b)\" style=\"fill: #5875a4; stroke: #ffffff; stroke-linejoin: miter\"/>\n",
       "   </g>\n",
       "   <g id=\"patch_12\">\n",
       "    <path d=\"M 263.659219 183.376905 \n",
       "L 381.391087 183.376905 \n",
       "L 381.391087 197.569545 \n",
       "L 263.659219 197.569545 \n",
       "z\n",
       "\" clip-path=\"url(#p48d5984b0b)\" style=\"fill: #5875a4; stroke: #ffffff; stroke-linejoin: miter\"/>\n",
       "   </g>\n",
       "   <g id=\"patch_13\">\n",
       "    <path d=\"M 263.659219 201.117705 \n",
       "L 368.309768 201.117705 \n",
       "L 368.309768 215.310345 \n",
       "L 263.659219 215.310345 \n",
       "z\n",
       "\" clip-path=\"url(#p48d5984b0b)\" style=\"fill: #5875a4; stroke: #ffffff; stroke-linejoin: miter\"/>\n",
       "   </g>\n",
       "   <g id=\"patch_14\">\n",
       "    <path d=\"M 263.659219 218.858505 \n",
       "L 355.22845 218.858505 \n",
       "L 355.22845 233.051145 \n",
       "L 263.659219 233.051145 \n",
       "z\n",
       "\" clip-path=\"url(#p48d5984b0b)\" style=\"fill: #5875a4; stroke: #ffffff; stroke-linejoin: miter\"/>\n",
       "   </g>\n",
       "   <g id=\"patch_15\">\n",
       "    <path d=\"M 263.659219 236.599305 \n",
       "L 355.22845 236.599305 \n",
       "L 355.22845 250.791945 \n",
       "L 263.659219 250.791945 \n",
       "z\n",
       "\" clip-path=\"url(#p48d5984b0b)\" style=\"fill: #5875a4; stroke: #ffffff; stroke-linejoin: miter\"/>\n",
       "   </g>\n",
       "   <g id=\"patch_16\">\n",
       "    <path d=\"M 263.659219 254.340105 \n",
       "L 342.147131 254.340105 \n",
       "L 342.147131 268.532745 \n",
       "L 263.659219 268.532745 \n",
       "z\n",
       "\" clip-path=\"url(#p48d5984b0b)\" style=\"fill: #5875a4; stroke: #ffffff; stroke-linejoin: miter\"/>\n",
       "   </g>\n",
       "   <g id=\"patch_17\">\n",
       "    <path d=\"M 263.659219 272.080905 \n",
       "L 342.147131 272.080905 \n",
       "L 342.147131 286.273545 \n",
       "L 263.659219 286.273545 \n",
       "z\n",
       "\" clip-path=\"url(#p48d5984b0b)\" style=\"fill: #5875a4; stroke: #ffffff; stroke-linejoin: miter\"/>\n",
       "   </g>\n",
       "   <g id=\"line2d_7\">\n",
       "    <path clip-path=\"url(#p48d5984b0b)\" style=\"fill: none; stroke: #424242; stroke-width: 2.25; stroke-linecap: round\"/>\n",
       "   </g>\n",
       "   <g id=\"line2d_8\">\n",
       "    <path clip-path=\"url(#p48d5984b0b)\" style=\"fill: none; stroke: #424242; stroke-width: 2.25; stroke-linecap: round\"/>\n",
       "   </g>\n",
       "   <g id=\"line2d_9\">\n",
       "    <path clip-path=\"url(#p48d5984b0b)\" style=\"fill: none; stroke: #424242; stroke-width: 2.25; stroke-linecap: round\"/>\n",
       "   </g>\n",
       "   <g id=\"line2d_10\">\n",
       "    <path clip-path=\"url(#p48d5984b0b)\" style=\"fill: none; stroke: #424242; stroke-width: 2.25; stroke-linecap: round\"/>\n",
       "   </g>\n",
       "   <g id=\"line2d_11\">\n",
       "    <path clip-path=\"url(#p48d5984b0b)\" style=\"fill: none; stroke: #424242; stroke-width: 2.25; stroke-linecap: round\"/>\n",
       "   </g>\n",
       "   <g id=\"line2d_12\">\n",
       "    <path clip-path=\"url(#p48d5984b0b)\" style=\"fill: none; stroke: #424242; stroke-width: 2.25; stroke-linecap: round\"/>\n",
       "   </g>\n",
       "   <g id=\"line2d_13\">\n",
       "    <path clip-path=\"url(#p48d5984b0b)\" style=\"fill: none; stroke: #424242; stroke-width: 2.25; stroke-linecap: round\"/>\n",
       "   </g>\n",
       "   <g id=\"line2d_14\">\n",
       "    <path clip-path=\"url(#p48d5984b0b)\" style=\"fill: none; stroke: #424242; stroke-width: 2.25; stroke-linecap: round\"/>\n",
       "   </g>\n",
       "   <g id=\"line2d_15\">\n",
       "    <path clip-path=\"url(#p48d5984b0b)\" style=\"fill: none; stroke: #424242; stroke-width: 2.25; stroke-linecap: round\"/>\n",
       "   </g>\n",
       "   <g id=\"line2d_16\">\n",
       "    <path clip-path=\"url(#p48d5984b0b)\" style=\"fill: none; stroke: #424242; stroke-width: 2.25; stroke-linecap: round\"/>\n",
       "   </g>\n",
       "   <g id=\"line2d_17\">\n",
       "    <path clip-path=\"url(#p48d5984b0b)\" style=\"fill: none; stroke: #424242; stroke-width: 2.25; stroke-linecap: round\"/>\n",
       "   </g>\n",
       "   <g id=\"line2d_18\">\n",
       "    <path clip-path=\"url(#p48d5984b0b)\" style=\"fill: none; stroke: #424242; stroke-width: 2.25; stroke-linecap: round\"/>\n",
       "   </g>\n",
       "   <g id=\"line2d_19\">\n",
       "    <path clip-path=\"url(#p48d5984b0b)\" style=\"fill: none; stroke: #424242; stroke-width: 2.25; stroke-linecap: round\"/>\n",
       "   </g>\n",
       "   <g id=\"line2d_20\">\n",
       "    <path clip-path=\"url(#p48d5984b0b)\" style=\"fill: none; stroke: #424242; stroke-width: 2.25; stroke-linecap: round\"/>\n",
       "   </g>\n",
       "   <g id=\"line2d_21\">\n",
       "    <path clip-path=\"url(#p48d5984b0b)\" style=\"fill: none; stroke: #424242; stroke-width: 2.25; stroke-linecap: round\"/>\n",
       "   </g>\n",
       "   <g id=\"patch_18\">\n",
       "    <path d=\"M 263.659219 288.047625 \n",
       "L 263.659219 21.935625 \n",
       "\" style=\"fill: none; stroke: #cccccc; stroke-width: 1.25; stroke-linejoin: miter; stroke-linecap: square\"/>\n",
       "   </g>\n",
       "   <g id=\"patch_19\">\n",
       "    <path d=\"M 620.779219 288.047625 \n",
       "L 620.779219 21.935625 \n",
       "\" style=\"fill: none; stroke: #cccccc; stroke-width: 1.25; stroke-linejoin: miter; stroke-linecap: square\"/>\n",
       "   </g>\n",
       "   <g id=\"patch_20\">\n",
       "    <path d=\"M 263.659219 288.047625 \n",
       "L 620.779219 288.047625 \n",
       "\" style=\"fill: none; stroke: #cccccc; stroke-width: 1.25; stroke-linejoin: miter; stroke-linecap: square\"/>\n",
       "   </g>\n",
       "   <g id=\"patch_21\">\n",
       "    <path d=\"M 263.659219 21.935625 \n",
       "L 620.779219 21.935625 \n",
       "\" style=\"fill: none; stroke: #cccccc; stroke-width: 1.25; stroke-linejoin: miter; stroke-linecap: square\"/>\n",
       "   </g>\n",
       "   <g id=\"text_23\">\n",
       "    <!-- 26 -->\n",
       "    <g style=\"fill: #262626\" transform=\"translate(603.773504 33.908212) scale(0.12 -0.12)\">\n",
       "     <defs>\n",
       "      <path id=\"ArialMT-36\" d=\"M 3184 3459 \n",
       "L 2625 3416 \n",
       "Q 2550 3747 2413 3897 \n",
       "Q 2184 4138 1850 4138 \n",
       "Q 1581 4138 1378 3988 \n",
       "Q 1113 3794 959 3422 \n",
       "Q 806 3050 800 2363 \n",
       "Q 1003 2672 1297 2822 \n",
       "Q 1591 2972 1913 2972 \n",
       "Q 2475 2972 2870 2558 \n",
       "Q 3266 2144 3266 1488 \n",
       "Q 3266 1056 3080 686 \n",
       "Q 2894 316 2569 119 \n",
       "Q 2244 -78 1831 -78 \n",
       "Q 1128 -78 684 439 \n",
       "Q 241 956 241 2144 \n",
       "Q 241 3472 731 4075 \n",
       "Q 1159 4600 1884 4600 \n",
       "Q 2425 4600 2770 4297 \n",
       "Q 3116 3994 3184 3459 \n",
       "z\n",
       "M 888 1484 \n",
       "Q 888 1194 1011 928 \n",
       "Q 1134 663 1356 523 \n",
       "Q 1578 384 1822 384 \n",
       "Q 2178 384 2434 671 \n",
       "Q 2691 959 2691 1453 \n",
       "Q 2691 1928 2437 2201 \n",
       "Q 2184 2475 1800 2475 \n",
       "Q 1419 2475 1153 2201 \n",
       "Q 888 1928 888 1484 \n",
       "z\n",
       "\" transform=\"scale(0.015625)\"/>\n",
       "     </defs>\n",
       "     <use xlink:href=\"#ArialMT-32\"/>\n",
       "     <use xlink:href=\"#ArialMT-36\" transform=\"translate(55.615234 0)\"/>\n",
       "    </g>\n",
       "   </g>\n",
       "   <g id=\"text_24\">\n",
       "    <!-- 15 -->\n",
       "    <g style=\"fill: #262626\" transform=\"translate(459.878999 51.649012) scale(0.12 -0.12)\">\n",
       "     <use xlink:href=\"#ArialMT-31\"/>\n",
       "     <use xlink:href=\"#ArialMT-35\" transform=\"translate(55.615234 0)\"/>\n",
       "    </g>\n",
       "   </g>\n",
       "   <g id=\"text_25\">\n",
       "    <!-- 15 -->\n",
       "    <g style=\"fill: #262626\" transform=\"translate(459.878999 69.389812) scale(0.12 -0.12)\">\n",
       "     <use xlink:href=\"#ArialMT-31\"/>\n",
       "     <use xlink:href=\"#ArialMT-35\" transform=\"translate(55.615234 0)\"/>\n",
       "    </g>\n",
       "   </g>\n",
       "   <g id=\"text_26\">\n",
       "    <!-- 15 -->\n",
       "    <g style=\"fill: #262626\" transform=\"translate(459.878999 87.130612) scale(0.12 -0.12)\">\n",
       "     <use xlink:href=\"#ArialMT-31\"/>\n",
       "     <use xlink:href=\"#ArialMT-35\" transform=\"translate(55.615234 0)\"/>\n",
       "    </g>\n",
       "   </g>\n",
       "   <g id=\"text_27\">\n",
       "    <!-- 10 -->\n",
       "    <g style=\"fill: #262626\" transform=\"translate(394.472406 104.871412) scale(0.12 -0.12)\">\n",
       "     <use xlink:href=\"#ArialMT-31\"/>\n",
       "     <use xlink:href=\"#ArialMT-30\" transform=\"translate(55.615234 0)\"/>\n",
       "    </g>\n",
       "   </g>\n",
       "   <g id=\"text_28\">\n",
       "    <!-- 10 -->\n",
       "    <g style=\"fill: #262626\" transform=\"translate(394.472406 122.612212) scale(0.12 -0.12)\">\n",
       "     <use xlink:href=\"#ArialMT-31\"/>\n",
       "     <use xlink:href=\"#ArialMT-30\" transform=\"translate(55.615234 0)\"/>\n",
       "    </g>\n",
       "   </g>\n",
       "   <g id=\"text_29\">\n",
       "    <!-- 10 -->\n",
       "    <g style=\"fill: #262626\" transform=\"translate(394.472406 140.353012) scale(0.12 -0.12)\">\n",
       "     <use xlink:href=\"#ArialMT-31\"/>\n",
       "     <use xlink:href=\"#ArialMT-30\" transform=\"translate(55.615234 0)\"/>\n",
       "    </g>\n",
       "   </g>\n",
       "   <g id=\"text_30\">\n",
       "    <!-- 9 -->\n",
       "    <g style=\"fill: #262626\" transform=\"translate(381.391087 158.093812) scale(0.12 -0.12)\">\n",
       "     <defs>\n",
       "      <path id=\"ArialMT-39\" d=\"M 350 1059 \n",
       "L 891 1109 \n",
       "Q 959 728 1153 556 \n",
       "Q 1347 384 1650 384 \n",
       "Q 1909 384 2104 503 \n",
       "Q 2300 622 2425 820 \n",
       "Q 2550 1019 2634 1356 \n",
       "Q 2719 1694 2719 2044 \n",
       "Q 2719 2081 2716 2156 \n",
       "Q 2547 1888 2255 1720 \n",
       "Q 1963 1553 1622 1553 \n",
       "Q 1053 1553 659 1965 \n",
       "Q 266 2378 266 3053 \n",
       "Q 266 3750 677 4175 \n",
       "Q 1088 4600 1706 4600 \n",
       "Q 2153 4600 2523 4359 \n",
       "Q 2894 4119 3086 3673 \n",
       "Q 3278 3228 3278 2384 \n",
       "Q 3278 1506 3087 986 \n",
       "Q 2897 466 2520 194 \n",
       "Q 2144 -78 1638 -78 \n",
       "Q 1100 -78 759 220 \n",
       "Q 419 519 350 1059 \n",
       "z\n",
       "M 2653 3081 \n",
       "Q 2653 3566 2395 3850 \n",
       "Q 2138 4134 1775 4134 \n",
       "Q 1400 4134 1122 3828 \n",
       "Q 844 3522 844 3034 \n",
       "Q 844 2597 1108 2323 \n",
       "Q 1372 2050 1759 2050 \n",
       "Q 2150 2050 2401 2323 \n",
       "Q 2653 2597 2653 3081 \n",
       "z\n",
       "\" transform=\"scale(0.015625)\"/>\n",
       "     </defs>\n",
       "     <use xlink:href=\"#ArialMT-39\"/>\n",
       "    </g>\n",
       "   </g>\n",
       "   <g id=\"text_31\">\n",
       "    <!-- 9 -->\n",
       "    <g style=\"fill: #262626\" transform=\"translate(381.391087 175.834612) scale(0.12 -0.12)\">\n",
       "     <use xlink:href=\"#ArialMT-39\"/>\n",
       "    </g>\n",
       "   </g>\n",
       "   <g id=\"text_32\">\n",
       "    <!-- 9 -->\n",
       "    <g style=\"fill: #262626\" transform=\"translate(381.391087 193.575412) scale(0.12 -0.12)\">\n",
       "     <use xlink:href=\"#ArialMT-39\"/>\n",
       "    </g>\n",
       "   </g>\n",
       "   <g id=\"text_33\">\n",
       "    <!-- 8 -->\n",
       "    <g style=\"fill: #262626\" transform=\"translate(368.309768 211.316212) scale(0.12 -0.12)\">\n",
       "     <use xlink:href=\"#ArialMT-38\"/>\n",
       "    </g>\n",
       "   </g>\n",
       "   <g id=\"text_34\">\n",
       "    <!-- 7 -->\n",
       "    <g style=\"fill: #262626\" transform=\"translate(355.22845 229.057012) scale(0.12 -0.12)\">\n",
       "     <defs>\n",
       "      <path id=\"ArialMT-37\" d=\"M 303 3981 \n",
       "L 303 4522 \n",
       "L 3269 4522 \n",
       "L 3269 4084 \n",
       "Q 2831 3619 2401 2847 \n",
       "Q 1972 2075 1738 1259 \n",
       "Q 1569 684 1522 0 \n",
       "L 944 0 \n",
       "Q 953 541 1156 1306 \n",
       "Q 1359 2072 1739 2783 \n",
       "Q 2119 3494 2547 3981 \n",
       "L 303 3981 \n",
       "z\n",
       "\" transform=\"scale(0.015625)\"/>\n",
       "     </defs>\n",
       "     <use xlink:href=\"#ArialMT-37\"/>\n",
       "    </g>\n",
       "   </g>\n",
       "   <g id=\"text_35\">\n",
       "    <!-- 7 -->\n",
       "    <g style=\"fill: #262626\" transform=\"translate(355.22845 246.797812) scale(0.12 -0.12)\">\n",
       "     <use xlink:href=\"#ArialMT-37\"/>\n",
       "    </g>\n",
       "   </g>\n",
       "   <g id=\"text_36\">\n",
       "    <!-- 6 -->\n",
       "    <g style=\"fill: #262626\" transform=\"translate(342.147131 264.538612) scale(0.12 -0.12)\">\n",
       "     <use xlink:href=\"#ArialMT-36\"/>\n",
       "    </g>\n",
       "   </g>\n",
       "   <g id=\"text_37\">\n",
       "    <!-- 6 -->\n",
       "    <g style=\"fill: #262626\" transform=\"translate(342.147131 282.279412) scale(0.12 -0.12)\">\n",
       "     <use xlink:href=\"#ArialMT-36\"/>\n",
       "    </g>\n",
       "   </g>\n",
       "   <g id=\"text_38\">\n",
       "    <!-- Top 10 Affiliations -->\n",
       "    <g style=\"fill: #262626\" transform=\"translate(395.632031 15.935625) scale(0.12 -0.12)\">\n",
       "     <use xlink:href=\"#ArialMT-54\"/>\n",
       "     <use xlink:href=\"#ArialMT-6f\" transform=\"translate(49.958984 0)\"/>\n",
       "     <use xlink:href=\"#ArialMT-70\" transform=\"translate(105.574219 0)\"/>\n",
       "     <use xlink:href=\"#ArialMT-20\" transform=\"translate(161.189453 0)\"/>\n",
       "     <use xlink:href=\"#ArialMT-31\" transform=\"translate(188.972656 0)\"/>\n",
       "     <use xlink:href=\"#ArialMT-30\" transform=\"translate(244.587891 0)\"/>\n",
       "     <use xlink:href=\"#ArialMT-20\" transform=\"translate(300.203125 0)\"/>\n",
       "     <use xlink:href=\"#ArialMT-41\" transform=\"translate(322.486328 0)\"/>\n",
       "     <use xlink:href=\"#ArialMT-66\" transform=\"translate(389.185547 0)\"/>\n",
       "     <use xlink:href=\"#ArialMT-66\" transform=\"translate(415.21875 0)\"/>\n",
       "     <use xlink:href=\"#ArialMT-69\" transform=\"translate(443.001953 0)\"/>\n",
       "     <use xlink:href=\"#ArialMT-6c\" transform=\"translate(465.21875 0)\"/>\n",
       "     <use xlink:href=\"#ArialMT-69\" transform=\"translate(487.435547 0)\"/>\n",
       "     <use xlink:href=\"#ArialMT-61\" transform=\"translate(509.652344 0)\"/>\n",
       "     <use xlink:href=\"#ArialMT-74\" transform=\"translate(565.267578 0)\"/>\n",
       "     <use xlink:href=\"#ArialMT-69\" transform=\"translate(593.050781 0)\"/>\n",
       "     <use xlink:href=\"#ArialMT-6f\" transform=\"translate(615.267578 0)\"/>\n",
       "     <use xlink:href=\"#ArialMT-6e\" transform=\"translate(670.882812 0)\"/>\n",
       "     <use xlink:href=\"#ArialMT-73\" transform=\"translate(726.498047 0)\"/>\n",
       "    </g>\n",
       "   </g>\n",
       "  </g>\n",
       " </g>\n",
       " <defs>\n",
       "  <clipPath id=\"p48d5984b0b\">\n",
       "   <rect x=\"263.659219\" y=\"21.935625\" width=\"357.12\" height=\"266.112\"/>\n",
       "  </clipPath>\n",
       " </defs>\n",
       "</svg>\n"
      ],
      "text/plain": [
       "<Figure size 640x480 with 1 Axes>"
      ]
     },
     "metadata": {},
     "output_type": "display_data"
    }
   ],
   "source": [
    "top_10_aff = aff_counts.nlargest(15)\n",
    "plt.figure()\n",
    "ax = sns.barplot(x=top_10_aff.values, y=top_10_aff.index)\n",
    "ax.bar_label(ax.containers[0])\n",
    "ax.set_title('Top 10 Affiliations')\n",
    "plt.ylabel('Affiliation')\n",
    "plt.show()"
   ]
  },
  {
   "cell_type": "code",
   "execution_count": 62,
   "id": "9f07eef1",
   "metadata": {},
   "outputs": [
    {
     "data": {
      "image/svg+xml": [
       "<?xml version=\"1.0\" encoding=\"utf-8\" standalone=\"no\"?>\n",
       "<!DOCTYPE svg PUBLIC \"-//W3C//DTD SVG 1.1//EN\"\n",
       "  \"http://www.w3.org/Graphics/SVG/1.1/DTD/svg11.dtd\">\n",
       "<svg xmlns:xlink=\"http://www.w3.org/1999/xlink\" width=\"597.498036pt\" height=\"314.807469pt\" viewBox=\"0 0 597.498036 314.807469\" xmlns=\"http://www.w3.org/2000/svg\" version=\"1.1\">\n",
       " <metadata>\n",
       "  <rdf:RDF xmlns:dc=\"http://purl.org/dc/elements/1.1/\" xmlns:cc=\"http://creativecommons.org/ns#\" xmlns:rdf=\"http://www.w3.org/1999/02/22-rdf-syntax-ns#\">\n",
       "   <cc:Work>\n",
       "    <dc:type rdf:resource=\"http://purl.org/dc/dcmitype/StillImage\"/>\n",
       "    <dc:date>2025-10-20T18:21:50.873270</dc:date>\n",
       "    <dc:format>image/svg+xml</dc:format>\n",
       "    <dc:creator>\n",
       "     <cc:Agent>\n",
       "      <dc:title>Matplotlib v3.10.7, https://matplotlib.org/</dc:title>\n",
       "     </cc:Agent>\n",
       "    </dc:creator>\n",
       "   </cc:Work>\n",
       "  </rdf:RDF>\n",
       " </metadata>\n",
       " <defs>\n",
       "  <style type=\"text/css\">*{stroke-linejoin: round; stroke-linecap: butt}</style>\n",
       " </defs>\n",
       " <g id=\"figure_1\">\n",
       "  <g id=\"patch_1\">\n",
       "   <path d=\"M 0 314.807469 \n",
       "L 597.498036 314.807469 \n",
       "L 597.498036 0 \n",
       "L 0 0 \n",
       "z\n",
       "\" style=\"fill: #ffffff\"/>\n",
       "  </g>\n",
       "  <g id=\"axes_1\">\n",
       "   <g id=\"patch_2\">\n",
       "    <path d=\"M 230.164375 288.047625 \n",
       "L 587.284375 288.047625 \n",
       "L 587.284375 21.935625 \n",
       "L 230.164375 21.935625 \n",
       "z\n",
       "\" style=\"fill: #ffffff\"/>\n",
       "   </g>\n",
       "   <g id=\"matplotlib.axis_1\">\n",
       "    <g id=\"xtick_1\">\n",
       "     <g id=\"line2d_1\">\n",
       "      <path d=\"M 230.164375 288.047625 \n",
       "L 230.164375 21.935625 \n",
       "\" clip-path=\"url(#pf38d18ad96)\" style=\"fill: none; stroke: #cccccc; stroke-linecap: round\"/>\n",
       "     </g>\n",
       "     <g id=\"text_1\">\n",
       "      <!-- 0 -->\n",
       "      <g style=\"fill: #262626\" transform=\"translate(227.105859 305.421219) scale(0.11 -0.11)\">\n",
       "       <defs>\n",
       "        <path id=\"ArialMT-30\" d=\"M 266 2259 \n",
       "Q 266 3072 433 3567 \n",
       "Q 600 4063 929 4331 \n",
       "Q 1259 4600 1759 4600 \n",
       "Q 2128 4600 2406 4451 \n",
       "Q 2684 4303 2865 4023 \n",
       "Q 3047 3744 3150 3342 \n",
       "Q 3253 2941 3253 2259 \n",
       "Q 3253 1453 3087 958 \n",
       "Q 2922 463 2592 192 \n",
       "Q 2263 -78 1759 -78 \n",
       "Q 1097 -78 719 397 \n",
       "Q 266 969 266 2259 \n",
       "z\n",
       "M 844 2259 \n",
       "Q 844 1131 1108 757 \n",
       "Q 1372 384 1759 384 \n",
       "Q 2147 384 2411 759 \n",
       "Q 2675 1134 2675 2259 \n",
       "Q 2675 3391 2411 3762 \n",
       "Q 2147 4134 1753 4134 \n",
       "Q 1366 4134 1134 3806 \n",
       "Q 844 3388 844 2259 \n",
       "z\n",
       "\" transform=\"scale(0.015625)\"/>\n",
       "       </defs>\n",
       "       <use xlink:href=\"#ArialMT-30\"/>\n",
       "      </g>\n",
       "     </g>\n",
       "    </g>\n",
       "    <g id=\"xtick_2\">\n",
       "     <g id=\"line2d_2\">\n",
       "      <path d=\"M 294.824886 288.047625 \n",
       "L 294.824886 21.935625 \n",
       "\" clip-path=\"url(#pf38d18ad96)\" style=\"fill: none; stroke: #cccccc; stroke-linecap: round\"/>\n",
       "     </g>\n",
       "     <g id=\"text_2\">\n",
       "      <!-- 50 -->\n",
       "      <g style=\"fill: #262626\" transform=\"translate(288.707854 305.421219) scale(0.11 -0.11)\">\n",
       "       <defs>\n",
       "        <path id=\"ArialMT-35\" d=\"M 266 1200 \n",
       "L 856 1250 \n",
       "Q 922 819 1161 601 \n",
       "Q 1400 384 1738 384 \n",
       "Q 2144 384 2425 690 \n",
       "Q 2706 997 2706 1503 \n",
       "Q 2706 1984 2436 2262 \n",
       "Q 2166 2541 1728 2541 \n",
       "Q 1456 2541 1237 2417 \n",
       "Q 1019 2294 894 2097 \n",
       "L 366 2166 \n",
       "L 809 4519 \n",
       "L 3088 4519 \n",
       "L 3088 3981 \n",
       "L 1259 3981 \n",
       "L 1013 2750 \n",
       "Q 1425 3038 1878 3038 \n",
       "Q 2478 3038 2890 2622 \n",
       "Q 3303 2206 3303 1553 \n",
       "Q 3303 931 2941 478 \n",
       "Q 2500 -78 1738 -78 \n",
       "Q 1113 -78 717 272 \n",
       "Q 322 622 266 1200 \n",
       "z\n",
       "\" transform=\"scale(0.015625)\"/>\n",
       "       </defs>\n",
       "       <use xlink:href=\"#ArialMT-35\"/>\n",
       "       <use xlink:href=\"#ArialMT-30\" transform=\"translate(55.615234 0)\"/>\n",
       "      </g>\n",
       "     </g>\n",
       "    </g>\n",
       "    <g id=\"xtick_3\">\n",
       "     <g id=\"line2d_3\">\n",
       "      <path d=\"M 359.485396 288.047625 \n",
       "L 359.485396 21.935625 \n",
       "\" clip-path=\"url(#pf38d18ad96)\" style=\"fill: none; stroke: #cccccc; stroke-linecap: round\"/>\n",
       "     </g>\n",
       "     <g id=\"text_3\">\n",
       "      <!-- 100 -->\n",
       "      <g style=\"fill: #262626\" transform=\"translate(350.309849 305.421219) scale(0.11 -0.11)\">\n",
       "       <defs>\n",
       "        <path id=\"ArialMT-31\" d=\"M 2384 0 \n",
       "L 1822 0 \n",
       "L 1822 3584 \n",
       "Q 1619 3391 1289 3197 \n",
       "Q 959 3003 697 2906 \n",
       "L 697 3450 \n",
       "Q 1169 3672 1522 3987 \n",
       "Q 1875 4303 2022 4600 \n",
       "L 2384 4600 \n",
       "L 2384 0 \n",
       "z\n",
       "\" transform=\"scale(0.015625)\"/>\n",
       "       </defs>\n",
       "       <use xlink:href=\"#ArialMT-31\"/>\n",
       "       <use xlink:href=\"#ArialMT-30\" transform=\"translate(55.615234 0)\"/>\n",
       "       <use xlink:href=\"#ArialMT-30\" transform=\"translate(111.230469 0)\"/>\n",
       "      </g>\n",
       "     </g>\n",
       "    </g>\n",
       "    <g id=\"xtick_4\">\n",
       "     <g id=\"line2d_4\">\n",
       "      <path d=\"M 424.145907 288.047625 \n",
       "L 424.145907 21.935625 \n",
       "\" clip-path=\"url(#pf38d18ad96)\" style=\"fill: none; stroke: #cccccc; stroke-linecap: round\"/>\n",
       "     </g>\n",
       "     <g id=\"text_4\">\n",
       "      <!-- 150 -->\n",
       "      <g style=\"fill: #262626\" transform=\"translate(414.97036 305.421219) scale(0.11 -0.11)\">\n",
       "       <use xlink:href=\"#ArialMT-31\"/>\n",
       "       <use xlink:href=\"#ArialMT-35\" transform=\"translate(55.615234 0)\"/>\n",
       "       <use xlink:href=\"#ArialMT-30\" transform=\"translate(111.230469 0)\"/>\n",
       "      </g>\n",
       "     </g>\n",
       "    </g>\n",
       "    <g id=\"xtick_5\">\n",
       "     <g id=\"line2d_5\">\n",
       "      <path d=\"M 488.806417 288.047625 \n",
       "L 488.806417 21.935625 \n",
       "\" clip-path=\"url(#pf38d18ad96)\" style=\"fill: none; stroke: #cccccc; stroke-linecap: round\"/>\n",
       "     </g>\n",
       "     <g id=\"text_5\">\n",
       "      <!-- 200 -->\n",
       "      <g style=\"fill: #262626\" transform=\"translate(479.63087 305.421219) scale(0.11 -0.11)\">\n",
       "       <defs>\n",
       "        <path id=\"ArialMT-32\" d=\"M 3222 541 \n",
       "L 3222 0 \n",
       "L 194 0 \n",
       "Q 188 203 259 391 \n",
       "Q 375 700 629 1000 \n",
       "Q 884 1300 1366 1694 \n",
       "Q 2113 2306 2375 2664 \n",
       "Q 2638 3022 2638 3341 \n",
       "Q 2638 3675 2398 3904 \n",
       "Q 2159 4134 1775 4134 \n",
       "Q 1369 4134 1125 3890 \n",
       "Q 881 3647 878 3216 \n",
       "L 300 3275 \n",
       "Q 359 3922 746 4261 \n",
       "Q 1134 4600 1788 4600 \n",
       "Q 2447 4600 2831 4234 \n",
       "Q 3216 3869 3216 3328 \n",
       "Q 3216 3053 3103 2787 \n",
       "Q 2991 2522 2730 2228 \n",
       "Q 2469 1934 1863 1422 \n",
       "Q 1356 997 1212 845 \n",
       "Q 1069 694 975 541 \n",
       "L 3222 541 \n",
       "z\n",
       "\" transform=\"scale(0.015625)\"/>\n",
       "       </defs>\n",
       "       <use xlink:href=\"#ArialMT-32\"/>\n",
       "       <use xlink:href=\"#ArialMT-30\" transform=\"translate(55.615234 0)\"/>\n",
       "       <use xlink:href=\"#ArialMT-30\" transform=\"translate(111.230469 0)\"/>\n",
       "      </g>\n",
       "     </g>\n",
       "    </g>\n",
       "    <g id=\"xtick_6\">\n",
       "     <g id=\"line2d_6\">\n",
       "      <path d=\"M 553.466928 288.047625 \n",
       "L 553.466928 21.935625 \n",
       "\" clip-path=\"url(#pf38d18ad96)\" style=\"fill: none; stroke: #cccccc; stroke-linecap: round\"/>\n",
       "     </g>\n",
       "     <g id=\"text_6\">\n",
       "      <!-- 250 -->\n",
       "      <g style=\"fill: #262626\" transform=\"translate(544.291381 305.421219) scale(0.11 -0.11)\">\n",
       "       <use xlink:href=\"#ArialMT-32\"/>\n",
       "       <use xlink:href=\"#ArialMT-35\" transform=\"translate(55.615234 0)\"/>\n",
       "       <use xlink:href=\"#ArialMT-30\" transform=\"translate(111.230469 0)\"/>\n",
       "      </g>\n",
       "     </g>\n",
       "    </g>\n",
       "   </g>\n",
       "   <g id=\"matplotlib.axis_2\">\n",
       "    <g id=\"ytick_1\">\n",
       "     <g id=\"text_7\">\n",
       "      <!-- China -->\n",
       "      <g style=\"fill: #262626\" transform=\"translate(191.925156 34.742822) scale(0.11 -0.11)\">\n",
       "       <defs>\n",
       "        <path id=\"ArialMT-43\" d=\"M 3763 1606 \n",
       "L 4369 1453 \n",
       "Q 4178 706 3683 314 \n",
       "Q 3188 -78 2472 -78 \n",
       "Q 1731 -78 1267 223 \n",
       "Q 803 525 561 1097 \n",
       "Q 319 1669 319 2325 \n",
       "Q 319 3041 592 3573 \n",
       "Q 866 4106 1370 4382 \n",
       "Q 1875 4659 2481 4659 \n",
       "Q 3169 4659 3637 4309 \n",
       "Q 4106 3959 4291 3325 \n",
       "L 3694 3184 \n",
       "Q 3534 3684 3231 3912 \n",
       "Q 2928 4141 2469 4141 \n",
       "Q 1941 4141 1586 3887 \n",
       "Q 1231 3634 1087 3207 \n",
       "Q 944 2781 944 2328 \n",
       "Q 944 1744 1114 1308 \n",
       "Q 1284 872 1643 656 \n",
       "Q 2003 441 2422 441 \n",
       "Q 2931 441 3284 734 \n",
       "Q 3638 1028 3763 1606 \n",
       "z\n",
       "\" transform=\"scale(0.015625)\"/>\n",
       "        <path id=\"ArialMT-68\" d=\"M 422 0 \n",
       "L 422 4581 \n",
       "L 984 4581 \n",
       "L 984 2938 \n",
       "Q 1378 3394 1978 3394 \n",
       "Q 2347 3394 2619 3248 \n",
       "Q 2891 3103 3008 2847 \n",
       "Q 3125 2591 3125 2103 \n",
       "L 3125 0 \n",
       "L 2563 0 \n",
       "L 2563 2103 \n",
       "Q 2563 2525 2380 2717 \n",
       "Q 2197 2909 1863 2909 \n",
       "Q 1613 2909 1392 2779 \n",
       "Q 1172 2650 1078 2428 \n",
       "Q 984 2206 984 1816 \n",
       "L 984 0 \n",
       "L 422 0 \n",
       "z\n",
       "\" transform=\"scale(0.015625)\"/>\n",
       "        <path id=\"ArialMT-69\" d=\"M 425 3934 \n",
       "L 425 4581 \n",
       "L 988 4581 \n",
       "L 988 3934 \n",
       "L 425 3934 \n",
       "z\n",
       "M 425 0 \n",
       "L 425 3319 \n",
       "L 988 3319 \n",
       "L 988 0 \n",
       "L 425 0 \n",
       "z\n",
       "\" transform=\"scale(0.015625)\"/>\n",
       "        <path id=\"ArialMT-6e\" d=\"M 422 0 \n",
       "L 422 3319 \n",
       "L 928 3319 \n",
       "L 928 2847 \n",
       "Q 1294 3394 1984 3394 \n",
       "Q 2284 3394 2536 3286 \n",
       "Q 2788 3178 2913 3003 \n",
       "Q 3038 2828 3088 2588 \n",
       "Q 3119 2431 3119 2041 \n",
       "L 3119 0 \n",
       "L 2556 0 \n",
       "L 2556 2019 \n",
       "Q 2556 2363 2490 2533 \n",
       "Q 2425 2703 2258 2804 \n",
       "Q 2091 2906 1866 2906 \n",
       "Q 1506 2906 1245 2678 \n",
       "Q 984 2450 984 1813 \n",
       "L 984 0 \n",
       "L 422 0 \n",
       "z\n",
       "\" transform=\"scale(0.015625)\"/>\n",
       "        <path id=\"ArialMT-61\" d=\"M 2588 409 \n",
       "Q 2275 144 1986 34 \n",
       "Q 1697 -75 1366 -75 \n",
       "Q 819 -75 525 192 \n",
       "Q 231 459 231 875 \n",
       "Q 231 1119 342 1320 \n",
       "Q 453 1522 633 1644 \n",
       "Q 813 1766 1038 1828 \n",
       "Q 1203 1872 1538 1913 \n",
       "Q 2219 1994 2541 2106 \n",
       "Q 2544 2222 2544 2253 \n",
       "Q 2544 2597 2384 2738 \n",
       "Q 2169 2928 1744 2928 \n",
       "Q 1347 2928 1158 2789 \n",
       "Q 969 2650 878 2297 \n",
       "L 328 2372 \n",
       "Q 403 2725 575 2942 \n",
       "Q 747 3159 1072 3276 \n",
       "Q 1397 3394 1825 3394 \n",
       "Q 2250 3394 2515 3294 \n",
       "Q 2781 3194 2906 3042 \n",
       "Q 3031 2891 3081 2659 \n",
       "Q 3109 2516 3109 2141 \n",
       "L 3109 1391 \n",
       "Q 3109 606 3145 398 \n",
       "Q 3181 191 3288 0 \n",
       "L 2700 0 \n",
       "Q 2613 175 2588 409 \n",
       "z\n",
       "M 2541 1666 \n",
       "Q 2234 1541 1622 1453 \n",
       "Q 1275 1403 1131 1340 \n",
       "Q 988 1278 909 1158 \n",
       "Q 831 1038 831 891 \n",
       "Q 831 666 1001 516 \n",
       "Q 1172 366 1500 366 \n",
       "Q 1825 366 2078 508 \n",
       "Q 2331 650 2450 897 \n",
       "Q 2541 1088 2541 1459 \n",
       "L 2541 1666 \n",
       "z\n",
       "\" transform=\"scale(0.015625)\"/>\n",
       "       </defs>\n",
       "       <use xlink:href=\"#ArialMT-43\"/>\n",
       "       <use xlink:href=\"#ArialMT-68\" transform=\"translate(72.216797 0)\"/>\n",
       "       <use xlink:href=\"#ArialMT-69\" transform=\"translate(127.832031 0)\"/>\n",
       "       <use xlink:href=\"#ArialMT-6e\" transform=\"translate(150.048828 0)\"/>\n",
       "       <use xlink:href=\"#ArialMT-61\" transform=\"translate(205.664062 0)\"/>\n",
       "      </g>\n",
       "     </g>\n",
       "    </g>\n",
       "    <g id=\"ytick_2\">\n",
       "     <g id=\"text_8\">\n",
       "      <!-- Russian Federation -->\n",
       "      <g style=\"fill: #262626\" transform=\"translate(125.285781 52.483622) scale(0.11 -0.11)\">\n",
       "       <defs>\n",
       "        <path id=\"ArialMT-52\" d=\"M 503 0 \n",
       "L 503 4581 \n",
       "L 2534 4581 \n",
       "Q 3147 4581 3465 4457 \n",
       "Q 3784 4334 3975 4021 \n",
       "Q 4166 3709 4166 3331 \n",
       "Q 4166 2844 3850 2509 \n",
       "Q 3534 2175 2875 2084 \n",
       "Q 3116 1969 3241 1856 \n",
       "Q 3506 1613 3744 1247 \n",
       "L 4541 0 \n",
       "L 3778 0 \n",
       "L 3172 953 \n",
       "Q 2906 1366 2734 1584 \n",
       "Q 2563 1803 2427 1890 \n",
       "Q 2291 1978 2150 2013 \n",
       "Q 2047 2034 1813 2034 \n",
       "L 1109 2034 \n",
       "L 1109 0 \n",
       "L 503 0 \n",
       "z\n",
       "M 1109 2559 \n",
       "L 2413 2559 \n",
       "Q 2828 2559 3062 2645 \n",
       "Q 3297 2731 3419 2920 \n",
       "Q 3541 3109 3541 3331 \n",
       "Q 3541 3656 3305 3865 \n",
       "Q 3069 4075 2559 4075 \n",
       "L 1109 4075 \n",
       "L 1109 2559 \n",
       "z\n",
       "\" transform=\"scale(0.015625)\"/>\n",
       "        <path id=\"ArialMT-75\" d=\"M 2597 0 \n",
       "L 2597 488 \n",
       "Q 2209 -75 1544 -75 \n",
       "Q 1250 -75 995 37 \n",
       "Q 741 150 617 320 \n",
       "Q 494 491 444 738 \n",
       "Q 409 903 409 1263 \n",
       "L 409 3319 \n",
       "L 972 3319 \n",
       "L 972 1478 \n",
       "Q 972 1038 1006 884 \n",
       "Q 1059 663 1231 536 \n",
       "Q 1403 409 1656 409 \n",
       "Q 1909 409 2131 539 \n",
       "Q 2353 669 2445 892 \n",
       "Q 2538 1116 2538 1541 \n",
       "L 2538 3319 \n",
       "L 3100 3319 \n",
       "L 3100 0 \n",
       "L 2597 0 \n",
       "z\n",
       "\" transform=\"scale(0.015625)\"/>\n",
       "        <path id=\"ArialMT-73\" d=\"M 197 991 \n",
       "L 753 1078 \n",
       "Q 800 744 1014 566 \n",
       "Q 1228 388 1613 388 \n",
       "Q 2000 388 2187 545 \n",
       "Q 2375 703 2375 916 \n",
       "Q 2375 1106 2209 1216 \n",
       "Q 2094 1291 1634 1406 \n",
       "Q 1016 1563 777 1677 \n",
       "Q 538 1791 414 1992 \n",
       "Q 291 2194 291 2438 \n",
       "Q 291 2659 392 2848 \n",
       "Q 494 3038 669 3163 \n",
       "Q 800 3259 1026 3326 \n",
       "Q 1253 3394 1513 3394 \n",
       "Q 1903 3394 2198 3281 \n",
       "Q 2494 3169 2634 2976 \n",
       "Q 2775 2784 2828 2463 \n",
       "L 2278 2388 \n",
       "Q 2241 2644 2061 2787 \n",
       "Q 1881 2931 1553 2931 \n",
       "Q 1166 2931 1000 2803 \n",
       "Q 834 2675 834 2503 \n",
       "Q 834 2394 903 2306 \n",
       "Q 972 2216 1119 2156 \n",
       "Q 1203 2125 1616 2013 \n",
       "Q 2213 1853 2448 1751 \n",
       "Q 2684 1650 2818 1456 \n",
       "Q 2953 1263 2953 975 \n",
       "Q 2953 694 2789 445 \n",
       "Q 2625 197 2315 61 \n",
       "Q 2006 -75 1616 -75 \n",
       "Q 969 -75 630 194 \n",
       "Q 291 463 197 991 \n",
       "z\n",
       "\" transform=\"scale(0.015625)\"/>\n",
       "        <path id=\"ArialMT-20\" transform=\"scale(0.015625)\"/>\n",
       "        <path id=\"ArialMT-46\" d=\"M 525 0 \n",
       "L 525 4581 \n",
       "L 3616 4581 \n",
       "L 3616 4041 \n",
       "L 1131 4041 \n",
       "L 1131 2622 \n",
       "L 3281 2622 \n",
       "L 3281 2081 \n",
       "L 1131 2081 \n",
       "L 1131 0 \n",
       "L 525 0 \n",
       "z\n",
       "\" transform=\"scale(0.015625)\"/>\n",
       "        <path id=\"ArialMT-65\" d=\"M 2694 1069 \n",
       "L 3275 997 \n",
       "Q 3138 488 2766 206 \n",
       "Q 2394 -75 1816 -75 \n",
       "Q 1088 -75 661 373 \n",
       "Q 234 822 234 1631 \n",
       "Q 234 2469 665 2931 \n",
       "Q 1097 3394 1784 3394 \n",
       "Q 2450 3394 2872 2941 \n",
       "Q 3294 2488 3294 1666 \n",
       "Q 3294 1616 3291 1516 \n",
       "L 816 1516 \n",
       "Q 847 969 1125 678 \n",
       "Q 1403 388 1819 388 \n",
       "Q 2128 388 2347 550 \n",
       "Q 2566 713 2694 1069 \n",
       "z\n",
       "M 847 1978 \n",
       "L 2700 1978 \n",
       "Q 2663 2397 2488 2606 \n",
       "Q 2219 2931 1791 2931 \n",
       "Q 1403 2931 1139 2672 \n",
       "Q 875 2413 847 1978 \n",
       "z\n",
       "\" transform=\"scale(0.015625)\"/>\n",
       "        <path id=\"ArialMT-64\" d=\"M 2575 0 \n",
       "L 2575 419 \n",
       "Q 2259 -75 1647 -75 \n",
       "Q 1250 -75 917 144 \n",
       "Q 584 363 401 755 \n",
       "Q 219 1147 219 1656 \n",
       "Q 219 2153 384 2558 \n",
       "Q 550 2963 881 3178 \n",
       "Q 1213 3394 1622 3394 \n",
       "Q 1922 3394 2156 3267 \n",
       "Q 2391 3141 2538 2938 \n",
       "L 2538 4581 \n",
       "L 3097 4581 \n",
       "L 3097 0 \n",
       "L 2575 0 \n",
       "z\n",
       "M 797 1656 \n",
       "Q 797 1019 1065 703 \n",
       "Q 1334 388 1700 388 \n",
       "Q 2069 388 2326 689 \n",
       "Q 2584 991 2584 1609 \n",
       "Q 2584 2291 2321 2609 \n",
       "Q 2059 2928 1675 2928 \n",
       "Q 1300 2928 1048 2622 \n",
       "Q 797 2316 797 1656 \n",
       "z\n",
       "\" transform=\"scale(0.015625)\"/>\n",
       "        <path id=\"ArialMT-72\" d=\"M 416 0 \n",
       "L 416 3319 \n",
       "L 922 3319 \n",
       "L 922 2816 \n",
       "Q 1116 3169 1280 3281 \n",
       "Q 1444 3394 1641 3394 \n",
       "Q 1925 3394 2219 3213 \n",
       "L 2025 2691 \n",
       "Q 1819 2813 1613 2813 \n",
       "Q 1428 2813 1281 2702 \n",
       "Q 1134 2591 1072 2394 \n",
       "Q 978 2094 978 1738 \n",
       "L 978 0 \n",
       "L 416 0 \n",
       "z\n",
       "\" transform=\"scale(0.015625)\"/>\n",
       "        <path id=\"ArialMT-74\" d=\"M 1650 503 \n",
       "L 1731 6 \n",
       "Q 1494 -44 1306 -44 \n",
       "Q 1000 -44 831 53 \n",
       "Q 663 150 594 308 \n",
       "Q 525 466 525 972 \n",
       "L 525 2881 \n",
       "L 113 2881 \n",
       "L 113 3319 \n",
       "L 525 3319 \n",
       "L 525 4141 \n",
       "L 1084 4478 \n",
       "L 1084 3319 \n",
       "L 1650 3319 \n",
       "L 1650 2881 \n",
       "L 1084 2881 \n",
       "L 1084 941 \n",
       "Q 1084 700 1114 631 \n",
       "Q 1144 563 1211 522 \n",
       "Q 1278 481 1403 481 \n",
       "Q 1497 481 1650 503 \n",
       "z\n",
       "\" transform=\"scale(0.015625)\"/>\n",
       "        <path id=\"ArialMT-6f\" d=\"M 213 1659 \n",
       "Q 213 2581 725 3025 \n",
       "Q 1153 3394 1769 3394 \n",
       "Q 2453 3394 2887 2945 \n",
       "Q 3322 2497 3322 1706 \n",
       "Q 3322 1066 3130 698 \n",
       "Q 2938 331 2570 128 \n",
       "Q 2203 -75 1769 -75 \n",
       "Q 1072 -75 642 372 \n",
       "Q 213 819 213 1659 \n",
       "z\n",
       "M 791 1659 \n",
       "Q 791 1022 1069 705 \n",
       "Q 1347 388 1769 388 \n",
       "Q 2188 388 2466 706 \n",
       "Q 2744 1025 2744 1678 \n",
       "Q 2744 2294 2464 2611 \n",
       "Q 2184 2928 1769 2928 \n",
       "Q 1347 2928 1069 2612 \n",
       "Q 791 2297 791 1659 \n",
       "z\n",
       "\" transform=\"scale(0.015625)\"/>\n",
       "       </defs>\n",
       "       <use xlink:href=\"#ArialMT-52\"/>\n",
       "       <use xlink:href=\"#ArialMT-75\" transform=\"translate(72.216797 0)\"/>\n",
       "       <use xlink:href=\"#ArialMT-73\" transform=\"translate(127.832031 0)\"/>\n",
       "       <use xlink:href=\"#ArialMT-73\" transform=\"translate(177.832031 0)\"/>\n",
       "       <use xlink:href=\"#ArialMT-69\" transform=\"translate(227.832031 0)\"/>\n",
       "       <use xlink:href=\"#ArialMT-61\" transform=\"translate(250.048828 0)\"/>\n",
       "       <use xlink:href=\"#ArialMT-6e\" transform=\"translate(305.664062 0)\"/>\n",
       "       <use xlink:href=\"#ArialMT-20\" transform=\"translate(361.279297 0)\"/>\n",
       "       <use xlink:href=\"#ArialMT-46\" transform=\"translate(389.0625 0)\"/>\n",
       "       <use xlink:href=\"#ArialMT-65\" transform=\"translate(450.146484 0)\"/>\n",
       "       <use xlink:href=\"#ArialMT-64\" transform=\"translate(505.761719 0)\"/>\n",
       "       <use xlink:href=\"#ArialMT-65\" transform=\"translate(561.376953 0)\"/>\n",
       "       <use xlink:href=\"#ArialMT-72\" transform=\"translate(616.992188 0)\"/>\n",
       "       <use xlink:href=\"#ArialMT-61\" transform=\"translate(650.292969 0)\"/>\n",
       "       <use xlink:href=\"#ArialMT-74\" transform=\"translate(705.908203 0)\"/>\n",
       "       <use xlink:href=\"#ArialMT-69\" transform=\"translate(733.691406 0)\"/>\n",
       "       <use xlink:href=\"#ArialMT-6f\" transform=\"translate(755.908203 0)\"/>\n",
       "       <use xlink:href=\"#ArialMT-6e\" transform=\"translate(811.523438 0)\"/>\n",
       "      </g>\n",
       "     </g>\n",
       "    </g>\n",
       "    <g id=\"ytick_3\">\n",
       "     <g id=\"text_9\">\n",
       "      <!-- Iran (Islamic Republic of) -->\n",
       "      <g style=\"fill: #262626\" transform=\"translate(99.021562 70.291453) scale(0.11 -0.11)\">\n",
       "       <defs>\n",
       "        <path id=\"ArialMT-49\" d=\"M 597 0 \n",
       "L 597 4581 \n",
       "L 1203 4581 \n",
       "L 1203 0 \n",
       "L 597 0 \n",
       "z\n",
       "\" transform=\"scale(0.015625)\"/>\n",
       "        <path id=\"ArialMT-28\" d=\"M 1497 -1347 \n",
       "Q 1031 -759 709 28 \n",
       "Q 388 816 388 1659 \n",
       "Q 388 2403 628 3084 \n",
       "Q 909 3875 1497 4659 \n",
       "L 1900 4659 \n",
       "Q 1522 4009 1400 3731 \n",
       "Q 1209 3300 1100 2831 \n",
       "Q 966 2247 966 1656 \n",
       "Q 966 153 1900 -1347 \n",
       "L 1497 -1347 \n",
       "z\n",
       "\" transform=\"scale(0.015625)\"/>\n",
       "        <path id=\"ArialMT-6c\" d=\"M 409 0 \n",
       "L 409 4581 \n",
       "L 972 4581 \n",
       "L 972 0 \n",
       "L 409 0 \n",
       "z\n",
       "\" transform=\"scale(0.015625)\"/>\n",
       "        <path id=\"ArialMT-6d\" d=\"M 422 0 \n",
       "L 422 3319 \n",
       "L 925 3319 \n",
       "L 925 2853 \n",
       "Q 1081 3097 1340 3245 \n",
       "Q 1600 3394 1931 3394 \n",
       "Q 2300 3394 2536 3241 \n",
       "Q 2772 3088 2869 2813 \n",
       "Q 3263 3394 3894 3394 \n",
       "Q 4388 3394 4653 3120 \n",
       "Q 4919 2847 4919 2278 \n",
       "L 4919 0 \n",
       "L 4359 0 \n",
       "L 4359 2091 \n",
       "Q 4359 2428 4304 2576 \n",
       "Q 4250 2725 4106 2815 \n",
       "Q 3963 2906 3769 2906 \n",
       "Q 3419 2906 3187 2673 \n",
       "Q 2956 2441 2956 1928 \n",
       "L 2956 0 \n",
       "L 2394 0 \n",
       "L 2394 2156 \n",
       "Q 2394 2531 2256 2718 \n",
       "Q 2119 2906 1806 2906 \n",
       "Q 1569 2906 1367 2781 \n",
       "Q 1166 2656 1075 2415 \n",
       "Q 984 2175 984 1722 \n",
       "L 984 0 \n",
       "L 422 0 \n",
       "z\n",
       "\" transform=\"scale(0.015625)\"/>\n",
       "        <path id=\"ArialMT-63\" d=\"M 2588 1216 \n",
       "L 3141 1144 \n",
       "Q 3050 572 2676 248 \n",
       "Q 2303 -75 1759 -75 \n",
       "Q 1078 -75 664 370 \n",
       "Q 250 816 250 1647 \n",
       "Q 250 2184 428 2587 \n",
       "Q 606 2991 970 3192 \n",
       "Q 1334 3394 1763 3394 \n",
       "Q 2303 3394 2647 3120 \n",
       "Q 2991 2847 3088 2344 \n",
       "L 2541 2259 \n",
       "Q 2463 2594 2264 2762 \n",
       "Q 2066 2931 1784 2931 \n",
       "Q 1359 2931 1093 2626 \n",
       "Q 828 2322 828 1663 \n",
       "Q 828 994 1084 691 \n",
       "Q 1341 388 1753 388 \n",
       "Q 2084 388 2306 591 \n",
       "Q 2528 794 2588 1216 \n",
       "z\n",
       "\" transform=\"scale(0.015625)\"/>\n",
       "        <path id=\"ArialMT-70\" d=\"M 422 -1272 \n",
       "L 422 3319 \n",
       "L 934 3319 \n",
       "L 934 2888 \n",
       "Q 1116 3141 1344 3267 \n",
       "Q 1572 3394 1897 3394 \n",
       "Q 2322 3394 2647 3175 \n",
       "Q 2972 2956 3137 2557 \n",
       "Q 3303 2159 3303 1684 \n",
       "Q 3303 1175 3120 767 \n",
       "Q 2938 359 2589 142 \n",
       "Q 2241 -75 1856 -75 \n",
       "Q 1575 -75 1351 44 \n",
       "Q 1128 163 984 344 \n",
       "L 984 -1272 \n",
       "L 422 -1272 \n",
       "z\n",
       "M 931 1641 \n",
       "Q 931 1000 1190 694 \n",
       "Q 1450 388 1819 388 \n",
       "Q 2194 388 2461 705 \n",
       "Q 2728 1022 2728 1688 \n",
       "Q 2728 2322 2467 2637 \n",
       "Q 2206 2953 1844 2953 \n",
       "Q 1484 2953 1207 2617 \n",
       "Q 931 2281 931 1641 \n",
       "z\n",
       "\" transform=\"scale(0.015625)\"/>\n",
       "        <path id=\"ArialMT-62\" d=\"M 941 0 \n",
       "L 419 0 \n",
       "L 419 4581 \n",
       "L 981 4581 \n",
       "L 981 2947 \n",
       "Q 1338 3394 1891 3394 \n",
       "Q 2197 3394 2470 3270 \n",
       "Q 2744 3147 2920 2923 \n",
       "Q 3097 2700 3197 2384 \n",
       "Q 3297 2069 3297 1709 \n",
       "Q 3297 856 2875 390 \n",
       "Q 2453 -75 1863 -75 \n",
       "Q 1275 -75 941 416 \n",
       "L 941 0 \n",
       "z\n",
       "M 934 1684 \n",
       "Q 934 1088 1097 822 \n",
       "Q 1363 388 1816 388 \n",
       "Q 2184 388 2453 708 \n",
       "Q 2722 1028 2722 1663 \n",
       "Q 2722 2313 2464 2622 \n",
       "Q 2206 2931 1841 2931 \n",
       "Q 1472 2931 1203 2611 \n",
       "Q 934 2291 934 1684 \n",
       "z\n",
       "\" transform=\"scale(0.015625)\"/>\n",
       "        <path id=\"ArialMT-66\" d=\"M 556 0 \n",
       "L 556 2881 \n",
       "L 59 2881 \n",
       "L 59 3319 \n",
       "L 556 3319 \n",
       "L 556 3672 \n",
       "Q 556 4006 616 4169 \n",
       "Q 697 4388 901 4523 \n",
       "Q 1106 4659 1475 4659 \n",
       "Q 1713 4659 2000 4603 \n",
       "L 1916 4113 \n",
       "Q 1741 4144 1584 4144 \n",
       "Q 1328 4144 1222 4034 \n",
       "Q 1116 3925 1116 3625 \n",
       "L 1116 3319 \n",
       "L 1763 3319 \n",
       "L 1763 2881 \n",
       "L 1116 2881 \n",
       "L 1116 0 \n",
       "L 556 0 \n",
       "z\n",
       "\" transform=\"scale(0.015625)\"/>\n",
       "        <path id=\"ArialMT-29\" d=\"M 791 -1347 \n",
       "L 388 -1347 \n",
       "Q 1322 153 1322 1656 \n",
       "Q 1322 2244 1188 2822 \n",
       "Q 1081 3291 891 3722 \n",
       "Q 769 4003 388 4659 \n",
       "L 791 4659 \n",
       "Q 1378 3875 1659 3084 \n",
       "Q 1900 2403 1900 1659 \n",
       "Q 1900 816 1576 28 \n",
       "Q 1253 -759 791 -1347 \n",
       "z\n",
       "\" transform=\"scale(0.015625)\"/>\n",
       "       </defs>\n",
       "       <use xlink:href=\"#ArialMT-49\"/>\n",
       "       <use xlink:href=\"#ArialMT-72\" transform=\"translate(27.783203 0)\"/>\n",
       "       <use xlink:href=\"#ArialMT-61\" transform=\"translate(61.083984 0)\"/>\n",
       "       <use xlink:href=\"#ArialMT-6e\" transform=\"translate(116.699219 0)\"/>\n",
       "       <use xlink:href=\"#ArialMT-20\" transform=\"translate(172.314453 0)\"/>\n",
       "       <use xlink:href=\"#ArialMT-28\" transform=\"translate(200.097656 0)\"/>\n",
       "       <use xlink:href=\"#ArialMT-49\" transform=\"translate(233.398438 0)\"/>\n",
       "       <use xlink:href=\"#ArialMT-73\" transform=\"translate(261.181641 0)\"/>\n",
       "       <use xlink:href=\"#ArialMT-6c\" transform=\"translate(311.181641 0)\"/>\n",
       "       <use xlink:href=\"#ArialMT-61\" transform=\"translate(333.398438 0)\"/>\n",
       "       <use xlink:href=\"#ArialMT-6d\" transform=\"translate(389.013672 0)\"/>\n",
       "       <use xlink:href=\"#ArialMT-69\" transform=\"translate(472.314453 0)\"/>\n",
       "       <use xlink:href=\"#ArialMT-63\" transform=\"translate(494.53125 0)\"/>\n",
       "       <use xlink:href=\"#ArialMT-20\" transform=\"translate(544.53125 0)\"/>\n",
       "       <use xlink:href=\"#ArialMT-52\" transform=\"translate(572.314453 0)\"/>\n",
       "       <use xlink:href=\"#ArialMT-65\" transform=\"translate(644.53125 0)\"/>\n",
       "       <use xlink:href=\"#ArialMT-70\" transform=\"translate(700.146484 0)\"/>\n",
       "       <use xlink:href=\"#ArialMT-75\" transform=\"translate(755.761719 0)\"/>\n",
       "       <use xlink:href=\"#ArialMT-62\" transform=\"translate(811.376953 0)\"/>\n",
       "       <use xlink:href=\"#ArialMT-6c\" transform=\"translate(866.992188 0)\"/>\n",
       "       <use xlink:href=\"#ArialMT-69\" transform=\"translate(889.208984 0)\"/>\n",
       "       <use xlink:href=\"#ArialMT-63\" transform=\"translate(911.425781 0)\"/>\n",
       "       <use xlink:href=\"#ArialMT-20\" transform=\"translate(961.425781 0)\"/>\n",
       "       <use xlink:href=\"#ArialMT-6f\" transform=\"translate(989.208984 0)\"/>\n",
       "       <use xlink:href=\"#ArialMT-66\" transform=\"translate(1044.824219 0)\"/>\n",
       "       <use xlink:href=\"#ArialMT-29\" transform=\"translate(1072.607422 0)\"/>\n",
       "      </g>\n",
       "     </g>\n",
       "    </g>\n",
       "    <g id=\"ytick_4\">\n",
       "     <g id=\"text_10\">\n",
       "      <!-- Korea (Democratic People's Republic of) -->\n",
       "      <g style=\"fill: #262626\" transform=\"translate(22.320625 88.032253) scale(0.11 -0.11)\">\n",
       "       <defs>\n",
       "        <path id=\"ArialMT-4b\" d=\"M 469 0 \n",
       "L 469 4581 \n",
       "L 1075 4581 \n",
       "L 1075 2309 \n",
       "L 3350 4581 \n",
       "L 4172 4581 \n",
       "L 2250 2725 \n",
       "L 4256 0 \n",
       "L 3456 0 \n",
       "L 1825 2319 \n",
       "L 1075 1588 \n",
       "L 1075 0 \n",
       "L 469 0 \n",
       "z\n",
       "\" transform=\"scale(0.015625)\"/>\n",
       "        <path id=\"ArialMT-44\" d=\"M 494 0 \n",
       "L 494 4581 \n",
       "L 2072 4581 \n",
       "Q 2606 4581 2888 4516 \n",
       "Q 3281 4425 3559 4188 \n",
       "Q 3922 3881 4101 3404 \n",
       "Q 4281 2928 4281 2316 \n",
       "Q 4281 1794 4159 1391 \n",
       "Q 4038 988 3847 723 \n",
       "Q 3656 459 3429 307 \n",
       "Q 3203 156 2883 78 \n",
       "Q 2563 0 2147 0 \n",
       "L 494 0 \n",
       "z\n",
       "M 1100 541 \n",
       "L 2078 541 \n",
       "Q 2531 541 2789 625 \n",
       "Q 3047 709 3200 863 \n",
       "Q 3416 1078 3536 1442 \n",
       "Q 3656 1806 3656 2325 \n",
       "Q 3656 3044 3420 3430 \n",
       "Q 3184 3816 2847 3947 \n",
       "Q 2603 4041 2063 4041 \n",
       "L 1100 4041 \n",
       "L 1100 541 \n",
       "z\n",
       "\" transform=\"scale(0.015625)\"/>\n",
       "        <path id=\"ArialMT-50\" d=\"M 494 0 \n",
       "L 494 4581 \n",
       "L 2222 4581 \n",
       "Q 2678 4581 2919 4538 \n",
       "Q 3256 4481 3484 4323 \n",
       "Q 3713 4166 3852 3881 \n",
       "Q 3991 3597 3991 3256 \n",
       "Q 3991 2672 3619 2267 \n",
       "Q 3247 1863 2275 1863 \n",
       "L 1100 1863 \n",
       "L 1100 0 \n",
       "L 494 0 \n",
       "z\n",
       "M 1100 2403 \n",
       "L 2284 2403 \n",
       "Q 2872 2403 3119 2622 \n",
       "Q 3366 2841 3366 3238 \n",
       "Q 3366 3525 3220 3729 \n",
       "Q 3075 3934 2838 4000 \n",
       "Q 2684 4041 2272 4041 \n",
       "L 1100 4041 \n",
       "L 1100 2403 \n",
       "z\n",
       "\" transform=\"scale(0.015625)\"/>\n",
       "        <path id=\"ArialMT-27\" d=\"M 425 2959 \n",
       "L 281 3816 \n",
       "L 281 4581 \n",
       "L 922 4581 \n",
       "L 922 3816 \n",
       "L 772 2959 \n",
       "L 425 2959 \n",
       "z\n",
       "\" transform=\"scale(0.015625)\"/>\n",
       "       </defs>\n",
       "       <use xlink:href=\"#ArialMT-4b\"/>\n",
       "       <use xlink:href=\"#ArialMT-6f\" transform=\"translate(66.699219 0)\"/>\n",
       "       <use xlink:href=\"#ArialMT-72\" transform=\"translate(122.314453 0)\"/>\n",
       "       <use xlink:href=\"#ArialMT-65\" transform=\"translate(155.615234 0)\"/>\n",
       "       <use xlink:href=\"#ArialMT-61\" transform=\"translate(211.230469 0)\"/>\n",
       "       <use xlink:href=\"#ArialMT-20\" transform=\"translate(266.845703 0)\"/>\n",
       "       <use xlink:href=\"#ArialMT-28\" transform=\"translate(294.628906 0)\"/>\n",
       "       <use xlink:href=\"#ArialMT-44\" transform=\"translate(327.929688 0)\"/>\n",
       "       <use xlink:href=\"#ArialMT-65\" transform=\"translate(400.146484 0)\"/>\n",
       "       <use xlink:href=\"#ArialMT-6d\" transform=\"translate(455.761719 0)\"/>\n",
       "       <use xlink:href=\"#ArialMT-6f\" transform=\"translate(539.0625 0)\"/>\n",
       "       <use xlink:href=\"#ArialMT-63\" transform=\"translate(594.677734 0)\"/>\n",
       "       <use xlink:href=\"#ArialMT-72\" transform=\"translate(644.677734 0)\"/>\n",
       "       <use xlink:href=\"#ArialMT-61\" transform=\"translate(677.978516 0)\"/>\n",
       "       <use xlink:href=\"#ArialMT-74\" transform=\"translate(733.59375 0)\"/>\n",
       "       <use xlink:href=\"#ArialMT-69\" transform=\"translate(761.376953 0)\"/>\n",
       "       <use xlink:href=\"#ArialMT-63\" transform=\"translate(783.59375 0)\"/>\n",
       "       <use xlink:href=\"#ArialMT-20\" transform=\"translate(833.59375 0)\"/>\n",
       "       <use xlink:href=\"#ArialMT-50\" transform=\"translate(861.376953 0)\"/>\n",
       "       <use xlink:href=\"#ArialMT-65\" transform=\"translate(928.076172 0)\"/>\n",
       "       <use xlink:href=\"#ArialMT-6f\" transform=\"translate(983.691406 0)\"/>\n",
       "       <use xlink:href=\"#ArialMT-70\" transform=\"translate(1039.306641 0)\"/>\n",
       "       <use xlink:href=\"#ArialMT-6c\" transform=\"translate(1094.921875 0)\"/>\n",
       "       <use xlink:href=\"#ArialMT-65\" transform=\"translate(1117.138672 0)\"/>\n",
       "       <use xlink:href=\"#ArialMT-27\" transform=\"translate(1172.753906 0)\"/>\n",
       "       <use xlink:href=\"#ArialMT-73\" transform=\"translate(1191.845703 0)\"/>\n",
       "       <use xlink:href=\"#ArialMT-20\" transform=\"translate(1241.845703 0)\"/>\n",
       "       <use xlink:href=\"#ArialMT-52\" transform=\"translate(1269.628906 0)\"/>\n",
       "       <use xlink:href=\"#ArialMT-65\" transform=\"translate(1341.845703 0)\"/>\n",
       "       <use xlink:href=\"#ArialMT-70\" transform=\"translate(1397.460938 0)\"/>\n",
       "       <use xlink:href=\"#ArialMT-75\" transform=\"translate(1453.076172 0)\"/>\n",
       "       <use xlink:href=\"#ArialMT-62\" transform=\"translate(1508.691406 0)\"/>\n",
       "       <use xlink:href=\"#ArialMT-6c\" transform=\"translate(1564.306641 0)\"/>\n",
       "       <use xlink:href=\"#ArialMT-69\" transform=\"translate(1586.523438 0)\"/>\n",
       "       <use xlink:href=\"#ArialMT-63\" transform=\"translate(1608.740234 0)\"/>\n",
       "       <use xlink:href=\"#ArialMT-20\" transform=\"translate(1658.740234 0)\"/>\n",
       "       <use xlink:href=\"#ArialMT-6f\" transform=\"translate(1686.523438 0)\"/>\n",
       "       <use xlink:href=\"#ArialMT-66\" transform=\"translate(1742.138672 0)\"/>\n",
       "       <use xlink:href=\"#ArialMT-29\" transform=\"translate(1769.921875 0)\"/>\n",
       "      </g>\n",
       "     </g>\n",
       "    </g>\n",
       "    <g id=\"ytick_5\">\n",
       "     <g id=\"text_11\">\n",
       "      <!-- United States -->\n",
       "      <g style=\"fill: #262626\" transform=\"translate(154.63 105.706022) scale(0.11 -0.11)\">\n",
       "       <defs>\n",
       "        <path id=\"ArialMT-55\" d=\"M 3500 4581 \n",
       "L 4106 4581 \n",
       "L 4106 1934 \n",
       "Q 4106 1244 3950 837 \n",
       "Q 3794 431 3386 176 \n",
       "Q 2978 -78 2316 -78 \n",
       "Q 1672 -78 1262 144 \n",
       "Q 853 366 678 786 \n",
       "Q 503 1206 503 1934 \n",
       "L 503 4581 \n",
       "L 1109 4581 \n",
       "L 1109 1938 \n",
       "Q 1109 1341 1220 1058 \n",
       "Q 1331 775 1601 622 \n",
       "Q 1872 469 2263 469 \n",
       "Q 2931 469 3215 772 \n",
       "Q 3500 1075 3500 1938 \n",
       "L 3500 4581 \n",
       "z\n",
       "\" transform=\"scale(0.015625)\"/>\n",
       "        <path id=\"ArialMT-53\" d=\"M 288 1472 \n",
       "L 859 1522 \n",
       "Q 900 1178 1048 958 \n",
       "Q 1197 738 1509 602 \n",
       "Q 1822 466 2213 466 \n",
       "Q 2559 466 2825 569 \n",
       "Q 3091 672 3220 851 \n",
       "Q 3350 1031 3350 1244 \n",
       "Q 3350 1459 3225 1620 \n",
       "Q 3100 1781 2813 1891 \n",
       "Q 2628 1963 1997 2114 \n",
       "Q 1366 2266 1113 2400 \n",
       "Q 784 2572 623 2826 \n",
       "Q 463 3081 463 3397 \n",
       "Q 463 3744 659 4045 \n",
       "Q 856 4347 1234 4503 \n",
       "Q 1613 4659 2075 4659 \n",
       "Q 2584 4659 2973 4495 \n",
       "Q 3363 4331 3572 4012 \n",
       "Q 3781 3694 3797 3291 \n",
       "L 3216 3247 \n",
       "Q 3169 3681 2898 3903 \n",
       "Q 2628 4125 2100 4125 \n",
       "Q 1550 4125 1298 3923 \n",
       "Q 1047 3722 1047 3438 \n",
       "Q 1047 3191 1225 3031 \n",
       "Q 1400 2872 2139 2705 \n",
       "Q 2878 2538 3153 2413 \n",
       "Q 3553 2228 3743 1945 \n",
       "Q 3934 1663 3934 1294 \n",
       "Q 3934 928 3725 604 \n",
       "Q 3516 281 3123 101 \n",
       "Q 2731 -78 2241 -78 \n",
       "Q 1619 -78 1198 103 \n",
       "Q 778 284 539 648 \n",
       "Q 300 1013 288 1472 \n",
       "z\n",
       "\" transform=\"scale(0.015625)\"/>\n",
       "       </defs>\n",
       "       <use xlink:href=\"#ArialMT-55\"/>\n",
       "       <use xlink:href=\"#ArialMT-6e\" transform=\"translate(72.216797 0)\"/>\n",
       "       <use xlink:href=\"#ArialMT-69\" transform=\"translate(127.832031 0)\"/>\n",
       "       <use xlink:href=\"#ArialMT-74\" transform=\"translate(150.048828 0)\"/>\n",
       "       <use xlink:href=\"#ArialMT-65\" transform=\"translate(177.832031 0)\"/>\n",
       "       <use xlink:href=\"#ArialMT-64\" transform=\"translate(233.447266 0)\"/>\n",
       "       <use xlink:href=\"#ArialMT-20\" transform=\"translate(289.0625 0)\"/>\n",
       "       <use xlink:href=\"#ArialMT-53\" transform=\"translate(316.845703 0)\"/>\n",
       "       <use xlink:href=\"#ArialMT-74\" transform=\"translate(383.544922 0)\"/>\n",
       "       <use xlink:href=\"#ArialMT-61\" transform=\"translate(411.328125 0)\"/>\n",
       "       <use xlink:href=\"#ArialMT-74\" transform=\"translate(466.943359 0)\"/>\n",
       "       <use xlink:href=\"#ArialMT-65\" transform=\"translate(494.726562 0)\"/>\n",
       "       <use xlink:href=\"#ArialMT-73\" transform=\"translate(550.341797 0)\"/>\n",
       "      </g>\n",
       "     </g>\n",
       "    </g>\n",
       "    <g id=\"ytick_6\">\n",
       "     <g id=\"text_12\">\n",
       "      <!-- Vietnam -->\n",
       "      <g style=\"fill: #262626\" transform=\"translate(180.505781 123.446822) scale(0.11 -0.11)\">\n",
       "       <defs>\n",
       "        <path id=\"ArialMT-56\" d=\"M 1803 0 \n",
       "L 28 4581 \n",
       "L 684 4581 \n",
       "L 1875 1253 \n",
       "Q 2019 853 2116 503 \n",
       "Q 2222 878 2363 1253 \n",
       "L 3600 4581 \n",
       "L 4219 4581 \n",
       "L 2425 0 \n",
       "L 1803 0 \n",
       "z\n",
       "\" transform=\"scale(0.015625)\"/>\n",
       "       </defs>\n",
       "       <use xlink:href=\"#ArialMT-56\"/>\n",
       "       <use xlink:href=\"#ArialMT-69\" transform=\"translate(64.949219 0)\"/>\n",
       "       <use xlink:href=\"#ArialMT-65\" transform=\"translate(87.166016 0)\"/>\n",
       "       <use xlink:href=\"#ArialMT-74\" transform=\"translate(142.78125 0)\"/>\n",
       "       <use xlink:href=\"#ArialMT-6e\" transform=\"translate(170.564453 0)\"/>\n",
       "       <use xlink:href=\"#ArialMT-61\" transform=\"translate(226.179688 0)\"/>\n",
       "       <use xlink:href=\"#ArialMT-6d\" transform=\"translate(281.794922 0)\"/>\n",
       "      </g>\n",
       "     </g>\n",
       "    </g>\n",
       "    <g id=\"ytick_7\">\n",
       "     <g id=\"text_13\">\n",
       "      <!-- Pakistan -->\n",
       "      <g style=\"fill: #262626\" transform=\"translate(178.475937 141.187622) scale(0.11 -0.11)\">\n",
       "       <defs>\n",
       "        <path id=\"ArialMT-6b\" d=\"M 425 0 \n",
       "L 425 4581 \n",
       "L 988 4581 \n",
       "L 988 1969 \n",
       "L 2319 3319 \n",
       "L 3047 3319 \n",
       "L 1778 2088 \n",
       "L 3175 0 \n",
       "L 2481 0 \n",
       "L 1384 1697 \n",
       "L 988 1316 \n",
       "L 988 0 \n",
       "L 425 0 \n",
       "z\n",
       "\" transform=\"scale(0.015625)\"/>\n",
       "       </defs>\n",
       "       <use xlink:href=\"#ArialMT-50\"/>\n",
       "       <use xlink:href=\"#ArialMT-61\" transform=\"translate(66.699219 0)\"/>\n",
       "       <use xlink:href=\"#ArialMT-6b\" transform=\"translate(122.314453 0)\"/>\n",
       "       <use xlink:href=\"#ArialMT-69\" transform=\"translate(172.314453 0)\"/>\n",
       "       <use xlink:href=\"#ArialMT-73\" transform=\"translate(194.53125 0)\"/>\n",
       "       <use xlink:href=\"#ArialMT-74\" transform=\"translate(244.53125 0)\"/>\n",
       "       <use xlink:href=\"#ArialMT-61\" transform=\"translate(272.314453 0)\"/>\n",
       "       <use xlink:href=\"#ArialMT-6e\" transform=\"translate(327.929688 0)\"/>\n",
       "      </g>\n",
       "     </g>\n",
       "    </g>\n",
       "    <g id=\"ytick_8\">\n",
       "     <g id=\"text_14\">\n",
       "      <!-- India -->\n",
       "      <g style=\"fill: #262626\" transform=\"translate(196.813281 158.928422) scale(0.11 -0.11)\">\n",
       "       <use xlink:href=\"#ArialMT-49\"/>\n",
       "       <use xlink:href=\"#ArialMT-6e\" transform=\"translate(27.783203 0)\"/>\n",
       "       <use xlink:href=\"#ArialMT-64\" transform=\"translate(83.398438 0)\"/>\n",
       "       <use xlink:href=\"#ArialMT-69\" transform=\"translate(139.013672 0)\"/>\n",
       "       <use xlink:href=\"#ArialMT-61\" transform=\"translate(161.230469 0)\"/>\n",
       "      </g>\n",
       "     </g>\n",
       "    </g>\n",
       "    <g id=\"ytick_9\">\n",
       "     <g id=\"text_15\">\n",
       "      <!-- Israel -->\n",
       "      <g style=\"fill: #262626\" transform=\"translate(193.767656 176.669222) scale(0.11 -0.11)\">\n",
       "       <use xlink:href=\"#ArialMT-49\"/>\n",
       "       <use xlink:href=\"#ArialMT-73\" transform=\"translate(27.783203 0)\"/>\n",
       "       <use xlink:href=\"#ArialMT-72\" transform=\"translate(77.783203 0)\"/>\n",
       "       <use xlink:href=\"#ArialMT-61\" transform=\"translate(111.083984 0)\"/>\n",
       "       <use xlink:href=\"#ArialMT-65\" transform=\"translate(166.699219 0)\"/>\n",
       "       <use xlink:href=\"#ArialMT-6c\" transform=\"translate(222.314453 0)\"/>\n",
       "      </g>\n",
       "     </g>\n",
       "    </g>\n",
       "    <g id=\"ytick_10\">\n",
       "     <g id=\"text_16\">\n",
       "      <!-- United Arab Emirates -->\n",
       "      <g style=\"fill: #262626\" transform=\"translate(116.731562 194.410022) scale(0.11 -0.11)\">\n",
       "       <defs>\n",
       "        <path id=\"ArialMT-41\" d=\"M -9 0 \n",
       "L 1750 4581 \n",
       "L 2403 4581 \n",
       "L 4278 0 \n",
       "L 3588 0 \n",
       "L 3053 1388 \n",
       "L 1138 1388 \n",
       "L 634 0 \n",
       "L -9 0 \n",
       "z\n",
       "M 1313 1881 \n",
       "L 2866 1881 \n",
       "L 2388 3150 \n",
       "Q 2169 3728 2063 4100 \n",
       "Q 1975 3659 1816 3225 \n",
       "L 1313 1881 \n",
       "z\n",
       "\" transform=\"scale(0.015625)\"/>\n",
       "        <path id=\"ArialMT-45\" d=\"M 506 0 \n",
       "L 506 4581 \n",
       "L 3819 4581 \n",
       "L 3819 4041 \n",
       "L 1113 4041 \n",
       "L 1113 2638 \n",
       "L 3647 2638 \n",
       "L 3647 2100 \n",
       "L 1113 2100 \n",
       "L 1113 541 \n",
       "L 3925 541 \n",
       "L 3925 0 \n",
       "L 506 0 \n",
       "z\n",
       "\" transform=\"scale(0.015625)\"/>\n",
       "       </defs>\n",
       "       <use xlink:href=\"#ArialMT-55\"/>\n",
       "       <use xlink:href=\"#ArialMT-6e\" transform=\"translate(72.216797 0)\"/>\n",
       "       <use xlink:href=\"#ArialMT-69\" transform=\"translate(127.832031 0)\"/>\n",
       "       <use xlink:href=\"#ArialMT-74\" transform=\"translate(150.048828 0)\"/>\n",
       "       <use xlink:href=\"#ArialMT-65\" transform=\"translate(177.832031 0)\"/>\n",
       "       <use xlink:href=\"#ArialMT-64\" transform=\"translate(233.447266 0)\"/>\n",
       "       <use xlink:href=\"#ArialMT-20\" transform=\"translate(289.0625 0)\"/>\n",
       "       <use xlink:href=\"#ArialMT-41\" transform=\"translate(311.345703 0)\"/>\n",
       "       <use xlink:href=\"#ArialMT-72\" transform=\"translate(378.044922 0)\"/>\n",
       "       <use xlink:href=\"#ArialMT-61\" transform=\"translate(411.345703 0)\"/>\n",
       "       <use xlink:href=\"#ArialMT-62\" transform=\"translate(466.960938 0)\"/>\n",
       "       <use xlink:href=\"#ArialMT-20\" transform=\"translate(522.576172 0)\"/>\n",
       "       <use xlink:href=\"#ArialMT-45\" transform=\"translate(550.359375 0)\"/>\n",
       "       <use xlink:href=\"#ArialMT-6d\" transform=\"translate(617.058594 0)\"/>\n",
       "       <use xlink:href=\"#ArialMT-69\" transform=\"translate(700.359375 0)\"/>\n",
       "       <use xlink:href=\"#ArialMT-72\" transform=\"translate(722.576172 0)\"/>\n",
       "       <use xlink:href=\"#ArialMT-61\" transform=\"translate(755.876953 0)\"/>\n",
       "       <use xlink:href=\"#ArialMT-74\" transform=\"translate(811.492188 0)\"/>\n",
       "       <use xlink:href=\"#ArialMT-65\" transform=\"translate(839.275391 0)\"/>\n",
       "       <use xlink:href=\"#ArialMT-73\" transform=\"translate(894.890625 0)\"/>\n",
       "      </g>\n",
       "     </g>\n",
       "    </g>\n",
       "    <g id=\"ytick_11\">\n",
       "     <g id=\"text_17\">\n",
       "      <!-- Saudi Arabia -->\n",
       "      <g style=\"fill: #262626\" transform=\"translate(158.285781 212.150822) scale(0.11 -0.11)\">\n",
       "       <use xlink:href=\"#ArialMT-53\"/>\n",
       "       <use xlink:href=\"#ArialMT-61\" transform=\"translate(66.699219 0)\"/>\n",
       "       <use xlink:href=\"#ArialMT-75\" transform=\"translate(122.314453 0)\"/>\n",
       "       <use xlink:href=\"#ArialMT-64\" transform=\"translate(177.929688 0)\"/>\n",
       "       <use xlink:href=\"#ArialMT-69\" transform=\"translate(233.544922 0)\"/>\n",
       "       <use xlink:href=\"#ArialMT-20\" transform=\"translate(255.761719 0)\"/>\n",
       "       <use xlink:href=\"#ArialMT-41\" transform=\"translate(278.044922 0)\"/>\n",
       "       <use xlink:href=\"#ArialMT-72\" transform=\"translate(344.744141 0)\"/>\n",
       "       <use xlink:href=\"#ArialMT-61\" transform=\"translate(378.044922 0)\"/>\n",
       "       <use xlink:href=\"#ArialMT-62\" transform=\"translate(433.660156 0)\"/>\n",
       "       <use xlink:href=\"#ArialMT-69\" transform=\"translate(489.275391 0)\"/>\n",
       "       <use xlink:href=\"#ArialMT-61\" transform=\"translate(511.492188 0)\"/>\n",
       "      </g>\n",
       "     </g>\n",
       "    </g>\n",
       "    <g id=\"ytick_12\">\n",
       "     <g id=\"text_18\">\n",
       "      <!-- Ukraine -->\n",
       "      <g style=\"fill: #262626\" transform=\"translate(182.7625 229.891622) scale(0.11 -0.11)\">\n",
       "       <use xlink:href=\"#ArialMT-55\"/>\n",
       "       <use xlink:href=\"#ArialMT-6b\" transform=\"translate(72.216797 0)\"/>\n",
       "       <use xlink:href=\"#ArialMT-72\" transform=\"translate(122.216797 0)\"/>\n",
       "       <use xlink:href=\"#ArialMT-61\" transform=\"translate(155.517578 0)\"/>\n",
       "       <use xlink:href=\"#ArialMT-69\" transform=\"translate(211.132812 0)\"/>\n",
       "       <use xlink:href=\"#ArialMT-6e\" transform=\"translate(233.349609 0)\"/>\n",
       "       <use xlink:href=\"#ArialMT-65\" transform=\"translate(288.964844 0)\"/>\n",
       "      </g>\n",
       "     </g>\n",
       "    </g>\n",
       "    <g id=\"ytick_13\">\n",
       "     <g id=\"text_19\">\n",
       "      <!-- Palestine, State of -->\n",
       "      <g style=\"fill: #262626\" transform=\"translate(131.390781 247.632422) scale(0.11 -0.11)\">\n",
       "       <defs>\n",
       "        <path id=\"ArialMT-2c\" d=\"M 569 0 \n",
       "L 569 641 \n",
       "L 1209 641 \n",
       "L 1209 0 \n",
       "Q 1209 -353 1084 -570 \n",
       "Q 959 -788 688 -906 \n",
       "L 531 -666 \n",
       "Q 709 -588 793 -436 \n",
       "Q 878 -284 888 0 \n",
       "L 569 0 \n",
       "z\n",
       "\" transform=\"scale(0.015625)\"/>\n",
       "       </defs>\n",
       "       <use xlink:href=\"#ArialMT-50\"/>\n",
       "       <use xlink:href=\"#ArialMT-61\" transform=\"translate(66.699219 0)\"/>\n",
       "       <use xlink:href=\"#ArialMT-6c\" transform=\"translate(122.314453 0)\"/>\n",
       "       <use xlink:href=\"#ArialMT-65\" transform=\"translate(144.53125 0)\"/>\n",
       "       <use xlink:href=\"#ArialMT-73\" transform=\"translate(200.146484 0)\"/>\n",
       "       <use xlink:href=\"#ArialMT-74\" transform=\"translate(250.146484 0)\"/>\n",
       "       <use xlink:href=\"#ArialMT-69\" transform=\"translate(277.929688 0)\"/>\n",
       "       <use xlink:href=\"#ArialMT-6e\" transform=\"translate(300.146484 0)\"/>\n",
       "       <use xlink:href=\"#ArialMT-65\" transform=\"translate(355.761719 0)\"/>\n",
       "       <use xlink:href=\"#ArialMT-2c\" transform=\"translate(411.376953 0)\"/>\n",
       "       <use xlink:href=\"#ArialMT-20\" transform=\"translate(439.160156 0)\"/>\n",
       "       <use xlink:href=\"#ArialMT-53\" transform=\"translate(466.943359 0)\"/>\n",
       "       <use xlink:href=\"#ArialMT-74\" transform=\"translate(533.642578 0)\"/>\n",
       "       <use xlink:href=\"#ArialMT-61\" transform=\"translate(561.425781 0)\"/>\n",
       "       <use xlink:href=\"#ArialMT-74\" transform=\"translate(617.041016 0)\"/>\n",
       "       <use xlink:href=\"#ArialMT-65\" transform=\"translate(644.824219 0)\"/>\n",
       "       <use xlink:href=\"#ArialMT-20\" transform=\"translate(700.439453 0)\"/>\n",
       "       <use xlink:href=\"#ArialMT-6f\" transform=\"translate(728.222656 0)\"/>\n",
       "       <use xlink:href=\"#ArialMT-66\" transform=\"translate(783.837891 0)\"/>\n",
       "      </g>\n",
       "     </g>\n",
       "    </g>\n",
       "    <g id=\"ytick_14\">\n",
       "     <g id=\"text_20\">\n",
       "      <!-- Belarus -->\n",
       "      <g style=\"fill: #262626\" transform=\"translate(183.369219 265.373222) scale(0.11 -0.11)\">\n",
       "       <defs>\n",
       "        <path id=\"ArialMT-42\" d=\"M 469 0 \n",
       "L 469 4581 \n",
       "L 2188 4581 \n",
       "Q 2713 4581 3030 4442 \n",
       "Q 3347 4303 3526 4014 \n",
       "Q 3706 3725 3706 3409 \n",
       "Q 3706 3116 3547 2856 \n",
       "Q 3388 2597 3066 2438 \n",
       "Q 3481 2316 3704 2022 \n",
       "Q 3928 1728 3928 1328 \n",
       "Q 3928 1006 3792 729 \n",
       "Q 3656 453 3456 303 \n",
       "Q 3256 153 2954 76 \n",
       "Q 2653 0 2216 0 \n",
       "L 469 0 \n",
       "z\n",
       "M 1075 2656 \n",
       "L 2066 2656 \n",
       "Q 2469 2656 2644 2709 \n",
       "Q 2875 2778 2992 2937 \n",
       "Q 3109 3097 3109 3338 \n",
       "Q 3109 3566 3000 3739 \n",
       "Q 2891 3913 2687 3977 \n",
       "Q 2484 4041 1991 4041 \n",
       "L 1075 4041 \n",
       "L 1075 2656 \n",
       "z\n",
       "M 1075 541 \n",
       "L 2216 541 \n",
       "Q 2509 541 2628 563 \n",
       "Q 2838 600 2978 687 \n",
       "Q 3119 775 3209 942 \n",
       "Q 3300 1109 3300 1328 \n",
       "Q 3300 1584 3169 1773 \n",
       "Q 3038 1963 2805 2039 \n",
       "Q 2572 2116 2134 2116 \n",
       "L 1075 2116 \n",
       "L 1075 541 \n",
       "z\n",
       "\" transform=\"scale(0.015625)\"/>\n",
       "       </defs>\n",
       "       <use xlink:href=\"#ArialMT-42\"/>\n",
       "       <use xlink:href=\"#ArialMT-65\" transform=\"translate(66.699219 0)\"/>\n",
       "       <use xlink:href=\"#ArialMT-6c\" transform=\"translate(122.314453 0)\"/>\n",
       "       <use xlink:href=\"#ArialMT-61\" transform=\"translate(144.53125 0)\"/>\n",
       "       <use xlink:href=\"#ArialMT-72\" transform=\"translate(200.146484 0)\"/>\n",
       "       <use xlink:href=\"#ArialMT-75\" transform=\"translate(233.447266 0)\"/>\n",
       "       <use xlink:href=\"#ArialMT-73\" transform=\"translate(289.0625 0)\"/>\n",
       "      </g>\n",
       "     </g>\n",
       "    </g>\n",
       "    <g id=\"ytick_15\">\n",
       "     <g id=\"text_21\">\n",
       "      <!-- Mexico -->\n",
       "      <g style=\"fill: #262626\" transform=\"translate(185.823594 283.114022) scale(0.11 -0.11)\">\n",
       "       <defs>\n",
       "        <path id=\"ArialMT-4d\" d=\"M 475 0 \n",
       "L 475 4581 \n",
       "L 1388 4581 \n",
       "L 2472 1338 \n",
       "Q 2622 884 2691 659 \n",
       "Q 2769 909 2934 1394 \n",
       "L 4031 4581 \n",
       "L 4847 4581 \n",
       "L 4847 0 \n",
       "L 4263 0 \n",
       "L 4263 3834 \n",
       "L 2931 0 \n",
       "L 2384 0 \n",
       "L 1059 3900 \n",
       "L 1059 0 \n",
       "L 475 0 \n",
       "z\n",
       "\" transform=\"scale(0.015625)\"/>\n",
       "        <path id=\"ArialMT-78\" d=\"M 47 0 \n",
       "L 1259 1725 \n",
       "L 138 3319 \n",
       "L 841 3319 \n",
       "L 1350 2541 \n",
       "Q 1494 2319 1581 2169 \n",
       "Q 1719 2375 1834 2534 \n",
       "L 2394 3319 \n",
       "L 3066 3319 \n",
       "L 1919 1756 \n",
       "L 3153 0 \n",
       "L 2463 0 \n",
       "L 1781 1031 \n",
       "L 1600 1309 \n",
       "L 728 0 \n",
       "L 47 0 \n",
       "z\n",
       "\" transform=\"scale(0.015625)\"/>\n",
       "       </defs>\n",
       "       <use xlink:href=\"#ArialMT-4d\"/>\n",
       "       <use xlink:href=\"#ArialMT-65\" transform=\"translate(83.300781 0)\"/>\n",
       "       <use xlink:href=\"#ArialMT-78\" transform=\"translate(138.916016 0)\"/>\n",
       "       <use xlink:href=\"#ArialMT-69\" transform=\"translate(188.916016 0)\"/>\n",
       "       <use xlink:href=\"#ArialMT-63\" transform=\"translate(211.132812 0)\"/>\n",
       "       <use xlink:href=\"#ArialMT-6f\" transform=\"translate(261.132812 0)\"/>\n",
       "      </g>\n",
       "     </g>\n",
       "    </g>\n",
       "    <g id=\"text_22\">\n",
       "     <!-- Sponsor -->\n",
       "     <g style=\"fill: #262626\" transform=\"translate(15.935625 177.337875) rotate(-90) scale(0.12 -0.12)\">\n",
       "      <use xlink:href=\"#ArialMT-53\"/>\n",
       "      <use xlink:href=\"#ArialMT-70\" transform=\"translate(66.699219 0)\"/>\n",
       "      <use xlink:href=\"#ArialMT-6f\" transform=\"translate(122.314453 0)\"/>\n",
       "      <use xlink:href=\"#ArialMT-6e\" transform=\"translate(177.929688 0)\"/>\n",
       "      <use xlink:href=\"#ArialMT-73\" transform=\"translate(233.544922 0)\"/>\n",
       "      <use xlink:href=\"#ArialMT-6f\" transform=\"translate(283.544922 0)\"/>\n",
       "      <use xlink:href=\"#ArialMT-72\" transform=\"translate(339.160156 0)\"/>\n",
       "     </g>\n",
       "    </g>\n",
       "   </g>\n",
       "   <g id=\"patch_3\">\n",
       "    <path d=\"M 230.164375 23.709705 \n",
       "L 570.278661 23.709705 \n",
       "L 570.278661 37.902345 \n",
       "L 230.164375 37.902345 \n",
       "z\n",
       "\" clip-path=\"url(#pf38d18ad96)\" style=\"fill: #5875a4; stroke: #ffffff; stroke-linejoin: miter\"/>\n",
       "   </g>\n",
       "   <g id=\"patch_4\">\n",
       "    <path d=\"M 230.164375 41.450505 \n",
       "L 430.611958 41.450505 \n",
       "L 430.611958 55.643145 \n",
       "L 230.164375 55.643145 \n",
       "z\n",
       "\" clip-path=\"url(#pf38d18ad96)\" style=\"fill: #5875a4; stroke: #ffffff; stroke-linejoin: miter\"/>\n",
       "   </g>\n",
       "   <g id=\"patch_5\">\n",
       "    <path d=\"M 230.164375 59.191305 \n",
       "L 356.898976 59.191305 \n",
       "L 356.898976 73.383945 \n",
       "L 230.164375 73.383945 \n",
       "z\n",
       "\" clip-path=\"url(#pf38d18ad96)\" style=\"fill: #5875a4; stroke: #ffffff; stroke-linejoin: miter\"/>\n",
       "   </g>\n",
       "   <g id=\"patch_6\">\n",
       "    <path d=\"M 230.164375 76.932105 \n",
       "L 332.327982 76.932105 \n",
       "L 332.327982 91.124745 \n",
       "L 230.164375 91.124745 \n",
       "z\n",
       "\" clip-path=\"url(#pf38d18ad96)\" style=\"fill: #5875a4; stroke: #ffffff; stroke-linejoin: miter\"/>\n",
       "   </g>\n",
       "   <g id=\"patch_7\">\n",
       "    <path d=\"M 230.164375 94.672905 \n",
       "L 245.682898 94.672905 \n",
       "L 245.682898 108.865545 \n",
       "L 230.164375 108.865545 \n",
       "z\n",
       "\" clip-path=\"url(#pf38d18ad96)\" style=\"fill: #5875a4; stroke: #ffffff; stroke-linejoin: miter\"/>\n",
       "   </g>\n",
       "   <g id=\"patch_8\">\n",
       "    <path d=\"M 230.164375 112.413705 \n",
       "L 244.389687 112.413705 \n",
       "L 244.389687 126.606345 \n",
       "L 230.164375 126.606345 \n",
       "z\n",
       "\" clip-path=\"url(#pf38d18ad96)\" style=\"fill: #5875a4; stroke: #ffffff; stroke-linejoin: miter\"/>\n",
       "   </g>\n",
       "   <g id=\"patch_9\">\n",
       "    <path d=\"M 230.164375 130.154505 \n",
       "L 241.803267 130.154505 \n",
       "L 241.803267 144.347145 \n",
       "L 230.164375 144.347145 \n",
       "z\n",
       "\" clip-path=\"url(#pf38d18ad96)\" style=\"fill: #5875a4; stroke: #ffffff; stroke-linejoin: miter\"/>\n",
       "   </g>\n",
       "   <g id=\"patch_10\">\n",
       "    <path d=\"M 230.164375 147.895305 \n",
       "L 240.510057 147.895305 \n",
       "L 240.510057 162.087945 \n",
       "L 230.164375 162.087945 \n",
       "z\n",
       "\" clip-path=\"url(#pf38d18ad96)\" style=\"fill: #5875a4; stroke: #ffffff; stroke-linejoin: miter\"/>\n",
       "   </g>\n",
       "   <g id=\"patch_11\">\n",
       "    <path d=\"M 230.164375 165.636105 \n",
       "L 239.216846 165.636105 \n",
       "L 239.216846 179.828745 \n",
       "L 230.164375 179.828745 \n",
       "z\n",
       "\" clip-path=\"url(#pf38d18ad96)\" style=\"fill: #5875a4; stroke: #ffffff; stroke-linejoin: miter\"/>\n",
       "   </g>\n",
       "   <g id=\"patch_12\">\n",
       "    <path d=\"M 230.164375 183.376905 \n",
       "L 239.216846 183.376905 \n",
       "L 239.216846 197.569545 \n",
       "L 230.164375 197.569545 \n",
       "z\n",
       "\" clip-path=\"url(#pf38d18ad96)\" style=\"fill: #5875a4; stroke: #ffffff; stroke-linejoin: miter\"/>\n",
       "   </g>\n",
       "   <g id=\"patch_13\">\n",
       "    <path d=\"M 230.164375 201.117705 \n",
       "L 237.923636 201.117705 \n",
       "L 237.923636 215.310345 \n",
       "L 230.164375 215.310345 \n",
       "z\n",
       "\" clip-path=\"url(#pf38d18ad96)\" style=\"fill: #5875a4; stroke: #ffffff; stroke-linejoin: miter\"/>\n",
       "   </g>\n",
       "   <g id=\"patch_14\">\n",
       "    <path d=\"M 230.164375 218.858505 \n",
       "L 236.630426 218.858505 \n",
       "L 236.630426 233.051145 \n",
       "L 230.164375 233.051145 \n",
       "z\n",
       "\" clip-path=\"url(#pf38d18ad96)\" style=\"fill: #5875a4; stroke: #ffffff; stroke-linejoin: miter\"/>\n",
       "   </g>\n",
       "   <g id=\"patch_15\">\n",
       "    <path d=\"M 230.164375 236.599305 \n",
       "L 236.630426 236.599305 \n",
       "L 236.630426 250.791945 \n",
       "L 230.164375 250.791945 \n",
       "z\n",
       "\" clip-path=\"url(#pf38d18ad96)\" style=\"fill: #5875a4; stroke: #ffffff; stroke-linejoin: miter\"/>\n",
       "   </g>\n",
       "   <g id=\"patch_16\">\n",
       "    <path d=\"M 230.164375 254.340105 \n",
       "L 235.337216 254.340105 \n",
       "L 235.337216 268.532745 \n",
       "L 230.164375 268.532745 \n",
       "z\n",
       "\" clip-path=\"url(#pf38d18ad96)\" style=\"fill: #5875a4; stroke: #ffffff; stroke-linejoin: miter\"/>\n",
       "   </g>\n",
       "   <g id=\"patch_17\">\n",
       "    <path d=\"M 230.164375 272.080905 \n",
       "L 234.044006 272.080905 \n",
       "L 234.044006 286.273545 \n",
       "L 230.164375 286.273545 \n",
       "z\n",
       "\" clip-path=\"url(#pf38d18ad96)\" style=\"fill: #5875a4; stroke: #ffffff; stroke-linejoin: miter\"/>\n",
       "   </g>\n",
       "   <g id=\"line2d_7\">\n",
       "    <path clip-path=\"url(#pf38d18ad96)\" style=\"fill: none; stroke: #424242; stroke-width: 2.25; stroke-linecap: round\"/>\n",
       "   </g>\n",
       "   <g id=\"line2d_8\">\n",
       "    <path clip-path=\"url(#pf38d18ad96)\" style=\"fill: none; stroke: #424242; stroke-width: 2.25; stroke-linecap: round\"/>\n",
       "   </g>\n",
       "   <g id=\"line2d_9\">\n",
       "    <path clip-path=\"url(#pf38d18ad96)\" style=\"fill: none; stroke: #424242; stroke-width: 2.25; stroke-linecap: round\"/>\n",
       "   </g>\n",
       "   <g id=\"line2d_10\">\n",
       "    <path clip-path=\"url(#pf38d18ad96)\" style=\"fill: none; stroke: #424242; stroke-width: 2.25; stroke-linecap: round\"/>\n",
       "   </g>\n",
       "   <g id=\"line2d_11\">\n",
       "    <path clip-path=\"url(#pf38d18ad96)\" style=\"fill: none; stroke: #424242; stroke-width: 2.25; stroke-linecap: round\"/>\n",
       "   </g>\n",
       "   <g id=\"line2d_12\">\n",
       "    <path clip-path=\"url(#pf38d18ad96)\" style=\"fill: none; stroke: #424242; stroke-width: 2.25; stroke-linecap: round\"/>\n",
       "   </g>\n",
       "   <g id=\"line2d_13\">\n",
       "    <path clip-path=\"url(#pf38d18ad96)\" style=\"fill: none; stroke: #424242; stroke-width: 2.25; stroke-linecap: round\"/>\n",
       "   </g>\n",
       "   <g id=\"line2d_14\">\n",
       "    <path clip-path=\"url(#pf38d18ad96)\" style=\"fill: none; stroke: #424242; stroke-width: 2.25; stroke-linecap: round\"/>\n",
       "   </g>\n",
       "   <g id=\"line2d_15\">\n",
       "    <path clip-path=\"url(#pf38d18ad96)\" style=\"fill: none; stroke: #424242; stroke-width: 2.25; stroke-linecap: round\"/>\n",
       "   </g>\n",
       "   <g id=\"line2d_16\">\n",
       "    <path clip-path=\"url(#pf38d18ad96)\" style=\"fill: none; stroke: #424242; stroke-width: 2.25; stroke-linecap: round\"/>\n",
       "   </g>\n",
       "   <g id=\"line2d_17\">\n",
       "    <path clip-path=\"url(#pf38d18ad96)\" style=\"fill: none; stroke: #424242; stroke-width: 2.25; stroke-linecap: round\"/>\n",
       "   </g>\n",
       "   <g id=\"line2d_18\">\n",
       "    <path clip-path=\"url(#pf38d18ad96)\" style=\"fill: none; stroke: #424242; stroke-width: 2.25; stroke-linecap: round\"/>\n",
       "   </g>\n",
       "   <g id=\"line2d_19\">\n",
       "    <path clip-path=\"url(#pf38d18ad96)\" style=\"fill: none; stroke: #424242; stroke-width: 2.25; stroke-linecap: round\"/>\n",
       "   </g>\n",
       "   <g id=\"line2d_20\">\n",
       "    <path clip-path=\"url(#pf38d18ad96)\" style=\"fill: none; stroke: #424242; stroke-width: 2.25; stroke-linecap: round\"/>\n",
       "   </g>\n",
       "   <g id=\"line2d_21\">\n",
       "    <path clip-path=\"url(#pf38d18ad96)\" style=\"fill: none; stroke: #424242; stroke-width: 2.25; stroke-linecap: round\"/>\n",
       "   </g>\n",
       "   <g id=\"patch_18\">\n",
       "    <path d=\"M 230.164375 288.047625 \n",
       "L 230.164375 21.935625 \n",
       "\" style=\"fill: none; stroke: #cccccc; stroke-width: 1.25; stroke-linejoin: miter; stroke-linecap: square\"/>\n",
       "   </g>\n",
       "   <g id=\"patch_19\">\n",
       "    <path d=\"M 587.284375 288.047625 \n",
       "L 587.284375 21.935625 \n",
       "\" style=\"fill: none; stroke: #cccccc; stroke-width: 1.25; stroke-linejoin: miter; stroke-linecap: square\"/>\n",
       "   </g>\n",
       "   <g id=\"patch_20\">\n",
       "    <path d=\"M 230.164375 288.047625 \n",
       "L 587.284375 288.047625 \n",
       "\" style=\"fill: none; stroke: #cccccc; stroke-width: 1.25; stroke-linejoin: miter; stroke-linecap: square\"/>\n",
       "   </g>\n",
       "   <g id=\"patch_21\">\n",
       "    <path d=\"M 230.164375 21.935625 \n",
       "L 587.284375 21.935625 \n",
       "\" style=\"fill: none; stroke: #cccccc; stroke-width: 1.25; stroke-linejoin: miter; stroke-linecap: square\"/>\n",
       "   </g>\n",
       "   <g id=\"text_23\">\n",
       "    <!-- 263 -->\n",
       "    <g style=\"fill: #262626\" transform=\"translate(570.278661 33.908212) scale(0.12 -0.12)\">\n",
       "     <defs>\n",
       "      <path id=\"ArialMT-36\" d=\"M 3184 3459 \n",
       "L 2625 3416 \n",
       "Q 2550 3747 2413 3897 \n",
       "Q 2184 4138 1850 4138 \n",
       "Q 1581 4138 1378 3988 \n",
       "Q 1113 3794 959 3422 \n",
       "Q 806 3050 800 2363 \n",
       "Q 1003 2672 1297 2822 \n",
       "Q 1591 2972 1913 2972 \n",
       "Q 2475 2972 2870 2558 \n",
       "Q 3266 2144 3266 1488 \n",
       "Q 3266 1056 3080 686 \n",
       "Q 2894 316 2569 119 \n",
       "Q 2244 -78 1831 -78 \n",
       "Q 1128 -78 684 439 \n",
       "Q 241 956 241 2144 \n",
       "Q 241 3472 731 4075 \n",
       "Q 1159 4600 1884 4600 \n",
       "Q 2425 4600 2770 4297 \n",
       "Q 3116 3994 3184 3459 \n",
       "z\n",
       "M 888 1484 \n",
       "Q 888 1194 1011 928 \n",
       "Q 1134 663 1356 523 \n",
       "Q 1578 384 1822 384 \n",
       "Q 2178 384 2434 671 \n",
       "Q 2691 959 2691 1453 \n",
       "Q 2691 1928 2437 2201 \n",
       "Q 2184 2475 1800 2475 \n",
       "Q 1419 2475 1153 2201 \n",
       "Q 888 1928 888 1484 \n",
       "z\n",
       "\" transform=\"scale(0.015625)\"/>\n",
       "      <path id=\"ArialMT-33\" d=\"M 269 1209 \n",
       "L 831 1284 \n",
       "Q 928 806 1161 595 \n",
       "Q 1394 384 1728 384 \n",
       "Q 2125 384 2398 659 \n",
       "Q 2672 934 2672 1341 \n",
       "Q 2672 1728 2419 1979 \n",
       "Q 2166 2231 1775 2231 \n",
       "Q 1616 2231 1378 2169 \n",
       "L 1441 2663 \n",
       "Q 1497 2656 1531 2656 \n",
       "Q 1891 2656 2178 2843 \n",
       "Q 2466 3031 2466 3422 \n",
       "Q 2466 3731 2256 3934 \n",
       "Q 2047 4138 1716 4138 \n",
       "Q 1388 4138 1169 3931 \n",
       "Q 950 3725 888 3313 \n",
       "L 325 3413 \n",
       "Q 428 3978 793 4289 \n",
       "Q 1159 4600 1703 4600 \n",
       "Q 2078 4600 2393 4439 \n",
       "Q 2709 4278 2876 4000 \n",
       "Q 3044 3722 3044 3409 \n",
       "Q 3044 3113 2884 2869 \n",
       "Q 2725 2625 2413 2481 \n",
       "Q 2819 2388 3044 2092 \n",
       "Q 3269 1797 3269 1353 \n",
       "Q 3269 753 2831 336 \n",
       "Q 2394 -81 1725 -81 \n",
       "Q 1122 -81 723 278 \n",
       "Q 325 638 269 1209 \n",
       "z\n",
       "\" transform=\"scale(0.015625)\"/>\n",
       "     </defs>\n",
       "     <use xlink:href=\"#ArialMT-32\"/>\n",
       "     <use xlink:href=\"#ArialMT-36\" transform=\"translate(55.615234 0)\"/>\n",
       "     <use xlink:href=\"#ArialMT-33\" transform=\"translate(111.230469 0)\"/>\n",
       "    </g>\n",
       "   </g>\n",
       "   <g id=\"text_24\">\n",
       "    <!-- 155 -->\n",
       "    <g style=\"fill: #262626\" transform=\"translate(430.611958 51.649012) scale(0.12 -0.12)\">\n",
       "     <use xlink:href=\"#ArialMT-31\"/>\n",
       "     <use xlink:href=\"#ArialMT-35\" transform=\"translate(55.615234 0)\"/>\n",
       "     <use xlink:href=\"#ArialMT-35\" transform=\"translate(111.230469 0)\"/>\n",
       "    </g>\n",
       "   </g>\n",
       "   <g id=\"text_25\">\n",
       "    <!-- 98 -->\n",
       "    <g style=\"fill: #262626\" transform=\"translate(356.898976 69.389812) scale(0.12 -0.12)\">\n",
       "     <defs>\n",
       "      <path id=\"ArialMT-39\" d=\"M 350 1059 \n",
       "L 891 1109 \n",
       "Q 959 728 1153 556 \n",
       "Q 1347 384 1650 384 \n",
       "Q 1909 384 2104 503 \n",
       "Q 2300 622 2425 820 \n",
       "Q 2550 1019 2634 1356 \n",
       "Q 2719 1694 2719 2044 \n",
       "Q 2719 2081 2716 2156 \n",
       "Q 2547 1888 2255 1720 \n",
       "Q 1963 1553 1622 1553 \n",
       "Q 1053 1553 659 1965 \n",
       "Q 266 2378 266 3053 \n",
       "Q 266 3750 677 4175 \n",
       "Q 1088 4600 1706 4600 \n",
       "Q 2153 4600 2523 4359 \n",
       "Q 2894 4119 3086 3673 \n",
       "Q 3278 3228 3278 2384 \n",
       "Q 3278 1506 3087 986 \n",
       "Q 2897 466 2520 194 \n",
       "Q 2144 -78 1638 -78 \n",
       "Q 1100 -78 759 220 \n",
       "Q 419 519 350 1059 \n",
       "z\n",
       "M 2653 3081 \n",
       "Q 2653 3566 2395 3850 \n",
       "Q 2138 4134 1775 4134 \n",
       "Q 1400 4134 1122 3828 \n",
       "Q 844 3522 844 3034 \n",
       "Q 844 2597 1108 2323 \n",
       "Q 1372 2050 1759 2050 \n",
       "Q 2150 2050 2401 2323 \n",
       "Q 2653 2597 2653 3081 \n",
       "z\n",
       "\" transform=\"scale(0.015625)\"/>\n",
       "      <path id=\"ArialMT-38\" d=\"M 1131 2484 \n",
       "Q 781 2613 612 2850 \n",
       "Q 444 3088 444 3419 \n",
       "Q 444 3919 803 4259 \n",
       "Q 1163 4600 1759 4600 \n",
       "Q 2359 4600 2725 4251 \n",
       "Q 3091 3903 3091 3403 \n",
       "Q 3091 3084 2923 2848 \n",
       "Q 2756 2613 2416 2484 \n",
       "Q 2838 2347 3058 2040 \n",
       "Q 3278 1734 3278 1309 \n",
       "Q 3278 722 2862 322 \n",
       "Q 2447 -78 1769 -78 \n",
       "Q 1091 -78 675 323 \n",
       "Q 259 725 259 1325 \n",
       "Q 259 1772 486 2073 \n",
       "Q 713 2375 1131 2484 \n",
       "z\n",
       "M 1019 3438 \n",
       "Q 1019 3113 1228 2906 \n",
       "Q 1438 2700 1772 2700 \n",
       "Q 2097 2700 2305 2904 \n",
       "Q 2513 3109 2513 3406 \n",
       "Q 2513 3716 2298 3927 \n",
       "Q 2084 4138 1766 4138 \n",
       "Q 1444 4138 1231 3931 \n",
       "Q 1019 3725 1019 3438 \n",
       "z\n",
       "M 838 1322 \n",
       "Q 838 1081 952 856 \n",
       "Q 1066 631 1291 507 \n",
       "Q 1516 384 1775 384 \n",
       "Q 2178 384 2440 643 \n",
       "Q 2703 903 2703 1303 \n",
       "Q 2703 1709 2433 1975 \n",
       "Q 2163 2241 1756 2241 \n",
       "Q 1359 2241 1098 1978 \n",
       "Q 838 1716 838 1322 \n",
       "z\n",
       "\" transform=\"scale(0.015625)\"/>\n",
       "     </defs>\n",
       "     <use xlink:href=\"#ArialMT-39\"/>\n",
       "     <use xlink:href=\"#ArialMT-38\" transform=\"translate(55.615234 0)\"/>\n",
       "    </g>\n",
       "   </g>\n",
       "   <g id=\"text_26\">\n",
       "    <!-- 79 -->\n",
       "    <g style=\"fill: #262626\" transform=\"translate(332.327982 87.130612) scale(0.12 -0.12)\">\n",
       "     <defs>\n",
       "      <path id=\"ArialMT-37\" d=\"M 303 3981 \n",
       "L 303 4522 \n",
       "L 3269 4522 \n",
       "L 3269 4084 \n",
       "Q 2831 3619 2401 2847 \n",
       "Q 1972 2075 1738 1259 \n",
       "Q 1569 684 1522 0 \n",
       "L 944 0 \n",
       "Q 953 541 1156 1306 \n",
       "Q 1359 2072 1739 2783 \n",
       "Q 2119 3494 2547 3981 \n",
       "L 303 3981 \n",
       "z\n",
       "\" transform=\"scale(0.015625)\"/>\n",
       "     </defs>\n",
       "     <use xlink:href=\"#ArialMT-37\"/>\n",
       "     <use xlink:href=\"#ArialMT-39\" transform=\"translate(55.615234 0)\"/>\n",
       "    </g>\n",
       "   </g>\n",
       "   <g id=\"text_27\">\n",
       "    <!-- 12 -->\n",
       "    <g style=\"fill: #262626\" transform=\"translate(245.682898 104.871412) scale(0.12 -0.12)\">\n",
       "     <use xlink:href=\"#ArialMT-31\"/>\n",
       "     <use xlink:href=\"#ArialMT-32\" transform=\"translate(55.615234 0)\"/>\n",
       "    </g>\n",
       "   </g>\n",
       "   <g id=\"text_28\">\n",
       "    <!-- 11 -->\n",
       "    <g style=\"fill: #262626\" transform=\"translate(244.389687 122.612212) scale(0.12 -0.12)\">\n",
       "     <use xlink:href=\"#ArialMT-31\"/>\n",
       "     <use xlink:href=\"#ArialMT-31\" transform=\"translate(48.240234 0)\"/>\n",
       "    </g>\n",
       "   </g>\n",
       "   <g id=\"text_29\">\n",
       "    <!-- 9 -->\n",
       "    <g style=\"fill: #262626\" transform=\"translate(241.803267 140.353012) scale(0.12 -0.12)\">\n",
       "     <use xlink:href=\"#ArialMT-39\"/>\n",
       "    </g>\n",
       "   </g>\n",
       "   <g id=\"text_30\">\n",
       "    <!-- 8 -->\n",
       "    <g style=\"fill: #262626\" transform=\"translate(240.510057 158.093812) scale(0.12 -0.12)\">\n",
       "     <use xlink:href=\"#ArialMT-38\"/>\n",
       "    </g>\n",
       "   </g>\n",
       "   <g id=\"text_31\">\n",
       "    <!-- 7 -->\n",
       "    <g style=\"fill: #262626\" transform=\"translate(239.216846 175.834612) scale(0.12 -0.12)\">\n",
       "     <use xlink:href=\"#ArialMT-37\"/>\n",
       "    </g>\n",
       "   </g>\n",
       "   <g id=\"text_32\">\n",
       "    <!-- 7 -->\n",
       "    <g style=\"fill: #262626\" transform=\"translate(239.216846 193.575412) scale(0.12 -0.12)\">\n",
       "     <use xlink:href=\"#ArialMT-37\"/>\n",
       "    </g>\n",
       "   </g>\n",
       "   <g id=\"text_33\">\n",
       "    <!-- 6 -->\n",
       "    <g style=\"fill: #262626\" transform=\"translate(237.923636 211.316212) scale(0.12 -0.12)\">\n",
       "     <use xlink:href=\"#ArialMT-36\"/>\n",
       "    </g>\n",
       "   </g>\n",
       "   <g id=\"text_34\">\n",
       "    <!-- 5 -->\n",
       "    <g style=\"fill: #262626\" transform=\"translate(236.630426 229.057012) scale(0.12 -0.12)\">\n",
       "     <use xlink:href=\"#ArialMT-35\"/>\n",
       "    </g>\n",
       "   </g>\n",
       "   <g id=\"text_35\">\n",
       "    <!-- 5 -->\n",
       "    <g style=\"fill: #262626\" transform=\"translate(236.630426 246.797812) scale(0.12 -0.12)\">\n",
       "     <use xlink:href=\"#ArialMT-35\"/>\n",
       "    </g>\n",
       "   </g>\n",
       "   <g id=\"text_36\">\n",
       "    <!-- 4 -->\n",
       "    <g style=\"fill: #262626\" transform=\"translate(235.337216 264.538612) scale(0.12 -0.12)\">\n",
       "     <defs>\n",
       "      <path id=\"ArialMT-34\" d=\"M 2069 0 \n",
       "L 2069 1097 \n",
       "L 81 1097 \n",
       "L 81 1613 \n",
       "L 2172 4581 \n",
       "L 2631 4581 \n",
       "L 2631 1613 \n",
       "L 3250 1613 \n",
       "L 3250 1097 \n",
       "L 2631 1097 \n",
       "L 2631 0 \n",
       "L 2069 0 \n",
       "z\n",
       "M 2069 1613 \n",
       "L 2069 3678 \n",
       "L 634 1613 \n",
       "L 2069 1613 \n",
       "z\n",
       "\" transform=\"scale(0.015625)\"/>\n",
       "     </defs>\n",
       "     <use xlink:href=\"#ArialMT-34\"/>\n",
       "    </g>\n",
       "   </g>\n",
       "   <g id=\"text_37\">\n",
       "    <!-- 3 -->\n",
       "    <g style=\"fill: #262626\" transform=\"translate(234.044006 282.279412) scale(0.12 -0.12)\">\n",
       "     <use xlink:href=\"#ArialMT-33\"/>\n",
       "    </g>\n",
       "   </g>\n",
       "   <g id=\"text_38\">\n",
       "    <!-- Top 15 Sponsors -->\n",
       "    <g style=\"fill: #262626\" transform=\"translate(363.700938 15.935625) scale(0.12 -0.12)\">\n",
       "     <defs>\n",
       "      <path id=\"ArialMT-54\" d=\"M 1659 0 \n",
       "L 1659 4041 \n",
       "L 150 4041 \n",
       "L 150 4581 \n",
       "L 3781 4581 \n",
       "L 3781 4041 \n",
       "L 2266 4041 \n",
       "L 2266 0 \n",
       "L 1659 0 \n",
       "z\n",
       "\" transform=\"scale(0.015625)\"/>\n",
       "     </defs>\n",
       "     <use xlink:href=\"#ArialMT-54\"/>\n",
       "     <use xlink:href=\"#ArialMT-6f\" transform=\"translate(49.958984 0)\"/>\n",
       "     <use xlink:href=\"#ArialMT-70\" transform=\"translate(105.574219 0)\"/>\n",
       "     <use xlink:href=\"#ArialMT-20\" transform=\"translate(161.189453 0)\"/>\n",
       "     <use xlink:href=\"#ArialMT-31\" transform=\"translate(188.972656 0)\"/>\n",
       "     <use xlink:href=\"#ArialMT-35\" transform=\"translate(244.587891 0)\"/>\n",
       "     <use xlink:href=\"#ArialMT-20\" transform=\"translate(300.203125 0)\"/>\n",
       "     <use xlink:href=\"#ArialMT-53\" transform=\"translate(327.986328 0)\"/>\n",
       "     <use xlink:href=\"#ArialMT-70\" transform=\"translate(394.685547 0)\"/>\n",
       "     <use xlink:href=\"#ArialMT-6f\" transform=\"translate(450.300781 0)\"/>\n",
       "     <use xlink:href=\"#ArialMT-6e\" transform=\"translate(505.916016 0)\"/>\n",
       "     <use xlink:href=\"#ArialMT-73\" transform=\"translate(561.53125 0)\"/>\n",
       "     <use xlink:href=\"#ArialMT-6f\" transform=\"translate(611.53125 0)\"/>\n",
       "     <use xlink:href=\"#ArialMT-72\" transform=\"translate(667.146484 0)\"/>\n",
       "     <use xlink:href=\"#ArialMT-73\" transform=\"translate(700.447266 0)\"/>\n",
       "    </g>\n",
       "   </g>\n",
       "  </g>\n",
       " </g>\n",
       " <defs>\n",
       "  <clipPath id=\"pf38d18ad96\">\n",
       "   <rect x=\"230.164375\" y=\"21.935625\" width=\"357.12\" height=\"266.112\"/>\n",
       "  </clipPath>\n",
       " </defs>\n",
       "</svg>\n"
      ],
      "text/plain": [
       "<Figure size 640x480 with 1 Axes>"
      ]
     },
     "metadata": {},
     "output_type": "display_data"
    }
   ],
   "source": [
    "top_15_sponsors = df[df.Sponsor!='Unknown'].Sponsor.value_counts().nlargest(15)\n",
    "plt.figure()\n",
    "ax = sns.barplot(x=top_15_sponsors.values, y=top_15_sponsors.index)\n",
    "ax.bar_label(ax.containers[0])\n",
    "ax.set_title('Top 15 Sponsors')\n",
    "plt.ylabel('Sponsor')\n",
    "plt.show()"
   ]
  },
  {
   "cell_type": "code",
   "execution_count": 70,
   "id": "771ccc2b",
   "metadata": {},
   "outputs": [
    {
     "data": {
      "application/vnd.plotly.v1+json": {
       "config": {
        "plotlyServerURL": "https://plot.ly"
       },
       "data": [
        {
         "link": {
          "source": {
           "bdata": "AQEBAQEBAQEBAQEBAQEEAwMDAwMDAwMDAwMDAwMFBQUFBQUFBQUFBQUCAgICAAAAAAAAAAAAAAAAAAAGBgYGCAgICAgIBwcH",
           "dtype": "i1"
          },
          "target": {
           "bdata": "CQEREA0EDBIKCw4PEwYECQEREA0EDBIKCw4PEwYJAREQDQQSCg4PEwYQBAsGCQEREAQMEgoLDg8UEwYBBAoTERAMCgsGARAG",
           "dtype": "i1"
          },
          "value": {
           "bdata": "CA0HCg0SARAHAQ0DDyABBwQCBQEDEAIDDwQJBw0FAQUBAQYEAQkCAQYBBAEBAgIFCgQBAwcDAgMQBg0CAQMBAQECAQEBAQEB",
           "dtype": "i1"
          }
         },
         "node": {
          "label": [
           "Russian Federation",
           "China",
           "Pakistan",
           "Iran (Islamic Republic of)",
           "India",
           "Korea (Democratic People's Republic of)",
           "United States",
           "Vietnam",
           "United States, Israel",
           "Canada",
           "Russia",
           "Saudi Arabia",
           "Israel",
           "Hong Kong",
           "South Korea",
           "Turkey",
           "Germany",
           "France",
           "Japan",
           "United Kingdom",
           "Ukraine"
          ],
          "line": {
           "color": "black",
           "width": 0.5
          },
          "pad": 15,
          "thickness": 20
         },
         "type": "sankey"
        }
       ],
       "layout": {
        "font": {
         "size": 12
        },
        "template": {
         "data": {
          "bar": [
           {
            "error_x": {
             "color": "#2a3f5f"
            },
            "error_y": {
             "color": "#2a3f5f"
            },
            "marker": {
             "line": {
              "color": "#E5ECF6",
              "width": 0.5
             },
             "pattern": {
              "fillmode": "overlay",
              "size": 10,
              "solidity": 0.2
             }
            },
            "type": "bar"
           }
          ],
          "barpolar": [
           {
            "marker": {
             "line": {
              "color": "#E5ECF6",
              "width": 0.5
             },
             "pattern": {
              "fillmode": "overlay",
              "size": 10,
              "solidity": 0.2
             }
            },
            "type": "barpolar"
           }
          ],
          "carpet": [
           {
            "aaxis": {
             "endlinecolor": "#2a3f5f",
             "gridcolor": "white",
             "linecolor": "white",
             "minorgridcolor": "white",
             "startlinecolor": "#2a3f5f"
            },
            "baxis": {
             "endlinecolor": "#2a3f5f",
             "gridcolor": "white",
             "linecolor": "white",
             "minorgridcolor": "white",
             "startlinecolor": "#2a3f5f"
            },
            "type": "carpet"
           }
          ],
          "choropleth": [
           {
            "colorbar": {
             "outlinewidth": 0,
             "ticks": ""
            },
            "type": "choropleth"
           }
          ],
          "contour": [
           {
            "colorbar": {
             "outlinewidth": 0,
             "ticks": ""
            },
            "colorscale": [
             [
              0,
              "#0d0887"
             ],
             [
              0.1111111111111111,
              "#46039f"
             ],
             [
              0.2222222222222222,
              "#7201a8"
             ],
             [
              0.3333333333333333,
              "#9c179e"
             ],
             [
              0.4444444444444444,
              "#bd3786"
             ],
             [
              0.5555555555555556,
              "#d8576b"
             ],
             [
              0.6666666666666666,
              "#ed7953"
             ],
             [
              0.7777777777777778,
              "#fb9f3a"
             ],
             [
              0.8888888888888888,
              "#fdca26"
             ],
             [
              1,
              "#f0f921"
             ]
            ],
            "type": "contour"
           }
          ],
          "contourcarpet": [
           {
            "colorbar": {
             "outlinewidth": 0,
             "ticks": ""
            },
            "type": "contourcarpet"
           }
          ],
          "heatmap": [
           {
            "colorbar": {
             "outlinewidth": 0,
             "ticks": ""
            },
            "colorscale": [
             [
              0,
              "#0d0887"
             ],
             [
              0.1111111111111111,
              "#46039f"
             ],
             [
              0.2222222222222222,
              "#7201a8"
             ],
             [
              0.3333333333333333,
              "#9c179e"
             ],
             [
              0.4444444444444444,
              "#bd3786"
             ],
             [
              0.5555555555555556,
              "#d8576b"
             ],
             [
              0.6666666666666666,
              "#ed7953"
             ],
             [
              0.7777777777777778,
              "#fb9f3a"
             ],
             [
              0.8888888888888888,
              "#fdca26"
             ],
             [
              1,
              "#f0f921"
             ]
            ],
            "type": "heatmap"
           }
          ],
          "histogram": [
           {
            "marker": {
             "pattern": {
              "fillmode": "overlay",
              "size": 10,
              "solidity": 0.2
             }
            },
            "type": "histogram"
           }
          ],
          "histogram2d": [
           {
            "colorbar": {
             "outlinewidth": 0,
             "ticks": ""
            },
            "colorscale": [
             [
              0,
              "#0d0887"
             ],
             [
              0.1111111111111111,
              "#46039f"
             ],
             [
              0.2222222222222222,
              "#7201a8"
             ],
             [
              0.3333333333333333,
              "#9c179e"
             ],
             [
              0.4444444444444444,
              "#bd3786"
             ],
             [
              0.5555555555555556,
              "#d8576b"
             ],
             [
              0.6666666666666666,
              "#ed7953"
             ],
             [
              0.7777777777777778,
              "#fb9f3a"
             ],
             [
              0.8888888888888888,
              "#fdca26"
             ],
             [
              1,
              "#f0f921"
             ]
            ],
            "type": "histogram2d"
           }
          ],
          "histogram2dcontour": [
           {
            "colorbar": {
             "outlinewidth": 0,
             "ticks": ""
            },
            "colorscale": [
             [
              0,
              "#0d0887"
             ],
             [
              0.1111111111111111,
              "#46039f"
             ],
             [
              0.2222222222222222,
              "#7201a8"
             ],
             [
              0.3333333333333333,
              "#9c179e"
             ],
             [
              0.4444444444444444,
              "#bd3786"
             ],
             [
              0.5555555555555556,
              "#d8576b"
             ],
             [
              0.6666666666666666,
              "#ed7953"
             ],
             [
              0.7777777777777778,
              "#fb9f3a"
             ],
             [
              0.8888888888888888,
              "#fdca26"
             ],
             [
              1,
              "#f0f921"
             ]
            ],
            "type": "histogram2dcontour"
           }
          ],
          "mesh3d": [
           {
            "colorbar": {
             "outlinewidth": 0,
             "ticks": ""
            },
            "type": "mesh3d"
           }
          ],
          "parcoords": [
           {
            "line": {
             "colorbar": {
              "outlinewidth": 0,
              "ticks": ""
             }
            },
            "type": "parcoords"
           }
          ],
          "pie": [
           {
            "automargin": true,
            "type": "pie"
           }
          ],
          "scatter": [
           {
            "fillpattern": {
             "fillmode": "overlay",
             "size": 10,
             "solidity": 0.2
            },
            "type": "scatter"
           }
          ],
          "scatter3d": [
           {
            "line": {
             "colorbar": {
              "outlinewidth": 0,
              "ticks": ""
             }
            },
            "marker": {
             "colorbar": {
              "outlinewidth": 0,
              "ticks": ""
             }
            },
            "type": "scatter3d"
           }
          ],
          "scattercarpet": [
           {
            "marker": {
             "colorbar": {
              "outlinewidth": 0,
              "ticks": ""
             }
            },
            "type": "scattercarpet"
           }
          ],
          "scattergeo": [
           {
            "marker": {
             "colorbar": {
              "outlinewidth": 0,
              "ticks": ""
             }
            },
            "type": "scattergeo"
           }
          ],
          "scattergl": [
           {
            "marker": {
             "colorbar": {
              "outlinewidth": 0,
              "ticks": ""
             }
            },
            "type": "scattergl"
           }
          ],
          "scattermap": [
           {
            "marker": {
             "colorbar": {
              "outlinewidth": 0,
              "ticks": ""
             }
            },
            "type": "scattermap"
           }
          ],
          "scattermapbox": [
           {
            "marker": {
             "colorbar": {
              "outlinewidth": 0,
              "ticks": ""
             }
            },
            "type": "scattermapbox"
           }
          ],
          "scatterpolar": [
           {
            "marker": {
             "colorbar": {
              "outlinewidth": 0,
              "ticks": ""
             }
            },
            "type": "scatterpolar"
           }
          ],
          "scatterpolargl": [
           {
            "marker": {
             "colorbar": {
              "outlinewidth": 0,
              "ticks": ""
             }
            },
            "type": "scatterpolargl"
           }
          ],
          "scatterternary": [
           {
            "marker": {
             "colorbar": {
              "outlinewidth": 0,
              "ticks": ""
             }
            },
            "type": "scatterternary"
           }
          ],
          "surface": [
           {
            "colorbar": {
             "outlinewidth": 0,
             "ticks": ""
            },
            "colorscale": [
             [
              0,
              "#0d0887"
             ],
             [
              0.1111111111111111,
              "#46039f"
             ],
             [
              0.2222222222222222,
              "#7201a8"
             ],
             [
              0.3333333333333333,
              "#9c179e"
             ],
             [
              0.4444444444444444,
              "#bd3786"
             ],
             [
              0.5555555555555556,
              "#d8576b"
             ],
             [
              0.6666666666666666,
              "#ed7953"
             ],
             [
              0.7777777777777778,
              "#fb9f3a"
             ],
             [
              0.8888888888888888,
              "#fdca26"
             ],
             [
              1,
              "#f0f921"
             ]
            ],
            "type": "surface"
           }
          ],
          "table": [
           {
            "cells": {
             "fill": {
              "color": "#EBF0F8"
             },
             "line": {
              "color": "white"
             }
            },
            "header": {
             "fill": {
              "color": "#C8D4E3"
             },
             "line": {
              "color": "white"
             }
            },
            "type": "table"
           }
          ]
         },
         "layout": {
          "annotationdefaults": {
           "arrowcolor": "#2a3f5f",
           "arrowhead": 0,
           "arrowwidth": 1
          },
          "autotypenumbers": "strict",
          "coloraxis": {
           "colorbar": {
            "outlinewidth": 0,
            "ticks": ""
           }
          },
          "colorscale": {
           "diverging": [
            [
             0,
             "#8e0152"
            ],
            [
             0.1,
             "#c51b7d"
            ],
            [
             0.2,
             "#de77ae"
            ],
            [
             0.3,
             "#f1b6da"
            ],
            [
             0.4,
             "#fde0ef"
            ],
            [
             0.5,
             "#f7f7f7"
            ],
            [
             0.6,
             "#e6f5d0"
            ],
            [
             0.7,
             "#b8e186"
            ],
            [
             0.8,
             "#7fbc41"
            ],
            [
             0.9,
             "#4d9221"
            ],
            [
             1,
             "#276419"
            ]
           ],
           "sequential": [
            [
             0,
             "#0d0887"
            ],
            [
             0.1111111111111111,
             "#46039f"
            ],
            [
             0.2222222222222222,
             "#7201a8"
            ],
            [
             0.3333333333333333,
             "#9c179e"
            ],
            [
             0.4444444444444444,
             "#bd3786"
            ],
            [
             0.5555555555555556,
             "#d8576b"
            ],
            [
             0.6666666666666666,
             "#ed7953"
            ],
            [
             0.7777777777777778,
             "#fb9f3a"
            ],
            [
             0.8888888888888888,
             "#fdca26"
            ],
            [
             1,
             "#f0f921"
            ]
           ],
           "sequentialminus": [
            [
             0,
             "#0d0887"
            ],
            [
             0.1111111111111111,
             "#46039f"
            ],
            [
             0.2222222222222222,
             "#7201a8"
            ],
            [
             0.3333333333333333,
             "#9c179e"
            ],
            [
             0.4444444444444444,
             "#bd3786"
            ],
            [
             0.5555555555555556,
             "#d8576b"
            ],
            [
             0.6666666666666666,
             "#ed7953"
            ],
            [
             0.7777777777777778,
             "#fb9f3a"
            ],
            [
             0.8888888888888888,
             "#fdca26"
            ],
            [
             1,
             "#f0f921"
            ]
           ]
          },
          "colorway": [
           "#636efa",
           "#EF553B",
           "#00cc96",
           "#ab63fa",
           "#FFA15A",
           "#19d3f3",
           "#FF6692",
           "#B6E880",
           "#FF97FF",
           "#FECB52"
          ],
          "font": {
           "color": "#2a3f5f"
          },
          "geo": {
           "bgcolor": "white",
           "lakecolor": "white",
           "landcolor": "#E5ECF6",
           "showlakes": true,
           "showland": true,
           "subunitcolor": "white"
          },
          "hoverlabel": {
           "align": "left"
          },
          "hovermode": "closest",
          "mapbox": {
           "style": "light"
          },
          "paper_bgcolor": "white",
          "plot_bgcolor": "#E5ECF6",
          "polar": {
           "angularaxis": {
            "gridcolor": "white",
            "linecolor": "white",
            "ticks": ""
           },
           "bgcolor": "#E5ECF6",
           "radialaxis": {
            "gridcolor": "white",
            "linecolor": "white",
            "ticks": ""
           }
          },
          "scene": {
           "xaxis": {
            "backgroundcolor": "#E5ECF6",
            "gridcolor": "white",
            "gridwidth": 2,
            "linecolor": "white",
            "showbackground": true,
            "ticks": "",
            "zerolinecolor": "white"
           },
           "yaxis": {
            "backgroundcolor": "#E5ECF6",
            "gridcolor": "white",
            "gridwidth": 2,
            "linecolor": "white",
            "showbackground": true,
            "ticks": "",
            "zerolinecolor": "white"
           },
           "zaxis": {
            "backgroundcolor": "#E5ECF6",
            "gridcolor": "white",
            "gridwidth": 2,
            "linecolor": "white",
            "showbackground": true,
            "ticks": "",
            "zerolinecolor": "white"
           }
          },
          "shapedefaults": {
           "line": {
            "color": "#2a3f5f"
           }
          },
          "ternary": {
           "aaxis": {
            "gridcolor": "white",
            "linecolor": "white",
            "ticks": ""
           },
           "baxis": {
            "gridcolor": "white",
            "linecolor": "white",
            "ticks": ""
           },
           "bgcolor": "#E5ECF6",
           "caxis": {
            "gridcolor": "white",
            "linecolor": "white",
            "ticks": ""
           }
          },
          "title": {
           "x": 0.05
          },
          "xaxis": {
           "automargin": true,
           "gridcolor": "white",
           "linecolor": "white",
           "ticks": "",
           "title": {
            "standoff": 15
           },
           "zerolinecolor": "white",
           "zerolinewidth": 2
          },
          "yaxis": {
           "automargin": true,
           "gridcolor": "white",
           "linecolor": "white",
           "ticks": "",
           "title": {
            "standoff": 15
           },
           "zerolinecolor": "white",
           "zerolinewidth": 2
          }
         }
        },
        "title": {
         "text": "Top 10 Sponsors → Top 15 Victims: Cyber Operations"
        }
       }
      }
     },
     "metadata": {},
     "output_type": "display_data"
    }
   ],
   "source": [
    "# Prepare data\n",
    "df_sankey = df[['Sponsor', 'Victims']].dropna()\n",
    "\n",
    "# Explode multiple victims if they are in one string separated by commas\n",
    "df_sankey['Victims'] = df_sankey['Victims'].str.split(',')\n",
    "df_sankey = df_sankey.explode('Victims')\n",
    "df_sankey['Victims'] = df_sankey['Victims'].str.strip()\n",
    "\n",
    "# Select top 10 sponsors by number of operations\n",
    "top_sponsors = df_sankey['Sponsor'].value_counts().head(10).index\n",
    "df_sankey = df_sankey[df_sankey['Sponsor'].isin(top_sponsors)]\n",
    "\n",
    "# Select top 15 victims by number of attacks\n",
    "top_victims = df_sankey['Victims'].value_counts().head(15).index\n",
    "df_sankey = df_sankey[df_sankey['Victims'].isin(top_victims)]\n",
    "\n",
    "# Create labels and mapping\n",
    "labels = list(pd.concat([df_sankey['Sponsor'], df_sankey['Victims']]).unique())\n",
    "label_to_index = {label: i for i, label in enumerate(labels)}\n",
    "\n",
    "# Map sources and targets\n",
    "links_df = df_sankey.groupby(['Sponsor', 'Victims']).size().reset_index(name='count')\n",
    "sources = links_df['Sponsor'].map(label_to_index)\n",
    "targets = links_df['Victims'].map(label_to_index)\n",
    "values = links_df['count']\n",
    "\n",
    "# Create Sankey diagram\n",
    "fig = go.Figure(data=[go.Sankey(\n",
    "    node=dict(\n",
    "        pad=15,\n",
    "        thickness=20,\n",
    "        line=dict(color=\"black\", width=0.5),\n",
    "        label=labels\n",
    "    ),\n",
    "    link=dict(\n",
    "        source=sources,\n",
    "        target=targets,\n",
    "        value=values\n",
    "    )\n",
    ")])\n",
    "\n",
    "fig.update_layout(title_text=\"Top 10 Sponsors → Top 15 Victims: Cyber Operations\", font_size=12)\n",
    "fig.show()"
   ]
  },
  {
   "cell_type": "code",
   "execution_count": 81,
   "id": "16e9ad79",
   "metadata": {},
   "outputs": [
    {
     "data": {
      "application/vnd.plotly.v1+json": {
       "config": {
        "plotlyServerURL": "https://plot.ly"
       },
       "data": [
        {
         "customdata": [
          [
           "Ghana",
           "Espionage",
           "Believed to be the work of Ghana's government"
          ]
         ],
         "hovertemplate": "Sponsor=%{customdata[0]}<br>PC1=%{x}<br>PC2=%{y}<br>Type=%{customdata[1]}<br>Affiliations=%{customdata[2]}<extra></extra>",
         "legendgroup": "Ghana",
         "marker": {
          "color": "#636efa",
          "symbol": "circle"
         },
         "mode": "markers",
         "name": "Ghana",
         "orientation": "v",
         "showlegend": true,
         "type": "scatter",
         "x": {
          "bdata": "5stBKP68AcA=",
          "dtype": "f8"
         },
         "xaxis": "x",
         "y": {
          "bdata": "N7fvOTt5JUA=",
          "dtype": "f8"
         },
         "yaxis": "y"
        },
        {
         "customdata": [
          [
           "Belarus",
           "Espionage",
           "UNC1151"
          ],
          [
           "Belarus",
           "Defacement",
           "UNC1151?"
          ],
          [
           "Belarus",
           "Espionage",
           "UNC1151"
          ],
          [
           "Belarus",
           "Espionage",
           "Belarus, Ghostwriter."
          ]
         ],
         "hovertemplate": "Sponsor=%{customdata[0]}<br>PC1=%{x}<br>PC2=%{y}<br>Type=%{customdata[1]}<br>Affiliations=%{customdata[2]}<extra></extra>",
         "legendgroup": "Belarus",
         "marker": {
          "color": "#EF553B",
          "symbol": "circle"
         },
         "mode": "markers",
         "name": "Belarus",
         "orientation": "v",
         "showlegend": true,
         "type": "scatter",
         "x": {
          "bdata": "Ptw0WjlM9T/3k8dRyFsDQKGFA9gnTfU/+/mMX2f7+z8=",
          "dtype": "f8"
         },
         "xaxis": "x",
         "y": {
          "bdata": "R1w+LHXD+L8MlBpdpvzjv6W9qRZ/vPi/fOnbLZUJ5L8=",
          "dtype": "f8"
         },
         "yaxis": "y"
        },
        {
         "customdata": [
          [
           "Ukraine",
           "Denial of service",
           "Ukrainian IT Army"
          ],
          [
           "Ukraine",
           "Denial of service",
           "Ukrainian IT Army"
          ],
          [
           "Ukraine",
           "Denial of service",
           "Unknown"
          ],
          [
           "Ukraine",
           "Sabotage",
           "Ukrainian IT Army"
          ],
          [
           "Ukraine",
           "Denial of service",
           "Ukrainian IT Army"
          ]
         ],
         "hovertemplate": "Sponsor=%{customdata[0]}<br>PC1=%{x}<br>PC2=%{y}<br>Type=%{customdata[1]}<br>Affiliations=%{customdata[2]}<extra></extra>",
         "legendgroup": "Ukraine",
         "marker": {
          "color": "#00cc96",
          "symbol": "circle"
         },
         "mode": "markers",
         "name": "Ukraine",
         "orientation": "v",
         "showlegend": true,
         "type": "scatter",
         "x": {
          "bdata": "WY0Vz0ueAsCdRp5MxJsCwPkXz4wBZu6/R9hpT8yfAsAckGKX7p0CwA==",
          "dtype": "f8"
         },
         "xaxis": "x",
         "y": {
          "bdata": "1NNnNuWiDMAlFfK6x58MwMSD2e8t8Py/dAO1UdmeDMC3Pc62bKEMwA==",
          "dtype": "f8"
         },
         "yaxis": "y"
        },
        {
         "customdata": [
          [
           "China",
           "Espionage",
           "Zirconium"
          ],
          [
           "China",
           "Espionage",
           "Believed to be the work of the Chinese government"
          ],
          [
           "China",
           "Espionage",
           "Gallium"
          ],
          [
           "China",
           "Espionage",
           "Mirage"
          ],
          [
           "China",
           "Espionage",
           "Lucky Cat"
          ],
          [
           "China",
           "Espionage",
           "APT 40"
          ],
          [
           "China",
           "Espionage",
           "APT 18"
          ],
          [
           "China",
           "Espionage",
           "Mustang Panda"
          ],
          [
           "China",
           "Espionage",
           "APT 10"
          ],
          [
           "China",
           "Espionage",
           "Unknown"
          ],
          [
           "China",
           "Espionage",
           "Believed to be the work of China's government."
          ],
          [
           "China",
           "Espionage",
           "APT 10"
          ],
          [
           "China",
           "Espionage",
           "APT 40"
          ],
          [
           "China",
           "Espionage",
           "APT 5"
          ],
          [
           "China",
           "Espionage",
           "Believed to be the work of China's government"
          ],
          [
           "China",
           "Espionage",
           "Mustang Panda"
          ],
          [
           "China",
           "Espionage",
           "Believed to be the work of the Chinese government"
          ],
          [
           "China",
           "Espionage",
           "Believed to be the work of the Chinese government\r\n?"
          ],
          [
           "China",
           "Espionage",
           "Mustang Panda"
          ],
          [
           "China",
           "Espionage",
           "Winnti Umbrella"
          ],
          [
           "China",
           "Espionage",
           "APT 18"
          ],
          [
           "China",
           "Espionage",
           "Unknown"
          ],
          [
           "China",
           "Espionage",
           "Zirconium"
          ],
          [
           "China",
           "Espionage",
           "Emissary Panda"
          ],
          [
           "China",
           "Espionage",
           "Gallium"
          ],
          [
           "China",
           "Espionage",
           "Mustang Panda"
          ],
          [
           "China",
           "Espionage",
           "Mustang Panda"
          ],
          [
           "China",
           "Espionage",
           "APT 41"
          ],
          [
           "China",
           "Espionage",
           "Winnti Umbrella"
          ],
          [
           "China",
           "Espionage",
           "Unknown"
          ],
          [
           "China",
           "Espionage",
           "Poison Carp"
          ],
          [
           "China",
           "Espionage",
           "Believed to be the work of China's government"
          ],
          [
           "China",
           "Espionage",
           "Hafnium"
          ],
          [
           "China",
           "Espionage",
           "Mustang Panda"
          ],
          [
           "China",
           "Espionage",
           "Red Menshen"
          ],
          [
           "China",
           "Financial Theft",
           "APT 41"
          ],
          [
           "China",
           "Espionage",
           "Space Pirates"
          ],
          [
           "China",
           "Espionage",
           "Thrip"
          ],
          [
           "China",
           "Espionage",
           "Winnti Umbrella"
          ],
          [
           "China",
           "Espionage",
           "Emissary Panda"
          ],
          [
           "China",
           "Espionage",
           "Winnti Umbrella"
          ],
          [
           "China",
           "Espionage",
           "Emissary Panda"
          ],
          [
           "China",
           "Espionage",
           "Also known as Space Pirates"
          ],
          [
           "China",
           "Espionage",
           "APT 10"
          ],
          [
           "China",
           "Espionage",
           "Lucky Cat"
          ],
          [
           "China",
           "Espionage",
           "Also known as PLA Unit 69010."
          ],
          [
           "China",
           "Espionage",
           "TAG-28"
          ],
          [
           "China",
           "Espionage",
           "Poison Carp"
          ],
          [
           "China",
           "Espionage",
           "China"
          ],
          [
           "China",
           "Espionage",
           "UNC215"
          ],
          [
           "China",
           "Espionage",
           "RedFoxTrot"
          ],
          [
           "China",
           "Espionage",
           "TAG-22, Winnti Umbrella"
          ],
          [
           "China",
           "Sabotage",
           "Winnti Umbrella"
          ],
          [
           "China",
           "Espionage",
           "Unknown"
          ],
          [
           "China",
           "Espionage",
           "Emissary Panda"
          ],
          [
           "China",
           "Espionage",
           "APT 41, Barium, TA415"
          ],
          [
           "China",
           "Espionage",
           "Hafnium"
          ],
          [
           "China",
           "Espionage",
           "APT 31, Hurricane Panda"
          ],
          [
           "China",
           "Espionage",
           "Calypso"
          ],
          [
           "China",
           "Espionage",
           "HoneyMyte, Mustang Panda, Bronze President"
          ],
          [
           "China",
           "Espionage",
           "Winnti Umbrella"
          ],
          [
           "China",
           "Espionage",
           "Unknown"
          ],
          [
           "China",
           "Espionage",
           "Sharp Panda"
          ],
          [
           "China",
           "Espionage",
           "APT 10"
          ],
          [
           "China",
           "Espionage",
           "Emissary Panda"
          ],
          [
           "China",
           "Espionage",
           "Comment Crew"
          ],
          [
           "China",
           "Espionage",
           "Chinese government"
          ],
          [
           "China",
           "Espionage",
           "MysterySnail"
          ],
          [
           "China",
           "Espionage",
           "Believed to be the work of the Chinese government"
          ],
          [
           "China",
           "Espionage",
           "Judgement Panda, APT 31"
          ],
          [
           "China",
           "Espionage",
           "IndigoZebra"
          ],
          [
           "China",
           "Espionage",
           "Tick"
          ],
          [
           "China",
           "Espionage",
           "Naikon, APT 30, Deadringer"
          ],
          [
           "China",
           "Espionage",
           "TA428, Wekby, Dynamite Panda"
          ],
          [
           "China",
           "Espionage",
           "Winnti Umbrella, SparklingGoblin"
          ],
          [
           "China",
           "Espionage",
           "Winnti Umbrella"
          ],
          [
           "China",
           "Espionage",
           "Unknown"
          ],
          [
           "China",
           "Espionage",
           "APT 5"
          ],
          [
           "China",
           "Espionage",
           "Soft Cell, GALLIUM, Deadringer"
          ],
          [
           "China",
           "Espionage",
           "Winnti Umbrella, Grayfly"
          ],
          [
           "China",
           "Espionage",
           "Tonto Team or TA428"
          ],
          [
           "China",
           "Espionage",
           "APT 31, Judgement Panda"
          ],
          [
           "China",
           "Espionage",
           "PLA Unit 69010, RedFoxTrot"
          ],
          [
           "China",
           "Espionage",
           "Mustang Panda, Bronze President"
          ],
          [
           "China",
           "Espionage",
           "Mustang Panda"
          ],
          [
           "China",
           "Espionage",
           "APT 10"
          ],
          [
           "China",
           "Espionage",
           "APT 30"
          ],
          [
           "China",
           "Espionage",
           "Believed to be the work of the Chinese government.?"
          ],
          [
           "China",
           "Espionage",
           "Government of China"
          ],
          [
           "China",
           "Sabotage",
           "Winnti Umbrella"
          ],
          [
           "China",
           "Espionage",
           "Unknown, suspected Bronze Butler."
          ],
          [
           "China",
           "Espionage",
           "Government of China"
          ],
          [
           "China",
           "Espionage",
           "Government of China"
          ],
          [
           "China",
           "Espionage",
           "Winnti Umbrella"
          ],
          [
           "China",
           "Espionage",
           "Also known as APT 31 and Judgement Panda."
          ],
          [
           "China",
           "Unknown",
           "Unknown"
          ],
          [
           "China",
           "Espionage",
           "Zirconium"
          ],
          [
           "China",
           "Espionage",
           "Lotus Blossom"
          ],
          [
           "China",
           "Espionage",
           "APT 40"
          ],
          [
           "China",
           "Espionage",
           "Pirate Panda"
          ],
          [
           "China",
           "Espionage",
           "APT 41"
          ],
          [
           "China",
           "Espionage",
           "Winnti Umbrella"
          ],
          [
           "China",
           "Unknown",
           "Unknown"
          ],
          [
           "China",
           "Espionage",
           "Unknown"
          ],
          [
           "China",
           "Espionage",
           "KilllSomeOne"
          ],
          [
           "China",
           "Espionage",
           "Believed to be the work of the Chinese government.?"
          ],
          [
           "China",
           "Unknown",
           "NOTE: Some Moonlight Maze tooling has also been referred to as ??torm Cloud.??There is no known connection."
          ],
          [
           "China",
           "Unknown",
           "Mustang Panda"
          ],
          [
           "China",
           "Espionage",
           "Tonto Team"
          ],
          [
           "China",
           "Espionage",
           "BlackTech"
          ],
          [
           "China",
           "Espionage",
           "Mustang Panda"
          ],
          [
           "China",
           "Espionage",
           "Bronze Butler"
          ],
          [
           "China",
           "Unknown",
           "Storm Cloud"
          ],
          [
           "China",
           "Espionage",
           "Guangdong State Security Department (GSSD) of China?? Ministry of State Security (MSS)"
          ],
          [
           "China",
           "Espionage",
           "Zirconium"
          ],
          [
           "China",
           "Unknown",
           "Unknown"
          ],
          [
           "China",
           "Espionage",
           "Chinese government"
          ],
          [
           "China",
           "Unknown",
           "Unknown"
          ],
          [
           "China",
           "Espionage",
           "Emissary Panda"
          ],
          [
           "China",
           "Espionage",
           "Government of China"
          ],
          [
           "China",
           "Espionage",
           "Vicious Panda"
          ],
          [
           "China",
           "Espionage",
           "Vicious Panda"
          ],
          [
           "China",
           "Espionage",
           "Government of China"
          ],
          [
           "China",
           "Espionage",
           "PKplug"
          ],
          [
           "China",
           "Espionage",
           "Believed to be the work of APT 10."
          ],
          [
           "China",
           "Espionage",
           "Believed to be the work of Chinese state-sponsored hackers."
          ],
          [
           "China",
           "Espionage",
           "Rancor"
          ],
          [
           "China",
           "Espionage",
           "Also known as Earth Longzhi."
          ],
          [
           "China",
           "Espionage",
           "Believed to be the work of Leviathan."
          ],
          [
           "China",
           "Espionage",
           "Gallium"
          ],
          [
           "China",
           "Espionage",
           "Bronze Butler"
          ],
          [
           "China",
           "Unknown",
           "Unknown"
          ],
          [
           "China",
           "Espionage",
           "Believed to be the work of APT 10 or the Jiangsu Province Ministry of State Security."
          ],
          [
           "China",
           "Espionage",
           "China?? Ministry of State Security"
          ],
          [
           "China",
           "Espionage",
           "Believed to be the work of at least two unnamed APT groups, including Evil Eye"
          ],
          [
           "China",
           "Denial of service",
           "Chinese government"
          ],
          [
           "China",
           "Espionage",
           "APT 3"
          ],
          [
           "China",
           "Espionage",
           "Believed to be the work of Turbine Panda"
          ],
          [
           "China",
           "Unknown",
           "Believed to be the work of APT 5, also known as Manganese, and several other threat groups."
          ],
          [
           "China",
           "Espionage",
           "APT 20"
          ],
          [
           "China",
           "Espionage",
           "APTs associated with Beijing"
          ],
          [
           "China",
           "Espionage",
           "Government of China"
          ],
          [
           "China",
           "Data destruction",
           "Wicked Panda"
          ],
          [
           "China",
           "Espionage",
           "Believed to be the work of Poison Carp."
          ],
          [
           "China",
           "Espionage",
           "APT 17 and Bronze Butler"
          ],
          [
           "China",
           "Espionage",
           "Believed to be the work of Winnti."
          ],
          [
           "China",
           "Espionage",
           "Bronze President"
          ],
          [
           "China",
           "Espionage",
           "APT 10"
          ],
          [
           "China",
           "Espionage",
           "Also known as Evil Eye"
          ],
          [
           "China",
           "Unknown",
           "China"
          ],
          [
           "China",
           "Espionage",
           "Also known as Billbug and Lotus Blossom."
          ],
          [
           "China",
           "Espionage",
           "Unknown"
          ],
          [
           "China",
           "Espionage",
           "Believed to use similar infrastructure as the NetTraveler, Icefog, and APT 17 threat actors"
          ],
          [
           "China",
           "Espionage",
           "Unknown"
          ],
          [
           "China",
           "Espionage",
           "Believed to use similar tools as DragonOK"
          ],
          [
           "China",
           "Espionage",
           "China's Jiangsu Ministry of State Security"
          ],
          [
           "China",
           "Unknown",
           "Believed to be responsible for the targeting of South Korean actors prior to the meeting of Donald J. Trump and Kim Jong-un. Affiliated with China?? Ministry of State Security. Also known as?Tick."
          ],
          [
           "China",
           "Espionage",
           "Believed to be the work of APT 10."
          ],
          [
           "China",
           "Espionage",
           "Believed to be the work of APT 10"
          ],
          [
           "China",
           "Espionage",
           "China's Tianjin State Security Bureau"
          ],
          [
           "China",
           "Espionage",
           "Suspected to be the work of Chinese military hackers."
          ],
          [
           "China",
           "Espionage",
           "Believed to be the work of Leviathan"
          ],
          [
           "China",
           "Espionage",
           "Believed to be associated with the Axiom, APT 17, and Mirage threat actors. Believed to share the same tools and infrastructure as the threat actors that carried out Operation Aurora, the 2015 targeting of video game companies, the 2015 targeting of the Thai government, and the 2017 targeting of Chinese-language news websites"
          ],
          [
           "China",
           "Espionage",
           "Unknown"
          ],
          [
           "China",
           "Espionage",
           "Also known as Bronze President and?HoneyMyte.?Also known as RedDelta."
          ],
          [
           "China",
           "Espionage",
           "Linked to Turbine Panda and China's Ministry of State Security"
          ],
          [
           "China",
           "Espionage",
           "Unknown"
          ],
          [
           "China",
           "Espionage",
           "Unknown"
          ],
          [
           "China",
           "Espionage",
           "Suspected to be the work of Chinese operatives working for the Ministry of State Security."
          ],
          [
           "China",
           "Espionage",
           "Also known as TEMP.Periscope, Leviathan, and Mudcarp.?Believed to be behind the compromise of Cambodia?? election organizations?and the Target of universities' maritime military secrets."
          ],
          [
           "China",
           "Espionage",
           "Possibly linked to APT 30"
          ],
          [
           "China",
           "Espionage",
           "Also known as Tick and RedBaldKnight"
          ],
          [
           "China",
           "Espionage",
           "Unknown"
          ],
          [
           "China",
           "Espionage",
           "Also known as Cloud Hopper, Red Apollo, CNVX, Stone Panda, MenuPass, and POTASSIUM.?Believed to be a part of the Tianjin bureau of the Chinese Ministry of State Security."
          ],
          [
           "China",
           "Espionage",
           "Believed to be the work of Winnti Umbrella"
          ],
          [
           "China",
           "Espionage",
           "Believed to be the work of?Winnti Umbrella"
          ],
          [
           "China",
           "Espionage",
           "Unknown"
          ],
          [
           "China",
           "Espionage",
           "Unknown"
          ],
          [
           "China",
           "Espionage",
           "Unknown"
          ],
          [
           "China",
           "Espionage",
           "Unknown"
          ],
          [
           "China",
           "Espionage",
           "Also known as Naikon, PLA Unit 78020, Lotus Panda. Possibly responsible for the JadeRAT tool.?"
          ],
          [
           "China",
           "Unknown",
           "Unknown"
          ],
          [
           "China",
           "Espionage",
           "Believed to be the work of Deep Panda"
          ],
          [
           "China",
           "Espionage",
           "Also known as UPS, Gothic Panda, Buckeye, and Boyusec"
          ],
          [
           "China",
           "Espionage",
           "Also known as TG-3390, APT 27, TEMP.Hippo, and?LuckyMouse.?Believed to have been responsible for the compromise of a Mongolian data center."
          ],
          [
           "China",
           "Espionage",
           "Believed to be the work of?Winnti Umbrella"
          ],
          [
           "China",
           "Espionage",
           "Also known as Deputy Dog and Axiom.?Believed to be associated with Winnti Umbrella"
          ],
          [
           "China",
           "Espionage",
           "Suspected to be the work of Deep Panda"
          ],
          [
           "China",
           "Espionage",
           "Possibly uses the same infrastructure as?Mirage"
          ],
          [
           "China",
           "Espionage",
           "Suspected to be the work of Deep Panda"
          ],
          [
           "China",
           "Denial of service",
           "Unknown"
          ],
          [
           "China",
           "Espionage",
           "Unknown"
          ],
          [
           "China",
           "Espionage",
           "Unknown"
          ],
          [
           "China",
           "Espionage",
           "Uses similar tools as Moafee?and Rancor, possibly indicating a link between the threat actors"
          ],
          [
           "China",
           "Espionage",
           "Unknown"
          ],
          [
           "China",
           "Espionage",
           "Uses similar tools as DragonOK,?possibly indicating a link between the two"
          ],
          [
           "China",
           "Espionage",
           "Also known as Spring Dragon and Eslie"
          ],
          [
           "China",
           "Espionage",
           "Believed to be closely linked to, though distinct from, Winnti."
          ],
          [
           "China",
           "Espionage",
           "Also known as Dynamite Panda, TG-0416, and TA428"
          ],
          [
           "China",
           "Espionage",
           "Believed to be the work of APT 18"
          ],
          [
           "China",
           "Espionage",
           "Unknown"
          ],
          [
           "China",
           "Espionage",
           "Also known as APT 2, PLA Unit 61486, and TG-6952"
          ],
          [
           "China",
           "Espionage",
           "Unknown"
          ],
          [
           "China",
           "Espionage",
           "Unknown"
          ],
          [
           "China",
           "Espionage",
           "Related to the compromise at the Office of Personnel Management"
          ],
          [
           "China",
           "Espionage",
           "Unknown"
          ],
          [
           "China",
           "Espionage",
           "Unknown"
          ],
          [
           "China",
           "Espionage",
           "Also known as IXESHE, Numbered Panda, and Group 22"
          ],
          [
           "China",
           "Espionage",
           "Unknown"
          ],
          [
           "China",
           "Espionage",
           "Unknown"
          ],
          [
           "China",
           "Espionage",
           "Unknown"
          ],
          [
           "China",
           "Espionage",
           "Mirage is possibly linked to the Hellsing?threat actor. It is also known as Vixen Panda, GREF, APT 15, and Playful Dragon.?Believed to be associated with Winnti Umbrella"
          ],
          [
           "China",
           "Espionage",
           "Unknown"
          ],
          [
           "China",
           "Espionage",
           "Also known as APT 21"
          ],
          [
           "China",
           "Espionage",
           "Also known as JS Sykipot, Backdoor Sykipot, and Maverick Panda"
          ],
          [
           "China",
           "Espionage",
           "Unknown"
          ],
          [
           "China",
           "Espionage",
           "Also known as Dagger Panda and possibly linked to Onion Dog"
          ],
          [
           "China",
           "Espionage",
           "Unknown"
          ],
          [
           "China",
           "Espionage",
           "Also known as Shell Crew, Web Masters, APT 19, Kung Fu Kittens, Black Vine, Temp.Avengers, and Group 13"
          ],
          [
           "China",
           "Espionage",
           "Unknown"
          ],
          [
           "China",
           "Espionage",
           "Also known as APT 1, Comment Crew, Comment Panda, TG-8223, Group 3, GIF89a, and Byzantine Candor"
          ],
          [
           "China",
           "Espionage",
           "Has links to the Shadow Network?and?SabPub. Also known as TA413."
          ],
          [
           "China",
           "Espionage",
           "A variant of Lucky Cat for Mac computers"
          ],
          [
           "China",
           "Espionage",
           "Believed to be the work of PLA Unit 61398"
          ],
          [
           "China",
           "Espionage",
           "Possibly assisted in Operation Aurora, the RSA incident, and the Joint Strike Fighter Program compromise"
          ],
          [
           "China",
           "Espionage",
           "Unknown"
          ],
          [
           "China",
           "Espionage",
           "Unknown"
          ],
          [
           "China",
           "Espionage",
           "Believed to be a tool used by PLA Unit 61398"
          ],
          [
           "China",
           "Espionage",
           "Unknown"
          ],
          [
           "China",
           "Espionage",
           "Possibly linked to the Mitsubishi Heavy Industries incident."
          ],
          [
           "China",
           "Espionage",
           "Unknown"
          ],
          [
           "China",
           "Espionage",
           "Unknown"
          ],
          [
           "China",
           "Espionage",
           "Unknown"
          ],
          [
           "China",
           "Espionage",
           "This incident is believed to be the work of Unit 61398 and at least two other Chinese groups, according to the New York Times. The threat actor Sneaky Panda may also have assisted."
          ],
          [
           "China",
           "Espionage",
           "Unknown"
          ],
          [
           "China",
           "Espionage",
           "Believed to be the work of PLA Unit 61398 with possible assistance from Sneaky Panda.?Believed to be associated with Winnti Umbrella"
          ],
          [
           "China",
           "Espionage",
           "Also known as Manganese"
          ],
          [
           "China",
           "Espionage",
           "Unknown"
          ],
          [
           "China",
           "Espionage",
           "Unknown"
          ],
          [
           "China",
           "Espionage",
           "Unknown"
          ],
          [
           "China",
           "Espionage",
           "Has links to Lucky Cat and GhostNet"
          ],
          [
           "China",
           "Espionage",
           "Sneaky Panda is among some of the actors suspected to be behind this incident."
          ],
          [
           "China",
           "Espionage",
           "Unknown"
          ],
          [
           "China",
           "Espionage",
           "Unknown"
          ],
          [
           "China",
           "Espionage",
           "Unknown"
          ],
          [
           "China",
           "Espionage",
           "Unknown"
          ],
          [
           "China",
           "Espionage",
           "Unknown"
          ],
          [
           "China",
           "Espionage",
           "Unknown"
          ],
          [
           "China",
           "Espionage",
           "Unknown"
          ],
          [
           "China",
           "Espionage",
           "Unknown"
          ],
          [
           "China",
           "Espionage",
           "Unknown"
          ],
          [
           "China",
           "Espionage",
           "Unknown"
          ],
          [
           "China",
           "Espionage",
           "Unknown"
          ],
          [
           "China",
           "Espionage",
           "Unknown"
          ],
          [
           "China",
           "Espionage",
           "Unknown"
          ],
          [
           "China",
           "Espionage",
           "Unknown"
          ],
          [
           "China",
           "Espionage",
           "Unknown"
          ],
          [
           "China",
           "Espionage",
           "Unknown"
          ],
          [
           "China",
           "Espionage",
           "Unknown"
          ],
          [
           "China",
           "Espionage",
           "Believed?to be partially the work of PLA Unit 61398."
          ],
          [
           "China",
           "Espionage",
           "Antlion"
          ],
          [
           "China",
           "Espionage",
           "RedAlpha"
          ],
          [
           "China",
           "Espionage",
           "APT 30"
          ]
         ],
         "hovertemplate": "Sponsor=%{customdata[0]}<br>PC1=%{x}<br>PC2=%{y}<br>Type=%{customdata[1]}<br>Affiliations=%{customdata[2]}<extra></extra>",
         "legendgroup": "China",
         "marker": {
          "color": "#ab63fa",
          "symbol": "circle"
         },
         "mode": "markers",
         "name": "China",
         "orientation": "v",
         "showlegend": true,
         "type": "scatter",
         "x": {
          "bdata": "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",
          "dtype": "f8"
         },
         "xaxis": "x",
         "y": {
          "bdata": "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",
          "dtype": "f8"
         },
         "yaxis": "y"
        },
        {
         "customdata": [
          [
           "Russian Federation",
           "Espionage",
           "Gamaredon"
          ],
          [
           "Russian Federation",
           "Espionage",
           "Gamaredon"
          ],
          [
           "Russian Federation",
           "Espionage",
           "Gamaredon"
          ],
          [
           "Russian Federation",
           "Data destruction",
           "Believed to be the work of the Russian government"
          ],
          [
           "Russian Federation",
           "Data destruction",
           "Sandworm"
          ],
          [
           "Russian Federation",
           "Espionage",
           "Sandworm"
          ],
          [
           "Russian Federation",
           "Espionage",
           "Sandworm"
          ],
          [
           "Russian Federation",
           "Sabotage",
           "APT 28"
          ],
          [
           "Russian Federation",
           "Espionage",
           "Sandworm"
          ],
          [
           "Russian Federation",
           "Espionage",
           "Believed to be the work of the government of the Russian Federation."
          ],
          [
           "Russian Federation",
           "Espionage",
           "Gamaredon"
          ],
          [
           "Russian Federation",
           "Sabotage",
           "Sandworm"
          ],
          [
           "Russian Federation",
           "Sabotage",
           "Believed to be the work of the Russian government"
          ],
          [
           "Russian Federation",
           "Espionage",
           "APT 28"
          ],
          [
           "Russian Federation",
           "Data destruction",
           "Sandworm"
          ],
          [
           "Russian Federation",
           "Sabotage",
           "Believed to be the work of Russia's government"
          ],
          [
           "Russian Federation",
           "Data destruction",
           "Sandworm"
          ],
          [
           "Russian Federation",
           "Data destruction",
           "Sandworm"
          ],
          [
           "Russian Federation",
           "Espionage",
           "APT 28"
          ],
          [
           "Russian Federation",
           "Denial of service",
           "Believed to be the work of Russia's government"
          ],
          [
           "Russian Federation",
           "Data destruction",
           "Sandworm"
          ],
          [
           "Russian Federation",
           "Sabotage",
           "Sandworm"
          ],
          [
           "Russian Federation",
           "Espionage",
           "APT 28"
          ],
          [
           "Russian Federation",
           "Espionage",
           "Turla"
          ],
          [
           "Russian Federation",
           "Denial of service",
           "Believed to be the work of Russia's government"
          ],
          [
           "Russian Federation",
           "Data destruction",
           "Believed to be the work of the government of the Russian Federation."
          ],
          [
           "Russian Federation",
           "Espionage",
           "Turla"
          ],
          [
           "Russian Federation",
           "Espionage",
           "The Dukes"
          ],
          [
           "Russian Federation",
           "Espionage",
           "Gamaredon"
          ],
          [
           "Russian Federation",
           "Denial of service",
           "Believed to be the work of Russia's government"
          ],
          [
           "Russian Federation",
           "Espionage",
           "Sandworm"
          ],
          [
           "Russian Federation",
           "Espionage",
           "APT 28"
          ],
          [
           "Russian Federation",
           "Espionage",
           "Believed to be the work of Russia's government"
          ],
          [
           "Russian Federation",
           "Espionage",
           "The Dukes"
          ],
          [
           "Russian Federation",
           "Espionage",
           "Gamaredon"
          ],
          [
           "Russian Federation",
           "Defacement",
           "Russian Federation"
          ],
          [
           "Russian Federation",
           "Espionage",
           "Cozy Bear"
          ],
          [
           "Russian Federation",
           "Espionage",
           "Nobelium"
          ],
          [
           "Russian Federation",
           "Espionage",
           "APT 28"
          ],
          [
           "Russian Federation",
           "Espionage",
           "Nobelium, APT 29"
          ],
          [
           "Russian Federation",
           "Espionage",
           "The Dukes"
          ],
          [
           "Russian Federation",
           "Espionage",
           "Sandworm"
          ],
          [
           "Russian Federation",
           "Espionage",
           "Primitive Bear, Gamaredon"
          ],
          [
           "Russian Federation",
           "Denial of service",
           "Russian government"
          ],
          [
           "Russian Federation",
           "Espionage",
           "Gamaredon"
          ],
          [
           "Russian Federation",
           "Espionage",
           "Cozy Bear, APT29"
          ],
          [
           "Russian Federation",
           "Espionage",
           "Cozy Bear, APT 29"
          ],
          [
           "Russian Federation",
           "Espionage",
           "APT 28"
          ],
          [
           "Russian Federation",
           "Espionage",
           "Sandworm"
          ],
          [
           "Russian Federation",
           "Espionage",
           "APT 28"
          ],
          [
           "Russian Federation",
           "Espionage",
           "Believed to be the work of the Russian government.?"
          ],
          [
           "Russian Federation",
           "Espionage",
           "Energetic Bear"
          ],
          [
           "Russian Federation",
           "Espionage",
           "APT 28"
          ],
          [
           "Russian Federation",
           "Espionage",
           "Gamaredon"
          ],
          [
           "Russian Federation",
           "Sabotage",
           "Gamaredon"
          ],
          [
           "Russian Federation",
           "Espionage",
           "Turla"
          ],
          [
           "Russian Federation",
           "Espionage",
           "Turla"
          ],
          [
           "Russian Federation",
           "Espionage",
           "Turla"
          ],
          [
           "Russian Federation",
           "Espionage",
           "APT 28"
          ],
          [
           "Russian Federation",
           "Espionage",
           "Cozy Bear,?APT 29"
          ],
          [
           "Russian Federation",
           "Espionage",
           "APT 28"
          ],
          [
           "Russian Federation",
           "Espionage",
           "APT 28"
          ],
          [
           "Russian Federation",
           "Unknown",
           "Unknown"
          ],
          [
           "Russian Federation",
           "Espionage",
           "Turla"
          ],
          [
           "Russian Federation",
           "Espionage",
           "Crouching Yeti"
          ],
          [
           "Russian Federation",
           "Espionage",
           "APT 28"
          ],
          [
           "Russian Federation",
           "Defacement",
           "Ghostwriter"
          ],
          [
           "Russian Federation",
           "Espionage",
           "Sandworm"
          ],
          [
           "Russian Federation",
           "Espionage",
           "Believed to be the work of Fancy Bear."
          ],
          [
           "Russian Federation",
           "Espionage",
           "Russian military intelligence agency, known as GRU"
          ],
          [
           "Russian Federation",
           "Unknown",
           "Believed to be the work of Strontium, also known as APT 28 and Fancy Bear."
          ],
          [
           "Russian Federation",
           "Espionage",
           "Gamaredon"
          ],
          [
           "Russian Federation",
           "Espionage",
           "the Dukes"
          ],
          [
           "Russian Federation",
           "Espionage",
           "Turla"
          ],
          [
           "Russian Federation",
           "Unknown",
           "Unknown"
          ],
          [
           "Russian Federation",
           "Unknown",
           "Believed to be the work of Sednit, also known as APT 28, Fancy Bear, and Strontium."
          ],
          [
           "Russian Federation",
           "Sabotage",
           "Sandworm"
          ],
          [
           "Russian Federation",
           "Espionage",
           "Suspected to be the work of the Dukes.?"
          ],
          [
           "Russian Federation",
           "Espionage",
           "Believed to be the work of Fancy Bear."
          ],
          [
           "Russian Federation",
           "Sabotage",
           "Unknown"
          ],
          [
           "Russian Federation",
           "Espionage",
           "Believed to be the work of Crouching Yeti"
          ],
          [
           "Russian Federation",
           "Espionage",
           "Believed to be the work of APT 28"
          ],
          [
           "Russian Federation",
           "Sabotage",
           "Believed to be associated with Sandworm. Also known as VPNFilter."
          ],
          [
           "Russian Federation",
           "Espionage",
           "Unknown"
          ],
          [
           "Russian Federation",
           "Espionage",
           "Believed to be the work of Turla"
          ],
          [
           "Russian Federation",
           "Espionage",
           "Believed to be the work of APT 28"
          ],
          [
           "Russian Federation",
           "Espionage",
           "Believed to be the work of APT 28"
          ],
          [
           "Russian Federation",
           "Espionage",
           "Believed to be the work of APT 28"
          ],
          [
           "Russian Federation",
           "Espionage",
           "Believed to be the work of APT 28"
          ],
          [
           "Russian Federation",
           "Doxing",
           "Believed to be the work of?APT 28"
          ],
          [
           "Russian Federation",
           "Espionage",
           "Believed to be the work of Gamaredon."
          ],
          [
           "Russian Federation",
           "Espionage",
           "Believed to be linked to the Crouching Yeti threat actor"
          ],
          [
           "Russian Federation",
           "Espionage",
           "Believed to be the work of Turla"
          ],
          [
           "Russian Federation",
           "Doxing",
           "Believed to be the work of?APT 28"
          ],
          [
           "Russian Federation",
           "Sabotage",
           "Believed to be the work of the same threat actors behind the alleged Russian compromise of networking equipment"
          ],
          [
           "Russian Federation",
           "Doxing",
           "Believed to be the work of?APT 28"
          ],
          [
           "Russian Federation",
           "Doxing",
           "Believed to be the work of Russian hacker group Snake."
          ],
          [
           "Russian Federation",
           "Sabotage",
           "Believed to be the work of Russian state-sponsored group Dragonfly, also known as Energetic Bear"
          ],
          [
           "Russian Federation",
           "Espionage",
           "Believed to be the work of the same actors behind the compromise of the 2018 Winter Olympics"
          ],
          [
           "Russian Federation",
           "Espionage",
           "Believed to be the work of?APT 28"
          ],
          [
           "Russian Federation",
           "Espionage",
           "Believed to be the work of APT 28"
          ],
          [
           "Russian Federation",
           "Espionage",
           "Believed to be the work of Sandworm."
          ],
          [
           "Russian Federation",
           "Espionage",
           "Believed to be the work of?APT 28"
          ],
          [
           "Russian Federation",
           "Espionage",
           "Believed to be the work of a Russian hacking group."
          ],
          [
           "Russian Federation",
           "Sabotage",
           "Believed to be the work of?APT 28"
          ],
          [
           "Russian Federation",
           "Espionage",
           "Believed to be the work of Turla"
          ],
          [
           "Russian Federation",
           "Espionage",
           "Believed to be the work of?APT 28"
          ],
          [
           "Russian Federation",
           "Espionage",
           "Believed to be the work of APT 28.?"
          ],
          [
           "Russian Federation",
           "Data destruction",
           "Possibly linked to Sandworm."
          ],
          [
           "Russian Federation",
           "Espionage",
           "APT 28"
          ],
          [
           "Russian Federation",
           "Espionage",
           "Believed to be the work of APT 28"
          ],
          [
           "Russian Federation",
           "Denial of service",
           "Unknown"
          ],
          [
           "Russian Federation",
           "Espionage",
           "Unknown"
          ],
          [
           "Russian Federation",
           "Espionage",
           "Believed to be the work of APT 28"
          ],
          [
           "Russian Federation",
           "Espionage",
           "Believed to be the work of APT 28"
          ],
          [
           "Russian Federation",
           "Espionage",
           "Believed to be the work of APT 28"
          ],
          [
           "Russian Federation",
           "Espionage",
           "Associated with Turla"
          ],
          [
           "Russian Federation",
           "Espionage",
           "Unknown"
          ],
          [
           "Russian Federation",
           "Espionage",
           "Unknown"
          ],
          [
           "Russian Federation",
           "Espionage",
           "Unknown"
          ],
          [
           "Russian Federation",
           "Espionage",
           "Believed to be the work of the Dukes"
          ],
          [
           "Russian Federation",
           "Denial of service",
           "Unknown"
          ],
          [
           "Russian Federation",
           "Data destruction",
           "Believed to be the work of Sandworm."
          ],
          [
           "Russian Federation",
           "Espionage",
           "This incident is believed to be the work of APT 28. The Dukes were also found to be in the Democratic National Committee's networks."
          ],
          [
           "Russian Federation",
           "Sabotage",
           "Used an evolution of the tools used by Sandworm."
          ],
          [
           "Russian Federation",
           "Espionage",
           "Believed to be the work of APT 28"
          ],
          [
           "Russian Federation",
           "Espionage",
           "Believed to be the work of APT 28"
          ],
          [
           "Russian Federation",
           "Espionage",
           "Believed to be the work of the Turla group"
          ],
          [
           "Russian Federation",
           "Espionage",
           "Same state sponsor as the 2014 breach"
          ],
          [
           "Russian Federation",
           "Espionage",
           "Believed to be the work of APT 28"
          ],
          [
           "Russian Federation",
           "Espionage",
           "Believed to be the work of the Dukes"
          ],
          [
           "Russian Federation",
           "Sabotage",
           "Possible link to Sandworm."
          ],
          [
           "Russian Federation",
           "Espionage",
           "Also known as the Gamaredon Group and?Primitive Bear."
          ],
          [
           "Russian Federation",
           "Defacement",
           "Suspected to be the work of APT 28"
          ],
          [
           "Russian Federation",
           "Espionage",
           "Believed to be the work of APT 28"
          ],
          [
           "Russian Federation",
           "Espionage",
           "Suspected to be the work of the Dukes"
          ],
          [
           "Russian Federation",
           "Espionage",
           "Believed to be the work of APT 28"
          ],
          [
           "Russian Federation",
           "Espionage",
           "Unknown"
          ],
          [
           "Russian Federation",
           "Espionage",
           "Suspected to be the work of the Dukes"
          ],
          [
           "Russian Federation",
           "Espionage",
           "Possibly attributed to APT 28"
          ],
          [
           "Russian Federation",
           "Espionage",
           "Also known as Energetic Bear, Dragonfly, Group 24, and Koala Team. Possibly associated with Allanite and Dymalloy.?Believed to be behind the targeting of critical infrastructure entities in the United States and Germany, prompting both countries to issue technical alerts"
          ],
          [
           "Russian Federation",
           "Espionage",
           "Turla is also known as Snake, Venomous Bear, Uroburos, Group 88, Waterbug, and Turla Team. Estonian intelligence services?associate this group with the Russian federal security service (FSB). Turla is associated with Agent.btz?and believed to be behind the RUAG espionage incident, an attempted compromise of the Swiss defense ministry,?the targeting of diplomatic missions in Eastern Europe, the targeting of South Korean actors prior to the meeting of U.S. President Donald J. Trump and North Korean leader Kim Jong-un, and the compromise of the German?and Finnish foreign ministries.?"
          ],
          [
           "Russian Federation",
           "Espionage",
           "Also known as Voodoo Bear, and Electrum. Believed to be responsible for the 2008 DDoS attacks in Georgia and the 2015?Ukraine power grid outage.?Code used by this threat actor was also found in the alleged Russian compromise of networking equipment. There is possible overlap between Black Energy and the threat actor behind the compromise of the 2018 Winter Olympics."
          ],
          [
           "Russian Federation",
           "Espionage",
           "Believed to be the work of the Dukes"
          ],
          [
           "Russian Federation",
           "Espionage",
           "Unknown"
          ],
          [
           "Russian Federation",
           "Espionage",
           "Believed to be the work of Turla"
          ],
          [
           "Russian Federation",
           "Espionage",
           "Also known as APT 29, Cozy Bear, Dark Halo, Nobelium, and Cloaked Ursa.?Estonian intelligence services associate this group with the Russian Federal Security Service (FSB) and Foreign Intelligence Service (SVR)."
          ],
          [
           "Russian Federation",
           "Espionage",
           "Unknown"
          ],
          [
           "Russian Federation",
           "Denial of service",
           "Believed to be linked to Sandworm."
          ],
          [
           "Russian Federation",
           "Espionage",
           "Associated with Turla"
          ],
          [
           "Russian Federation",
           "Denial of service",
           "Unknown"
          ],
          [
           "Russian Federation",
           "Espionage",
           "Believed to be responsible for the targeting of employees of companies that operate U.S. power plants. Also believed to be linked to Crouching Yeti"
          ],
          [
           "Russian Federation",
           "Espionage",
           "APT 28"
          ],
          [
           "Russian Federation",
           "Unknown",
           "Also known as?Pawn Storm, Fancy Bear, Sofacy, Tsar Team, Strontium, Sednit, and UNC2452.?Estonian and British?intelligence services?associate this group with Russian military intelligence (GRU). The United States believes that GRU units 26165 and 74455 form a part of this threat actor."
          ],
          [
           "Russian Federation",
           "Sabotage",
           "Also known as Triton and Xenotime"
          ]
         ],
         "hovertemplate": "Sponsor=%{customdata[0]}<br>PC1=%{x}<br>PC2=%{y}<br>Type=%{customdata[1]}<br>Affiliations=%{customdata[2]}<extra></extra>",
         "legendgroup": "Russian Federation",
         "marker": {
          "color": "#FFA15A",
          "symbol": "circle"
         },
         "mode": "markers",
         "name": "Russian Federation",
         "orientation": "v",
         "showlegend": true,
         "type": "scatter",
         "x": {
          "bdata": "etxrbKk1+r/b/4bOrTH6v4Xca2ypNfq/becSAvYA+78/8NLP4SH9v0gIPRqkG/2/ffsskYEn/b/kk8hgKt/6v6SdT/2TIf2/D/V9AM75+7/QLFCARTT6v1f1GeTYI/2/0Nt+4bwA+786bpS1kNv6vyNhiqU1Hv2/AGvU+12i+L+4LBzs2iP9v0DucOhKHv2/qs8hZrjc+r9wCSl9rJz4v3XXnVAWL/2/2EYfJWAm/b+ms3z2n9X6v9iSXda5R/u/sdhRcuKp+L91Us10WPP7v/tlAYt4TPu/lSDs8wa7/L/L9tuMSyz6vw2Npu6AqPi/9IBPK1Ug/b9URBcOZ+H6v2cZB66Xpfi/NkNh6UG8/L87Y3DnYi36v/4bLvGoIPu/ZlmmPK2n+r+GenziXOH4vyB/xnU+3/q/q/LGuHPK+78nWP0busH8v1b4JPipI/2/ffQL38/k+b/LgHZVWsn5v7oayR2PMvq/IdjZxSWM/L8XHKqeGZH1v1fsOKjJ3/q/KMIKfM0i/b9KGO2/7eD6v43H8Nngyf2/8TFLdh0d+78FDBu9N+D6v8/QMltPS/G/sPq2pios+r8VX3/I4kj7v44L3kDTRvu/Kn1Ao6w08b8d+opQz9n6vx4hSLMB1/u/mR/bERp5978rCCoi2Nr6v0UqifNjLei/D+/a6ElJ+7/0o46qlrb9v/cA2YrF3/q/gauqrC9s/L/RMnUA5SH9vyUbzLn3Ifa/psba4GtM+r+5ssrTx7bpv5UucefZMPq/8KDp6trq+L8XwG88/0f7v+66O81ZANu/J1or5k3A6b/L7L/hax79vzNTovqV1vm/uw9qnDOO7L+LBs5jDCHov5P0b3pADvW/sKBMx69M+r/l+QO91L38v8k81CV3++i/Ei/5wowv9b9Ccx/0hqfwv0JzH/SGp/C/mA7jQepL+r+5Tyd/dUX6v2/tq2eNh/q/rPvl4xC1+b8GkW8M16Hpv83+u0bP4+6/uFGEXPmN+r/N5SDGJ7T5v/yXTWRBiPq/AhbYEEMG9b/bqgYsFKrpv3SMmyR2Yve/c3mAPR6M+r96koHYIUnwv1z43kEg8PW/Jf6Q6X2G+r87yvxmo7H5v4I/4aXOjfq/iP6lYlen+L8tt79ui4v6v2dZk+ScPgDAzKcZN2OB+7+0uERdb+D6v/Y0/enQTPq/YMnwjN2C7L+wwTC1oSnovzfpSEffKPi/kq1UKndN+r+V+Mv6n0j6v/DuBSDDQgDAM8dmzwMk6L/MqnYpKiHov9U3xF7Fhtm/hXiFaZLb/L/fY/9AUjbov+15JZ5K1fi/yLgraAJ6/79H7goT7VP7v0q/jrDxSvq/KffIEFdK+r8nj/bPrjT6v30OKvall/e/uPWIL/hK+r8P7oo4f9z8v+juQgiOgfu/gCtNwLy6+b/gFweLTB31vyVAPATtSPq/vLIrER+1/L8p9edAfEj6v+0/Yd7Lxe6/GYhNYXWy/L8lR9L+e3D7vxi5hkSNYva/dBj+SMpbAMCaf7Fu3Qj5vxQiNCV76PS/7T9h3svF7r8lY2Muvij4vzrLsJch1/6/6HTlm/k46L+UEqjelkH7v9K3JrInPgDA/RQzphYf6L+vg7wdgV7+v4aT7zv/2/q/uMBByahh9r+yOJBVfNf4vw==",
          "dtype": "f8"
         },
         "xaxis": "x",
         "y": {
          "bdata": "kuwmHFcw978spMvwmTL3v5fsJhxXMPe/y+x18e+G9L87R1DuDLP2vy8vKNe2r/a/vHSbbCet9r9HdEzpEob1v+DLxUXKpva/LMGXq14o+r8Cy516FCn3v2KSldeyq/a/o3gt1n6O9L8ztvUXn4X1v+UxSitVqva/ee4C9vVS9L9Z9iaBSa32v7MP2RWgr/a/j8Lc5s+K9b/pv5/7i1n0v5/oMABoqva/ADhVWyCx9r/9GXiBBIn1vzfo25Apv/S/Q9UYwN5Z9L/k9fu3WSX6v7ThrSc0vvS/ELC8rMed97+PhpZzHyz3vzI1MYgjVPS/TS+Mz7qt9r9gxWSnwYP1vzZeJeTKWfS/+dEtVa2b9798XQfnYCf3v32cDI9EEPK/JxG7lGS9+b9m21QpGef4vymOK59hifW/S72hUE3K9L/tvntsTZ/3vzO94Oweq/a/4fvZ8nRB8b+gZxosp5Dwv2neYx01Kfe/NZ9z2N5w9r8W3lHS4Iz8vyvpKPHjhPW/xrY5B7ik9r/ok+UInoP1v6rgXTEAUPu/0UyNZGRd9r/mNOyrS4D1vwskuyDYZPS/Kd1sFDEy97+qWCw1iLz0v6upzFUktfS/kehPk/8D8L+v8r8h9H71v9xpUpTmwfe/8FP9nYl+5L9d9DWfcIP1v3Q57ubbc+u/R/aBmBu99L9nX0WQ2Nnov5Sha15qh/W/IAXFI8/++r8N/VWD3aP2v5bp3FvEK/S/xd0HueYh879nQcRbwnvsv9q/J3KzLPe/Y5rubmKJ77/I69ErRrz0v4KL6F9C8uW/GF015+9s7L/BIm8D1q72v4guuPnMhve/D+ep7Tva7r/yNaYJ7nDrv6yhg+aLufO/y8roivZK9r9Y6ENB6Mb0vzvIARMVee2/AslNSt6y87+ttOahB7vwv6205qEHu/C/q+WQe5ZQ9r/X6f+WR1L2v8vISciVDfa/OMnbsHB99L9/eGZ6ofHqv0pVguHp3u+/tODWs9IO9r/fr5B/H3r0vyBxpiH5Eva/XSdQS3q9879/NYfNne7qv1kU1zRVo/e/MHdlCvYU9r9BqC+ndibwv/EdbS+y2vO/I78SKNgT9r8QGowrIXr0vwFTg34kFfa/ef/F61kL9b/FjLHZORn2vykbDGvYH/e/gokyQZDu9L8izNeQQYv1vyAD63mLTfa/jh+FUxtE7r+wCmafmmfrv7z+tBv04/S/8y7pF8RO9r9yrPRXfUn2vy8j212mBva/SbL4521r679ErackrWTrv6hyemogyeS/4vfx36MN9r92VOUsQHDrvxn/TnCAaPS/G6s9uNgK+L87MRQHjkP5vwpUfpc+SPa/yFgOSVpL9r/h0PEHkMX1v7GPprcFVuq/ICCpJ5NP9r+3x5KJ0xD2vzU2V5+nO++/+ExJVP969L9uXv7+PSX0v3VLHkXFSva/bzW6VOA29b+zvKVTmkv2v5KKxZSxlO6/AYuQ9cg99b/NRKx1vrn0vyaFpeKlefW/D4dLwYMz87/ZxBdEXTL2v3UY9V2oRvK/korFlLGU7r84nLZUWub0v28RpIuf7PS/dW+LZHVr67/WJXh6e8byv2DbvPuxEPa/h0kyFTh5679IrjUWfd73v1iHXRm5hfW/Cth8DcQt9L/lDaz+4Yzxvw==",
          "dtype": "f8"
         },
         "yaxis": "y"
        },
        {
         "customdata": [
          [
           "Unknown",
           "Espionage",
           "APT-C-23"
          ],
          [
           "Unknown",
           "Espionage",
           "Unknown"
          ],
          [
           "Unknown",
           "Espionage",
           "Believed to be the work of the Chinese government"
          ],
          [
           "Unknown",
           "Espionage",
           "APT37"
          ],
          [
           "Unknown",
           "Espionage",
           "Government of Saudi Arabia"
          ],
          [
           "Unknown",
           "Espionage",
           "Unnamed state-sponsored APT"
          ],
          [
           "Unknown",
           "Unknown",
           "Also known as DustSquad, Russian-speaking but may be Kazakh."
          ],
          [
           "Unknown",
           "Espionage",
           "Unknown"
          ],
          [
           "Unknown",
           "Unknown",
           "Believed to be behind the Singapore health-care breach in July 2018."
          ],
          [
           "Unknown",
           "Espionage",
           "Golden Falcon"
          ],
          [
           "Unknown",
           "Espionage",
           "Unknown"
          ],
          [
           "Unknown",
           "Unknown",
           "Unknown"
          ],
          [
           "Unknown",
           "Espionage",
           "Believed to be the work of Whitefly.?"
          ],
          [
           "Unknown",
           "Espionage",
           "Unknown"
          ],
          [
           "Unknown",
           "Espionage",
           "Believed to use similar tools as the Lazarus Group"
          ],
          [
           "Unknown",
           "Unknown",
           "Unknown"
          ],
          [
           "Unknown",
           "Espionage",
           "Believed to be linked to Crouching Yeti"
          ],
          [
           "Unknown",
           "Espionage",
           "Unknown"
          ],
          [
           "Unknown",
           "Espionage",
           "Unknown"
          ],
          [
           "Unknown",
           "Espionage",
           "Unknown"
          ],
          [
           "Unknown",
           "Espionage",
           "Unknown"
          ],
          [
           "Unknown",
           "Espionage",
           "Unknown"
          ],
          [
           "Unknown",
           "Espionage",
           "Possibly linked to NetTraveler"
          ],
          [
           "Unknown",
           "Espionage",
           "Unknown"
          ],
          [
           "Unknown",
           "Espionage",
           "Unknown"
          ],
          [
           "Unknown",
           "Espionage",
           "Unknown"
          ],
          [
           "Unknown",
           "Data destruction",
           "Believed to have been partially the work of Chrysene"
          ],
          [
           "Unknown",
           "Espionage",
           "Same state sponsor as the 2016 breach"
          ],
          [
           "Unknown",
           "Espionage",
           "Unknown"
          ],
          [
           "Unknown",
           "Data destruction",
           "Unknown"
          ],
          [
           "Unknown",
           "Espionage",
           "Possibly linked to Icefog?and the Dark Seoul compromise"
          ],
          [
           "Unknown",
           "Espionage",
           "Unknown"
          ],
          [
           "Unknown",
           "Espionage",
           "Unknown"
          ],
          [
           "Unknown",
           "Espionage",
           "This threat actor is believed to have been responsible for the Japan Pension Service incident. It is also known as Emdivi?and Cloudy Omega."
          ],
          [
           "Unknown",
           "Espionage",
           "Linked to Blue Termite"
          ],
          [
           "Unknown",
           "Sabotage",
           "Unknown"
          ],
          [
           "Unknown",
           "Espionage",
           "Unknown"
          ],
          [
           "Unknown",
           "Espionage",
           "Unknown"
          ],
          [
           "Unknown",
           "Espionage",
           "Possibly linked to the Nitro incident"
          ],
          [
           "Unknown",
           "Unknown",
           "Also known as Thallium and Smoke Screen"
          ]
         ],
         "hovertemplate": "Sponsor=%{customdata[0]}<br>PC1=%{x}<br>PC2=%{y}<br>Type=%{customdata[1]}<br>Affiliations=%{customdata[2]}<extra></extra>",
         "legendgroup": "Unknown",
         "marker": {
          "color": "#19d3f3",
          "symbol": "circle"
         },
         "mode": "markers",
         "name": "Unknown",
         "orientation": "v",
         "showlegend": true,
         "type": "scatter",
         "x": {
          "bdata": "ZzJX9BIYvT/b98ZIDJCqPw14pjdh0uQ/p8vAzcyvtb+3Of32V37uv4ft848PnXM/e75OsUMdUz+L5GpM37GpPzeVaFZPkcq/HcGsPIt+2b8krL2l5HupP1uIyxR+2tM/GSTEiP7w2r/1G3K2xfKpP1jCkIvozW8/sCuE7pN7qT+HkJ5niZ3Pvwrqmb+7z6k/HYFe9uj5xD/xB3cGlpSpP5rHE2BtedU/HYFe9uj5xD9Svyr38X3lv55Zdkv7aak/mIhfyw5nqj+lLFNgckWpP+OAzWoIXMy/ArJYt6to5b9TevU9EZOqP72FaIS3pqs/MbKWwzVb0L+1ibQzgAipP3ryeJGyw6k/zQgEUTh0vj8gPOPb8n69v+8vba8Fbqo/L1Ufwl2cqT9CfJ0KiLCpP0lYh8xfuOC/sSsr8nTu0L8=",
          "dtype": "f8"
         },
         "xaxis": "x",
         "y": {
          "bdata": "SMMeQiJuqb845XBRjlrDv9o1BFGDvMW/SWPyop6To794oCsnxXXQvxND21+nmcG/25xlrt6Cx79gdB+oW0rDv73yz18cSpm/dp7BIMPSsz+OuJBKog3Dv8DH/KcOgZq/Nv4v8G3Rh7+zQAY9RD/Dv84a+Orsf8G/ET6bc9d/w7/SrDfswvnCvyr1AFNHWcO/xf82mYucxb/APFcCDGHDv41viw8Nmrm/xf82mYucxb9I6UbtemTSv75PZWM2p8O/j2FigcRlw79yE4JK7jvDv+zDCEFWa7W/hNOIL0aLvr8R4QlyXljDv5YCvTD+irG/9d5dbh3M6T/tnvLF2CXDv5RLOnJOjsO/iIW6jAIxdD+OMOeslmzDPy4YDlFRZsO/Kz2B43pnw7+LjwQll5zDv3fy27C2j+G/VQZj66qE3z8=",
          "dtype": "f8"
         },
         "yaxis": "y"
        },
        {
         "customdata": [
          [
           "Iran (Islamic Republic of)",
           "Data destruction",
           "Believed to be the work of the Iranian government"
          ],
          [
           "Iran (Islamic Republic of)",
           "Espionage",
           "APT 35"
          ],
          [
           "Iran (Islamic Republic of)",
           "Espionage",
           "Believed to be the work of the Iranian government"
          ],
          [
           "Iran (Islamic Republic of)",
           "Financial Theft",
           "Believed to be the work of the Iranian government."
          ],
          [
           "Iran (Islamic Republic of)",
           "Espionage",
           "Charming Kitten"
          ],
          [
           "Iran (Islamic Republic of)",
           "Espionage",
           "Charming Kitten"
          ],
          [
           "Iran (Islamic Republic of)",
           "Espionage",
           "Iran, APT 35"
          ],
          [
           "Iran (Islamic Republic of)",
           "Financial Theft",
           "Charming Kitten"
          ],
          [
           "Iran (Islamic Republic of)",
           "Espionage",
           "Siamesekitten, OilRig"
          ],
          [
           "Iran (Islamic Republic of)",
           "Espionage",
           "Prince of Persia"
          ],
          [
           "Iran (Islamic Republic of)",
           "Espionage",
           "MuddyWater"
          ],
          [
           "Iran (Islamic Republic of)",
           "Espionage",
           "Charming Kitten"
          ],
          [
           "Iran (Islamic Republic of)",
           "Espionage",
           "MuddyWater"
          ],
          [
           "Iran (Islamic Republic of)",
           "Espionage",
           "MuddyWater"
          ],
          [
           "Iran (Islamic Republic of)",
           "Espionage",
           "APT 34"
          ],
          [
           "Iran (Islamic Republic of)",
           "Espionage",
           "MuddyWater"
          ],
          [
           "Iran (Islamic Republic of)",
           "Espionage",
           "Charming Kitten"
          ],
          [
           "Iran (Islamic Republic of)",
           "Espionage",
           "Charming Kitten"
          ],
          [
           "Iran (Islamic Republic of)",
           "Espionage",
           "Unknown"
          ],
          [
           "Iran (Islamic Republic of)",
           "Espionage",
           "TA453, Charming Kitten"
          ],
          [
           "Iran (Islamic Republic of)",
           "Espionage",
           "Domestic Kitten"
          ],
          [
           "Iran (Islamic Republic of)",
           "Espionage",
           "Believed to be the work of the Iranian government."
          ],
          [
           "Iran (Islamic Republic of)",
           "Espionage",
           "APT 34, OilRig"
          ],
          [
           "Iran (Islamic Republic of)",
           "Espionage",
           "Tortoiseshell, ?Charming Kitten"
          ],
          [
           "Iran (Islamic Republic of)",
           "Espionage",
           "Emennet Pasargad?"
          ],
          [
           "Iran (Islamic Republic of)",
           "Espionage",
           "Unknown"
          ],
          [
           "Iran (Islamic Republic of)",
           "Espionage",
           "MuddyWater"
          ],
          [
           "Iran (Islamic Republic of)",
           "Espionage",
           "Siamesekitten, Lyceum"
          ],
          [
           "Iran (Islamic Republic of)",
           "Espionage",
           "MuddyWater"
          ],
          [
           "Iran (Islamic Republic of)",
           "Espionage",
           "Prince of Persia"
          ],
          [
           "Iran (Islamic Republic of)",
           "Espionage",
           "Also known as?Lyceum. The group has also been connected to OilRig."
          ],
          [
           "Iran (Islamic Republic of)",
           "Espionage",
           "MuddyWater"
          ],
          [
           "Iran (Islamic Republic of)",
           "Unknown",
           "MalKamak"
          ],
          [
           "Iran (Islamic Republic of)",
           "Espionage",
           "Charming Kitten?"
          ],
          [
           "Iran (Islamic Republic of)",
           "Financial Theft",
           "Believed to be the work of the Islamic Republic of Iran's government"
          ],
          [
           "Iran (Islamic Republic of)",
           "Espionage",
           "Static Kitten"
          ],
          [
           "Iran (Islamic Republic of)",
           "Espionage",
           "Charming Kitten, Phosphorous"
          ],
          [
           "Iran (Islamic Republic of)",
           "Espionage",
           "APT 34"
          ],
          [
           "Iran (Islamic Republic of)",
           "Sabotage",
           "Iranian government"
          ],
          [
           "Iran (Islamic Republic of)",
           "Espionage",
           "MuddyWater"
          ],
          [
           "Iran (Islamic Republic of)",
           "Espionage",
           "Charming Kitten"
          ],
          [
           "Iran (Islamic Republic of)",
           "Espionage",
           "Greenbug"
          ],
          [
           "Iran (Islamic Republic of)",
           "Espionage",
           "Cobalt Dickens"
          ],
          [
           "Iran (Islamic Republic of)",
           "Espionage",
           "Also known as Parasite"
          ],
          [
           "Iran (Islamic Republic of)",
           "Espionage",
           "APT 35"
          ],
          [
           "Iran (Islamic Republic of)",
           "Espionage",
           "Charming Kitten"
          ],
          [
           "Iran (Islamic Republic of)",
           "Espionage",
           "MuddyWater"
          ],
          [
           "Iran (Islamic Republic of)",
           "Espionage",
           "Fox Kitten"
          ],
          [
           "Iran (Islamic Republic of)",
           "Espionage",
           "Also known as Parasite, UNC757, and Fox Kitten."
          ],
          [
           "Iran (Islamic Republic of)",
           "Espionage",
           "Pioneer Kitten"
          ],
          [
           "Iran (Islamic Republic of)",
           "Sabotage",
           "Believed to be the work of the Iranian government."
          ],
          [
           "Iran (Islamic Republic of)",
           "Espionage",
           "APT 34, possibly APT 33/APT 39."
          ],
          [
           "Iran (Islamic Republic of)",
           "Espionage",
           "APT 34"
          ],
          [
           "Iran (Islamic Republic of)",
           "Espionage",
           "APT 33"
          ],
          [
           "Iran (Islamic Republic of)",
           "Unknown",
           "Pioneer Kitten"
          ],
          [
           "Iran (Islamic Republic of)",
           "Unknown",
           "Chafer?"
          ],
          [
           "Iran (Islamic Republic of)",
           "Espionage",
           "Iranian government"
          ],
          [
           "Iran (Islamic Republic of)",
           "Espionage",
           "Phosphorus"
          ],
          [
           "Iran (Islamic Republic of)",
           "Data destruction",
           "Iran"
          ],
          [
           "Iran (Islamic Republic of)",
           "Espionage",
           "Believed to be the work of Phosphoros, also known as APT 35"
          ],
          [
           "Iran (Islamic Republic of)",
           "Espionage",
           "APT 33"
          ],
          [
           "Iran (Islamic Republic of)",
           "Sabotage",
           "Unknown"
          ],
          [
           "Iran (Islamic Republic of)",
           "Espionage",
           "Suspected to be the work of Iranian actors."
          ],
          [
           "Iran (Islamic Republic of)",
           "Espionage",
           "Iranian Revolutionary Guard"
          ],
          [
           "Iran (Islamic Republic of)",
           "Espionage",
           "Believed to be the work of Cobalt Dickens."
          ],
          [
           "Iran (Islamic Republic of)",
           "Espionage",
           "APT 33"
          ],
          [
           "Iran (Islamic Republic of)",
           "Data destruction",
           "APT 34"
          ],
          [
           "Iran (Islamic Republic of)",
           "Unknown",
           "Believed to be connected to the Iranian government."
          ],
          [
           "Iran (Islamic Republic of)",
           "Espionage",
           "Unknown"
          ],
          [
           "Iran (Islamic Republic of)",
           "Espionage",
           "Also known as Phosphoros and Newscaster Team"
          ],
          [
           "Iran (Islamic Republic of)",
           "Espionage",
           "Possibly linked to an Iran-based group that uses the Shamoon virus to target oil and gas entities with a connection to Saudi Arabia."
          ],
          [
           "Iran (Islamic Republic of)",
           "Espionage",
           "Also known as the Silent Librarian. Believed to be associated with the Mabna Institute."
          ],
          [
           "Iran (Islamic Republic of)",
           "Espionage",
           "Also known as TEMP.Zagros, Seedworm and Static Kitten.?"
          ],
          [
           "Iran (Islamic Republic of)",
           "Unknown",
           "Unknown"
          ],
          [
           "Iran (Islamic Republic of)",
           "Espionage",
           "Possibly linked to OilRig"
          ],
          [
           "Iran (Islamic Republic of)",
           "Espionage",
           "Unknown"
          ],
          [
           "Iran (Islamic Republic of)",
           "Espionage",
           "Unknown"
          ],
          [
           "Iran (Islamic Republic of)",
           "Espionage",
           "Also known as Magnallium and Elfin. Suspected to be linked to the Shamoon malware attacks in 2018."
          ],
          [
           "Iran (Islamic Republic of)",
           "Espionage",
           "Also known as Cobalt Gypsy and possibly associated with Rocket Kitten"
          ],
          [
           "Iran (Islamic Republic of)",
           "Espionage",
           "Also known as Twisted Kitten and Crambus; possibly related to Magic Hound,?APT 34, and Chrysene.?Believed to use similar tools and infrastructure as Chafer.? The group has also been connected to SiameseKitten."
          ],
          [
           "Iran (Islamic Republic of)",
           "Espionage",
           "Unknown"
          ],
          [
           "Iran (Islamic Republic of)",
           "Espionage",
           "Believed to use similar tools and infrastructure as OilRig"
          ],
          [
           "Iran (Islamic Republic of)",
           "Espionage",
           "Possibly?linked to?Saffron Rose"
          ],
          [
           "Iran (Islamic Republic of)",
           "Espionage",
           "Believed to be the work of Saffron Rose"
          ],
          [
           "Iran (Islamic Republic of)",
           "Espionage",
           "Unknown"
          ],
          [
           "Iran (Islamic Republic of)",
           "Espionage",
           "Also known as Charming Kitten, APT 35, Newscaster, Ajax Security Team, Phosphorus, Group 83, and TA453. Possibly linked to Rocket Kitten"
          ],
          [
           "Iran (Islamic Republic of)",
           "Data destruction",
           "Unknown"
          ],
          [
           "Iran (Islamic Republic of)",
           "Espionage",
           "Also known as Flying Kitten, Sayad, Ajax Security Team, and Group 26"
          ],
          [
           "Iran (Islamic Republic of)",
           "Espionage",
           "Also known as Cutting Kitten and Group 41"
          ],
          [
           "Iran (Islamic Republic of)",
           "Espionage",
           "Unknown"
          ],
          [
           "Iran (Islamic Republic of)",
           "Data destruction",
           "Believed to have been partially the work of Chrysene"
          ],
          [
           "Iran (Islamic Republic of)",
           "Denial of service",
           "Unknown"
          ],
          [
           "Iran (Islamic Republic of)",
           "Espionage",
           "Unknown"
          ],
          [
           "Iran (Islamic Republic of)",
           "Denial of service",
           "Also known as Operation Ababil"
          ],
          [
           "Iran (Islamic Republic of)",
           "Denial of service",
           "Unknown"
          ],
          [
           "Iran (Islamic Republic of)",
           "Defacement",
           "Unknown"
          ],
          [
           "Iran (Islamic Republic of)",
           "Espionage",
           "Believed to be the work of MuddyWater."
          ],
          [
           "Iran (Islamic Republic of)",
           "Unknown",
           "Unknown"
          ]
         ],
         "hovertemplate": "Sponsor=%{customdata[0]}<br>PC1=%{x}<br>PC2=%{y}<br>Type=%{customdata[1]}<br>Affiliations=%{customdata[2]}<extra></extra>",
         "legendgroup": "Iran (Islamic Republic of)",
         "marker": {
          "color": "#FF6692",
          "symbol": "circle"
         },
         "mode": "markers",
         "name": "Iran (Islamic Republic of)",
         "orientation": "v",
         "showlegend": true,
         "type": "scatter",
         "x": {
          "bdata": "ZIk10dYM7L8u/LFO1Znyv7r6ADOZGey/G+6JFEFq9L9AslIo2a7vv2VWYDMYru+/kXGi4osA97/qzrqkNajvv0lqN4j0cvO/se8FQhP287/GoYi5JwTvv/FLJdVCqu+/ndDw6zL77r/yjSzL1fHuv+dozJXRxO6/qsP89XD57r9FClqMlqPvvxECVieWmu+/kW/1bcE637/of8T8fOfiv7upj7J96u6/LxF0T3Fi9L/0hSfpF5Dsvwkk2z748+q/GCov0qLO8r/KtFvd9lnWv+Ot/VbY/O6/w8ITKoDR7b8Qx9WUTPnuv8ToeAuU8/O/agyOVH7B7b9EqNNcv/buv6IpQoeklPS/SrPKGYDH8r+2IYN04Urwv+MQ0nCuz+O/QaDxLBsG8b/VaorhYs/uv9kVYkzbBfG/pZ5gkS3+7r8esMElDafvv4WkSaUWWum/+ogYoy8y978SBn5Jhsntv1uLnihNnPK/nb2wv+Kt77+CSiB2CAHvv/ng53+qxe2/p0y7eFpH+L9B+pen5LDvvybGM/ipYfS/TVjC5rkV77+0fR3cBtHuv7fFSFZX1uy/oAt8/Bu477+a7UfW9VbyvwwgVXRxA/G/tbsHBImB2L86vNvZqHvyvy7V+YnOCfC/buzexUHP7L8a4NraT1fWvweUoQMrMPC/ZbKBjLid5781y6Kieanov+ja4HLay+y/S7/+6hnQ7r+i4IUuYhPlv5saYDkoZta/OJdYNsF92b8/AzlxU7Lkv7CCbfBDGfW/Dq/HzGWQ4L+5oHYCEWjWv3fC1Af+i9m/pKuUfGdN1r/IZ8m47XrWv+aoV3qaBOS/yeEfvTZd8r9XH02qBZHwv5FqLbEHTta/7BrfnEl28r9nYnvlyt3vv3hm058EUuy/NMM29Z+Y1b8dMN3YE3vxvz5H8jvZZta/vuBPtW6Q6b8Fg4PkZKXqv9mIkNYaS9a/mZZKH7vS479dKRGlf2TWv0InhUo+WNa/TidoWNUw7r+ykFWIz6Dev3Lx4iDSa9a/47ujiRQ+8r8zOh+AZF/Wvw==",
          "dtype": "f8"
         },
         "xaxis": "x",
         "y": {
          "bdata": "AYX+69yI3r/CHcaJb7XUv0d0Ca/Bdd6/zylrNwMAw7/mLWK+9ejcv2Dvy52Y+9y/OxmW8phZwb9aD5Vn6R/dv5b6CyJOnsO/hLDO2LGr2r9sRoWKLlPav9whFmV289y/npDmeZJi2r+rQuaA2Wzav9iXnaY7Tdm/yu+bu8lL2r83RfYVwObcvwiT539S6Ny/KTMQh+gz2L855KaNSM3QvwzRix2ICt+/jGtPcwrRwr9phIBJVNnYv2OJ2y29ice/E4MsjVwt4L8fcCajNjDVv8aJoKXpWtq/J98b28Dx1797y7NFP1zav5eXkERArNq/FQrHnBjv179aYz0BmUnav80UZZOl4cq/G8Pugakm17/0kDRadH3av8FL4cdWmuW/JSOpzc/04L/9/+LnxjHZv1cr97meU+O/h9Ugvuk72r8UBC+nigTdvwc7TAU/zuS/t/Fccv4R278fz//e3DDdv7aTPr4wttS/jeHIEZ0r3b+K/PbzbGXav9tojHrGNN2/I+ylEMmY1L+AKGaoQx7Sv/xErTFOwsK/cJYkXcPr5L9YPGCjRR7Zv8108y9BodG/P8OaL50a0r8t6eC7LsLUv5itP0A+UeO/7U83NDhP0L/c/w7tGcjfv2UqT8etbtW/YxXgLfuf0b/9qjJ3UyPVv715k/vNCeC//BzMm63U279Ycw4sLXzgv5UFHtc2k9G/pekRGPM82b+kI+IZbMPgv2UBDIC/F9W/leCoLyo/1L86L3FfwYDav7sWVzYZGc2/5bWfpbsqxb+47ymeYhjVvwjzndOEKde/OoKwu78l1b8XOqUXjDHVvzMM4BtVMdm/ricuzyw+4r+z6nMlj7/XvwdXfGnyQNW/jAnlIuhA0r+KPI1OaFfbv7qY+5Du4ue/9clIrLmi27+HG7wwuA7Sv8JZB4ngL9W/yrDh9GKw4r/CkwKiJm/rv+3sLdGKM9W/rSA0K2TK0L8Qj0ptexXVv9PVX+0mItW/oPkGIHr7178DQ8aZtUbVvx0zSnPpM9W/Zh/N6Qr06L/WH8Ftsi/Vvw==",
          "dtype": "f8"
         },
         "yaxis": "y"
        },
        {
         "customdata": [
          [
           "Korea (Democratic People's Republic of)",
           "Financial Theft",
           "Lazarus Group"
          ],
          [
           "Korea (Democratic People's Republic of)",
           "Financial Theft",
           "Lazarus Group"
          ],
          [
           "Korea (Democratic People's Republic of)",
           "Espionage",
           "APT 37"
          ],
          [
           "Korea (Democratic People's Republic of)",
           "Espionage",
           "APT 37"
          ],
          [
           "Korea (Democratic People's Republic of)",
           "Espionage",
           "Kimsuky"
          ],
          [
           "Korea (Democratic People's Republic of)",
           "Espionage",
           "Kimsuky"
          ],
          [
           "Korea (Democratic People's Republic of)",
           "Espionage",
           "Konni Group"
          ],
          [
           "Korea (Democratic People's Republic of)",
           "Financial Theft",
           "Lazarus Group"
          ],
          [
           "Korea (Democratic People's Republic of)",
           "Financial Theft",
           "Lazarus Group"
          ],
          [
           "Korea (Democratic People's Republic of)",
           "Espionage",
           "Lazarus Group"
          ],
          [
           "Korea (Democratic People's Republic of)",
           "Financial Theft",
           "Lazarus Group"
          ],
          [
           "Korea (Democratic People's Republic of)",
           "Financial Theft",
           "Lazarus Group"
          ],
          [
           "Korea (Democratic People's Republic of)",
           "Financial Theft",
           "Lazarus Group"
          ],
          [
           "Korea (Democratic People's Republic of)",
           "Espionage",
           "Kimsuky"
          ],
          [
           "Korea (Democratic People's Republic of)",
           "Espionage",
           "Lazarus Group"
          ],
          [
           "Korea (Democratic People's Republic of)",
           "Financial Theft",
           "Lazarus Group"
          ],
          [
           "Korea (Democratic People's Republic of)",
           "Espionage",
           "Lazarus Group"
          ],
          [
           "Korea (Democratic People's Republic of)",
           "Espionage",
           "Kimsuky"
          ],
          [
           "Korea (Democratic People's Republic of)",
           "Espionage",
           "Lazarus Group"
          ],
          [
           "Korea (Democratic People's Republic of)",
           "Espionage",
           "Lazarus Group"
          ],
          [
           "Korea (Democratic People's Republic of)",
           "Espionage",
           "Kimsuky"
          ],
          [
           "Korea (Democratic People's Republic of)",
           "Espionage",
           "Lazarus Group?"
          ],
          [
           "Korea (Democratic People's Republic of)",
           "Espionage",
           "Lazarus Group"
          ],
          [
           "Korea (Democratic People's Republic of)",
           "Espionage",
           "North Korean government"
          ],
          [
           "Korea (Democratic People's Republic of)",
           "Espionage",
           "Lazarus Group"
          ],
          [
           "Korea (Democratic People's Republic of)",
           "Espionage",
           "APT 37, ScarCruft, Stardust Chollima"
          ],
          [
           "Korea (Democratic People's Republic of)",
           "Financial Theft",
           "Lazarus Group"
          ],
          [
           "Korea (Democratic People's Republic of)",
           "Espionage",
           "Lazarus Group"
          ],
          [
           "Korea (Democratic People's Republic of)",
           "Espionage",
           "Lazarus Group"
          ],
          [
           "Korea (Democratic People's Republic of)",
           "Espionage",
           "Kimsuky"
          ],
          [
           "Korea (Democratic People's Republic of)",
           "Espionage",
           "Kimsuky"
          ],
          [
           "Korea (Democratic People's Republic of)",
           "Espionage",
           "Zinc"
          ],
          [
           "Korea (Democratic People's Republic of)",
           "Financial Theft",
           "Lazarus Group"
          ],
          [
           "Korea (Democratic People's Republic of)",
           "Espionage",
           "Kimsuky"
          ],
          [
           "Korea (Democratic People's Republic of)",
           "Espionage",
           "Cerium"
          ],
          [
           "Korea (Democratic People's Republic of)",
           "Unknown",
           "Unknown"
          ],
          [
           "Korea (Democratic People's Republic of)",
           "Espionage",
           "Konni Group"
          ],
          [
           "Korea (Democratic People's Republic of)",
           "Espionage",
           "Kimsuky"
          ],
          [
           "Korea (Democratic People's Republic of)",
           "Espionage",
           "Lazarus Group"
          ],
          [
           "Korea (Democratic People's Republic of)",
           "Financial Theft",
           "Hidden Cobra"
          ],
          [
           "Korea (Democratic People's Republic of)",
           "Espionage",
           "Believed to be Lazarus Group"
          ],
          [
           "Korea (Democratic People's Republic of)",
           "Financial Theft",
           "Lazarus Group"
          ],
          [
           "Korea (Democratic People's Republic of)",
           "Espionage",
           "Unknown"
          ],
          [
           "Korea (Democratic People's Republic of)",
           "Espionage",
           "Lazarus Group"
          ],
          [
           "Korea (Democratic People's Republic of)",
           "Espionage",
           "Unknown"
          ],
          [
           "Korea (Democratic People's Republic of)",
           "Espionage",
           "Lazarus Group"
          ],
          [
           "Korea (Democratic People's Republic of)",
           "Unknown",
           "Believed to be the work of Kimusky, also known as Thallium and Smoke Screen."
          ],
          [
           "Korea (Democratic People's Republic of)",
           "Unknown",
           "Believed to be the work of Kimusky, also known as Thallium and Smoke Screen."
          ],
          [
           "Korea (Democratic People's Republic of)",
           "Espionage",
           "The Lazarus Group"
          ],
          [
           "Korea (Democratic People's Republic of)",
           "Espionage",
           "Lazarus Group"
          ],
          [
           "Korea (Democratic People's Republic of)",
           "Espionage",
           "Lazarus Group"
          ],
          [
           "Korea (Democratic People's Republic of)",
           "Espionage",
           "Unknown"
          ],
          [
           "Korea (Democratic People's Republic of)",
           "Espionage",
           "Believed to be associated with the Lazarus Group"
          ],
          [
           "Korea (Democratic People's Republic of)",
           "Unknown",
           "Also known as Reaper, Group 123, and ScarCruft"
          ],
          [
           "Korea (Democratic People's Republic of)",
           "Espionage",
           "Believed to be the work of the Lazarus Group"
          ],
          [
           "Korea (Democratic People's Republic of)",
           "Financial Theft",
           "Suspected to be the work of the Lazarus Group."
          ],
          [
           "Korea (Democratic People's Republic of)",
           "Espionage",
           "Believed to be the work of Lazarus Group"
          ],
          [
           "Korea (Democratic People's Republic of)",
           "Espionage",
           "Believed to be the work of Lazarus Group"
          ],
          [
           "Korea (Democratic People's Republic of)",
           "Espionage",
           "Believed to be the work of the Lazarus Group"
          ],
          [
           "Korea (Democratic People's Republic of)",
           "Espionage",
           "Believed to be the work of Lazarus Group"
          ],
          [
           "Korea (Democratic People's Republic of)",
           "Doxing",
           "Suspected to be the work of North Korean authorities."
          ],
          [
           "Korea (Democratic People's Republic of)",
           "Financial Theft",
           "Believed to be the work of a subset of the Lazarus Group known as Bluenoroff"
          ],
          [
           "Korea (Democratic People's Republic of)",
           "Financial Theft",
           "Believed to be the work of the Lazarus Group"
          ],
          [
           "Korea (Democratic People's Republic of)",
           "Espionage",
           "Unknown"
          ],
          [
           "Korea (Democratic People's Republic of)",
           "Data destruction",
           "Believed to be the work of the Lazarus Group."
          ],
          [
           "Korea (Democratic People's Republic of)",
           "Financial Theft",
           "Believed to be the work of Lazarus Group"
          ],
          [
           "Korea (Democratic People's Republic of)",
           "Espionage",
           "Unknown"
          ],
          [
           "Korea (Democratic People's Republic of)",
           "Espionage",
           "Believed to be responsible for Dark Seoul, Ten Days of Rain, the Sony Pictures Entertainment attack,?the SWIFT-related bank heists,?WannaCry, and?Operation GhostSecret. Believed to use the same tools as Covellite.?Known to the U.S. government as Hidden Cobra.?Also known as BlueNoroff."
          ],
          [
           "Korea (Democratic People's Republic of)",
           "Espionage",
           "Unknown"
          ],
          [
           "Korea (Democratic People's Republic of)",
           "Espionage",
           "Believed to be the work of the same actors behind Dark Seoul?and possibly linked to Onion Dog"
          ],
          [
           "Korea (Democratic People's Republic of)",
           "Espionage",
           "Unknown"
          ],
          [
           "Korea (Democratic People's Republic of)",
           "Doxing",
           "Believed to be the work of the Lazarus Group"
          ],
          [
           "Korea (Democratic People's Republic of)",
           "Espionage",
           "Unknown"
          ],
          [
           "Korea (Democratic People's Republic of)",
           "Denial of service",
           "Also known as Operation Troy and Dark Seoul"
          ],
          [
           "Korea (Democratic People's Republic of)",
           "Denial of service",
           "Unknown"
          ],
          [
           "Korea (Democratic People's Republic of)",
           "Denial of service",
           "Believed to be the work of the Lazarus Group"
          ],
          [
           "Korea (Democratic People's Republic of)",
           "Denial of service",
           "Unknown"
          ],
          [
           "Korea (Democratic People's Republic of)",
           "Espionage",
           "APT 37"
          ],
          [
           "Korea (Democratic People's Republic of)",
           "Espionage",
           "Lazarus Group"
          ]
         ],
         "hovertemplate": "Sponsor=%{customdata[0]}<br>PC1=%{x}<br>PC2=%{y}<br>Type=%{customdata[1]}<br>Affiliations=%{customdata[2]}<extra></extra>",
         "legendgroup": "Korea (Democratic People's Republic of)",
         "marker": {
          "color": "#B6E880",
          "symbol": "circle"
         },
         "mode": "markers",
         "name": "Korea (Democratic People's Republic of)",
         "orientation": "v",
         "showlegend": true,
         "type": "scatter",
         "x": {
          "bdata": "RB2lYyXc9L+X2I0a1OD0v+eWdjsdn/O/t8Yzt5mT87/tzG9/H4byvy3OBEXEhPK/pmBmcpbg8b9tJeovL9v0vwCrddni2PS/wBDgJybZ9L/cn/mRMtr0v6RD4txg3vS/UsPMwivW9L+phG6Ndoryv1ysHYOl3fS/H8Lx+crf9L9w++rn2dz0vw6nsyiHgvK/aXrNtmfc9L9dw13AJeD0vwtDnxYUiPK/8pA2QIom8b+Rok0W+d/0v7W7jJaQT/K/mqRguATa9L8bAShdY7fyvy/2KZ2E3vS/mOitH4za9L9EougKYtX0v+tjGw1hgvK/Aprls4uB8r8L28mn6fXwv16E7+/n4/S/B7eL8w2F8r+v6YuzAfPwv5qNF7vs5cm/wtijRRrg8b/Ll3URIYvyvwxZ7mdo2/S/7IveSEvo6r+VQXQVg+jzvzgET6YR1/S/Snew1Szx4r/4p6wo0N70v0p3sNUs8eK/sKVj9DDc9L/5P4sQmmHzv5FRjNCKY/O/IvAAA2uX8b8hkftCwtX0v3ipfxw/3fS/mo0Xu+zlyb/gc5fywwDovz0HxIc+ZPa/W6eF4ouM8b8wMpFmXXf1vz2mn2VWJPG/9/msFUEp8b/XU06ymCXlv2EfPBlK7eO/h5urWF7757872xrPkgLyv8HIR1thkfG/Zoco3sPyxr832GNntrzav/GIGxtoKvG/yirAlLWp2L+MugTSacD1v8oqwJS1qdi/THnev3yD9L/QF3Donlfcvw+UBpmQh/G/KkgSUW1k3L9eFNcPg/Tnv8qgLCsjTty/2dqjSRGO8b8E8cHF/Wfcv0dm9PQAmvO/rphOfAza9L8=",
          "dtype": "f8"
         },
         "xaxis": "x",
         "y": {
          "bdata": "xvZ5NikQAUC3JrEgBRIBQK1Iatf8UABAQbfeK7lOAEBpbE9ODnABQAr96VfLbAFA1U1wDsfr/z+I6qvJRxIBQPZyhzoCEwFALikWmzQTAUDyeRao5hUBQJYLKs/rDwFAn+dw+gkSAUBbgfPIRHIBQHpWlSWuEgFAlYL9jEgRAUATFnebkhEBQMXY56mubQFA7XA4eTISAUDUf5jMqhEBQEOx08HtbwFA1qKFyL0BAUDJOIg+1RMBQL9z52v8kgFAdcPuL64SAUCrcwIE0/YBQIXFCzq5EAFAMCiEPKQQAUABen8Vrg8BQEOB1xAQbwFAX7WEZahxAUAB7TKuMYv3P1POGGR6EwFAdC6zN4pvAUBc++O8nJj3PysbVhgniOA/J9I9ZbPr/z+2GRZHiG4BQMl8QwLrDwFAOfiOhLKfAkDHx3cVUS38Pw33+7sTDgFAZ7BRklvk7D9KFmuJNhQBQGewUZJb5Ow/skdaSzsQAUDBE0G+/5QAQGSh9IhvmABAd52G1KW1/D+e7aSANxEBQKeDTzvPEQFAKxtWGCeI4D+CjMJTiSr+P91G6u6pDv0/95IPzLUD/z+HSVHIibsAQGtFJOByIwBAef0oYVYlAEAy+932mwbzP1pp+KlIG/Q/94Amvk8q/j++NLiL52ECQEcrAdKt+v4/AzTEDUmx4T9MvnLForMAQO++TaVsIgBA+hgSfH3X8j9CEAir32L/P/oYEnx91/I/kRaegaa//T+5iWTOAKztP0ifF31C//4/Y51owsiq7T+PZFVteSf+P+7M46xHtO0/Djh5AgcA/z9GNlNSGajtPwRc/h29TwBAyPaIlpwSAUA=",
          "dtype": "f8"
         },
         "yaxis": "y"
        },
        {
         "customdata": [
          [
           "Canada",
           "Espionage",
           "Believed to be the work of the Canadian government"
          ]
         ],
         "hovertemplate": "Sponsor=%{customdata[0]}<br>PC1=%{x}<br>PC2=%{y}<br>Type=%{customdata[1]}<br>Affiliations=%{customdata[2]}<extra></extra>",
         "legendgroup": "Canada",
         "marker": {
          "color": "#FF97FF",
          "symbol": "circle"
         },
         "mode": "markers",
         "name": "Canada",
         "orientation": "v",
         "showlegend": true,
         "type": "scatter",
         "x": {
          "bdata": "JLsC4S5jB0A=",
          "dtype": "f8"
         },
         "xaxis": "x",
         "y": {
          "bdata": "bAsqcRxN0T8=",
          "dtype": "f8"
         },
         "yaxis": "y"
        },
        {
         "customdata": [
          [
           "Israel",
           "Espionage",
           "Believed to be the work of Israel's government."
          ],
          [
           "Israel",
           "Espionage",
           "Believed to be the work of Israel's government"
          ],
          [
           "Israel",
           "Sabotage",
           "Israel"
          ],
          [
           "Israel",
           "Espionage",
           "Believed to be the work of the same threat actors who used the?Duqu 2.0 tool.?"
          ],
          [
           "Israel",
           "Espionage",
           "Associated with Duqu. Believed to have been the tool used to compromise Kaspersky Labs."
          ],
          [
           "Israel",
           "Espionage",
           "This is believed be a tool set used by the Equation Group. It is related to Stuxnet?and Flame."
          ],
          [
           "Israel",
           "Denial of service",
           "Unknown"
          ]
         ],
         "hovertemplate": "Sponsor=%{customdata[0]}<br>PC1=%{x}<br>PC2=%{y}<br>Type=%{customdata[1]}<br>Affiliations=%{customdata[2]}<extra></extra>",
         "legendgroup": "Israel",
         "marker": {
          "color": "#FECB52",
          "symbol": "circle"
         },
         "mode": "markers",
         "name": "Israel",
         "orientation": "v",
         "showlegend": true,
         "type": "scatter",
         "x": {
          "bdata": "CUG3DqyQ6D96EJFwg7DrP4fBYD98YOs//ofHcNWE6j9Pld+GQvvKPwb93w0M3eA/pMUvqvN83z8=",
          "dtype": "f8"
         },
         "xaxis": "x",
         "y": {
          "bdata": "iTQJPEJ/9D+PZeLPikv7P6WorzL0evo/pyGdWW+E8D9wp+N5UW3wP+WVBL4kuvk/0dENyVbR4T8=",
          "dtype": "f8"
         },
         "yaxis": "y"
        },
        {
         "customdata": [
          [
           "Jordan",
           "Espionage",
           "Believed to be the work of the Jordanian government"
          ]
         ],
         "hovertemplate": "Sponsor=%{customdata[0]}<br>PC1=%{x}<br>PC2=%{y}<br>Type=%{customdata[1]}<br>Affiliations=%{customdata[2]}<extra></extra>",
         "legendgroup": "Jordan",
         "marker": {
          "color": "#636efa",
          "symbol": "circle"
         },
         "mode": "markers",
         "name": "Jordan",
         "orientation": "v",
         "showlegend": true,
         "type": "scatter",
         "x": {
          "bdata": "X4olLne+2L8=",
          "dtype": "f8"
         },
         "xaxis": "x",
         "y": {
          "bdata": "wY3xbWOWA0A=",
          "dtype": "f8"
         },
         "yaxis": "y"
        },
        {
         "customdata": [
          [
           "Palestine, State of",
           "Espionage",
           "APT-C-23"
          ],
          [
           "Palestine, State of",
           "Espionage",
           "Believed to be the work of Hamas."
          ],
          [
           "Palestine, State of",
           "Espionage",
           "Believed to be the work of Palestine's government"
          ],
          [
           "Palestine, State of",
           "Espionage",
           "APT-C-23"
          ],
          [
           "Palestine, State of",
           "Unknown",
           "Also known as AridViper and?Desert Falcon."
          ]
         ],
         "hovertemplate": "Sponsor=%{customdata[0]}<br>PC1=%{x}<br>PC2=%{y}<br>Type=%{customdata[1]}<br>Affiliations=%{customdata[2]}<extra></extra>",
         "legendgroup": "Palestine, State of",
         "marker": {
          "color": "#EF553B",
          "symbol": "circle"
         },
         "mode": "markers",
         "name": "Palestine, State of",
         "orientation": "v",
         "showlegend": true,
         "type": "scatter",
         "x": {
          "bdata": "35HfNGVN1T+SsWuwusd4vyJuEgNOheU/1j4i12JI1T+xif3z9/nSPw==",
          "dtype": "f8"
         },
         "xaxis": "x",
         "y": {
          "bdata": "p8Rts5JY0z9lBAKTjbe4P2vfzVEFiOE/KY33ER450z82IQmYkI7APw==",
          "dtype": "f8"
         },
         "yaxis": "y"
        },
        {
         "customdata": [
          [
           "Vietnam",
           "Espionage",
           "Ocean Lotus"
          ],
          [
           "Vietnam",
           "Espionage",
           "Ocean Lotus"
          ],
          [
           "Vietnam",
           "Financial Theft",
           "Ocean Lotus"
          ],
          [
           "Vietnam",
           "Espionage",
           "Ocean Lotus"
          ],
          [
           "Vietnam",
           "Espionage",
           "Ocean Lotus"
          ],
          [
           "Vietnam",
           "Espionage",
           "Ocean Lotus"
          ],
          [
           "Vietnam",
           "Espionage",
           "Ocean Lotus"
          ],
          [
           "Vietnam",
           "Espionage",
           "Ocean Lotus"
          ],
          [
           "Vietnam",
           "Espionage",
           "Ocean Lotus"
          ],
          [
           "Vietnam",
           "Espionage",
           "Also known as APT 32"
          ],
          [
           "Vietnam",
           "Denial of service",
           "Unknown"
          ]
         ],
         "hovertemplate": "Sponsor=%{customdata[0]}<br>PC1=%{x}<br>PC2=%{y}<br>Type=%{customdata[1]}<br>Affiliations=%{customdata[2]}<extra></extra>",
         "legendgroup": "Vietnam",
         "marker": {
          "color": "#00cc96",
          "symbol": "circle"
         },
         "mode": "markers",
         "name": "Vietnam",
         "orientation": "v",
         "showlegend": true,
         "type": "scatter",
         "x": {
          "bdata": "1eQ526Jy9r9qInMWJ272vwGs8joyb/a/HabHszVu9r/8t9Dtv2b2v1pMOEb1Zva/Gbt5ehZm9r+IRatVlGb2vxobkYcKa/a/NBRBY5Ez9b80k3jqAe3gvw==",
          "dtype": "f8"
         },
         "xaxis": "x",
         "y": {
          "bdata": "VZUEFQohCkDqHdHVoCIKQGFy/VvdIApAuYQ7zv0hCkDbs+gmcyMKQCsO0SijJApA39Hi7F8iCkAQDONAQiAKQNkMqPkdIwpAKRGFF2BRDUAvCnXhzf/3Pw==",
          "dtype": "f8"
         },
         "yaxis": "y"
        },
        {
         "customdata": [
          [
           "Belarus, Russian Federation",
           "Espionage",
           "UNC1151"
          ]
         ],
         "hovertemplate": "Sponsor=%{customdata[0]}<br>PC1=%{x}<br>PC2=%{y}<br>Type=%{customdata[1]}<br>Affiliations=%{customdata[2]}<extra></extra>",
         "legendgroup": "Belarus, Russian Federation",
         "marker": {
          "color": "#ab63fa",
          "symbol": "circle"
         },
         "mode": "markers",
         "name": "Belarus, Russian Federation",
         "orientation": "v",
         "showlegend": true,
         "type": "scatter",
         "x": {
          "bdata": "oNLc2E0u3j8=",
          "dtype": "f8"
         },
         "xaxis": "x",
         "y": {
          "bdata": "KqdLmCILBcA=",
          "dtype": "f8"
         },
         "yaxis": "y"
        },
        {
         "customdata": [
          [
           "United States",
           "Espionage",
           "National Security Agency, Tailored Access Operations"
          ],
          [
           "United States",
           "Data destruction",
           "NSA, U.S. Cyber Command, FBI, and partner agencies in several unknown countries.?"
          ],
          [
           "United States",
           "Sabotage",
           "U.S. Cyber Command"
          ],
          [
           "United States",
           "Sabotage",
           "U.S. Cyber Command"
          ],
          [
           "United States",
           "Denial of service",
           "U.S. Cyber Command"
          ],
          [
           "United States",
           "Data destruction",
           "Government of the United States"
          ],
          [
           "United States",
           "Denial of service",
           "Unknown"
          ],
          [
           "United States",
           "Sabotage",
           "Unknown"
          ],
          [
           "United States",
           "Espionage",
           "Also known as the Lamberts"
          ],
          [
           "United States",
           "Sabotage",
           "Believed to be associated with the United Kingdom?? cyber operations against the Islamic State, revealed in 2018."
          ],
          [
           "United States",
           "Espionage",
           "Also known as Strider"
          ],
          [
           "United States",
           "Espionage",
           "Also known as Tilded Team, it is associated with Flame, Stuxnet, Regin, Gauss, and Duqu."
          ]
         ],
         "hovertemplate": "Sponsor=%{customdata[0]}<br>PC1=%{x}<br>PC2=%{y}<br>Type=%{customdata[1]}<br>Affiliations=%{customdata[2]}<extra></extra>",
         "legendgroup": "United States",
         "marker": {
          "color": "#FFA15A",
          "symbol": "circle"
         },
         "mode": "markers",
         "name": "United States",
         "orientation": "v",
         "showlegend": true,
         "type": "scatter",
         "x": {
          "bdata": "nD9mfu408r8PGr9ToS3tv/0H4auFmdu/ZS3jaFWb2781/dBnA47Tv3740jhuLdy/tupSOIMBxL+26lI4gwHEv6MjRZK83M6/aHjPVFZM5b9ZFw3nlJXjv5TZ5mD2Qei/",
          "dtype": "f8"
         },
         "xaxis": "x",
         "y": {
          "bdata": "FDeX6n7Z5j+fngexda/sP0mhZl7T2eI/YppkUOrL4j+ZYxI+FxrbP+PRB+m7qOc/E+W6YMMO0T8T5bpgww7RP8ohQ+N9xeg/Ck5nvTOr7T/N9XBSCPLsPwyo3F7tN/M/",
          "dtype": "f8"
         },
         "yaxis": "y"
        },
        {
         "customdata": [
          [
           "Spain",
           "Espionage",
           "Believed to be the work of the Spanish government"
          ],
          [
           "Spain",
           "Espionage",
           "Also known as Mask and Ugly Face"
          ]
         ],
         "hovertemplate": "Sponsor=%{customdata[0]}<br>PC1=%{x}<br>PC2=%{y}<br>Type=%{customdata[1]}<br>Affiliations=%{customdata[2]}<extra></extra>",
         "legendgroup": "Spain",
         "marker": {
          "color": "#19d3f3",
          "symbol": "circle"
         },
         "mode": "markers",
         "name": "Spain",
         "orientation": "v",
         "showlegend": true,
         "type": "scatter",
         "x": {
          "bdata": "RCnXi8GoD8DKGhyQwFMRwA==",
          "dtype": "f8"
         },
         "xaxis": "x",
         "y": {
          "bdata": "pb5hSWSII0Ao7PWW6ugjQA==",
          "dtype": "f8"
         },
         "yaxis": "y"
        },
        {
         "customdata": [
          [
           "Thailand",
           "Espionage",
           "Believed to be the work of the government of Thailand."
          ]
         ],
         "hovertemplate": "Sponsor=%{customdata[0]}<br>PC1=%{x}<br>PC2=%{y}<br>Type=%{customdata[1]}<br>Affiliations=%{customdata[2]}<extra></extra>",
         "legendgroup": "Thailand",
         "marker": {
          "color": "#FF6692",
          "symbol": "circle"
         },
         "mode": "markers",
         "name": "Thailand",
         "orientation": "v",
         "showlegend": true,
         "type": "scatter",
         "x": {
          "bdata": "2cWYGRqLEcA=",
          "dtype": "f8"
         },
         "xaxis": "x",
         "y": {
          "bdata": "kpTOOyLbDkA=",
          "dtype": "f8"
         },
         "yaxis": "y"
        },
        {
         "customdata": [
          [
           "Pakistan",
           "Espionage",
           "APT 36"
          ],
          [
           "Pakistan",
           "Espionage",
           "Aggah, Gorgon Group"
          ],
          [
           "Pakistan",
           "Espionage",
           "APT 36"
          ],
          [
           "Pakistan",
           "Espionage",
           "Pakistan"
          ],
          [
           "Pakistan",
           "Espionage",
           "APT 36, Mythic Leopard"
          ],
          [
           "Pakistan",
           "Unknown",
           "Also known as Mythic Leopard, Transparent Tribe, TMP.Lapis, ProjectM, C-Major."
          ],
          [
           "Pakistan",
           "Espionage",
           "APT 36"
          ],
          [
           "Pakistan",
           "Espionage",
           "Also known as Transparent Tribe and C-Major"
          ],
          [
           "Pakistan",
           "Espionage",
           "Unknown"
          ]
         ],
         "hovertemplate": "Sponsor=%{customdata[0]}<br>PC1=%{x}<br>PC2=%{y}<br>Type=%{customdata[1]}<br>Affiliations=%{customdata[2]}<extra></extra>",
         "legendgroup": "Pakistan",
         "marker": {
          "color": "#B6E880",
          "symbol": "circle"
         },
         "mode": "markers",
         "name": "Pakistan",
         "orientation": "v",
         "showlegend": true,
         "type": "scatter",
         "x": {
          "bdata": "FX9ZF6RWAMBK23xK1uUCwGQszRQAWwDAxyzt9aZ1AMDXxpMGtKEAwAH+dGgh/fi/AVKh5gZbAMBscut1aPP4v0lOCEwW7uu/",
          "dtype": "f8"
         },
         "xaxis": "x",
         "y": {
          "bdata": "IlyW6DU917/7aMnuTA/hvzo6F52lWNe/YQEtvUZz379m1tx6YzXhv+avakVP+tW/PI9BFL9P17+QeAqwz+PVv3A3EGrP9dS/",
          "dtype": "f8"
         },
         "yaxis": "y"
        },
        {
         "customdata": [
          [
           "India",
           "Espionage",
           "Confucius"
          ],
          [
           "India",
           "Espionage",
           "Patchwork"
          ],
          [
           "India",
           "Espionage",
           "Unknown"
          ],
          [
           "India",
           "Espionage",
           "Patchwork"
          ],
          [
           "India",
           "Sabotage",
           "ModifiedElephant, Pune Police"
          ],
          [
           "India",
           "Espionage",
           "Unknown"
          ],
          [
           "India",
           "Espionage",
           "Confucius"
          ],
          [
           "India",
           "Espionage",
           "Believed to be responsible for the attempted compromise of U.S. think tanks"
          ]
         ],
         "hovertemplate": "Sponsor=%{customdata[0]}<br>PC1=%{x}<br>PC2=%{y}<br>Type=%{customdata[1]}<br>Affiliations=%{customdata[2]}<extra></extra>",
         "legendgroup": "India",
         "marker": {
          "color": "#FF97FF",
          "symbol": "circle"
         },
         "mode": "markers",
         "name": "India",
         "orientation": "v",
         "showlegend": true,
         "type": "scatter",
         "x": {
          "bdata": "6nvU3Vj4+b+79Mr/+kj8v4Bito0r5eS/6SGumT5P/L/tK2Mnq7AAwLDEmgpb5em/jOwhWwGH97+BlKTOZsH2vw==",
          "dtype": "f8"
         },
         "xaxis": "x",
         "y": {
          "bdata": "+ona9DHxzT/5xiudOzbLP4vdnD8ioqK/vufni1sOyz+syHlVCDaoP8RM5Z7kLJI/Q3G1ClD4xj9zl4LUOLW9Pw==",
          "dtype": "f8"
         },
         "yaxis": "y"
        },
        {
         "customdata": [
          [
           "El Salvador",
           "Espionage",
           "Believed to be the work of El Salvador's government."
          ]
         ],
         "hovertemplate": "Sponsor=%{customdata[0]}<br>PC1=%{x}<br>PC2=%{y}<br>Type=%{customdata[1]}<br>Affiliations=%{customdata[2]}<extra></extra>",
         "legendgroup": "El Salvador",
         "marker": {
          "color": "#FECB52",
          "symbol": "circle"
         },
         "mode": "markers",
         "name": "El Salvador",
         "orientation": "v",
         "showlegend": true,
         "type": "scatter",
         "x": {
          "bdata": "OA38N3fRFsA=",
          "dtype": "f8"
         },
         "xaxis": "x",
         "y": {
          "bdata": "HFEWj9JrD0A=",
          "dtype": "f8"
         },
         "yaxis": "y"
        },
        {
         "customdata": [
          [
           "Government, Military",
           "https://blog.talosintelligence.com/2022/03/transparent-tribe-new-campaign.html",
           "APT 36"
          ]
         ],
         "hovertemplate": "Sponsor=%{customdata[0]}<br>PC1=%{x}<br>PC2=%{y}<br>Type=%{customdata[1]}<br>Affiliations=%{customdata[2]}<extra></extra>",
         "legendgroup": "Government, Military",
         "marker": {
          "color": "#636efa",
          "symbol": "circle"
         },
         "mode": "markers",
         "name": "Government, Military",
         "orientation": "v",
         "showlegend": true,
         "type": "scatter",
         "x": {
          "bdata": "EsV2fdcS+b8=",
          "dtype": "f8"
         },
         "xaxis": "x",
         "y": {
          "bdata": "cJtcwHep178=",
          "dtype": "f8"
         },
         "yaxis": "y"
        },
        {
         "customdata": [
          [
           "Bahrain",
           "Espionage",
           "Believed to be the work of Bahrain's government"
          ]
         ],
         "hovertemplate": "Sponsor=%{customdata[0]}<br>PC1=%{x}<br>PC2=%{y}<br>Type=%{customdata[1]}<br>Affiliations=%{customdata[2]}<extra></extra>",
         "legendgroup": "Bahrain",
         "marker": {
          "color": "#EF553B",
          "symbol": "circle"
         },
         "mode": "markers",
         "name": "Bahrain",
         "orientation": "v",
         "showlegend": true,
         "type": "scatter",
         "x": {
          "bdata": "i0kIwkkLsT8=",
          "dtype": "f8"
         },
         "xaxis": "x",
         "y": {
          "bdata": "CB8vVBcBGMA=",
          "dtype": "f8"
         },
         "yaxis": "y"
        },
        {
         "customdata": [
          [
           "Government",
           "https://www.direkt36.hu/en/putyin-hekkerei-is-latjak-a-magyar-kulugy-titkait-az-orban-kormany-evek-ota-nem-birja-elharitani-oket/",
           "Believed to be the work of Russia's government"
          ]
         ],
         "hovertemplate": "Sponsor=%{customdata[0]}<br>PC1=%{x}<br>PC2=%{y}<br>Type=%{customdata[1]}<br>Affiliations=%{customdata[2]}<extra></extra>",
         "legendgroup": "Government",
         "marker": {
          "color": "#00cc96",
          "symbol": "circle"
         },
         "mode": "markers",
         "name": "Government",
         "orientation": "v",
         "showlegend": true,
         "type": "scatter",
         "x": {
          "bdata": "fIcZHInt8r8=",
          "dtype": "f8"
         },
         "xaxis": "x",
         "y": {
          "bdata": "7ur3PiPj578=",
          "dtype": "f8"
         },
         "yaxis": "y"
        },
        {
         "customdata": [
          [
           "Mexico",
           "Espionage",
           "Believed to be the work of the Mexican government"
          ],
          [
           "Mexico",
           "Espionage",
           "Believed to be the work of the Mexican government."
          ],
          [
           "Mexico",
           "Espionage",
           "Unknown"
          ]
         ],
         "hovertemplate": "Sponsor=%{customdata[0]}<br>PC1=%{x}<br>PC2=%{y}<br>Type=%{customdata[1]}<br>Affiliations=%{customdata[2]}<extra></extra>",
         "legendgroup": "Mexico",
         "marker": {
          "color": "#ab63fa",
          "symbol": "circle"
         },
         "mode": "markers",
         "name": "Mexico",
         "orientation": "v",
         "showlegend": true,
         "type": "scatter",
         "x": {
          "bdata": "4FcgsYvJ5b9IV+iuo/7xv84Golfp1c+/",
          "dtype": "f8"
         },
         "xaxis": "x",
         "y": {
          "bdata": "hsYhGwuhAEDBbG8HrHkDQImAYDJXTew/",
          "dtype": "f8"
         },
         "yaxis": "y"
        },
        {
         "customdata": [
          [
           "Myanmar",
           "Espionage",
           "Mustang Panda"
          ]
         ],
         "hovertemplate": "Sponsor=%{customdata[0]}<br>PC1=%{x}<br>PC2=%{y}<br>Type=%{customdata[1]}<br>Affiliations=%{customdata[2]}<extra></extra>",
         "legendgroup": "Myanmar",
         "marker": {
          "color": "#FFA15A",
          "symbol": "circle"
         },
         "mode": "markers",
         "name": "Myanmar",
         "orientation": "v",
         "showlegend": true,
         "type": "scatter",
         "x": {
          "bdata": "6p8T5jnI4z8=",
          "dtype": "f8"
         },
         "xaxis": "x",
         "y": {
          "bdata": "GLrOjydy0T8=",
          "dtype": "f8"
         },
         "yaxis": "y"
        },
        {
         "customdata": [
          [
           "United Arab Emirates",
           "Espionage",
           "Believed to be the work of the United Arab Emirates government"
          ],
          [
           "United Arab Emirates",
           "Espionage",
           "Emirati government"
          ],
          [
           "United Arab Emirates",
           "Espionage",
           "Believed to be the work of the Saudi Arabian government."
          ],
          [
           "United Arab Emirates",
           "Espionage",
           "Government of the UAE"
          ],
          [
           "United Arab Emirates",
           "Espionage",
           "Believed to be the work of the UAE government."
          ],
          [
           "United Arab Emirates",
           "Defacement",
           "Unknown"
          ],
          [
           "United Arab Emirates",
           "Espionage",
           "Unknown"
          ]
         ],
         "hovertemplate": "Sponsor=%{customdata[0]}<br>PC1=%{x}<br>PC2=%{y}<br>Type=%{customdata[1]}<br>Affiliations=%{customdata[2]}<extra></extra>",
         "legendgroup": "United Arab Emirates",
         "marker": {
          "color": "#19d3f3",
          "symbol": "circle"
         },
         "mode": "markers",
         "name": "United Arab Emirates",
         "orientation": "v",
         "showlegend": true,
         "type": "scatter",
         "x": {
          "bdata": "2iIvqwrkC8DIaeBju58QwAjmKyr0eQjAcsyno4D8DMDdGW3uT5UNwItLAsHsZ/i//Lf7yFRn+L8=",
          "dtype": "f8"
         },
         "xaxis": "x",
         "y": {
          "bdata": "8PHSJtmo7z87560g4TXmP4GG1tW8adk/y9jfGMBn6j/aOwq9UNreP12eJHKi+sk/QAeTtjjayT8=",
          "dtype": "f8"
         },
         "yaxis": "y"
        },
        {
         "customdata": [
          [
           "Japan",
           "Espionage",
           "BlackTech"
          ]
         ],
         "hovertemplate": "Sponsor=%{customdata[0]}<br>PC1=%{x}<br>PC2=%{y}<br>Type=%{customdata[1]}<br>Affiliations=%{customdata[2]}<extra></extra>",
         "legendgroup": "Japan",
         "marker": {
          "color": "#FF6692",
          "symbol": "circle"
         },
         "mode": "markers",
         "name": "Japan",
         "orientation": "v",
         "showlegend": true,
         "type": "scatter",
         "x": {
          "bdata": "aPTkx2Hx9D8=",
          "dtype": "f8"
         },
         "xaxis": "x",
         "y": {
          "bdata": "V6+IHjjG8b8=",
          "dtype": "f8"
         },
         "yaxis": "y"
        },
        {
         "customdata": [
          [
           "United States, Canada, France, Germany, Lithuania, Netherlands, Ukraine, United Kingdom",
           "Sabotage",
           "Law enforcement agencies in the United States, Canada, France, Germany, Lithuania, the Netherlands, Ukraine, and United Kingdom"
          ]
         ],
         "hovertemplate": "Sponsor=%{customdata[0]}<br>PC1=%{x}<br>PC2=%{y}<br>Type=%{customdata[1]}<br>Affiliations=%{customdata[2]}<extra></extra>",
         "legendgroup": "United States, Canada, France, Germany, Lithuania, Netherlands, Ukraine, United Kingdom",
         "marker": {
          "color": "#B6E880",
          "symbol": "circle"
         },
         "mode": "markers",
         "name": "United States, Canada, France, Germany, Lithuania, Netherlands, Ukraine, United Kingdom",
         "orientation": "v",
         "showlegend": true,
         "type": "scatter",
         "x": {
          "bdata": "T8mH9dxM/T8=",
          "dtype": "f8"
         },
         "xaxis": "x",
         "y": {
          "bdata": "t1RNF6elFkA=",
          "dtype": "f8"
         },
         "yaxis": "y"
        },
        {
         "customdata": [
          [
           "United States, Bulgaria",
           "Sabotage",
           "Federal Bureau of Investigation, Bulgarian National Investigative Service"
          ]
         ],
         "hovertemplate": "Sponsor=%{customdata[0]}<br>PC1=%{x}<br>PC2=%{y}<br>Type=%{customdata[1]}<br>Affiliations=%{customdata[2]}<extra></extra>",
         "legendgroup": "United States, Bulgaria",
         "marker": {
          "color": "#FF97FF",
          "symbol": "circle"
         },
         "mode": "markers",
         "name": "United States, Bulgaria",
         "orientation": "v",
         "showlegend": true,
         "type": "scatter",
         "x": {
          "bdata": "S0JmkmX8IcA=",
          "dtype": "f8"
         },
         "xaxis": "x",
         "y": {
          "bdata": "5etmHhS6LMA=",
          "dtype": "f8"
         },
         "yaxis": "y"
        },
        {
         "customdata": [
          [
           "Espionage",
           "Private sector",
           "Fancy Bear, APT 28"
          ],
          [
           "Espionage",
           "Government",
           "Russian government"
          ],
          [
           "Espionage",
           "Government",
           "Government of Russia"
          ]
         ],
         "hovertemplate": "Sponsor=%{customdata[0]}<br>PC1=%{x}<br>PC2=%{y}<br>Type=%{customdata[1]}<br>Affiliations=%{customdata[2]}<extra></extra>",
         "legendgroup": "Espionage",
         "marker": {
          "color": "#FECB52",
          "symbol": "circle"
         },
         "mode": "markers",
         "name": "Espionage",
         "orientation": "v",
         "showlegend": true,
         "type": "scatter",
         "x": {
          "bdata": "NJorvtiW9r/GfqNyDkD2v27SFsXYkfa/",
          "dtype": "f8"
         },
         "xaxis": "x",
         "y": {
          "bdata": "jpCuh6Ye5r8MCjb4UOLiv7c+S2YOD+a/",
          "dtype": "f8"
         },
         "yaxis": "y"
        },
        {
         "customdata": [
          [
           "The Philippines",
           "Denial of service",
           "Philippine Army"
          ]
         ],
         "hovertemplate": "Sponsor=%{customdata[0]}<br>PC1=%{x}<br>PC2=%{y}<br>Type=%{customdata[1]}<br>Affiliations=%{customdata[2]}<extra></extra>",
         "legendgroup": "The Philippines",
         "marker": {
          "color": "#636efa",
          "symbol": "circle"
         },
         "mode": "markers",
         "name": "The Philippines",
         "orientation": "v",
         "showlegend": true,
         "type": "scatter",
         "x": {
          "bdata": "Gpun4YcEJUA=",
          "dtype": "f8"
         },
         "xaxis": "x",
         "y": {
          "bdata": "jKox1RLLDkA=",
          "dtype": "f8"
         },
         "yaxis": "y"
        },
        {
         "customdata": [
          [
           "South Sudan",
           "Espionage",
           "South Sudanese government"
          ]
         ],
         "hovertemplate": "Sponsor=%{customdata[0]}<br>PC1=%{x}<br>PC2=%{y}<br>Type=%{customdata[1]}<br>Affiliations=%{customdata[2]}<extra></extra>",
         "legendgroup": "South Sudan",
         "marker": {
          "color": "#EF553B",
          "symbol": "circle"
         },
         "mode": "markers",
         "name": "South Sudan",
         "orientation": "v",
         "showlegend": true,
         "type": "scatter",
         "x": {
          "bdata": "c7bO8iZvCMA=",
          "dtype": "f8"
         },
         "xaxis": "x",
         "y": {
          "bdata": "mcb8rISlG0A=",
          "dtype": "f8"
         },
         "yaxis": "y"
        },
        {
         "customdata": [
          [
           "Saudi Arabia",
           "Espionage",
           "Believed to be the work of the Saudi Arabian government."
          ],
          [
           "Saudi Arabia",
           "Espionage",
           "Government of Saudi Arabia"
          ],
          [
           "Saudi Arabia",
           "Espionage",
           "KINGDOM"
          ],
          [
           "Saudi Arabia",
           "Unknown",
           "Unknown"
          ],
          [
           "Saudi Arabia",
           "Espionage",
           "Unknown"
          ],
          [
           "Saudi Arabia",
           "Espionage",
           "Unknown"
          ]
         ],
         "hovertemplate": "Sponsor=%{customdata[0]}<br>PC1=%{x}<br>PC2=%{y}<br>Type=%{customdata[1]}<br>Affiliations=%{customdata[2]}<extra></extra>",
         "legendgroup": "Saudi Arabia",
         "marker": {
          "color": "#00cc96",
          "symbol": "circle"
         },
         "mode": "markers",
         "name": "Saudi Arabia",
         "orientation": "v",
         "showlegend": true,
         "type": "scatter",
         "x": {
          "bdata": "+eSx/r/9AMDTubDWOHf5v64/fiXz0Pu/3J8/WzfI4r+hy81C9tPiv3632g2+1uK/",
          "dtype": "f8"
         },
         "xaxis": "x",
         "y": {
          "bdata": "yG8sWYtYyr8Ene2ulkfgv9+OQjom8uu/urrgGBy62b8J4xMsVcPZv5OCb9kU1dm/",
          "dtype": "f8"
         },
         "yaxis": "y"
        },
        {
         "customdata": [
          [
           "Poland",
           "Espionage",
           "Believed to be the work of the Polish government."
          ]
         ],
         "hovertemplate": "Sponsor=%{customdata[0]}<br>PC1=%{x}<br>PC2=%{y}<br>Type=%{customdata[1]}<br>Affiliations=%{customdata[2]}<extra></extra>",
         "legendgroup": "Poland",
         "marker": {
          "color": "#ab63fa",
          "symbol": "circle"
         },
         "mode": "markers",
         "name": "Poland",
         "orientation": "v",
         "showlegend": true,
         "type": "scatter",
         "x": {
          "bdata": "yfL+olt2C0A=",
          "dtype": "f8"
         },
         "xaxis": "x",
         "y": {
          "bdata": "aN3ZSC1BHEA=",
          "dtype": "f8"
         },
         "yaxis": "y"
        },
        {
         "customdata": [
          [
           "Saudi Arabia, United Arab Emirates",
           "Espionage",
           "Saudi and Emirati governments"
          ]
         ],
         "hovertemplate": "Sponsor=%{customdata[0]}<br>PC1=%{x}<br>PC2=%{y}<br>Type=%{customdata[1]}<br>Affiliations=%{customdata[2]}<extra></extra>",
         "legendgroup": "Saudi Arabia, United Arab Emirates",
         "marker": {
          "color": "#FFA15A",
          "symbol": "circle"
         },
         "mode": "markers",
         "name": "Saudi Arabia, United Arab Emirates",
         "orientation": "v",
         "showlegend": true,
         "type": "scatter",
         "x": {
          "bdata": "2/aa+hmgAUA=",
          "dtype": "f8"
         },
         "xaxis": "x",
         "y": {
          "bdata": "IFjTpOp6BEA=",
          "dtype": "f8"
         },
         "yaxis": "y"
        },
        {
         "customdata": [
          [
           "Togo",
           "Espionage",
           "Believed to be the work of Togolese security forces.?"
          ]
         ],
         "hovertemplate": "Sponsor=%{customdata[0]}<br>PC1=%{x}<br>PC2=%{y}<br>Type=%{customdata[1]}<br>Affiliations=%{customdata[2]}<extra></extra>",
         "legendgroup": "Togo",
         "marker": {
          "color": "#19d3f3",
          "symbol": "circle"
         },
         "mode": "markers",
         "name": "Togo",
         "orientation": "v",
         "showlegend": true,
         "type": "scatter",
         "x": {
          "bdata": "BX8duk3oCkA=",
          "dtype": "f8"
         },
         "xaxis": "x",
         "y": {
          "bdata": "ES5PtvRw678=",
          "dtype": "f8"
         },
         "yaxis": "y"
        },
        {
         "customdata": [
          [
           "Korea (Republic of)",
           "Espionage",
           "DarkHotel"
          ],
          [
           "Korea (Republic of)",
           "Espionage",
           "DarkHotel"
          ]
         ],
         "hovertemplate": "Sponsor=%{customdata[0]}<br>PC1=%{x}<br>PC2=%{y}<br>Type=%{customdata[1]}<br>Affiliations=%{customdata[2]}<extra></extra>",
         "legendgroup": "Korea (Republic of)",
         "marker": {
          "color": "#FF6692",
          "symbol": "circle"
         },
         "mode": "markers",
         "name": "Korea (Republic of)",
         "orientation": "v",
         "showlegend": true,
         "type": "scatter",
         "x": {
          "bdata": "Q/b3q0dMDsBzeW/JA00OwA==",
          "dtype": "f8"
         },
         "xaxis": "x",
         "y": {
          "bdata": "YJPA0+2uKkBFdVgRZ68qQA==",
          "dtype": "f8"
         },
         "yaxis": "y"
        },
        {
         "customdata": [
          [
           "United States of America",
           "Sabotage",
           "Unknown"
          ],
          [
           "United States of America",
           "Sabotage",
           "U.S. Cyber Command"
          ]
         ],
         "hovertemplate": "Sponsor=%{customdata[0]}<br>PC1=%{x}<br>PC2=%{y}<br>Type=%{customdata[1]}<br>Affiliations=%{customdata[2]}<extra></extra>",
         "legendgroup": "United States of America",
         "marker": {
          "color": "#B6E880",
          "symbol": "circle"
         },
         "mode": "markers",
         "name": "United States of America",
         "orientation": "v",
         "showlegend": true,
         "type": "scatter",
         "x": {
          "bdata": "c2n6yFHIvz+JyIo7Hc63vw==",
          "dtype": "f8"
         },
         "xaxis": "x",
         "y": {
          "bdata": "uOHRTRMVoL+5OTHNn//HPw==",
          "dtype": "f8"
         },
         "yaxis": "y"
        },
        {
         "customdata": [
          [
           "Australia",
           "Data destruction",
           "Unknown"
          ],
          [
           "Australia",
           "Data destruction",
           "Australian Signals Directorate"
          ]
         ],
         "hovertemplate": "Sponsor=%{customdata[0]}<br>PC1=%{x}<br>PC2=%{y}<br>Type=%{customdata[1]}<br>Affiliations=%{customdata[2]}<extra></extra>",
         "legendgroup": "Australia",
         "marker": {
          "color": "#FF97FF",
          "symbol": "circle"
         },
         "mode": "markers",
         "name": "Australia",
         "orientation": "v",
         "showlegend": true,
         "type": "scatter",
         "x": {
          "bdata": "3ZNvvjN00z//vzLZC/HYPw==",
          "dtype": "f8"
         },
         "xaxis": "x",
         "y": {
          "bdata": "2iyHr103zb83xj0qleC7vw==",
          "dtype": "f8"
         },
         "yaxis": "y"
        },
        {
         "customdata": [
          [
           "Syrian Arab Republic",
           "Espionage",
           "Syrian Electronic Army"
          ],
          [
           "Syrian Arab Republic",
           "Unknown",
           "Allosh, Syrian Government?"
          ]
         ],
         "hovertemplate": "Sponsor=%{customdata[0]}<br>PC1=%{x}<br>PC2=%{y}<br>Type=%{customdata[1]}<br>Affiliations=%{customdata[2]}<extra></extra>",
         "legendgroup": "Syrian Arab Republic",
         "marker": {
          "color": "#FECB52",
          "symbol": "circle"
         },
         "mode": "markers",
         "name": "Syrian Arab Republic",
         "orientation": "v",
         "showlegend": true,
         "type": "scatter",
         "x": {
          "bdata": "Ay4NO8OI/L8mwz8izoL2vw==",
          "dtype": "f8"
         },
         "xaxis": "x",
         "y": {
          "bdata": "M0+yJDxr/T8HRWXY/cL8Pw==",
          "dtype": "f8"
         },
         "yaxis": "y"
        },
        {
         "customdata": [
          [
           "Defacement",
           "Government, Military",
           "Russia"
          ]
         ],
         "hovertemplate": "Sponsor=%{customdata[0]}<br>PC1=%{x}<br>PC2=%{y}<br>Type=%{customdata[1]}<br>Affiliations=%{customdata[2]}<extra></extra>",
         "legendgroup": "Defacement",
         "marker": {
          "color": "#636efa",
          "symbol": "circle"
         },
         "mode": "markers",
         "name": "Defacement",
         "orientation": "v",
         "showlegend": true,
         "type": "scatter",
         "x": {
          "bdata": "5p6LMf0R/r8=",
          "dtype": "f8"
         },
         "xaxis": "x",
         "y": {
          "bdata": "QT4SnZlI778=",
          "dtype": "f8"
         },
         "yaxis": "y"
        },
        {
         "customdata": [
          [
           "Turkey",
           "Espionage",
           "Government of Turkey"
          ]
         ],
         "hovertemplate": "Sponsor=%{customdata[0]}<br>PC1=%{x}<br>PC2=%{y}<br>Type=%{customdata[1]}<br>Affiliations=%{customdata[2]}<extra></extra>",
         "legendgroup": "Turkey",
         "marker": {
          "color": "#EF553B",
          "symbol": "circle"
         },
         "mode": "markers",
         "name": "Turkey",
         "orientation": "v",
         "showlegend": true,
         "type": "scatter",
         "x": {
          "bdata": "6j9iBNnbFcA=",
          "dtype": "f8"
         },
         "xaxis": "x",
         "y": {
          "bdata": "J/sMLlCIJUA=",
          "dtype": "f8"
         },
         "yaxis": "y"
        },
        {
         "customdata": [
          [
           "United States, Australia, Canada, New Zealand, United Kingdom",
           "Espionage",
           "Five Eyes"
          ]
         ],
         "hovertemplate": "Sponsor=%{customdata[0]}<br>PC1=%{x}<br>PC2=%{y}<br>Type=%{customdata[1]}<br>Affiliations=%{customdata[2]}<extra></extra>",
         "legendgroup": "United States, Australia, Canada, New Zealand, United Kingdom",
         "marker": {
          "color": "#00cc96",
          "symbol": "circle"
         },
         "mode": "markers",
         "name": "United States, Australia, Canada, New Zealand, United Kingdom",
         "orientation": "v",
         "showlegend": true,
         "type": "scatter",
         "x": {
          "bdata": "mCdkGOQ8FkA=",
          "dtype": "f8"
         },
         "xaxis": "x",
         "y": {
          "bdata": "RckRAg6LFEA=",
          "dtype": "f8"
         },
         "yaxis": "y"
        },
        {
         "customdata": [
          [
           "Egypt",
           "Espionage",
           "Government of Egypt"
          ]
         ],
         "hovertemplate": "Sponsor=%{customdata[0]}<br>PC1=%{x}<br>PC2=%{y}<br>Type=%{customdata[1]}<br>Affiliations=%{customdata[2]}<extra></extra>",
         "legendgroup": "Egypt",
         "marker": {
          "color": "#ab63fa",
          "symbol": "circle"
         },
         "mode": "markers",
         "name": "Egypt",
         "orientation": "v",
         "showlegend": true,
         "type": "scatter",
         "x": {
          "bdata": "7CYQGCSuF0A=",
          "dtype": "f8"
         },
         "xaxis": "x",
         "y": {
          "bdata": "DjPf3amUFUA=",
          "dtype": "f8"
         },
         "yaxis": "y"
        },
        {
         "customdata": [
          [
           "Uzbekistan",
           "Espionage",
           "Government of Uzbkeistan"
          ]
         ],
         "hovertemplate": "Sponsor=%{customdata[0]}<br>PC1=%{x}<br>PC2=%{y}<br>Type=%{customdata[1]}<br>Affiliations=%{customdata[2]}<extra></extra>",
         "legendgroup": "Uzbekistan",
         "marker": {
          "color": "#FFA15A",
          "symbol": "circle"
         },
         "mode": "markers",
         "name": "Uzbekistan",
         "orientation": "v",
         "showlegend": true,
         "type": "scatter",
         "x": {
          "bdata": "H89RMMAmHUA=",
          "dtype": "f8"
         },
         "xaxis": "x",
         "y": {
          "bdata": "gnSuUmzgEsA=",
          "dtype": "f8"
         },
         "yaxis": "y"
        },
        {
         "customdata": [
          [
           "Morocco",
           "Espionage",
           "Government of Morocco"
          ]
         ],
         "hovertemplate": "Sponsor=%{customdata[0]}<br>PC1=%{x}<br>PC2=%{y}<br>Type=%{customdata[1]}<br>Affiliations=%{customdata[2]}<extra></extra>",
         "legendgroup": "Morocco",
         "marker": {
          "color": "#19d3f3",
          "symbol": "circle"
         },
         "mode": "markers",
         "name": "Morocco",
         "orientation": "v",
         "showlegend": true,
         "type": "scatter",
         "x": {
          "bdata": "gfgDxgM6/j8=",
          "dtype": "f8"
         },
         "xaxis": "x",
         "y": {
          "bdata": "ngqBh5YFGcA=",
          "dtype": "f8"
         },
         "yaxis": "y"
        },
        {
         "customdata": [
          [
           "Hong Kong",
           "Espionage",
           "Hong Kong police"
          ]
         ],
         "hovertemplate": "Sponsor=%{customdata[0]}<br>PC1=%{x}<br>PC2=%{y}<br>Type=%{customdata[1]}<br>Affiliations=%{customdata[2]}<extra></extra>",
         "legendgroup": "Hong Kong",
         "marker": {
          "color": "#FF6692",
          "symbol": "circle"
         },
         "mode": "markers",
         "name": "Hong Kong",
         "orientation": "v",
         "showlegend": true,
         "type": "scatter",
         "x": {
          "bdata": "3TnuGVBvBUA=",
          "dtype": "f8"
         },
         "xaxis": "x",
         "y": {
          "bdata": "PP4Fiwcx8L8=",
          "dtype": "f8"
         },
         "yaxis": "y"
        },
        {
         "customdata": [
          [
           "China, Russian Federation",
           "Espionage",
           "Believed to be the work of Russian and Chinese hackers."
          ],
          [
           "China, Russian Federation",
           "Espionage",
           "Believed to be the work of TempTick?and Turla"
          ]
         ],
         "hovertemplate": "Sponsor=%{customdata[0]}<br>PC1=%{x}<br>PC2=%{y}<br>Type=%{customdata[1]}<br>Affiliations=%{customdata[2]}<extra></extra>",
         "legendgroup": "China, Russian Federation",
         "marker": {
          "color": "#B6E880",
          "symbol": "circle"
         },
         "mode": "markers",
         "name": "China, Russian Federation",
         "orientation": "v",
         "showlegend": true,
         "type": "scatter",
         "x": {
          "bdata": "BV36/TdFBEBNaRkZp3jrPw==",
          "dtype": "f8"
         },
         "xaxis": "x",
         "y": {
          "bdata": "vXcStM2DDkB5jL5OiKsEQA==",
          "dtype": "f8"
         },
         "yaxis": "y"
        },
        {
         "customdata": [
          [
           " United Kingdom\"",
           "Unknown",
           "Believed to be linked to the compromise of Saudi Aramco, malware Shamoon 2.0, and the OilRig threat actor"
          ]
         ],
         "hovertemplate": "Sponsor=%{customdata[0]}<br>PC1=%{x}<br>PC2=%{y}<br>Type=%{customdata[1]}<br>Affiliations=%{customdata[2]}<extra></extra>",
         "legendgroup": " United Kingdom\"",
         "marker": {
          "color": "#FF97FF",
          "symbol": "circle"
         },
         "mode": "markers",
         "name": " United Kingdom\"",
         "orientation": "v",
         "showlegend": true,
         "type": "scatter",
         "x": {
          "bdata": "XCbsvcHPub8=",
          "dtype": "f8"
         },
         "xaxis": "x",
         "y": {
          "bdata": "R8hYG+f5pj8=",
          "dtype": "f8"
         },
         "yaxis": "y"
        },
        {
         "customdata": [
          [
           "Lebanon",
           "Espionage",
           "Unknown"
          ]
         ],
         "hovertemplate": "Sponsor=%{customdata[0]}<br>PC1=%{x}<br>PC2=%{y}<br>Type=%{customdata[1]}<br>Affiliations=%{customdata[2]}<extra></extra>",
         "legendgroup": "Lebanon",
         "marker": {
          "color": "#FECB52",
          "symbol": "circle"
         },
         "mode": "markers",
         "name": "Lebanon",
         "orientation": "v",
         "showlegend": true,
         "type": "scatter",
         "x": {
          "bdata": "9Rmhnhz90j8=",
          "dtype": "f8"
         },
         "xaxis": "x",
         "y": {
          "bdata": "F98tYhsU278=",
          "dtype": "f8"
         },
         "yaxis": "y"
        },
        {
         "customdata": [
          [
           "Netherlands",
           "Espionage",
           "Unknown"
          ]
         ],
         "hovertemplate": "Sponsor=%{customdata[0]}<br>PC1=%{x}<br>PC2=%{y}<br>Type=%{customdata[1]}<br>Affiliations=%{customdata[2]}<extra></extra>",
         "legendgroup": "Netherlands",
         "marker": {
          "color": "#636efa",
          "symbol": "circle"
         },
         "mode": "markers",
         "name": "Netherlands",
         "orientation": "v",
         "showlegend": true,
         "type": "scatter",
         "x": {
          "bdata": "PrNbKLt44r8=",
          "dtype": "f8"
         },
         "xaxis": "x",
         "y": {
          "bdata": "vPzfqn8v4L8=",
          "dtype": "f8"
         },
         "yaxis": "y"
        },
        {
         "customdata": [
          [
           "United Kingdom",
           "Sabotage",
           "Believed to be associated with the U.S. targeting of the Islamic State Group."
          ]
         ],
         "hovertemplate": "Sponsor=%{customdata[0]}<br>PC1=%{x}<br>PC2=%{y}<br>Type=%{customdata[1]}<br>Affiliations=%{customdata[2]}<extra></extra>",
         "legendgroup": "United Kingdom",
         "marker": {
          "color": "#EF553B",
          "symbol": "circle"
         },
         "mode": "markers",
         "name": "United Kingdom",
         "orientation": "v",
         "showlegend": true,
         "type": "scatter",
         "x": {
          "bdata": "ysLLXQzrA0A=",
          "dtype": "f8"
         },
         "xaxis": "x",
         "y": {
          "bdata": "NNd+maP+AsA=",
          "dtype": "f8"
         },
         "yaxis": "y"
        },
        {
         "customdata": [
          [
           "Panama",
           "Espionage",
           "Unknown"
          ]
         ],
         "hovertemplate": "Sponsor=%{customdata[0]}<br>PC1=%{x}<br>PC2=%{y}<br>Type=%{customdata[1]}<br>Affiliations=%{customdata[2]}<extra></extra>",
         "legendgroup": "Panama",
         "marker": {
          "color": "#00cc96",
          "symbol": "circle"
         },
         "mode": "markers",
         "name": "Panama",
         "orientation": "v",
         "showlegend": true,
         "type": "scatter",
         "x": {
          "bdata": "7hYUTwA9v78=",
          "dtype": "f8"
         },
         "xaxis": "x",
         "y": {
          "bdata": "EQRG8SdU378=",
          "dtype": "f8"
         },
         "yaxis": "y"
        },
        {
         "customdata": [
          [
           "Ethiopia",
           "Espionage",
           "Unknown"
          ]
         ],
         "hovertemplate": "Sponsor=%{customdata[0]}<br>PC1=%{x}<br>PC2=%{y}<br>Type=%{customdata[1]}<br>Affiliations=%{customdata[2]}<extra></extra>",
         "legendgroup": "Ethiopia",
         "marker": {
          "color": "#ab63fa",
          "symbol": "circle"
         },
         "mode": "markers",
         "name": "Ethiopia",
         "orientation": "v",
         "showlegend": true,
         "type": "scatter",
         "x": {
          "bdata": "IDX+IegC2j8=",
          "dtype": "f8"
         },
         "xaxis": "x",
         "y": {
          "bdata": "sIHkvNd+xj8=",
          "dtype": "f8"
         },
         "yaxis": "y"
        },
        {
         "customdata": [
          [
           "Indonesia",
           "Espionage",
           "Indonesia"
          ]
         ],
         "hovertemplate": "Sponsor=%{customdata[0]}<br>PC1=%{x}<br>PC2=%{y}<br>Type=%{customdata[1]}<br>Affiliations=%{customdata[2]}<extra></extra>",
         "legendgroup": "Indonesia",
         "marker": {
          "color": "#FFA15A",
          "symbol": "circle"
         },
         "mode": "markers",
         "name": "Indonesia",
         "orientation": "v",
         "showlegend": true,
         "type": "scatter",
         "x": {
          "bdata": "WC7SfRaU6j8=",
          "dtype": "f8"
         },
         "xaxis": "x",
         "y": {
          "bdata": "Fq5joB114T8=",
          "dtype": "f8"
         },
         "yaxis": "y"
        },
        {
         "customdata": [
          [
           "Kazakhstan",
           "Espionage",
           "Unknown"
          ]
         ],
         "hovertemplate": "Sponsor=%{customdata[0]}<br>PC1=%{x}<br>PC2=%{y}<br>Type=%{customdata[1]}<br>Affiliations=%{customdata[2]}<extra></extra>",
         "legendgroup": "Kazakhstan",
         "marker": {
          "color": "#19d3f3",
          "symbol": "circle"
         },
         "mode": "markers",
         "name": "Kazakhstan",
         "orientation": "v",
         "showlegend": true,
         "type": "scatter",
         "x": {
          "bdata": "sfgK9DmVzT8=",
          "dtype": "f8"
         },
         "xaxis": "x",
         "y": {
          "bdata": "5mCdI/G0078=",
          "dtype": "f8"
         },
         "yaxis": "y"
        },
        {
         "customdata": [
          [
           "Uganda",
           "Espionage",
           "The government of Uganda"
          ],
          [
           "Uganda",
           "Espionage",
           "Believed to be the work of the Ugandan government."
          ]
         ],
         "hovertemplate": "Sponsor=%{customdata[0]}<br>PC1=%{x}<br>PC2=%{y}<br>Type=%{customdata[1]}<br>Affiliations=%{customdata[2]}<extra></extra>",
         "legendgroup": "Uganda",
         "marker": {
          "color": "#FF6692",
          "symbol": "circle"
         },
         "mode": "markers",
         "name": "Uganda",
         "orientation": "v",
         "showlegend": true,
         "type": "scatter",
         "x": {
          "bdata": "+l+ctuijFUD4Zm+aYuwTQA==",
          "dtype": "f8"
         },
         "xaxis": "x",
         "y": {
          "bdata": "/SFMWBTHGkD1Eh186NMaQA==",
          "dtype": "f8"
         },
         "yaxis": "y"
        },
        {
         "customdata": [
          [
           "France",
           "Espionage",
           "Animal Farm"
          ]
         ],
         "hovertemplate": "Sponsor=%{customdata[0]}<br>PC1=%{x}<br>PC2=%{y}<br>Type=%{customdata[1]}<br>Affiliations=%{customdata[2]}<extra></extra>",
         "legendgroup": "France",
         "marker": {
          "color": "#B6E880",
          "symbol": "circle"
         },
         "mode": "markers",
         "name": "France",
         "orientation": "v",
         "showlegend": true,
         "type": "scatter",
         "x": {
          "bdata": "qCAP6LMiGkA=",
          "dtype": "f8"
         },
         "xaxis": "x",
         "y": {
          "bdata": "ipxfqWYu/b8=",
          "dtype": "f8"
         },
         "yaxis": "y"
        },
        {
         "customdata": [
          [
           "United Kingdom, United States",
           "Espionage",
           "Believed to be the work of the Equation Group"
          ]
         ],
         "hovertemplate": "Sponsor=%{customdata[0]}<br>PC1=%{x}<br>PC2=%{y}<br>Type=%{customdata[1]}<br>Affiliations=%{customdata[2]}<extra></extra>",
         "legendgroup": "United Kingdom, United States",
         "marker": {
          "color": "#FF97FF",
          "symbol": "circle"
         },
         "mode": "markers",
         "name": "United Kingdom, United States",
         "orientation": "v",
         "showlegend": true,
         "type": "scatter",
         "x": {
          "bdata": "RdalLMuZCcA=",
          "dtype": "f8"
         },
         "xaxis": "x",
         "y": {
          "bdata": "8mRgeRYXFkA=",
          "dtype": "f8"
         },
         "yaxis": "y"
        },
        {
         "customdata": [
          [
           "United States, Israel",
           "Data destruction",
           "This tool is believed to be the work of the Equation Group. The tool Gauss?is believed to be based on the Flame platform."
          ],
          [
           "United States, Israel",
           "Espionage",
           "Believed to be based on the Flame platform and possibly the work of the Equation Group"
          ]
         ],
         "hovertemplate": "Sponsor=%{customdata[0]}<br>PC1=%{x}<br>PC2=%{y}<br>Type=%{customdata[1]}<br>Affiliations=%{customdata[2]}<extra></extra>",
         "legendgroup": "United States, Israel",
         "marker": {
          "color": "#FECB52",
          "symbol": "circle"
         },
         "mode": "markers",
         "name": "United States, Israel",
         "orientation": "v",
         "showlegend": true,
         "type": "scatter",
         "x": {
          "bdata": "f3U+TKswFECw8BwNJgcVQA==",
          "dtype": "f8"
         },
         "xaxis": "x",
         "y": {
          "bdata": "683BQkGO8T+q6XiF/4vrPw==",
          "dtype": "f8"
         },
         "yaxis": "y"
        },
        {
         "customdata": [
          [
           "Israel, United States",
           "Sabotage",
           "Codenamed ??lympic Games??and believed to be the work of the Equation Group"
          ]
         ],
         "hovertemplate": "Sponsor=%{customdata[0]}<br>PC1=%{x}<br>PC2=%{y}<br>Type=%{customdata[1]}<br>Affiliations=%{customdata[2]}<extra></extra>",
         "legendgroup": "Israel, United States",
         "marker": {
          "color": "#636efa",
          "symbol": "circle"
         },
         "mode": "markers",
         "name": "Israel, United States",
         "orientation": "v",
         "showlegend": true,
         "type": "scatter",
         "x": {
          "bdata": "uzSqv5lyFsA=",
          "dtype": "f8"
         },
         "xaxis": "x",
         "y": {
          "bdata": "AsZCUjGPDEA=",
          "dtype": "f8"
         },
         "yaxis": "y"
        },
        {
         "customdata": [
          [
           "Taiwan, United States",
           "Denial of service",
           "Unknown"
          ]
         ],
         "hovertemplate": "Sponsor=%{customdata[0]}<br>PC1=%{x}<br>PC2=%{y}<br>Type=%{customdata[1]}<br>Affiliations=%{customdata[2]}<extra></extra>",
         "legendgroup": "Taiwan, United States",
         "marker": {
          "color": "#EF553B",
          "symbol": "circle"
         },
         "mode": "markers",
         "name": "Taiwan, United States",
         "orientation": "v",
         "showlegend": true,
         "type": "scatter",
         "x": {
          "bdata": "OSnRD86Rwb8=",
          "dtype": "f8"
         },
         "xaxis": "x",
         "y": {
          "bdata": "gaimZD6U0b8=",
          "dtype": "f8"
         },
         "yaxis": "y"
        }
       ],
       "layout": {
        "height": 600,
        "legend": {
         "title": {
          "text": "Sponsor"
         },
         "tracegroupgap": 0
        },
        "template": {
         "data": {
          "bar": [
           {
            "error_x": {
             "color": "#2a3f5f"
            },
            "error_y": {
             "color": "#2a3f5f"
            },
            "marker": {
             "line": {
              "color": "#E5ECF6",
              "width": 0.5
             },
             "pattern": {
              "fillmode": "overlay",
              "size": 10,
              "solidity": 0.2
             }
            },
            "type": "bar"
           }
          ],
          "barpolar": [
           {
            "marker": {
             "line": {
              "color": "#E5ECF6",
              "width": 0.5
             },
             "pattern": {
              "fillmode": "overlay",
              "size": 10,
              "solidity": 0.2
             }
            },
            "type": "barpolar"
           }
          ],
          "carpet": [
           {
            "aaxis": {
             "endlinecolor": "#2a3f5f",
             "gridcolor": "white",
             "linecolor": "white",
             "minorgridcolor": "white",
             "startlinecolor": "#2a3f5f"
            },
            "baxis": {
             "endlinecolor": "#2a3f5f",
             "gridcolor": "white",
             "linecolor": "white",
             "minorgridcolor": "white",
             "startlinecolor": "#2a3f5f"
            },
            "type": "carpet"
           }
          ],
          "choropleth": [
           {
            "colorbar": {
             "outlinewidth": 0,
             "ticks": ""
            },
            "type": "choropleth"
           }
          ],
          "contour": [
           {
            "colorbar": {
             "outlinewidth": 0,
             "ticks": ""
            },
            "colorscale": [
             [
              0,
              "#0d0887"
             ],
             [
              0.1111111111111111,
              "#46039f"
             ],
             [
              0.2222222222222222,
              "#7201a8"
             ],
             [
              0.3333333333333333,
              "#9c179e"
             ],
             [
              0.4444444444444444,
              "#bd3786"
             ],
             [
              0.5555555555555556,
              "#d8576b"
             ],
             [
              0.6666666666666666,
              "#ed7953"
             ],
             [
              0.7777777777777778,
              "#fb9f3a"
             ],
             [
              0.8888888888888888,
              "#fdca26"
             ],
             [
              1,
              "#f0f921"
             ]
            ],
            "type": "contour"
           }
          ],
          "contourcarpet": [
           {
            "colorbar": {
             "outlinewidth": 0,
             "ticks": ""
            },
            "type": "contourcarpet"
           }
          ],
          "heatmap": [
           {
            "colorbar": {
             "outlinewidth": 0,
             "ticks": ""
            },
            "colorscale": [
             [
              0,
              "#0d0887"
             ],
             [
              0.1111111111111111,
              "#46039f"
             ],
             [
              0.2222222222222222,
              "#7201a8"
             ],
             [
              0.3333333333333333,
              "#9c179e"
             ],
             [
              0.4444444444444444,
              "#bd3786"
             ],
             [
              0.5555555555555556,
              "#d8576b"
             ],
             [
              0.6666666666666666,
              "#ed7953"
             ],
             [
              0.7777777777777778,
              "#fb9f3a"
             ],
             [
              0.8888888888888888,
              "#fdca26"
             ],
             [
              1,
              "#f0f921"
             ]
            ],
            "type": "heatmap"
           }
          ],
          "histogram": [
           {
            "marker": {
             "pattern": {
              "fillmode": "overlay",
              "size": 10,
              "solidity": 0.2
             }
            },
            "type": "histogram"
           }
          ],
          "histogram2d": [
           {
            "colorbar": {
             "outlinewidth": 0,
             "ticks": ""
            },
            "colorscale": [
             [
              0,
              "#0d0887"
             ],
             [
              0.1111111111111111,
              "#46039f"
             ],
             [
              0.2222222222222222,
              "#7201a8"
             ],
             [
              0.3333333333333333,
              "#9c179e"
             ],
             [
              0.4444444444444444,
              "#bd3786"
             ],
             [
              0.5555555555555556,
              "#d8576b"
             ],
             [
              0.6666666666666666,
              "#ed7953"
             ],
             [
              0.7777777777777778,
              "#fb9f3a"
             ],
             [
              0.8888888888888888,
              "#fdca26"
             ],
             [
              1,
              "#f0f921"
             ]
            ],
            "type": "histogram2d"
           }
          ],
          "histogram2dcontour": [
           {
            "colorbar": {
             "outlinewidth": 0,
             "ticks": ""
            },
            "colorscale": [
             [
              0,
              "#0d0887"
             ],
             [
              0.1111111111111111,
              "#46039f"
             ],
             [
              0.2222222222222222,
              "#7201a8"
             ],
             [
              0.3333333333333333,
              "#9c179e"
             ],
             [
              0.4444444444444444,
              "#bd3786"
             ],
             [
              0.5555555555555556,
              "#d8576b"
             ],
             [
              0.6666666666666666,
              "#ed7953"
             ],
             [
              0.7777777777777778,
              "#fb9f3a"
             ],
             [
              0.8888888888888888,
              "#fdca26"
             ],
             [
              1,
              "#f0f921"
             ]
            ],
            "type": "histogram2dcontour"
           }
          ],
          "mesh3d": [
           {
            "colorbar": {
             "outlinewidth": 0,
             "ticks": ""
            },
            "type": "mesh3d"
           }
          ],
          "parcoords": [
           {
            "line": {
             "colorbar": {
              "outlinewidth": 0,
              "ticks": ""
             }
            },
            "type": "parcoords"
           }
          ],
          "pie": [
           {
            "automargin": true,
            "type": "pie"
           }
          ],
          "scatter": [
           {
            "fillpattern": {
             "fillmode": "overlay",
             "size": 10,
             "solidity": 0.2
            },
            "type": "scatter"
           }
          ],
          "scatter3d": [
           {
            "line": {
             "colorbar": {
              "outlinewidth": 0,
              "ticks": ""
             }
            },
            "marker": {
             "colorbar": {
              "outlinewidth": 0,
              "ticks": ""
             }
            },
            "type": "scatter3d"
           }
          ],
          "scattercarpet": [
           {
            "marker": {
             "colorbar": {
              "outlinewidth": 0,
              "ticks": ""
             }
            },
            "type": "scattercarpet"
           }
          ],
          "scattergeo": [
           {
            "marker": {
             "colorbar": {
              "outlinewidth": 0,
              "ticks": ""
             }
            },
            "type": "scattergeo"
           }
          ],
          "scattergl": [
           {
            "marker": {
             "colorbar": {
              "outlinewidth": 0,
              "ticks": ""
             }
            },
            "type": "scattergl"
           }
          ],
          "scattermap": [
           {
            "marker": {
             "colorbar": {
              "outlinewidth": 0,
              "ticks": ""
             }
            },
            "type": "scattermap"
           }
          ],
          "scattermapbox": [
           {
            "marker": {
             "colorbar": {
              "outlinewidth": 0,
              "ticks": ""
             }
            },
            "type": "scattermapbox"
           }
          ],
          "scatterpolar": [
           {
            "marker": {
             "colorbar": {
              "outlinewidth": 0,
              "ticks": ""
             }
            },
            "type": "scatterpolar"
           }
          ],
          "scatterpolargl": [
           {
            "marker": {
             "colorbar": {
              "outlinewidth": 0,
              "ticks": ""
             }
            },
            "type": "scatterpolargl"
           }
          ],
          "scatterternary": [
           {
            "marker": {
             "colorbar": {
              "outlinewidth": 0,
              "ticks": ""
             }
            },
            "type": "scatterternary"
           }
          ],
          "surface": [
           {
            "colorbar": {
             "outlinewidth": 0,
             "ticks": ""
            },
            "colorscale": [
             [
              0,
              "#0d0887"
             ],
             [
              0.1111111111111111,
              "#46039f"
             ],
             [
              0.2222222222222222,
              "#7201a8"
             ],
             [
              0.3333333333333333,
              "#9c179e"
             ],
             [
              0.4444444444444444,
              "#bd3786"
             ],
             [
              0.5555555555555556,
              "#d8576b"
             ],
             [
              0.6666666666666666,
              "#ed7953"
             ],
             [
              0.7777777777777778,
              "#fb9f3a"
             ],
             [
              0.8888888888888888,
              "#fdca26"
             ],
             [
              1,
              "#f0f921"
             ]
            ],
            "type": "surface"
           }
          ],
          "table": [
           {
            "cells": {
             "fill": {
              "color": "#EBF0F8"
             },
             "line": {
              "color": "white"
             }
            },
            "header": {
             "fill": {
              "color": "#C8D4E3"
             },
             "line": {
              "color": "white"
             }
            },
            "type": "table"
           }
          ]
         },
         "layout": {
          "annotationdefaults": {
           "arrowcolor": "#2a3f5f",
           "arrowhead": 0,
           "arrowwidth": 1
          },
          "autotypenumbers": "strict",
          "coloraxis": {
           "colorbar": {
            "outlinewidth": 0,
            "ticks": ""
           }
          },
          "colorscale": {
           "diverging": [
            [
             0,
             "#8e0152"
            ],
            [
             0.1,
             "#c51b7d"
            ],
            [
             0.2,
             "#de77ae"
            ],
            [
             0.3,
             "#f1b6da"
            ],
            [
             0.4,
             "#fde0ef"
            ],
            [
             0.5,
             "#f7f7f7"
            ],
            [
             0.6,
             "#e6f5d0"
            ],
            [
             0.7,
             "#b8e186"
            ],
            [
             0.8,
             "#7fbc41"
            ],
            [
             0.9,
             "#4d9221"
            ],
            [
             1,
             "#276419"
            ]
           ],
           "sequential": [
            [
             0,
             "#0d0887"
            ],
            [
             0.1111111111111111,
             "#46039f"
            ],
            [
             0.2222222222222222,
             "#7201a8"
            ],
            [
             0.3333333333333333,
             "#9c179e"
            ],
            [
             0.4444444444444444,
             "#bd3786"
            ],
            [
             0.5555555555555556,
             "#d8576b"
            ],
            [
             0.6666666666666666,
             "#ed7953"
            ],
            [
             0.7777777777777778,
             "#fb9f3a"
            ],
            [
             0.8888888888888888,
             "#fdca26"
            ],
            [
             1,
             "#f0f921"
            ]
           ],
           "sequentialminus": [
            [
             0,
             "#0d0887"
            ],
            [
             0.1111111111111111,
             "#46039f"
            ],
            [
             0.2222222222222222,
             "#7201a8"
            ],
            [
             0.3333333333333333,
             "#9c179e"
            ],
            [
             0.4444444444444444,
             "#bd3786"
            ],
            [
             0.5555555555555556,
             "#d8576b"
            ],
            [
             0.6666666666666666,
             "#ed7953"
            ],
            [
             0.7777777777777778,
             "#fb9f3a"
            ],
            [
             0.8888888888888888,
             "#fdca26"
            ],
            [
             1,
             "#f0f921"
            ]
           ]
          },
          "colorway": [
           "#636efa",
           "#EF553B",
           "#00cc96",
           "#ab63fa",
           "#FFA15A",
           "#19d3f3",
           "#FF6692",
           "#B6E880",
           "#FF97FF",
           "#FECB52"
          ],
          "font": {
           "color": "#2a3f5f"
          },
          "geo": {
           "bgcolor": "white",
           "lakecolor": "white",
           "landcolor": "#E5ECF6",
           "showlakes": true,
           "showland": true,
           "subunitcolor": "white"
          },
          "hoverlabel": {
           "align": "left"
          },
          "hovermode": "closest",
          "mapbox": {
           "style": "light"
          },
          "paper_bgcolor": "white",
          "plot_bgcolor": "#E5ECF6",
          "polar": {
           "angularaxis": {
            "gridcolor": "white",
            "linecolor": "white",
            "ticks": ""
           },
           "bgcolor": "#E5ECF6",
           "radialaxis": {
            "gridcolor": "white",
            "linecolor": "white",
            "ticks": ""
           }
          },
          "scene": {
           "xaxis": {
            "backgroundcolor": "#E5ECF6",
            "gridcolor": "white",
            "gridwidth": 2,
            "linecolor": "white",
            "showbackground": true,
            "ticks": "",
            "zerolinecolor": "white"
           },
           "yaxis": {
            "backgroundcolor": "#E5ECF6",
            "gridcolor": "white",
            "gridwidth": 2,
            "linecolor": "white",
            "showbackground": true,
            "ticks": "",
            "zerolinecolor": "white"
           },
           "zaxis": {
            "backgroundcolor": "#E5ECF6",
            "gridcolor": "white",
            "gridwidth": 2,
            "linecolor": "white",
            "showbackground": true,
            "ticks": "",
            "zerolinecolor": "white"
           }
          },
          "shapedefaults": {
           "line": {
            "color": "#2a3f5f"
           }
          },
          "ternary": {
           "aaxis": {
            "gridcolor": "white",
            "linecolor": "white",
            "ticks": ""
           },
           "baxis": {
            "gridcolor": "white",
            "linecolor": "white",
            "ticks": ""
           },
           "bgcolor": "#E5ECF6",
           "caxis": {
            "gridcolor": "white",
            "linecolor": "white",
            "ticks": ""
           }
          },
          "title": {
           "x": 0.05
          },
          "xaxis": {
           "automargin": true,
           "gridcolor": "white",
           "linecolor": "white",
           "ticks": "",
           "title": {
            "standoff": 15
           },
           "zerolinecolor": "white",
           "zerolinewidth": 2
          },
          "yaxis": {
           "automargin": true,
           "gridcolor": "white",
           "linecolor": "white",
           "ticks": "",
           "title": {
            "standoff": 15
           },
           "zerolinecolor": "white",
           "zerolinewidth": 2
          }
         }
        },
        "title": {
         "text": "Interactive PCA of Cyber Operations Data"
        },
        "width": 900,
        "xaxis": {
         "anchor": "y",
         "domain": [
          0,
          1
         ],
         "title": {
          "text": "PC1"
         }
        },
        "yaxis": {
         "anchor": "x",
         "domain": [
          0,
          1
         ],
         "title": {
          "text": "PC2"
         }
        }
       }
      }
     },
     "metadata": {},
     "output_type": "display_data"
    }
   ],
   "source": [
    "from sklearn.preprocessing import OneHotEncoder, StandardScaler\n",
    "from sklearn.decomposition import PCA\n",
    "import plotly.express as px\n",
    "\n",
    "\n",
    "# Select categorical columns\n",
    "categorical_cols = ['Affiliations', 'Victims', 'Sponsor']\n",
    "\n",
    "# Fill missing values\n",
    "df[categorical_cols] = df[categorical_cols].fillna('Unknown')\n",
    "\n",
    "# One-hot encode categorical features\n",
    "encoder = OneHotEncoder(sparse_output=False, drop='first')\n",
    "X_encoded = encoder.fit_transform(df[categorical_cols])\n",
    "\n",
    "# Standardize features\n",
    "scaler = StandardScaler()\n",
    "X_scaled = scaler.fit_transform(X_encoded)\n",
    "\n",
    "# Apply PCA\n",
    "pca = PCA(n_components=2)\n",
    "X_pca = pca.fit_transform(X_scaled)\n",
    "\n",
    "# Create a DataFrame with PCA components and original info for hover\n",
    "df_pca = pd.DataFrame(X_pca, columns=['PC1', 'PC2'])\n",
    "df_pca[['Sponsor', 'Type', 'Affiliations']] = df[['Sponsor', 'Type', 'Affiliations']]\n",
    "\n",
    "# Create interactive plot\n",
    "fig = px.scatter(\n",
    "    df_pca,\n",
    "    x='PC1',\n",
    "    y='PC2',\n",
    "    color='Sponsor',  # color by Sponsor for clarity\n",
    "    hover_data=['Sponsor', 'Type', 'Affiliations'],  # show these when hovering\n",
    "    title=\"Interactive PCA of Cyber Operations Data\"\n",
    ")\n",
    "\n",
    "fig.update_layout(\n",
    "    width=900,\n",
    "    height=600\n",
    ")\n",
    "\n",
    "fig.show()"
   ]
  },
  {
   "cell_type": "code",
   "execution_count": null,
   "id": "3f898a54",
   "metadata": {},
   "outputs": [],
   "source": []
  }
 ],
 "metadata": {
  "kernelspec": {
   "display_name": "mlcysec25",
   "language": "python",
   "name": "python3"
  },
  "language_info": {
   "codemirror_mode": {
    "name": "ipython",
    "version": 3
   },
   "file_extension": ".py",
   "mimetype": "text/x-python",
   "name": "python",
   "nbconvert_exporter": "python",
   "pygments_lexer": "ipython3",
   "version": "3.12.2"
  }
 },
 "nbformat": 4,
 "nbformat_minor": 5
}
